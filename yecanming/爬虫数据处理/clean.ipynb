{
 "cells": [
  {
   "cell_type": "code",
   "execution_count": 318,
   "metadata": {},
   "outputs": [],
   "source": [
    "import pandas as pd\n",
    "import numpy as np\n",
    "import seaborn as sns\n",
    "from matplotlib import pyplot as plt\n",
    "from scipy.stats import ks_2samp\n",
    "from scipy.stats import pearsonr\n",
    "import plotly.figure_factory as ff\n",
    "# from plotnine import *\n",
    "# from pyecharts.charts import Map\n",
    "# from pyecharts import options\n",
    "%matplotlib inline\n"
   ]
  },
  {
   "cell_type": "code",
   "execution_count": 319,
   "metadata": {},
   "outputs": [],
   "source": [
    "# plt.style.use('fivethirtyeight')\n",
    "plt.style.use('ggplot')"
   ]
  },
  {
   "cell_type": "code",
   "execution_count": 320,
   "metadata": {},
   "outputs": [],
   "source": [
    "# df = pd.read_excel('../../data/爬取的数据.xlsx', sheet_name='非二手帆船')\n",
    "# df = pd.read_excel('../../data/爬取的数据_copy.xlsx', sheet_name='非二手帆船')\n",
    "df = pd.read_excel('../../data/包含区域信息.xlsx', index_col=0)"
   ]
  },
  {
   "cell_type": "code",
   "execution_count": 321,
   "metadata": {},
   "outputs": [],
   "source": [
    "df_backup = df.copy()"
   ]
  },
  {
   "cell_type": "code",
   "execution_count": 322,
   "metadata": {},
   "outputs": [],
   "source": [
    "df = df_backup.copy()"
   ]
  },
  {
   "cell_type": "code",
   "execution_count": 323,
   "metadata": {},
   "outputs": [
    {
     "data": {
      "text/html": [
       "<div>\n",
       "<style scoped>\n",
       "    .dataframe tbody tr th:only-of-type {\n",
       "        vertical-align: middle;\n",
       "    }\n",
       "\n",
       "    .dataframe tbody tr th {\n",
       "        vertical-align: top;\n",
       "    }\n",
       "\n",
       "    .dataframe thead th {\n",
       "        text-align: right;\n",
       "    }\n",
       "</style>\n",
       "<table border=\"1\" class=\"dataframe\">\n",
       "  <thead>\n",
       "    <tr style=\"text-align: right;\">\n",
       "      <th></th>\n",
       "      <th>Link</th>\n",
       "      <th>Price-1</th>\n",
       "      <th>Basics.Location</th>\n",
       "      <th>New</th>\n",
       "      <th>Basics.Year</th>\n",
       "      <th>Basics.Make</th>\n",
       "      <th>Basics.Model</th>\n",
       "      <th>Basics.Class</th>\n",
       "      <th>Basics.Length</th>\n",
       "      <th>Basics.FuelType</th>\n",
       "      <th>...</th>\n",
       "      <th>Features.InsideEquipment.Seakeeper</th>\n",
       "      <th>Features.InsideEquipment.AirCompressor</th>\n",
       "      <th>Specifications.Speed&amp;Distance.Range</th>\n",
       "      <th>Features.OutsideEquipment.WindGenerator</th>\n",
       "      <th>Specifications.Dimensions.Freeboard</th>\n",
       "      <th>Specifications.Miscellaneous.LiferaftCapacity</th>\n",
       "      <th>Propulsion.RopeCutter</th>\n",
       "      <th>Specifications.Miscellaneous.DeadriseAtTransom</th>\n",
       "      <th>Features.AdditionalEquipment.LaunchingTrailer</th>\n",
       "      <th>Features.AdditionalEquipment.BeachingLegs</th>\n",
       "    </tr>\n",
       "  </thead>\n",
       "  <tbody>\n",
       "    <tr>\n",
       "      <th>0</th>\n",
       "      <td>https://www.yachtworld.com/yacht/2023-jeanneau...</td>\n",
       "      <td>329795.0</td>\n",
       "      <td>Seattle, Washington, United States</td>\n",
       "      <td>True</td>\n",
       "      <td>2023.0</td>\n",
       "      <td>Jeanneau</td>\n",
       "      <td>380</td>\n",
       "      <td>Cruiser</td>\n",
       "      <td>38ft</td>\n",
       "      <td>Diesel</td>\n",
       "      <td>...</td>\n",
       "      <td>NaN</td>\n",
       "      <td>NaN</td>\n",
       "      <td>NaN</td>\n",
       "      <td>NaN</td>\n",
       "      <td>NaN</td>\n",
       "      <td>NaN</td>\n",
       "      <td>NaN</td>\n",
       "      <td>NaN</td>\n",
       "      <td>NaN</td>\n",
       "      <td>NaN</td>\n",
       "    </tr>\n",
       "  </tbody>\n",
       "</table>\n",
       "<p>1 rows × 128 columns</p>\n",
       "</div>"
      ],
      "text/plain": [
       "                                                Link   Price-1  \\\n",
       "0  https://www.yachtworld.com/yacht/2023-jeanneau...  329795.0   \n",
       "\n",
       "                      Basics.Location   New  Basics.Year Basics.Make  \\\n",
       "0  Seattle, Washington, United States  True       2023.0    Jeanneau   \n",
       "\n",
       "  Basics.Model Basics.Class Basics.Length Basics.FuelType  ...  \\\n",
       "0          380      Cruiser          38ft          Diesel  ...   \n",
       "\n",
       "  Features.InsideEquipment.Seakeeper Features.InsideEquipment.AirCompressor  \\\n",
       "0                                NaN                                    NaN   \n",
       "\n",
       "  Specifications.Speed&Distance.Range Features.OutsideEquipment.WindGenerator  \\\n",
       "0                                 NaN                                     NaN   \n",
       "\n",
       "  Specifications.Dimensions.Freeboard  \\\n",
       "0                                 NaN   \n",
       "\n",
       "  Specifications.Miscellaneous.LiferaftCapacity  Propulsion.RopeCutter  \\\n",
       "0                                           NaN                    NaN   \n",
       "\n",
       "  Specifications.Miscellaneous.DeadriseAtTransom  \\\n",
       "0                                            NaN   \n",
       "\n",
       "   Features.AdditionalEquipment.LaunchingTrailer  \\\n",
       "0                                            NaN   \n",
       "\n",
       "  Features.AdditionalEquipment.BeachingLegs  \n",
       "0                                       NaN  \n",
       "\n",
       "[1 rows x 128 columns]"
      ]
     },
     "execution_count": 323,
     "metadata": {},
     "output_type": "execute_result"
    }
   ],
   "source": [
    "df.head(1)"
   ]
  },
  {
   "cell_type": "code",
   "execution_count": 324,
   "metadata": {},
   "outputs": [
    {
     "name": "stdout",
     "output_type": "stream",
     "text": [
      "<class 'pandas.core.frame.DataFrame'>\n",
      "Int64Index: 12457 entries, 0 to 12456\n",
      "Columns: 128 entries, Link to Features.AdditionalEquipment.BeachingLegs\n",
      "dtypes: bool(1), float64(12), object(115)\n",
      "memory usage: 12.2+ MB\n"
     ]
    }
   ],
   "source": [
    "df.info() # 有113个 object需要处理。  一共2188个条目。"
   ]
  },
  {
   "cell_type": "code",
   "execution_count": 325,
   "metadata": {},
   "outputs": [
    {
     "data": {
      "text/html": [
       "<div>\n",
       "<style scoped>\n",
       "    .dataframe tbody tr th:only-of-type {\n",
       "        vertical-align: middle;\n",
       "    }\n",
       "\n",
       "    .dataframe tbody tr th {\n",
       "        vertical-align: top;\n",
       "    }\n",
       "\n",
       "    .dataframe thead th {\n",
       "        text-align: right;\n",
       "    }\n",
       "</style>\n",
       "<table border=\"1\" class=\"dataframe\">\n",
       "  <thead>\n",
       "    <tr style=\"text-align: right;\">\n",
       "      <th></th>\n",
       "      <th>Price</th>\n",
       "    </tr>\n",
       "  </thead>\n",
       "  <tbody>\n",
       "    <tr>\n",
       "      <th>count</th>\n",
       "      <td>1.127800e+04</td>\n",
       "    </tr>\n",
       "    <tr>\n",
       "      <th>mean</th>\n",
       "      <td>4.430823e+05</td>\n",
       "    </tr>\n",
       "    <tr>\n",
       "      <th>std</th>\n",
       "      <td>1.230341e+06</td>\n",
       "    </tr>\n",
       "    <tr>\n",
       "      <th>min</th>\n",
       "      <td>1.240000e+02</td>\n",
       "    </tr>\n",
       "    <tr>\n",
       "      <th>25%</th>\n",
       "      <td>6.390000e+04</td>\n",
       "    </tr>\n",
       "    <tr>\n",
       "      <th>50%</th>\n",
       "      <td>1.627950e+05</td>\n",
       "    </tr>\n",
       "    <tr>\n",
       "      <th>75%</th>\n",
       "      <td>4.250000e+05</td>\n",
       "    </tr>\n",
       "    <tr>\n",
       "      <th>max</th>\n",
       "      <td>4.897202e+07</td>\n",
       "    </tr>\n",
       "  </tbody>\n",
       "</table>\n",
       "</div>"
      ],
      "text/plain": [
       "              Price\n",
       "count  1.127800e+04\n",
       "mean   4.430823e+05\n",
       "std    1.230341e+06\n",
       "min    1.240000e+02\n",
       "25%    6.390000e+04\n",
       "50%    1.627950e+05\n",
       "75%    4.250000e+05\n",
       "max    4.897202e+07"
      ]
     },
     "execution_count": 325,
     "metadata": {},
     "output_type": "execute_result"
    }
   ],
   "source": [
    "df.columns # 太多了，分开处理 124\n",
    "basics_columns = list(filter(lambda x:x.startswith('Basics'), df.columns))\n",
    "propulsion_columns = list(filter(lambda x:x.startswith('Propulsion'), df.columns))\n",
    "specification_columns = list(filter(lambda x:x.startswith('Specification'), df.columns))\n",
    "feature_columns = list(filter(lambda x:x.startswith('Feature'), df.columns))\n",
    "\n",
    "list(map(len, (basics_columns, propulsion_columns, specification_columns, feature_columns)))\n",
    "price_column = ['Price']\n",
    "df[price_column].describe()"
   ]
  },
  {
   "cell_type": "code",
   "execution_count": 326,
   "metadata": {},
   "outputs": [],
   "source": [
    "# basics_columns.pop(0)"
   ]
  },
  {
   "attachments": {},
   "cell_type": "markdown",
   "metadata": {},
   "source": [
    "## 针对 Basics进行处理"
   ]
  },
  {
   "cell_type": "code",
   "execution_count": 327,
   "metadata": {},
   "outputs": [],
   "source": [
    "appropriate_types = {'定类':str, '定序':int, '定距':float, '定比':float}\n",
    "appropriate_operation = {'定类':'mode', '定序':'median', '定距':'mean', '定比':'mean'}"
   ]
  },
  {
   "cell_type": "code",
   "execution_count": 328,
   "metadata": {},
   "outputs": [
    {
     "data": {
      "text/plain": [
       "(['Basics.Location',\n",
       "  'Basics.Year',\n",
       "  'Basics.Make',\n",
       "  'Basics.Model',\n",
       "  'Basics.Class',\n",
       "  'Basics.Length',\n",
       "  'Basics.FuelType',\n",
       "  'Basics.HullMaterial',\n",
       "  'Basics.HullShape',\n",
       "  'Basics.HullWarranty',\n",
       "  'Basics.OfferedBy'],\n",
       " [str, float, str, str, str, float, str, str, str, float, str])"
      ]
     },
     "execution_count": 328,
     "metadata": {},
     "output_type": "execute_result"
    }
   ],
   "source": [
    "should_be = ['定类', '定距', '定类', '定类', '定类', '定比', '定类', '定类', '定类',  '定比', '定类']\n",
    "should_be = list(map(lambda x: appropriate_types[x], should_be))\n",
    "basics_columns, should_be"
   ]
  },
  {
   "cell_type": "code",
   "execution_count": 329,
   "metadata": {},
   "outputs": [],
   "source": [
    "def len_tran(x):\n",
    "    if pd.isna(x): return None\n",
    "    \n",
    "    # assert x.endswith('ft')\n",
    "    # return float(x[:-2])\n",
    "    return float(x.split('ft')[0])\n",
    "df['Basics.Length'] = df['Basics.Length'].map(len_tran)\n",
    "df=df.rename(columns={'Basics.Length':'Basics.Length (ft)'})"
   ]
  },
  {
   "cell_type": "code",
   "execution_count": 330,
   "metadata": {},
   "outputs": [
    {
     "data": {
      "text/html": [
       "<div>\n",
       "<style scoped>\n",
       "    .dataframe tbody tr th:only-of-type {\n",
       "        vertical-align: middle;\n",
       "    }\n",
       "\n",
       "    .dataframe tbody tr th {\n",
       "        vertical-align: top;\n",
       "    }\n",
       "\n",
       "    .dataframe thead th {\n",
       "        text-align: right;\n",
       "    }\n",
       "</style>\n",
       "<table border=\"1\" class=\"dataframe\">\n",
       "  <thead>\n",
       "    <tr style=\"text-align: right;\">\n",
       "      <th></th>\n",
       "      <th>Basics.Length (ft)</th>\n",
       "      <th>Basics.HullWarranty</th>\n",
       "    </tr>\n",
       "  </thead>\n",
       "  <tbody>\n",
       "    <tr>\n",
       "      <th>12452</th>\n",
       "      <td>32.00</td>\n",
       "      <td>NaN</td>\n",
       "    </tr>\n",
       "    <tr>\n",
       "      <th>12453</th>\n",
       "      <td>28.00</td>\n",
       "      <td>NaN</td>\n",
       "    </tr>\n",
       "    <tr>\n",
       "      <th>12454</th>\n",
       "      <td>28.00</td>\n",
       "      <td>NaN</td>\n",
       "    </tr>\n",
       "    <tr>\n",
       "      <th>12455</th>\n",
       "      <td>25.00</td>\n",
       "      <td>NaN</td>\n",
       "    </tr>\n",
       "    <tr>\n",
       "      <th>12456</th>\n",
       "      <td>14.92</td>\n",
       "      <td>NaN</td>\n",
       "    </tr>\n",
       "  </tbody>\n",
       "</table>\n",
       "</div>"
      ],
      "text/plain": [
       "       Basics.Length (ft) Basics.HullWarranty\n",
       "12452               32.00                 NaN\n",
       "12453               28.00                 NaN\n",
       "12454               28.00                 NaN\n",
       "12455               25.00                 NaN\n",
       "12456               14.92                 NaN"
      ]
     },
     "execution_count": 330,
     "metadata": {},
     "output_type": "execute_result"
    }
   ],
   "source": [
    "# df[['Basics.Length', 'Basics.HullWarranty']].tail()\n",
    "df[['Basics.Length (ft)', 'Basics.HullWarranty']].tail()\n",
    "# df[['Basics.Length (ft)', 'Basics.HullWarranty (years)']].tail()"
   ]
  },
  {
   "cell_type": "code",
   "execution_count": 331,
   "metadata": {},
   "outputs": [
    {
     "data": {
      "text/plain": [
       "'1'"
      ]
     },
     "execution_count": 331,
     "metadata": {},
     "output_type": "execute_result"
    }
   ],
   "source": [
    "'1'.split(' ')[0]\n",
    "'1 year'.split(' ')[0]\n",
    "'1 years'.split(' ')[0]"
   ]
  },
  {
   "cell_type": "code",
   "execution_count": 332,
   "metadata": {},
   "outputs": [],
   "source": [
    "df=df.rename(columns={'Basics.HullWarranty':'Basics.HullWarranty (years)'})\n",
    "\n",
    "def war_tran(x):\n",
    "    x = str(x)\n",
    "    if x=='nan':\n",
    "        # return x\n",
    "        return 0 # 用0填充保险值。\n",
    "    num = x.split(' ')[0]\n",
    "    return float(num)\n",
    "df['Basics.HullWarranty (years)'] = df['Basics.HullWarranty (years)'].map(war_tran)\n",
    "# df['Basics.HullWarranty (years)'].fillna(0, inplace=True)"
   ]
  },
  {
   "cell_type": "code",
   "execution_count": 333,
   "metadata": {},
   "outputs": [
    {
     "data": {
      "text/plain": [
       "Basics.Model     Basics.FuelType  Basics.HullShape\n",
       "42               Diesel           Catamaran           60\n",
       "40               Diesel           Catamaran           41\n",
       "34               Diesel           Monohull            36\n",
       "46               Diesel           Catamaran           35\n",
       "Sun Odyssey 440  Diesel           Monohull            34\n",
       "                                                      ..\n",
       "72               Diesel           Catamaran            1\n",
       "70 Sail          Diesel           Catamaran            1\n",
       "70 B             Diesel           Monohull             1\n",
       "70               Diesel           Catamaran            1\n",
       "xp44             Diesel           Monohull             1\n",
       "Length: 1964, dtype: int64"
      ]
     },
     "execution_count": 333,
     "metadata": {},
     "output_type": "execute_result"
    }
   ],
   "source": [
    "df[['Basics.Model', 'Basics.FuelType', 'Basics.HullShape']].value_counts()"
   ]
  },
  {
   "cell_type": "code",
   "execution_count": 334,
   "metadata": {},
   "outputs": [],
   "source": [
    "# df[df['Basics.Model'].isnull()]\n",
    "# df['Basics.Model'] = df['Basics.Model'].dropna()\n",
    "df = df.dropna(subset=['Basics.Model']) # dropna是一个整体操作"
   ]
  },
  {
   "cell_type": "code",
   "execution_count": 335,
   "metadata": {},
   "outputs": [],
   "source": [
    "df['Make-Model'] = df['Basics.Make'] + '-' + df['Basics.Model']\n",
    "# group = df.groupby(['Basics.Make', 'Basics.Model'])\n",
    "\n",
    "grouper = 'Make-Model'\n",
    "group = df.groupby(grouper)\n"
   ]
  },
  {
   "cell_type": "code",
   "execution_count": 336,
   "metadata": {},
   "outputs": [],
   "source": [
    "datalen = []\n",
    "for k, v in group:\n",
    "    # print(k)\n",
    "    # print(len(v))\n",
    "    datalen.append(len(v))\n",
    "    # print(v['Basics.HullShape'].value_counts())\n",
    "    # print()\n",
    "# plt.hist(datalen, bins=30)"
   ]
  },
  {
   "cell_type": "code",
   "execution_count": 337,
   "metadata": {},
   "outputs": [
    {
     "data": {
      "image/png": "[encoded data removed]",
      "text/plain": [
       "<Figure size 640x480 with 1 Axes>"
      ]
     },
     "metadata": {},
     "output_type": "display_data"
    }
   ],
   "source": [
    "pd.Series(datalen).astype(str).value_counts().plot.pie()\n",
    "\n",
    "plt.savefig('make-model.png')"
   ]
  },
  {
   "cell_type": "code",
   "execution_count": 338,
   "metadata": {},
   "outputs": [
    {
     "data": {
      "text/html": [
       "<div>\n",
       "<style scoped>\n",
       "    .dataframe tbody tr th:only-of-type {\n",
       "        vertical-align: middle;\n",
       "    }\n",
       "\n",
       "    .dataframe tbody tr th {\n",
       "        vertical-align: top;\n",
       "    }\n",
       "\n",
       "    .dataframe thead th {\n",
       "        text-align: right;\n",
       "    }\n",
       "</style>\n",
       "<table border=\"1\" class=\"dataframe\">\n",
       "  <thead>\n",
       "    <tr style=\"text-align: right;\">\n",
       "      <th></th>\n",
       "      <th>Basics.Location</th>\n",
       "      <th>Basics.FuelType</th>\n",
       "      <th>Basics.HullShape</th>\n",
       "    </tr>\n",
       "  </thead>\n",
       "  <tbody>\n",
       "    <tr>\n",
       "      <th>0</th>\n",
       "      <td>San Diego, California, United States</td>\n",
       "      <td>Diesel</td>\n",
       "      <td>Monohull</td>\n",
       "    </tr>\n",
       "  </tbody>\n",
       "</table>\n",
       "</div>"
      ],
      "text/plain": [
       "                        Basics.Location Basics.FuelType Basics.HullShape\n",
       "0  San Diego, California, United States          Diesel         Monohull"
      ]
     },
     "execution_count": 338,
     "metadata": {},
     "output_type": "execute_result"
    }
   ],
   "source": [
    "cols = ['Basics.Location', 'Basics.FuelType', 'Basics.HullShape'] # 要填充的列\n",
    "# group_mode = group[cols].agg(lambda x:{x.name: x.mode()} if not  x.isna().sum()==len(x) else None) # 用众数填充\n",
    "group_mode = group[cols].agg(lambda x:x.mode().sample(frac=1).to_numpy()[0] if not  x.isna().sum()==len(x) else None) # 用众数填充\n",
    "# group_mode = group[cols].mode()\n",
    "group_mode\n",
    "full_mode = df[cols].mode() # 用全局众数填充\n",
    "full_mode\n"
   ]
  },
  {
   "cell_type": "code",
   "execution_count": 339,
   "metadata": {},
   "outputs": [
    {
     "data": {
      "text/plain": [
       "'Diesel'"
      ]
     },
     "execution_count": 339,
     "metadata": {},
     "output_type": "execute_result"
    }
   ],
   "source": [
    "# a = group_mode.to_numpy()\n",
    "# d = {k:v for }\n",
    "group_mode.loc['A-Yachts-A-33', 'Basics.FuelType']"
   ]
  },
  {
   "cell_type": "code",
   "execution_count": 340,
   "metadata": {},
   "outputs": [],
   "source": [
    "def fill_each_row(x, col):\n",
    "    # print(x[0] if pd.isna(x[0]) else None)\n",
    "    return group_mode.loc[x[0], col] if pd.isna(x[1]) else x[1]\n",
    "    \n",
    "for col in ['Basics.Location', 'Basics.FuelType', 'Basics.HullShape']:\n",
    "    df[col] = df[['Make-Model', col]].apply(lambda x:fill_each_row(x, col), axis=1)\n",
    "    df[col] = df[col].fillna(df[col].mode()[0])"
   ]
  },
  {
   "cell_type": "code",
   "execution_count": 341,
   "metadata": {},
   "outputs": [],
   "source": [
    "# for k, v in group:\n",
    "#     if len(v)>=5:\n",
    "#         # 使用组内操作\n",
    "#         for col in cols:\n",
    "#             # df[col] = df[col].fillna(df[col].mode())\n",
    "#             v[col].fillna(v[col].mode(), inplace=True)\n",
    "#     else:\n",
    "#         # 使用整个列表的填充\n",
    "#         for col in cols:\n",
    "#             # df[col] = df[col].fillna(df[col].mode())\n",
    "#             v[col].fillna(df[col].mode(), inplace=True)\n",
    "# # if df[col].isnull().sum()==len(v):\n",
    "            # #     raise\n",
    "            # # df[col] = df[col].fillna(v[col].mode())\n",
    "            # v[col].fillna(v[col].mode(), inplace=True)\n",
    "            # 想把v内缺失的值填充为组内的众数，但是为什么没能修改原来的df呢？\n",
    "            # v[col] = v[col].fillna(v[col].mode())"
   ]
  },
  {
   "cell_type": "code",
   "execution_count": 342,
   "metadata": {},
   "outputs": [
    {
     "data": {
      "text/html": [
       "<div>\n",
       "<style scoped>\n",
       "    .dataframe tbody tr th:only-of-type {\n",
       "        vertical-align: middle;\n",
       "    }\n",
       "\n",
       "    .dataframe tbody tr th {\n",
       "        vertical-align: top;\n",
       "    }\n",
       "\n",
       "    .dataframe thead th {\n",
       "        text-align: right;\n",
       "    }\n",
       "</style>\n",
       "<table border=\"1\" class=\"dataframe\">\n",
       "  <thead>\n",
       "    <tr style=\"text-align: right;\">\n",
       "      <th></th>\n",
       "      <th>Basics.Model</th>\n",
       "      <th>Basics.FuelType</th>\n",
       "      <th>Basics.HullShape</th>\n",
       "    </tr>\n",
       "  </thead>\n",
       "  <tbody>\n",
       "    <tr>\n",
       "      <th>count</th>\n",
       "      <td>12389</td>\n",
       "      <td>12389</td>\n",
       "      <td>12389</td>\n",
       "    </tr>\n",
       "    <tr>\n",
       "      <th>unique</th>\n",
       "      <td>4846</td>\n",
       "      <td>5</td>\n",
       "      <td>11</td>\n",
       "    </tr>\n",
       "    <tr>\n",
       "      <th>top</th>\n",
       "      <td>40</td>\n",
       "      <td>Diesel</td>\n",
       "      <td>Monohull</td>\n",
       "    </tr>\n",
       "    <tr>\n",
       "      <th>freq</th>\n",
       "      <td>161</td>\n",
       "      <td>11449</td>\n",
       "      <td>9951</td>\n",
       "    </tr>\n",
       "  </tbody>\n",
       "</table>\n",
       "</div>"
      ],
      "text/plain": [
       "       Basics.Model Basics.FuelType Basics.HullShape\n",
       "count         12389           12389            12389\n",
       "unique         4846               5               11\n",
       "top              40          Diesel         Monohull\n",
       "freq            161           11449             9951"
      ]
     },
     "execution_count": 342,
     "metadata": {},
     "output_type": "execute_result"
    }
   ],
   "source": [
    "# df[['Basics.Model', 'Basics.FuelType', 'Basics.HullShape']].tail()\n",
    "df[['Basics.Model', 'Basics.FuelType', 'Basics.HullShape']].describe()"
   ]
  },
  {
   "cell_type": "code",
   "execution_count": 343,
   "metadata": {},
   "outputs": [],
   "source": [
    "basics_columns = list(filter(lambda x:x.startswith('Basics'), df.columns))"
   ]
  },
  {
   "cell_type": "code",
   "execution_count": 344,
   "metadata": {},
   "outputs": [
    {
     "data": {
      "text/plain": [
       "Basics.Location                0\n",
       "Basics.Year                    0\n",
       "Basics.Make                    0\n",
       "Basics.Model                   0\n",
       "Basics.Class                   0\n",
       "Basics.Length (ft)             0\n",
       "Basics.FuelType                0\n",
       "Basics.HullMaterial            0\n",
       "Basics.HullShape               0\n",
       "Basics.HullWarranty (years)    0\n",
       "Basics.OfferedBy               0\n",
       "dtype: int64"
      ]
     },
     "execution_count": 344,
     "metadata": {},
     "output_type": "execute_result"
    }
   ],
   "source": [
    "df[basics_columns].isnull().sum()"
   ]
  },
  {
   "cell_type": "code",
   "execution_count": 345,
   "metadata": {},
   "outputs": [],
   "source": [
    "for col, typ in zip(basics_columns, should_be):\n",
    "    df[col] = df[col].astype(typ)"
   ]
  },
  {
   "cell_type": "code",
   "execution_count": 346,
   "metadata": {},
   "outputs": [
    {
     "data": {
      "text/plain": [
       "Basics.Location                 object\n",
       "Basics.Year                    float64\n",
       "Basics.Make                     object\n",
       "Basics.Model                    object\n",
       "Basics.Class                    object\n",
       "Basics.Length (ft)             float64\n",
       "Basics.FuelType                 object\n",
       "Basics.HullMaterial             object\n",
       "Basics.HullShape                object\n",
       "Basics.HullWarranty (years)    float64\n",
       "Basics.OfferedBy                object\n",
       "dtype: object"
      ]
     },
     "execution_count": 346,
     "metadata": {},
     "output_type": "execute_result"
    }
   ],
   "source": [
    "df[basics_columns].dtypes"
   ]
  },
  {
   "cell_type": "code",
   "execution_count": 347,
   "metadata": {},
   "outputs": [
    {
     "name": "stdout",
     "output_type": "stream",
     "text": [
      "                                                    Link   Price-1  \\\n",
      "0      https://www.yachtworld.com/yacht/2023-jeanneau...  329795.0   \n",
      "1      https://www.yachtworld.com/yacht/2023-dufour-3...  364999.0   \n",
      "2      https://www.yachtworld.com/yacht/2023-bavaria-...  432319.0   \n",
      "3      https://www.yachtworld.com/yacht/1984-union-po...   31000.0   \n",
      "4      https://www.yachtworld.com/yacht/2023-dufour-4...  850000.0   \n",
      "...                                                  ...       ...   \n",
      "12452  https://www.yachtworld.com/yacht/1995-catalina...   54000.0   \n",
      "12453  https://www.yachtworld.com/yacht/1997-beneteau...   36000.0   \n",
      "12454  https://www.yachtworld.com/yacht/1978-southern...   25000.0   \n",
      "12455  https://www.yachtworld.com/yacht/1980-cape-dor...    9500.0   \n",
      "12456  https://www.yachtworld.com/yacht/1988-test-mon...     124.0   \n",
      "\n",
      "                             Basics.Location    New  Basics.Year  \\\n",
      "0         Seattle, Washington, United States   True       2023.0   \n",
      "1           Racine, Wisconsin, United States   True       2023.0   \n",
      "2       San Diego, California, United States   True       2023.0   \n",
      "3      Emeryville, California, United States   True       1984.0   \n",
      "4           Racine, Wisconsin, United States   True       2023.0   \n",
      "...                                      ...    ...          ...   \n",
      "12452       Chester, Maryland, United States  False       1995.0   \n",
      "12453  Fair Haven, New Jersey, United States  False       1997.0   \n",
      "12454   Warwick, Rhode Island, United States  False       1978.0   \n",
      "12455   Quincy, Massachusetts, United States  False       1980.0   \n",
      "12456      Brooklyn, New York, United States  False       1988.0   \n",
      "\n",
      "          Basics.Make                 Basics.Model   Basics.Class  \\\n",
      "0            Jeanneau                          380        Cruiser   \n",
      "1              Dufour                           37  Racer/Cruiser   \n",
      "2             Bavaria                          C42  Racer/Cruiser   \n",
      "3               Union                      Polaris         Cutter   \n",
      "4              Dufour                          470  Racer/Cruiser   \n",
      "...               ...                          ...            ...   \n",
      "12452        Catalina                          320          Sloop   \n",
      "12453        Beneteau                  Oceanis 281        Cruiser   \n",
      "12454  Southern Cross                    Cutter 28         Cutter   \n",
      "12455       Cape Dory                           25          Sloop   \n",
      "12456            Test  MONITORING BOAT KEEP ACTIVE      Daysailer   \n",
      "\n",
      "       Basics.Length (ft) Basics.FuelType  ...  \\\n",
      "0                   38.00          Diesel  ...   \n",
      "1                   35.33          Diesel  ...   \n",
      "2                   42.00          Diesel  ...   \n",
      "3                   36.00          Diesel  ...   \n",
      "4                   48.75          Diesel  ...   \n",
      "...                   ...             ...  ...   \n",
      "12452               32.00          Diesel  ...   \n",
      "12453               28.00          Diesel  ...   \n",
      "12454               28.00          Diesel  ...   \n",
      "12455               25.00             Gas  ...   \n",
      "12456               14.92          Diesel  ...   \n",
      "\n",
      "      Features.InsideEquipment.AirCompressor  \\\n",
      "0                                        NaN   \n",
      "1                                        NaN   \n",
      "2                                        NaN   \n",
      "3                                        NaN   \n",
      "4                                        NaN   \n",
      "...                                      ...   \n",
      "12452                                    NaN   \n",
      "12453                                    NaN   \n",
      "12454                                    NaN   \n",
      "12455                                    NaN   \n",
      "12456                                    NaN   \n",
      "\n",
      "      Specifications.Speed&Distance.Range  \\\n",
      "0                                     NaN   \n",
      "1                                     NaN   \n",
      "2                                     NaN   \n",
      "3                                     NaN   \n",
      "4                                     NaN   \n",
      "...                                   ...   \n",
      "12452                                 NaN   \n",
      "12453                                 NaN   \n",
      "12454                                 NaN   \n",
      "12455                                 NaN   \n",
      "12456                                 NaN   \n",
      "\n",
      "       Features.OutsideEquipment.WindGenerator  \\\n",
      "0                                          NaN   \n",
      "1                                          NaN   \n",
      "2                                          NaN   \n",
      "3                                          NaN   \n",
      "4                                          NaN   \n",
      "...                                        ...   \n",
      "12452                                      NaN   \n",
      "12453                                      NaN   \n",
      "12454                                      NaN   \n",
      "12455                                      NaN   \n",
      "12456                                      NaN   \n",
      "\n",
      "      Specifications.Dimensions.Freeboard  \\\n",
      "0                                     NaN   \n",
      "1                                     NaN   \n",
      "2                                     NaN   \n",
      "3                                     NaN   \n",
      "4                                     NaN   \n",
      "...                                   ...   \n",
      "12452                                 NaN   \n",
      "12453                                 NaN   \n",
      "12454                                 NaN   \n",
      "12455                                 NaN   \n",
      "12456                                 NaN   \n",
      "\n",
      "      Specifications.Miscellaneous.LiferaftCapacity Propulsion.RopeCutter  \\\n",
      "0                                               NaN                   NaN   \n",
      "1                                               NaN                   NaN   \n",
      "2                                               NaN                   NaN   \n",
      "3                                               NaN                   NaN   \n",
      "4                                               NaN                   NaN   \n",
      "...                                             ...                   ...   \n",
      "12452                                           NaN                   NaN   \n",
      "12453                                           NaN                   NaN   \n",
      "12454                                           NaN                   NaN   \n",
      "12455                                           NaN                   NaN   \n",
      "12456                                           NaN                   NaN   \n",
      "\n",
      "       Specifications.Miscellaneous.DeadriseAtTransom  \\\n",
      "0                                                 NaN   \n",
      "1                                                 NaN   \n",
      "2                                                 NaN   \n",
      "3                                                 NaN   \n",
      "4                                                 NaN   \n",
      "...                                               ...   \n",
      "12452                                             NaN   \n",
      "12453                                             NaN   \n",
      "12454                                             NaN   \n",
      "12455                                             NaN   \n",
      "12456                                             NaN   \n",
      "\n",
      "      Features.AdditionalEquipment.LaunchingTrailer  \\\n",
      "0                                               NaN   \n",
      "1                                               NaN   \n",
      "2                                               NaN   \n",
      "3                                               NaN   \n",
      "4                                               NaN   \n",
      "...                                             ...   \n",
      "12452                                           NaN   \n",
      "12453                                           NaN   \n",
      "12454                                           NaN   \n",
      "12455                                           NaN   \n",
      "12456                                           NaN   \n",
      "\n",
      "       Features.AdditionalEquipment.BeachingLegs  \\\n",
      "0                                            NaN   \n",
      "1                                            NaN   \n",
      "2                                            NaN   \n",
      "3                                            NaN   \n",
      "4                                            NaN   \n",
      "...                                          ...   \n",
      "12452                                        NaN   \n",
      "12453                                        NaN   \n",
      "12454                                        NaN   \n",
      "12455                                        NaN   \n",
      "12456                                        NaN   \n",
      "\n",
      "                             Make-Model  \n",
      "0                          Jeanneau-380  \n",
      "1                             Dufour-37  \n",
      "2                           Bavaria-C42  \n",
      "3                         Union-Polaris  \n",
      "4                            Dufour-470  \n",
      "...                                 ...  \n",
      "12452                      Catalina-320  \n",
      "12453              Beneteau-Oceanis 281  \n",
      "12454          Southern Cross-Cutter 28  \n",
      "12455                      Cape Dory-25  \n",
      "12456  Test-MONITORING BOAT KEEP ACTIVE  \n",
      "\n",
      "[12389 rows x 129 columns]\n"
     ]
    }
   ],
   "source": [
    "print(df)"
   ]
  },
  {
   "attachments": {},
   "cell_type": "markdown",
   "metadata": {},
   "source": [
    "## 针对propulsion进行处理"
   ]
  },
  {
   "cell_type": "code",
   "execution_count": 348,
   "metadata": {},
   "outputs": [
    {
     "data": {
      "text/plain": [
       "(['Propulsion.EngineMake',\n",
       "  'Propulsion.EngineModel',\n",
       "  'Propulsion.EngineYear',\n",
       "  'Propulsion.TotalPower',\n",
       "  'Propulsion.EngineHours',\n",
       "  'Propulsion.EngineType',\n",
       "  'Propulsion.DriveType',\n",
       "  'Propulsion.FuelType',\n",
       "  'Propulsion.PropellerType',\n",
       "  'Propulsion.PropellerMaterial',\n",
       "  'Propulsion.FoldingPropeller',\n",
       "  'Propulsion.RopeCutter'],\n",
       " [str, str, float, float, float, str, str, str, int, str, int, int])"
      ]
     },
     "execution_count": 348,
     "metadata": {},
     "output_type": "execute_result"
    }
   ],
   "source": [
    "should_be = np.array(['定类', '定类', '定距', '定比',  '定比', '定类', '定类',   '定类', '定序', '定类', '定序', '定序'])\n",
    "should_be_type = list(map(lambda x: appropriate_types[x], should_be))\n",
    "assert len(propulsion_columns) == len(should_be_type)\n",
    "propulsion_columns, should_be_type"
   ]
  },
  {
   "cell_type": "code",
   "execution_count": 349,
   "metadata": {},
   "outputs": [
    {
     "data": {
      "text/plain": [
       "['Propulsion.EngineMake',\n",
       " 'Propulsion.EngineModel',\n",
       " 'Propulsion.EngineType',\n",
       " 'Propulsion.DriveType',\n",
       " 'Propulsion.FuelType',\n",
       " 'Propulsion.PropellerType',\n",
       " 'Propulsion.PropellerMaterial',\n",
       " 'Propulsion.FoldingPropeller',\n",
       " 'Propulsion.RopeCutter']"
      ]
     },
     "execution_count": 349,
     "metadata": {},
     "output_type": "execute_result"
    }
   ],
   "source": [
    "should_be_dict = dict(zip(propulsion_columns, should_be))\n",
    "prop_discrete_cols = list(filter(lambda x: should_be_dict[x]=='定类' or should_be_dict[x]=='定序', propulsion_columns))\n",
    "prop_discrete_cols"
   ]
  },
  {
   "cell_type": "code",
   "execution_count": 350,
   "metadata": {},
   "outputs": [
    {
     "data": {
      "text/plain": [
       "Propulsion.EngineMake            object\n",
       "Propulsion.EngineModel           object\n",
       "Propulsion.EngineYear           float64\n",
       "Propulsion.TotalPower            object\n",
       "Propulsion.EngineHours          float64\n",
       "Propulsion.EngineType            object\n",
       "Propulsion.DriveType             object\n",
       "Propulsion.FuelType              object\n",
       "Propulsion.PropellerType         object\n",
       "Propulsion.PropellerMaterial     object\n",
       "Propulsion.FoldingPropeller      object\n",
       "Propulsion.RopeCutter            object\n",
       "dtype: object"
      ]
     },
     "execution_count": 350,
     "metadata": {},
     "output_type": "execute_result"
    }
   ],
   "source": [
    "df[propulsion_columns].dtypes"
   ]
  },
  {
   "cell_type": "code",
   "execution_count": 351,
   "metadata": {},
   "outputs": [],
   "source": [
    "col = 'Propulsion.PropellerType'\n",
    "df[col].unique()\n",
    "\n",
    "def tran(x):\n",
    "    x = str(x)\n",
    "    if x=='nan' or x=='folding':\n",
    "        return np.nan\n",
    "    return float(x.split(' ')[0])\n",
    "df[col] = df[col].map(tran)"
   ]
  },
  {
   "cell_type": "code",
   "execution_count": 352,
   "metadata": {},
   "outputs": [],
   "source": [
    "cols = ['Propulsion.FoldingPropeller', 'Propulsion.RopeCutter']\n",
    "df[cols].describe()\n",
    "# df[cols[0]].unique()\n",
    "# df[cols[1]].unique()\n",
    "\n",
    "def tran(x):\n",
    "    x = str(x)\n",
    "    if x=='nan':\n",
    "        return False\n",
    "    return True\n",
    "for col in cols:\n",
    "    df[col] = df[col].map(tran)"
   ]
  },
  {
   "cell_type": "code",
   "execution_count": 353,
   "metadata": {},
   "outputs": [],
   "source": [
    "df=df.rename(columns={'Propulsion.TotalPower':'Propulsion.TotalPower (hp)'})\n",
    "\n",
    "def war_tran(x):\n",
    "    x = str(x)\n",
    "    if x=='nan':\n",
    "        # return x\n",
    "        return np.nan\n",
    "    num = x.split('hp')[0]\n",
    "    return float(num)\n",
    "df['Propulsion.TotalPower (hp)'] = df['Propulsion.TotalPower (hp)'].map(war_tran)\n",
    "# df['Basics.HullWarranty (years)'].fillna(0, inplace=True)"
   ]
  },
  {
   "cell_type": "code",
   "execution_count": 354,
   "metadata": {},
   "outputs": [],
   "source": [
    "# # df[propulsion_columns].describe()\n",
    "# # df[prop_discrete_cols].value_counts()\n",
    "# df[prop_discrete_cols]\n",
    "# df['Propulsion.PropellerMaterial'].value_counts()\n",
    "# # df['Propulsion.PropellerMaterial'].isna()   \n",
    "# df['Propulsion.PropellerMaterial'].head(20)\n",
    "# df['Propulsion.PropellerMaterial'].mode()\n",
    "# df['Propulsion.PropellerMaterial'].fillna(df['Propulsion.PropellerMaterial'].mode()[0], inplace=True)"
   ]
  },
  {
   "cell_type": "code",
   "execution_count": 355,
   "metadata": {},
   "outputs": [],
   "source": [
    "propulsion_columns = list(filter(lambda x:x.startswith('Propulsion'), df.columns))\n",
    "should_be_dict = dict(zip(propulsion_columns, should_be))\n",
    "grouper = 'Make-Model'\n",
    "group = df.groupby(grouper)"
   ]
  },
  {
   "cell_type": "code",
   "execution_count": 360,
   "metadata": {},
   "outputs": [
    {
     "data": {
      "text/plain": [
       "(Propulsion.EngineMake           0\n",
       " Propulsion.EngineModel          0\n",
       " Propulsion.EngineYear           0\n",
       " Propulsion.TotalPower (hp)      0\n",
       " Propulsion.EngineHours          0\n",
       " Propulsion.EngineType           0\n",
       " Propulsion.DriveType            0\n",
       " Propulsion.FuelType             0\n",
       " Propulsion.PropellerType        0\n",
       " Propulsion.PropellerMaterial    0\n",
       " Propulsion.FoldingPropeller     0\n",
       " Propulsion.RopeCutter           0\n",
       " dtype: int64,\n",
       " ['Propulsion.EngineMake',\n",
       "  'Propulsion.EngineModel',\n",
       "  'Propulsion.EngineType',\n",
       "  'Propulsion.DriveType',\n",
       "  'Propulsion.FuelType',\n",
       "  'Propulsion.PropellerType',\n",
       "  'Propulsion.PropellerMaterial',\n",
       "  'Propulsion.FoldingPropeller',\n",
       "  'Propulsion.RopeCutter'])"
      ]
     },
     "execution_count": 360,
     "metadata": {},
     "output_type": "execute_result"
    }
   ],
   "source": [
    "df[propulsion_columns].isna().sum(), prop_discrete_cols\n"
   ]
  },
  {
   "cell_type": "code",
   "execution_count": 357,
   "metadata": {},
   "outputs": [],
   "source": [
    "def full_and_group_mode(col):\n",
    "    group_mode = group[col].agg(lambda x:x.mode().sample(frac=1).to_numpy()[0] if not  x.isna().sum()==len(x) else None) # 用众数填充\n",
    "    # group_mode = group[cols].mode()\n",
    "    full_mode = df[col].mode().sample(frac=1).to_numpy()[0] # 用全局众数填充； 随机选取众数中的一个\n",
    "    \n",
    "    return group_mode, full_mode\n",
    "# full_and_group_mode('Propulsion.EngineMake')[1]    \n",
    "def full_and_group_median(col):\n",
    "    # 求解 col 这一列的组中位数和全局中位数\n",
    "    group_median = group[col].agg(lambda x:x.median()if not  x.isna().sum()==len(x) else None) \n",
    "    full_median = df[col].median() \n",
    "    return group_median, full_median\n",
    "\n",
    "def full_and_group_mean(col):\n",
    "    # 求解 col 这一列的组均值和全局均值\n",
    "    group_mean = group[col].agg(lambda x:x.mean()if not  x.isna().sum()==len(x) else None) \n",
    "    full_mean = df[col].mean() \n",
    "    return group_mean, full_mean\n",
    "    \n",
    "op_dict = {'mode':full_and_group_mode, 'median':full_and_group_median, 'mean':full_and_group_mean}"
   ]
  },
  {
   "cell_type": "code",
   "execution_count": null,
   "metadata": {},
   "outputs": [],
   "source": []
  },
  {
   "cell_type": "code",
   "execution_count": 358,
   "metadata": {},
   "outputs": [
    {
     "name": "stdout",
     "output_type": "stream",
     "text": [
      "正在使用mode填充Propulsion.EngineMake\n",
      "Yanmar\n",
      "正在使用mode填充Propulsion.EngineModel\n",
      "3YM30\n",
      "正在使用mean填充Propulsion.EngineYear\n",
      "2006.0593591315005\n",
      "正在使用mean填充Propulsion.TotalPower (hp)\n",
      "77.5745186773504\n",
      "正在使用mean填充Propulsion.EngineHours\n",
      "1756.5644317641465\n",
      "正在使用mode填充Propulsion.EngineType\n",
      "Inboard\n",
      "正在使用mode填充Propulsion.DriveType\n",
      "Direct Drive\n",
      "正在使用mode填充Propulsion.FuelType\n",
      "Diesel\n",
      "正在使用median填充Propulsion.PropellerType\n",
      "3.0\n",
      "正在使用mode填充Propulsion.PropellerMaterial\n",
      "Bronze\n",
      "正在使用median填充Propulsion.FoldingPropeller\n",
      "0.0\n",
      "正在使用median填充Propulsion.RopeCutter\n",
      "0.0\n"
     ]
    }
   ],
   "source": [
    "for col in propulsion_columns:\n",
    "    sh = should_be_dict[col]\n",
    "    op = appropriate_operation[sh]\n",
    "    print(f\"正在使用{op}填充{col}\")\n",
    "    op = op_dict[op]\n",
    "    group_stat, full_stat = op(col)\n",
    "\n",
    "\n",
    "    def fill_each_row(x):\n",
    "        # print(x[0] if pd.isna(x[0]) else None)\n",
    "        return group_stat.loc[x[0]] if pd.isna(x[1]) else x[1]\n",
    "        \n",
    "    df[col] = df[['Make-Model', col]].apply(lambda x:fill_each_row(x), axis=1)\n",
    "    print(full_stat)\n",
    "    df[col].fillna(full_stat, inplace=True)"
   ]
  },
  {
   "cell_type": "code",
   "execution_count": 359,
   "metadata": {},
   "outputs": [],
   "source": [
    "df['Propulsion.TotalPower (hp)'] = df['Propulsion.TotalPower (hp)'].astype(str)"
   ]
  },
  {
   "cell_type": "code",
   "execution_count": null,
   "metadata": {},
   "outputs": [],
   "source": []
  },
  {
   "attachments": {},
   "cell_type": "markdown",
   "metadata": {},
   "source": [
    "## 针对 Specification 进行处理"
   ]
  },
  {
   "cell_type": "code",
   "execution_count": 361,
   "metadata": {},
   "outputs": [
    {
     "data": {
      "text/plain": [
       "{'Specifications.Dimensions.LengthOverall': '定比',\n",
       " 'Specifications.Dimensions.Beam': '定比',\n",
       " 'Specifications.Accommodations.DoubleBerths': '定距',\n",
       " 'Specifications.Accommodations.Cabins': '定距',\n",
       " 'Specifications.Accommodations.Heads': '定距',\n",
       " 'Specifications.Speed&Distance.CruisingSpeed': '定比',\n",
       " 'Specifications.Speed&Distance.MaxSpeed': '定比',\n",
       " 'Specifications.Dimensions.LengthOnDeck': '定比',\n",
       " 'Specifications.Dimensions.MaxDraft': '定比',\n",
       " 'Specifications.Dimensions.CabinHeadroom': '定比',\n",
       " 'Specifications.Dimensions.LengthAtWaterline': '定比',\n",
       " 'Specifications.Miscellaneous.Windlass': '定类',\n",
       " 'Specifications.Dimensions.MaxBridgeClearance': '定比',\n",
       " 'Specifications.Weights.DryWeight': '定比',\n",
       " 'Specifications.Accommodations.SingleBerths': '定距',\n",
       " 'Specifications.Accommodations.TwinBerths': '定距',\n",
       " 'Specifications.Miscellaneous.ElectricalCircuit': '定比',\n",
       " 'Specifications.Miscellaneous.SeatingCapacity': '定距',\n",
       " 'Specifications.Speed&Distance.Range': '定比',\n",
       " 'Specifications.Dimensions.Freeboard': '定比',\n",
       " 'Specifications.Miscellaneous.LiferaftCapacity': '定距',\n",
       " 'Specifications.Miscellaneous.DeadriseAtTransom': '定比'}"
      ]
     },
     "execution_count": 361,
     "metadata": {},
     "output_type": "execute_result"
    }
   ],
   "source": [
    "raw_order = ['Specifications.Dimensions.LengthOverall (ft)',\n",
    "  'Specifications.Dimensions.Beam (ft)',\n",
    "  'Specifications.Accommodations.DoubleBerths',\n",
    "  'Specifications.Accommodations.Cabins',\n",
    "  'Specifications.Accommodations.Heads',\n",
    "  'Specifications.Speed&Distance.CruisingSpeed (kn)',\n",
    "  'Specifications.Speed&Distance.MaxSpeed (kn)',\n",
    "  'Specifications.Dimensions.LengthOnDeck (ft)',\n",
    "  'Specifications.Dimensions.MaxDraft (ft)',\n",
    "  'Specifications.Dimensions.CabinHeadroom (ft)',\n",
    "  'Specifications.Dimensions.LengthAtWaterline (ft)',\n",
    "  'Specifications.Miscellaneous.Windlass',\n",
    "  'Specifications.Dimensions.MaxBridgeClearance (ft)',\n",
    "  'Specifications.Weights.DryWeight (Lb)',\n",
    "  'Specifications.Accommodations.SingleBerths',\n",
    "  'Specifications.Accommodations.TwinBerths',\n",
    "  'Specifications.Miscellaneous.ElectricalCircuit (V)',\n",
    "  'Specifications.Miscellaneous.SeatingCapacity',\n",
    "  'Specifications.Speed&Distance.Range (nm)',\n",
    "  'Specifications.Dimensions.Freeboard (ft)',\n",
    "  'Specifications.Miscellaneous.LiferaftCapacity',\n",
    "  'Specifications.Miscellaneous.DeadriseAtTransom (deg)']\n",
    "raw_order_without_单位 = [col.split(' (')[0] for col in raw_order]\n",
    "should_be = np.array(['定比','定比',\n",
    "                      '定距','定距',\n",
    "                      '定距','定比',\n",
    "                      '定比','定比',\n",
    "                      '定比','定比',\n",
    "                      '定比','定类',\n",
    "                      '定比','定比',\n",
    "                      '定距','定距',\n",
    "                      '定比','定距',\n",
    "                      '定比','定比',\n",
    "                      '定距','定比'])\n",
    "should_be_col = dict(zip(raw_order_without_单位, should_be))\n",
    "should_be_col"
   ]
  },
  {
   "cell_type": "code",
   "execution_count": 362,
   "metadata": {},
   "outputs": [],
   "source": [
    "df = df.drop(['Specifications.Tanks.FuelTank'], axis=1)"
   ]
  },
  {
   "cell_type": "code",
   "execution_count": 363,
   "metadata": {},
   "outputs": [],
   "source": [
    "df = df.drop(['Specifications.Tanks.FreshWaterTank'], axis=1)"
   ]
  },
  {
   "cell_type": "code",
   "execution_count": 364,
   "metadata": {},
   "outputs": [],
   "source": [
    "\n",
    "df = df.drop(['Specifications.Tanks.HoldingTank'], axis=1)"
   ]
  },
  {
   "cell_type": "code",
   "execution_count": 376,
   "metadata": {},
   "outputs": [],
   "source": [
    "specification_columns = list(filter(lambda x:x.startswith('Specification'), df.columns))\n",
    "grouper = 'Make-Model'\n",
    "group = df.groupby(grouper)"
   ]
  },
  {
   "cell_type": "code",
   "execution_count": 366,
   "metadata": {},
   "outputs": [
    {
     "data": {
      "text/plain": [
       "['定比',\n",
       " '定比',\n",
       " '定比',\n",
       " '定比',\n",
       " '定距',\n",
       " '定距',\n",
       " '定距',\n",
       " '定距',\n",
       " '定比',\n",
       " '定比',\n",
       " '定比',\n",
       " '定比',\n",
       " '定比',\n",
       " '定类',\n",
       " '定距',\n",
       " '定比',\n",
       " '定距',\n",
       " '定比',\n",
       " '定比',\n",
       " '定比',\n",
       " '定距',\n",
       " '定比']"
      ]
     },
     "execution_count": 366,
     "metadata": {},
     "output_type": "execute_result"
    }
   ],
   "source": [
    "should_be = [should_be_col[col] for col in specification_columns]\n",
    "should_be"
   ]
  },
  {
   "cell_type": "code",
   "execution_count": 373,
   "metadata": {},
   "outputs": [
    {
     "data": {
      "text/plain": [
       "(['Specifications.Dimensions.LengthOverall (ft)',\n",
       "  'Specifications.Dimensions.MaxDraft (ft)',\n",
       "  'Specifications.Dimensions.Beam (ft)',\n",
       "  'Specifications.Dimensions.LengthAtWaterline (ft)',\n",
       "  'Specifications.Accommodations.SingleBerths',\n",
       "  'Specifications.Accommodations.DoubleBerths',\n",
       "  'Specifications.Accommodations.Cabins',\n",
       "  'Specifications.Accommodations.Heads',\n",
       "  'Specifications.Weights.DryWeight (Lb)',\n",
       "  'Specifications.Speed&Distance.CruisingSpeed (kn)',\n",
       "  'Specifications.Speed&Distance.MaxSpeed (kn)',\n",
       "  'Specifications.Dimensions.LengthOnDeck (ft)',\n",
       "  'Specifications.Dimensions.CabinHeadroom (ft)',\n",
       "  'Specifications.Miscellaneous.Windlass',\n",
       "  'Specifications.Accommodations.TwinBerths',\n",
       "  'Specifications.Miscellaneous.ElectricalCircuit (V)',\n",
       "  'Specifications.Miscellaneous.SeatingCapacity',\n",
       "  'Specifications.Dimensions.MaxBridgeClearance (ft)',\n",
       "  'Specifications.Speed&Distance.Range (nm)',\n",
       "  'Specifications.Dimensions.Freeboard (ft)',\n",
       "  'Specifications.Miscellaneous.LiferaftCapacity',\n",
       "  'Specifications.Miscellaneous.DeadriseAtTransom (deg)'],\n",
       " [float,\n",
       "  float,\n",
       "  float,\n",
       "  float,\n",
       "  float,\n",
       "  float,\n",
       "  float,\n",
       "  float,\n",
       "  float,\n",
       "  float,\n",
       "  float,\n",
       "  float,\n",
       "  float,\n",
       "  str,\n",
       "  float,\n",
       "  float,\n",
       "  float,\n",
       "  float,\n",
       "  float,\n",
       "  float,\n",
       "  float,\n",
       "  float])"
      ]
     },
     "execution_count": 373,
     "metadata": {},
     "output_type": "execute_result"
    }
   ],
   "source": [
    "should_be_type = list(map(lambda x: appropriate_types[x], should_be))\n",
    "assert len(specification_columns) == len(should_be_type)\n",
    "specification_columns, should_be_type\n"
   ]
  },
  {
   "cell_type": "code",
   "execution_count": 368,
   "metadata": {},
   "outputs": [
    {
     "data": {
      "text/plain": [
       "['Specifications.Dimensions.LengthOverall (ft)',\n",
       " 'Specifications.Dimensions.Beam (ft)',\n",
       " 'Specifications.Speed&Distance.CruisingSpeed (kn)',\n",
       " 'Specifications.Speed&Distance.MaxSpeed (kn)',\n",
       " 'Specifications.Dimensions.LengthOnDeck (ft)',\n",
       " 'Specifications.Dimensions.MaxDraft (ft)',\n",
       " 'Specifications.Dimensions.CabinHeadroom (ft)',\n",
       " 'Specifications.Dimensions.LengthAtWaterline (ft)',\n",
       " 'Specifications.Dimensions.MaxBridgeClearance (ft)',\n",
       " 'Specifications.Weights.DryWeight (Lb)',\n",
       " 'Specifications.Miscellaneous.ElectricalCircuit (V)',\n",
       " 'Specifications.Speed&Distance.Range (nm)',\n",
       " 'Specifications.Dimensions.Freeboard (ft)',\n",
       " 'Specifications.Miscellaneous.DeadriseAtTransom (deg)']"
      ]
     },
     "execution_count": 368,
     "metadata": {},
     "output_type": "execute_result"
    }
   ],
   "source": [
    "单位批量处理_cols = [i for i in raw_order if i.endswith(')')]\n",
    "单位批量处理_cols"
   ]
  },
  {
   "cell_type": "code",
   "execution_count": 377,
   "metadata": {},
   "outputs": [],
   "source": [
    "# df['Specifications.Dimensions.MaxDra']\n",
    "# 单位批量处理_cols[5]  = 'Specifications.Dimensions.MaxDraft (ft)'"
   ]
  },
  {
   "cell_type": "code",
   "execution_count": 378,
   "metadata": {},
   "outputs": [],
   "source": [
    "# df['Specifications.Dimensions.MaxDraft']"
   ]
  },
  {
   "cell_type": "code",
   "execution_count": 371,
   "metadata": {},
   "outputs": [
    {
     "name": "stdout",
     "output_type": "stream",
     "text": [
      "正在处理Specifications.Dimensions.LengthOverall\n",
      "正在处理Specifications.Dimensions.Beam\n",
      "正在处理Specifications.Speed&Distance.CruisingSpeed\n",
      "正在处理Specifications.Speed&Distance.MaxSpeed\n",
      "正在处理Specifications.Dimensions.LengthOnDeck\n",
      "正在处理Specifications.Dimensions.MaxDraft\n",
      "正在处理Specifications.Dimensions.CabinHeadroom\n",
      "正在处理Specifications.Dimensions.LengthAtWaterline\n",
      "正在处理Specifications.Dimensions.MaxBridgeClearance\n",
      "正在处理Specifications.Weights.DryWeight\n",
      "正在处理Specifications.Miscellaneous.ElectricalCircuit\n",
      "正在处理Specifications.Speed&Distance.Range\n",
      "正在处理Specifications.Dimensions.Freeboard\n",
      "正在处理Specifications.Miscellaneous.DeadriseAtTransom\n"
     ]
    }
   ],
   "source": [
    "def general_trans(x):\n",
    "    if pd.isna(x): return np.nan\n",
    "    x = str(x)\n",
    "    if x=='none': return np.nan\n",
    "    num = ''.join(filter(str.isdigit, x))\n",
    "    try:\n",
    "        return float(num)\n",
    "    except Exception as e:\n",
    "        print(x)\n",
    "        raise e\n",
    "general_trans('1')\n",
    "general_trans('1fp')\n",
    "general_trans('1 fp')\n",
    "general_trans('1 year')\n",
    "general_trans('12,2,3 year')\n",
    "general_trans(np.nan)\n",
    "\n",
    "for col in 单位批量处理_cols:\n",
    "    print(f\"正在处理{col.split(' (')[0]}\")\n",
    "    df=df.rename(columns={col.split(' (')[0]: col})\n",
    "    df[col] = df[col].map(general_trans)\n",
    "    \n",
    "    # df=df.rename(columns={col: [i for i in raw_order if i.startswith(col)][0] })"
   ]
  },
  {
   "cell_type": "code",
   "execution_count": null,
   "metadata": {},
   "outputs": [],
   "source": []
  },
  {
   "cell_type": "code",
   "execution_count": 374,
   "metadata": {},
   "outputs": [
    {
     "data": {
      "text/plain": [
       "['Specifications.Miscellaneous.Windlass']"
      ]
     },
     "execution_count": 374,
     "metadata": {},
     "output_type": "execute_result"
    }
   ],
   "source": [
    "should_be_dict = dict(zip(specification_columns, should_be))\n",
    "spec_discrete_cols = list(filter(lambda x: should_be_dict[x]=='定类' or should_be_dict[x]=='定序', specification_columns))\n",
    "spec_discrete_cols"
   ]
  },
  {
   "cell_type": "code",
   "execution_count": 37,
   "metadata": {},
   "outputs": [],
   "source": [
    "# df[spec_discrete_cols[0]].unique()\n",
    "# df[specification_columns].describe()\n",
    "# print(df[spec_discrete_cols].to_numpy())\n",
    "# df[spec_discrete_cols].to_csv('spec_discrete_cols_temp.csv', index=False)"
   ]
  },
  {
   "cell_type": "code",
   "execution_count": 379,
   "metadata": {},
   "outputs": [
    {
     "name": "stdout",
     "output_type": "stream",
     "text": [
      "正在使用mean填充Specifications.Dimensions.LengthOverall (ft)\n",
      "328849.37397034594\n",
      "正在使用mean填充Specifications.Dimensions.MaxDraft (ft)\n",
      "267507.0754216612\n",
      "正在使用mean填充Specifications.Dimensions.Beam (ft)\n",
      "187279.32472204056\n",
      "正在使用mean填充Specifications.Dimensions.LengthAtWaterline (ft)\n",
      "286749.6687451286\n",
      "正在使用mean填充Specifications.Accommodations.SingleBerths\n",
      "3.1790558871405317\n",
      "正在使用mean填充Specifications.Accommodations.DoubleBerths\n",
      "2.582379196584514\n",
      "正在使用mean填充Specifications.Accommodations.Cabins\n",
      "2.8856447688564475\n",
      "正在使用mean填充Specifications.Accommodations.Heads\n",
      "2.0216310751104567\n",
      "正在使用mean填充Specifications.Weights.DryWeight (Lb)\n",
      "2633846.1823074333\n",
      "正在使用mean填充Specifications.Speed&Distance.CruisingSpeed (kn)\n",
      "15527.947598253275\n",
      "正在使用mean填充Specifications.Speed&Distance.MaxSpeed (kn)\n",
      "20201.682953311618\n",
      "正在使用mean填充Specifications.Dimensions.LengthOnDeck (ft)\n",
      "295487.2566371681\n",
      "正在使用mean填充Specifications.Dimensions.CabinHeadroom (ft)\n",
      "79396.09993906155\n",
      "正在使用mode填充Specifications.Miscellaneous.Windlass\n",
      "Electric Windlass\n",
      "正在使用mean填充Specifications.Accommodations.TwinBerths\n",
      "2.00990099009901\n",
      "正在使用mean填充Specifications.Miscellaneous.ElectricalCircuit (V)\n",
      "84.48157423971378\n",
      "正在使用mean填充Specifications.Miscellaneous.SeatingCapacity\n",
      "11.644991212653778\n",
      "正在使用mean填充Specifications.Dimensions.MaxBridgeClearance (ft)\n",
      "347531.90145293745\n",
      "正在使用mean填充Specifications.Speed&Distance.Range (nm)\n",
      "4343.987212276214\n",
      "正在使用mean填充Specifications.Dimensions.Freeboard (ft)\n",
      "710.6704545454545\n",
      "正在使用mean填充Specifications.Miscellaneous.LiferaftCapacity\n",
      "8.703836930455635\n",
      "正在使用mean填充Specifications.Miscellaneous.DeadriseAtTransom (deg)\n",
      "16.785714285714285\n"
     ]
    }
   ],
   "source": [
    "for col in specification_columns:\n",
    "    sh = should_be_dict[col]\n",
    "    op = appropriate_operation[sh]\n",
    "    print(f\"正在使用{op}填充{col}\")\n",
    "    op = op_dict[op]\n",
    "    group_stat, full_stat = op(col)\n",
    "\n",
    "\n",
    "    def fill_each_row(x):\n",
    "        # print(x[0] if pd.isna(x[0]) else None)\n",
    "        return group_stat.loc[x[0]] if pd.isna(x[1]) else x[1]\n",
    "        \n",
    "    df[col] = df[['Make-Model', col]].apply(lambda x:fill_each_row(x), axis=1)\n",
    "    print(full_stat)\n",
    "    df[col].fillna(full_stat, inplace=True)"
   ]
  },
  {
   "cell_type": "code",
   "execution_count": 380,
   "metadata": {},
   "outputs": [
    {
     "data": {
      "text/plain": [
       "Specifications.Dimensions.LengthOverall (ft)            0\n",
       "Specifications.Dimensions.MaxDraft (ft)                 0\n",
       "Specifications.Dimensions.Beam (ft)                     0\n",
       "Specifications.Dimensions.LengthAtWaterline (ft)        0\n",
       "Specifications.Accommodations.SingleBerths              0\n",
       "Specifications.Accommodations.DoubleBerths              0\n",
       "Specifications.Accommodations.Cabins                    0\n",
       "Specifications.Accommodations.Heads                     0\n",
       "Specifications.Weights.DryWeight (Lb)                   0\n",
       "Specifications.Speed&Distance.CruisingSpeed (kn)        0\n",
       "Specifications.Speed&Distance.MaxSpeed (kn)             0\n",
       "Specifications.Dimensions.LengthOnDeck (ft)             0\n",
       "Specifications.Dimensions.CabinHeadroom (ft)            0\n",
       "Specifications.Miscellaneous.Windlass                   0\n",
       "Specifications.Accommodations.TwinBerths                0\n",
       "Specifications.Miscellaneous.ElectricalCircuit (V)      0\n",
       "Specifications.Miscellaneous.SeatingCapacity            0\n",
       "Specifications.Dimensions.MaxBridgeClearance (ft)       0\n",
       "Specifications.Speed&Distance.Range (nm)                0\n",
       "Specifications.Dimensions.Freeboard (ft)                0\n",
       "Specifications.Miscellaneous.LiferaftCapacity           0\n",
       "Specifications.Miscellaneous.DeadriseAtTransom (deg)    0\n",
       "dtype: int64"
      ]
     },
     "execution_count": 380,
     "metadata": {},
     "output_type": "execute_result"
    }
   ],
   "source": [
    "df[specification_columns].isna().sum()"
   ]
  },
  {
   "attachments": {},
   "cell_type": "markdown",
   "metadata": {},
   "source": [
    "## 针对Feature进行处理"
   ]
  },
  {
   "cell_type": "code",
   "execution_count": 381,
   "metadata": {},
   "outputs": [
    {
     "data": {
      "text/plain": [
       "['Features.ElectricalEquipment.ShorePowerInlet',\n",
       " 'Features.Electronics.Depthsounder',\n",
       " 'Features.Electronics.Log-speedometer',\n",
       " 'Features.Electronics.WindSpeedAndDirection',\n",
       " 'Features.Electronics.Repeater(s)',\n",
       " 'Features.Electronics.Plotter',\n",
       " 'Features.Electronics.Autopilot',\n",
       " 'Features.Electronics.Radio',\n",
       " 'Features.Electronics.Compas',\n",
       " 'Features.Electronics.Gps',\n",
       " 'Features.Electronics.CockpitSpeakers',\n",
       " 'Features.Electronics.Vhf',\n",
       " 'Features.InsideEquipment.BowThruster',\n",
       " 'Features.InsideEquipment.ElectricBilgePump',\n",
       " 'Features.InsideEquipment.Oven',\n",
       " 'Features.InsideEquipment.ManualBilgePump',\n",
       " 'Features.InsideEquipment.MicrowaveOven',\n",
       " 'Features.InsideEquipment.AirConditioning',\n",
       " 'Features.InsideEquipment.ElectricHead',\n",
       " 'Features.InsideEquipment.Heating',\n",
       " 'Features.InsideEquipment.HotWater',\n",
       " 'Features.InsideEquipment.Refrigerator',\n",
       " 'Features.InsideEquipment.BatteryCharger',\n",
       " 'Features.OutsideEquipment.CockpitShower',\n",
       " 'Features.OutsideEquipment.CockpitCushions',\n",
       " 'Features.OutsideEquipment.CockpitTable',\n",
       " 'Features.OutsideEquipment.SwimmingLadder',\n",
       " 'Features.Rigging.SteeringWheel',\n",
       " 'Features.Sails.FurlingMainsail',\n",
       " 'Features.Sails.AsymmetricSpinnaker',\n",
       " 'Features.Sails.FurlingGenoa',\n",
       " 'Features.ElectricalEquipment.Generator',\n",
       " 'Features.ElectricalEquipment.Inverter',\n",
       " 'Features.Electronics.Radar',\n",
       " 'Features.Electronics.NavigationCenter',\n",
       " 'Features.InsideEquipment.DeepFreezer',\n",
       " 'Features.OutsideEquipment.OutboardEngineBrackets',\n",
       " 'Features.OutsideEquipment.Davit(s)',\n",
       " 'Features.Sails.FullyBattenedMainsail',\n",
       " 'Features.InsideEquipment.MarineHead',\n",
       " 'Features.OutsideEquipment.TeakCockpit',\n",
       " 'Features.OutsideEquipment.RadarReflector',\n",
       " 'Features.OutsideEquipment.Tender',\n",
       " 'Features.Sails.StormJib',\n",
       " 'Features.Sails.BattenedMainsail',\n",
       " 'Features.Sails.Trisail',\n",
       " 'Features.OutsideEquipment.TeakSidedecks',\n",
       " 'Features.OutsideEquipment.Liferaft',\n",
       " 'Features.Rigging.SpinnakerPole',\n",
       " 'Features.Sails.Genoa',\n",
       " 'Features.Electronics.CdPlayer',\n",
       " 'Features.Rigging.ElectricWinch',\n",
       " 'Features.Electronics.TvSet',\n",
       " 'Features.Electronics.DvdPlayer',\n",
       " 'Features.InsideEquipment.FreshWaterMaker',\n",
       " 'Features.AdditionalEquipment.RoadTrailer',\n",
       " 'Features.Sails.GennakerCruisingSpinnaker',\n",
       " 'Features.InsideEquipment.SternThruster',\n",
       " 'Features.InsideEquipment.Dishwasher',\n",
       " 'Features.InsideEquipment.WashingMachine',\n",
       " 'Features.OutsideEquipment.Gangway',\n",
       " 'Features.OutsideEquipment.HydraulicGangway',\n",
       " 'Features.InsideEquipment.SeaWaterPump',\n",
       " 'Features.OutsideEquipment.SolarPanel',\n",
       " 'Features.Rigging.Tiller',\n",
       " 'Features.Electronics.RadarDetector',\n",
       " 'Features.Electronics.Computer',\n",
       " 'Features.Electronics.Vcr',\n",
       " 'Features.Sails.Spinnaker',\n",
       " 'Features.InsideEquipment.ChemicalHead',\n",
       " 'Features.Rigging.HydraulicWinch',\n",
       " 'Features.InsideEquipment.Seakeeper',\n",
       " 'Features.InsideEquipment.AirCompressor',\n",
       " 'Features.OutsideEquipment.WindGenerator',\n",
       " 'Features.AdditionalEquipment.LaunchingTrailer',\n",
       " 'Features.AdditionalEquipment.BeachingLegs']"
      ]
     },
     "execution_count": 381,
     "metadata": {},
     "output_type": "execute_result"
    }
   ],
   "source": [
    "# should_be = np.array(['定比','定比',\n",
    "                    #   '定距','定距',\n",
    "                    #   '定距','定比',\n",
    "                    #   '定比','定比',\n",
    "                    #   '定比','定比',\n",
    "                    #   '定比','定类',\n",
    "                    #   '定比','定比',\n",
    "                    #   '定距','定距',\n",
    "                    #   '定比','定距',\n",
    "                    #   '定比','定比',\n",
    "                    #   '定距','定比'])\n",
    "# should_be_type = list(map(lambda x: appropriate_types[x], should_be))\n",
    "# assert len(specification_columns) == len(should_be_type)\n",
    "# feature_columns, should_be_type\n",
    "feature_columns\n"
   ]
  },
  {
   "cell_type": "code",
   "execution_count": 382,
   "metadata": {},
   "outputs": [],
   "source": [
    "df[feature_columns].dtypes\n",
    "df[feature_columns].to_excel('feature_cols_temp.xlsx', index=False)\n",
    "# print(df[feature_columns].describe())\n",
    "# df[feature_columns].describe().to_csv('feature_cols_temp.csv')"
   ]
  },
  {
   "cell_type": "code",
   "execution_count": 383,
   "metadata": {},
   "outputs": [],
   "source": [
    "def tran(x):\n",
    "    if pd.isna(x):\n",
    "        return False\n",
    "    return True\n",
    "df[feature_columns] = df[feature_columns].applymap(tran)"
   ]
  },
  {
   "cell_type": "code",
   "execution_count": 384,
   "metadata": {},
   "outputs": [
    {
     "data": {
      "text/plain": [
       "False"
      ]
     },
     "execution_count": 384,
     "metadata": {},
     "output_type": "execute_result"
    }
   ],
   "source": [
    "pd.isna(df[feature_columns].iloc[2, 0])"
   ]
  },
  {
   "cell_type": "code",
   "execution_count": 385,
   "metadata": {},
   "outputs": [
    {
     "data": {
      "text/plain": [
       "True"
      ]
     },
     "execution_count": 385,
     "metadata": {},
     "output_type": "execute_result"
    }
   ],
   "source": [
    "# pd.isna(df.loc[2, 1])\n",
    "pd.isna(None)\n",
    "pd.isna(np.nan)"
   ]
  },
  {
   "cell_type": "code",
   "execution_count": 386,
   "metadata": {},
   "outputs": [
    {
     "data": {
      "text/plain": [
       "False"
      ]
     },
     "execution_count": 386,
     "metadata": {},
     "output_type": "execute_result"
    }
   ],
   "source": [
    "df[feature_columns].isna().sum().any()"
   ]
  },
  {
   "cell_type": "code",
   "execution_count": 387,
   "metadata": {},
   "outputs": [
    {
     "data": {
      "text/plain": [
       "Price-1    1150\n",
       "Price      1150\n",
       "dtype: int64"
      ]
     },
     "execution_count": 387,
     "metadata": {},
     "output_type": "execute_result"
    }
   ],
   "source": [
    "# df.isna().sum().any()\n",
    "s = df.isna().sum()\n",
    "s[s>0]"
   ]
  },
  {
   "cell_type": "code",
   "execution_count": 49,
   "metadata": {},
   "outputs": [],
   "source": [
    "df['Price'].to_excel('price_temp.xlsx', index=False)\n",
    "# .to_csv('price_temp.csv', index=False)"
   ]
  },
  {
   "cell_type": "code",
   "execution_count": 50,
   "metadata": {},
   "outputs": [],
   "source": [
    "df.dropna().to_excel(\"../../data/包含区域信息_cleaned.xlsx\", index=False)"
   ]
  }
 ],
 "metadata": {
  "kernelspec": {
   "display_name": "ai",
   "language": "python",
   "name": "python3"
  },
  "language_info": {
   "codemirror_mode": {
    "name": "ipython",
    "version": 3
   },
   "file_extension": ".py",
   "mimetype": "text/x-python",
   "name": "python",
   "nbconvert_exporter": "python",
   "pygments_lexer": "ipython3",
   "version": "3.9.13"
  },
  "orig_nbformat": 4
 },
 "nbformat": 4,
 "nbformat_minor": 2
}
