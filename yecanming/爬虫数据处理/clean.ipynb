{
 "cells": [
  {
   "cell_type": "code",
   "execution_count": 1,
   "metadata": {},
   "outputs": [],
   "source": [
    "import pandas as pd\n",
    "import numpy as np\n",
    "import seaborn as sns\n",
    "from matplotlib import pyplot as plt\n",
    "from scipy.stats import ks_2samp\n",
    "from scipy.stats import pearsonr\n",
    "import plotly.figure_factory as ff\n",
    "# from plotnine import *\n",
    "from pyecharts.charts import Map\n",
    "from pyecharts import options\n",
    "%matplotlib inline\n",
    "plt.style.use('fivethirtyeight')"
   ]
  },
  {
   "cell_type": "code",
   "execution_count": 2,
   "metadata": {},
   "outputs": [
    {
     "data": {
      "text/html": [
       "<div>\n",
       "<style scoped>\n",
       "    .dataframe tbody tr th:only-of-type {\n",
       "        vertical-align: middle;\n",
       "    }\n",
       "\n",
       "    .dataframe tbody tr th {\n",
       "        vertical-align: top;\n",
       "    }\n",
       "\n",
       "    .dataframe thead th {\n",
       "        text-align: right;\n",
       "    }\n",
       "</style>\n",
       "<table border=\"1\" class=\"dataframe\">\n",
       "  <thead>\n",
       "    <tr style=\"text-align: right;\">\n",
       "      <th></th>\n",
       "      <th>Basics.Year</th>\n",
       "      <th>Basics.Make</th>\n",
       "      <th>Basics.Model</th>\n",
       "      <th>Basics.Class</th>\n",
       "      <th>Basics.Length</th>\n",
       "      <th>Basics.FuelType</th>\n",
       "      <th>Basics.HullMaterial</th>\n",
       "      <th>Basics.OfferedBy</th>\n",
       "      <th>Propulsion.EngineMake</th>\n",
       "      <th>Propulsion.TotalPower</th>\n",
       "      <th>...</th>\n",
       "      <th>Features.OutsideEquipment.WindGenerator</th>\n",
       "      <th>Features.InsideEquipment.Seakeeper</th>\n",
       "      <th>Features.InsideEquipment.AirCompressor</th>\n",
       "      <th>Features.InsideEquipment.ChemicalHead</th>\n",
       "      <th>Specifications.Miscellaneous.LiferaftCapacity</th>\n",
       "      <th>Features.Rigging.HydraulicWinch</th>\n",
       "      <th>Propulsion.RopeCutter</th>\n",
       "      <th>Specifications.Miscellaneous.DeadriseAtTransom</th>\n",
       "      <th>Features.AdditionalEquipment.LaunchingTrailer</th>\n",
       "      <th>Features.AdditionalEquipment.BeachingLegs</th>\n",
       "    </tr>\n",
       "  </thead>\n",
       "  <tbody>\n",
       "    <tr>\n",
       "      <th>0</th>\n",
       "      <td>2023</td>\n",
       "      <td>Beneteau</td>\n",
       "      <td>Oceanis 46.1 - In Stock</td>\n",
       "      <td>Cruiser</td>\n",
       "      <td>46ft</td>\n",
       "      <td>Diesel</td>\n",
       "      <td>Fiberglass</td>\n",
       "      <td>Cape Yachts at South Wharf - South Dartmouth, MA</td>\n",
       "      <td>yanmar</td>\n",
       "      <td>57hp</td>\n",
       "      <td>...</td>\n",
       "      <td>NaN</td>\n",
       "      <td>NaN</td>\n",
       "      <td>NaN</td>\n",
       "      <td>NaN</td>\n",
       "      <td>NaN</td>\n",
       "      <td>NaN</td>\n",
       "      <td>NaN</td>\n",
       "      <td>NaN</td>\n",
       "      <td>NaN</td>\n",
       "      <td>NaN</td>\n",
       "    </tr>\n",
       "    <tr>\n",
       "      <th>1</th>\n",
       "      <td>2023</td>\n",
       "      <td>Jeanneau</td>\n",
       "      <td>Sun Odyssey 440</td>\n",
       "      <td>Cruiser</td>\n",
       "      <td>44ft</td>\n",
       "      <td>Diesel</td>\n",
       "      <td>Fiberglass</td>\n",
       "      <td>Marine Servicenter - San Diego</td>\n",
       "      <td>Yanmar</td>\n",
       "      <td>57hp</td>\n",
       "      <td>...</td>\n",
       "      <td>NaN</td>\n",
       "      <td>NaN</td>\n",
       "      <td>NaN</td>\n",
       "      <td>NaN</td>\n",
       "      <td>NaN</td>\n",
       "      <td>NaN</td>\n",
       "      <td>NaN</td>\n",
       "      <td>NaN</td>\n",
       "      <td>NaN</td>\n",
       "      <td>NaN</td>\n",
       "    </tr>\n",
       "    <tr>\n",
       "      <th>2</th>\n",
       "      <td>2023</td>\n",
       "      <td>Jeanneau</td>\n",
       "      <td>Sun Odyssey 490</td>\n",
       "      <td>Cruiser</td>\n",
       "      <td>49ft</td>\n",
       "      <td>Diesel</td>\n",
       "      <td>Fiberglass</td>\n",
       "      <td>Marine Servicenter - Seattle</td>\n",
       "      <td>Yanmar</td>\n",
       "      <td>80hp</td>\n",
       "      <td>...</td>\n",
       "      <td>NaN</td>\n",
       "      <td>NaN</td>\n",
       "      <td>NaN</td>\n",
       "      <td>NaN</td>\n",
       "      <td>NaN</td>\n",
       "      <td>NaN</td>\n",
       "      <td>NaN</td>\n",
       "      <td>NaN</td>\n",
       "      <td>NaN</td>\n",
       "      <td>NaN</td>\n",
       "    </tr>\n",
       "    <tr>\n",
       "      <th>3</th>\n",
       "      <td>2023</td>\n",
       "      <td>Jeanneau</td>\n",
       "      <td>60</td>\n",
       "      <td>Cruiser</td>\n",
       "      <td>60ft</td>\n",
       "      <td>Diesel</td>\n",
       "      <td>Fiberglass</td>\n",
       "      <td>Marine Servicenter - San Diego</td>\n",
       "      <td>Yanmar</td>\n",
       "      <td>150hp</td>\n",
       "      <td>...</td>\n",
       "      <td>NaN</td>\n",
       "      <td>NaN</td>\n",
       "      <td>NaN</td>\n",
       "      <td>NaN</td>\n",
       "      <td>NaN</td>\n",
       "      <td>NaN</td>\n",
       "      <td>NaN</td>\n",
       "      <td>NaN</td>\n",
       "      <td>NaN</td>\n",
       "      <td>NaN</td>\n",
       "    </tr>\n",
       "    <tr>\n",
       "      <th>4</th>\n",
       "      <td>2023</td>\n",
       "      <td>Jeanneau</td>\n",
       "      <td>Yacht 65</td>\n",
       "      <td>Cruiser</td>\n",
       "      <td>65ft</td>\n",
       "      <td>Diesel</td>\n",
       "      <td>Fiberglass</td>\n",
       "      <td>Marine Servicenter - Seattle</td>\n",
       "      <td>Volvo</td>\n",
       "      <td>180hp</td>\n",
       "      <td>...</td>\n",
       "      <td>NaN</td>\n",
       "      <td>NaN</td>\n",
       "      <td>NaN</td>\n",
       "      <td>NaN</td>\n",
       "      <td>NaN</td>\n",
       "      <td>NaN</td>\n",
       "      <td>NaN</td>\n",
       "      <td>NaN</td>\n",
       "      <td>NaN</td>\n",
       "      <td>NaN</td>\n",
       "    </tr>\n",
       "  </tbody>\n",
       "</table>\n",
       "<p>5 rows × 124 columns</p>\n",
       "</div>"
      ],
      "text/plain": [
       "   Basics.Year Basics.Make             Basics.Model Basics.Class  \\\n",
       "0         2023    Beneteau  Oceanis 46.1 - In Stock      Cruiser   \n",
       "1         2023    Jeanneau          Sun Odyssey 440      Cruiser   \n",
       "2         2023    Jeanneau          Sun Odyssey 490      Cruiser   \n",
       "3         2023    Jeanneau                       60      Cruiser   \n",
       "4         2023    Jeanneau                 Yacht 65      Cruiser   \n",
       "\n",
       "  Basics.Length Basics.FuelType Basics.HullMaterial  \\\n",
       "0          46ft          Diesel          Fiberglass   \n",
       "1          44ft          Diesel          Fiberglass   \n",
       "2          49ft          Diesel          Fiberglass   \n",
       "3          60ft          Diesel          Fiberglass   \n",
       "4          65ft          Diesel          Fiberglass   \n",
       "\n",
       "                                   Basics.OfferedBy Propulsion.EngineMake  \\\n",
       "0  Cape Yachts at South Wharf - South Dartmouth, MA                yanmar   \n",
       "1                    Marine Servicenter - San Diego                Yanmar   \n",
       "2                      Marine Servicenter - Seattle                Yanmar   \n",
       "3                    Marine Servicenter - San Diego                Yanmar   \n",
       "4                      Marine Servicenter - Seattle                 Volvo   \n",
       "\n",
       "  Propulsion.TotalPower  ... Features.OutsideEquipment.WindGenerator  \\\n",
       "0                  57hp  ...                                     NaN   \n",
       "1                  57hp  ...                                     NaN   \n",
       "2                  80hp  ...                                     NaN   \n",
       "3                 150hp  ...                                     NaN   \n",
       "4                 180hp  ...                                     NaN   \n",
       "\n",
       "  Features.InsideEquipment.Seakeeper Features.InsideEquipment.AirCompressor  \\\n",
       "0                                NaN                                    NaN   \n",
       "1                                NaN                                    NaN   \n",
       "2                                NaN                                    NaN   \n",
       "3                                NaN                                    NaN   \n",
       "4                                NaN                                    NaN   \n",
       "\n",
       "  Features.InsideEquipment.ChemicalHead  \\\n",
       "0                                   NaN   \n",
       "1                                   NaN   \n",
       "2                                   NaN   \n",
       "3                                   NaN   \n",
       "4                                   NaN   \n",
       "\n",
       "  Specifications.Miscellaneous.LiferaftCapacity  \\\n",
       "0                                           NaN   \n",
       "1                                           NaN   \n",
       "2                                           NaN   \n",
       "3                                           NaN   \n",
       "4                                           NaN   \n",
       "\n",
       "  Features.Rigging.HydraulicWinch Propulsion.RopeCutter  \\\n",
       "0                             NaN                   NaN   \n",
       "1                             NaN                   NaN   \n",
       "2                             NaN                   NaN   \n",
       "3                             NaN                   NaN   \n",
       "4                             NaN                   NaN   \n",
       "\n",
       "   Specifications.Miscellaneous.DeadriseAtTransom  \\\n",
       "0                                             NaN   \n",
       "1                                             NaN   \n",
       "2                                             NaN   \n",
       "3                                             NaN   \n",
       "4                                             NaN   \n",
       "\n",
       "   Features.AdditionalEquipment.LaunchingTrailer  \\\n",
       "0                                            NaN   \n",
       "1                                            NaN   \n",
       "2                                            NaN   \n",
       "3                                            NaN   \n",
       "4                                            NaN   \n",
       "\n",
       "   Features.AdditionalEquipment.BeachingLegs  \n",
       "0                                        NaN  \n",
       "1                                        NaN  \n",
       "2                                        NaN  \n",
       "3                                        NaN  \n",
       "4                                        NaN  \n",
       "\n",
       "[5 rows x 124 columns]"
      ]
     },
     "execution_count": 2,
     "metadata": {},
     "output_type": "execute_result"
    }
   ],
   "source": [
    "df = pd.read_excel('../../data/爬取的数据.xlsx', sheet_name='非二手帆船')\n",
    "df.head()"
   ]
  },
  {
   "cell_type": "code",
   "execution_count": 3,
   "metadata": {},
   "outputs": [
    {
     "name": "stdout",
     "output_type": "stream",
     "text": [
      "<class 'pandas.core.frame.DataFrame'>\n",
      "RangeIndex: 2188 entries, 0 to 2187\n",
      "Columns: 124 entries, Basics.Year to Features.AdditionalEquipment.BeachingLegs\n",
      "dtypes: float64(10), int64(1), object(113)\n",
      "memory usage: 2.1+ MB\n"
     ]
    }
   ],
   "source": [
    "df.info() # 有113个 object需要处理。  一共2188个条目。"
   ]
  },
  {
   "cell_type": "code",
   "execution_count": 4,
   "metadata": {},
   "outputs": [
    {
     "data": {
      "text/html": [
       "<div>\n",
       "<style scoped>\n",
       "    .dataframe tbody tr th:only-of-type {\n",
       "        vertical-align: middle;\n",
       "    }\n",
       "\n",
       "    .dataframe tbody tr th {\n",
       "        vertical-align: top;\n",
       "    }\n",
       "\n",
       "    .dataframe thead th {\n",
       "        text-align: right;\n",
       "    }\n",
       "</style>\n",
       "<table border=\"1\" class=\"dataframe\">\n",
       "  <thead>\n",
       "    <tr style=\"text-align: right;\">\n",
       "      <th></th>\n",
       "      <th>Price</th>\n",
       "    </tr>\n",
       "  </thead>\n",
       "  <tbody>\n",
       "    <tr>\n",
       "      <th>count</th>\n",
       "      <td>1.163000e+03</td>\n",
       "    </tr>\n",
       "    <tr>\n",
       "      <th>mean</th>\n",
       "      <td>7.395047e+05</td>\n",
       "    </tr>\n",
       "    <tr>\n",
       "      <th>std</th>\n",
       "      <td>1.664770e+06</td>\n",
       "    </tr>\n",
       "    <tr>\n",
       "      <th>min</th>\n",
       "      <td>2.144000e+03</td>\n",
       "    </tr>\n",
       "    <tr>\n",
       "      <th>25%</th>\n",
       "      <td>1.412770e+05</td>\n",
       "    </tr>\n",
       "    <tr>\n",
       "      <th>50%</th>\n",
       "      <td>3.649000e+05</td>\n",
       "    </tr>\n",
       "    <tr>\n",
       "      <th>75%</th>\n",
       "      <td>6.918905e+05</td>\n",
       "    </tr>\n",
       "    <tr>\n",
       "      <th>max</th>\n",
       "      <td>2.450000e+07</td>\n",
       "    </tr>\n",
       "  </tbody>\n",
       "</table>\n",
       "</div>"
      ],
      "text/plain": [
       "              Price\n",
       "count  1.163000e+03\n",
       "mean   7.395047e+05\n",
       "std    1.664770e+06\n",
       "min    2.144000e+03\n",
       "25%    1.412770e+05\n",
       "50%    3.649000e+05\n",
       "75%    6.918905e+05\n",
       "max    2.450000e+07"
      ]
     },
     "execution_count": 4,
     "metadata": {},
     "output_type": "execute_result"
    }
   ],
   "source": [
    "df.columns # 太多了，分开处理 124\n",
    "basics_columns = list(filter(lambda x:x.startswith('Basics'), df.columns))\n",
    "propulsion_columns = list(filter(lambda x:x.startswith('Propulsion'), df.columns))\n",
    "specification_columns = list(filter(lambda x:x.startswith('Specification'), df.columns))\n",
    "feature_columns = list(filter(lambda x:x.startswith('Feature'), df.columns))\n",
    "\n",
    "list(map(len, (basics_columns, propulsion_columns, specification_columns, feature_columns)))\n",
    "price_column = ['Price']\n",
    "df[price_column].describe()"
   ]
  },
  {
   "attachments": {},
   "cell_type": "markdown",
   "metadata": {},
   "source": [
    "## 针对 Basics进行处理"
   ]
  },
  {
   "cell_type": "code",
   "execution_count": 5,
   "metadata": {},
   "outputs": [],
   "source": [
    "appropriate_types = {'定类':str, '定距':float, '定比':float, '定序':int}"
   ]
  },
  {
   "cell_type": "code",
   "execution_count": 6,
   "metadata": {},
   "outputs": [
    {
     "data": {
      "text/plain": [
       "(['Basics.Year',\n",
       "  'Basics.Make',\n",
       "  'Basics.Model',\n",
       "  'Basics.Class',\n",
       "  'Basics.Length',\n",
       "  'Basics.FuelType',\n",
       "  'Basics.HullMaterial',\n",
       "  'Basics.OfferedBy',\n",
       "  'Basics.HullShape',\n",
       "  'Basics.HullWarranty'],\n",
       " [float, str, str, str, float, str, str, str, str, float])"
      ]
     },
     "execution_count": 6,
     "metadata": {},
     "output_type": "execute_result"
    }
   ],
   "source": [
    "should_be = ['定距', '定类', '定类', '定类', '定比', '定类', '定类', '定类', '定类', '定比']\n",
    "should_be = list(map(lambda x: appropriate_types[x], should_be))\n",
    "basics_columns, should_be"
   ]
  },
  {
   "cell_type": "code",
   "execution_count": 7,
   "metadata": {},
   "outputs": [],
   "source": [
    "def len_tran(x):\n",
    "    assert x.endswith('ft')\n",
    "    return float(x[:-2])\n",
    "df['Basics.Length'] = df['Basics.Length'].apply(len_tran).astype(float)"
   ]
  },
  {
   "cell_type": "code",
   "execution_count": 8,
   "metadata": {},
   "outputs": [],
   "source": [
    "def war_tran(x):\n",
    "    x = str(x)\n",
    "    if x=='nan':\n",
    "        return x\n",
    "    num = x.split(' ')[0]\n",
    "    return float(num)\n",
    "df['Basics.HullWarranty'] = df['Basics.HullWarranty'].apply(war_tran).astype(float)"
   ]
  },
  {
   "cell_type": "code",
   "execution_count": 9,
   "metadata": {},
   "outputs": [],
   "source": [
    "for col, typ in zip(basics_columns, should_be):\n",
    "    df[col] = df[col].astype(typ)"
   ]
  },
  {
   "cell_type": "code",
   "execution_count": 10,
   "metadata": {},
   "outputs": [
    {
     "data": {
      "text/plain": [
       "Basics.Year            float64\n",
       "Basics.Make             object\n",
       "Basics.Model            object\n",
       "Basics.Class            object\n",
       "Basics.Length          float64\n",
       "Basics.FuelType         object\n",
       "Basics.HullMaterial     object\n",
       "Basics.OfferedBy        object\n",
       "Basics.HullShape        object\n",
       "Basics.HullWarranty    float64\n",
       "dtype: object"
      ]
     },
     "execution_count": 10,
     "metadata": {},
     "output_type": "execute_result"
    }
   ],
   "source": [
    "df[basics_columns].dtypes"
   ]
  },
  {
   "cell_type": "code",
   "execution_count": 11,
   "metadata": {},
   "outputs": [
    {
     "data": {
      "text/plain": [
       "Basics.Year               0\n",
       "Basics.Make               0\n",
       "Basics.Model              0\n",
       "Basics.Class              0\n",
       "Basics.Length             0\n",
       "Basics.FuelType           0\n",
       "Basics.HullMaterial       0\n",
       "Basics.OfferedBy          0\n",
       "Basics.HullShape          0\n",
       "Basics.HullWarranty    1902\n",
       "dtype: int64"
      ]
     },
     "execution_count": 11,
     "metadata": {},
     "output_type": "execute_result"
    }
   ],
   "source": [
    "df[basics_columns].isnull().sum()"
   ]
  },
  {
   "cell_type": "code",
   "execution_count": 12,
   "metadata": {},
   "outputs": [
    {
     "data": {
      "image/png": "[encoded data removed]",
      "text/plain": [
       "<Figure size 640x480 with 1 Axes>"
      ]
     },
     "metadata": {},
     "output_type": "display_data"
    }
   ],
   "source": [
    "plt.hist(df['Basics.HullWarranty'].dropna(), bins=20)\n",
    "plt.savefig('hull_warranty.png')"
   ]
  },
  {
   "cell_type": "code",
   "execution_count": 13,
   "metadata": {},
   "outputs": [],
   "source": [
    "# from rpy2.robjects import r\n",
    "# from rpy2.robjects.packages import importr\n",
    "# from rpy2.robjects import pandas2ri\n",
    "# # pandas2ri.activate()\n",
    "# # r('install.packages(\"psych\")')\n",
    "# psych = importr('psych')"
   ]
  },
  {
   "cell_type": "code",
   "execution_count": 19,
   "metadata": {},
   "outputs": [
    {
     "data": {
      "text/html": [
       "<div>\n",
       "<style scoped>\n",
       "    .dataframe tbody tr th:only-of-type {\n",
       "        vertical-align: middle;\n",
       "    }\n",
       "\n",
       "    .dataframe tbody tr th {\n",
       "        vertical-align: top;\n",
       "    }\n",
       "\n",
       "    .dataframe thead th {\n",
       "        text-align: right;\n",
       "    }\n",
       "</style>\n",
       "<table border=\"1\" class=\"dataframe\">\n",
       "  <thead>\n",
       "    <tr style=\"text-align: right;\">\n",
       "      <th></th>\n",
       "      <th>Basics.HullWarranty</th>\n",
       "      <th>Price</th>\n",
       "    </tr>\n",
       "  </thead>\n",
       "  <tbody>\n",
       "    <tr>\n",
       "      <th>Basics.HullWarranty</th>\n",
       "      <td>1.000000</td>\n",
       "      <td>-0.013242</td>\n",
       "    </tr>\n",
       "    <tr>\n",
       "      <th>Price</th>\n",
       "      <td>-0.013242</td>\n",
       "      <td>1.000000</td>\n",
       "    </tr>\n",
       "  </tbody>\n",
       "</table>\n",
       "</div>"
      ],
      "text/plain": [
       "                     Basics.HullWarranty     Price\n",
       "Basics.HullWarranty             1.000000 -0.013242\n",
       "Price                          -0.013242  1.000000"
      ]
     },
     "execution_count": 19,
     "metadata": {},
     "output_type": "execute_result"
    },
    {
     "data": {
      "image/png": "[encoded data removed]",
      "text/plain": [
       "<Figure size 500x500 with 6 Axes>"
      ]
     },
     "metadata": {},
     "output_type": "display_data"
    }
   ],
   "source": [
    "# psych.pairs_panels(df[['Basics.Year', 'Basics.Length', 'Basics.HullWarranty', 'Price']].dropna(), hist_col=price_column, scale=True)\n",
    "# psych.pairs_panels(df[['Basics.HullWarranty','Price']].dropna(), hist_col=price_column, scale=True)\n",
    "# sns.pairplot(df[['Basics.HullWarranty','Price']].dropna())\n",
    "g = sns.pairplot(df[['Basics.HullWarranty','Price']].dropna(), \n",
    "                #  diag_kind=\"kde\"\n",
    "                 plot_kws=dict(marker=\"+\", linewidth=1),\n",
    "    diag_kws=dict(fill=False),\n",
    "                 )\n",
    "g.map_lower(sns.kdeplot, levels=2)\n",
    "plt.savefig('hull_warranty_price.png')\n",
    "\n",
    "df[['Basics.HullWarranty','Price']].dropna().corr()"
   ]
  },
  {
   "cell_type": "code",
   "execution_count": 20,
   "metadata": {},
   "outputs": [
    {
     "data": {
      "text/html": [
       "<div>\n",
       "<style scoped>\n",
       "    .dataframe tbody tr th:only-of-type {\n",
       "        vertical-align: middle;\n",
       "    }\n",
       "\n",
       "    .dataframe tbody tr th {\n",
       "        vertical-align: top;\n",
       "    }\n",
       "\n",
       "    .dataframe thead th {\n",
       "        text-align: right;\n",
       "    }\n",
       "</style>\n",
       "<table border=\"1\" class=\"dataframe\">\n",
       "  <thead>\n",
       "    <tr style=\"text-align: right;\">\n",
       "      <th></th>\n",
       "      <th>Basics.Year</th>\n",
       "      <th>Basics.Length</th>\n",
       "      <th>Basics.HullWarranty</th>\n",
       "    </tr>\n",
       "  </thead>\n",
       "  <tbody>\n",
       "    <tr>\n",
       "      <th>count</th>\n",
       "      <td>2188.000000</td>\n",
       "      <td>2188.000000</td>\n",
       "      <td>286.000000</td>\n",
       "    </tr>\n",
       "    <tr>\n",
       "      <th>mean</th>\n",
       "      <td>2017.692870</td>\n",
       "      <td>44.644671</td>\n",
       "      <td>5.024476</td>\n",
       "    </tr>\n",
       "    <tr>\n",
       "      <th>std</th>\n",
       "      <td>13.211266</td>\n",
       "      <td>18.140774</td>\n",
       "      <td>2.544225</td>\n",
       "    </tr>\n",
       "    <tr>\n",
       "      <th>min</th>\n",
       "      <td>1903.000000</td>\n",
       "      <td>6.730000</td>\n",
       "      <td>1.000000</td>\n",
       "    </tr>\n",
       "    <tr>\n",
       "      <th>25%</th>\n",
       "      <td>2022.000000</td>\n",
       "      <td>36.045000</td>\n",
       "      <td>3.000000</td>\n",
       "    </tr>\n",
       "    <tr>\n",
       "      <th>50%</th>\n",
       "      <td>2023.000000</td>\n",
       "      <td>42.250000</td>\n",
       "      <td>5.000000</td>\n",
       "    </tr>\n",
       "    <tr>\n",
       "      <th>75%</th>\n",
       "      <td>2023.000000</td>\n",
       "      <td>50.000000</td>\n",
       "      <td>7.000000</td>\n",
       "    </tr>\n",
       "    <tr>\n",
       "      <th>max</th>\n",
       "      <td>2026.000000</td>\n",
       "      <td>352.200000</td>\n",
       "      <td>15.000000</td>\n",
       "    </tr>\n",
       "  </tbody>\n",
       "</table>\n",
       "</div>"
      ],
      "text/plain": [
       "       Basics.Year  Basics.Length  Basics.HullWarranty\n",
       "count  2188.000000    2188.000000           286.000000\n",
       "mean   2017.692870      44.644671             5.024476\n",
       "std      13.211266      18.140774             2.544225\n",
       "min    1903.000000       6.730000             1.000000\n",
       "25%    2022.000000      36.045000             3.000000\n",
       "50%    2023.000000      42.250000             5.000000\n",
       "75%    2023.000000      50.000000             7.000000\n",
       "max    2026.000000     352.200000            15.000000"
      ]
     },
     "execution_count": 20,
     "metadata": {},
     "output_type": "execute_result"
    }
   ],
   "source": [
    "df[basics_columns].describe()"
   ]
  },
  {
   "cell_type": "code",
   "execution_count": 21,
   "metadata": {},
   "outputs": [
    {
     "data": {
      "image/png": "[encoded data removed]",
      "text/plain": [
       "<Figure size 640x480 with 1 Axes>"
      ]
     },
     "metadata": {},
     "output_type": "display_data"
    },
    {
     "data": {
      "image/png": "[encoded data removed]",
      "text/plain": [
       "<Figure size 640x480 with 1 Axes>"
      ]
     },
     "metadata": {},
     "output_type": "display_data"
    }
   ],
   "source": [
    "df.groupby(basics_columns[2])[price_column].mean().sort_values(price_column,ascending=False).head(10).plot.bar(stacked=True)\n",
    "plt.savefig('price_basics_mean.png')\n",
    "df.groupby(basics_columns[2])[price_column].var().sort_values(price_column,ascending=False).head(10).plot.bar(stacked=True)\n",
    "plt.savefig('price_basics_var.png')"
   ]
  },
  {
   "attachments": {},
   "cell_type": "markdown",
   "metadata": {},
   "source": [
    "## 针对propulsion进行处理"
   ]
  },
  {
   "cell_type": "code",
   "execution_count": 22,
   "metadata": {},
   "outputs": [
    {
     "data": {
      "text/plain": [
       "(['Propulsion.EngineMake',\n",
       "  'Propulsion.TotalPower',\n",
       "  'Propulsion.EngineType',\n",
       "  'Propulsion.FuelType',\n",
       "  'Propulsion.EngineModel',\n",
       "  'Propulsion.EngineYear',\n",
       "  'Propulsion.EngineHours',\n",
       "  'Propulsion.DriveType',\n",
       "  'Propulsion.PropellerType',\n",
       "  'Propulsion.PropellerMaterial',\n",
       "  'Propulsion.FoldingPropeller',\n",
       "  'Propulsion.RopeCutter'],\n",
       " [str, float, str, str, str, float, float, str, int, str, int, int])"
      ]
     },
     "execution_count": 22,
     "metadata": {},
     "output_type": "execute_result"
    }
   ],
   "source": [
    "should_be = ['定类', '定比', '定类', '定类', '定类', '定距', '定比', '定类', '定序', '定类', '定序', '定序']\n",
    "should_be = list(map(lambda x: appropriate_types[x], should_be))\n",
    "assert len(propulsion_columns) == len(should_be)\n",
    "propulsion_columns, should_be"
   ]
  },
  {
   "cell_type": "code",
   "execution_count": null,
   "metadata": {},
   "outputs": [
    {
     "data": {
      "text/plain": [
       "0    57.0\n",
       "1    57.0\n",
       "Name: Propulsion.TotalPower, dtype: float64"
      ]
     },
     "execution_count": 47,
     "metadata": {},
     "output_type": "execute_result"
    }
   ],
   "source": [
    "def tran(x):\n",
    "    if isinstance(x, float):\n",
    "        return np.nan\n",
    "    assert x.endswith('hp')\n",
    "    return float(x[:-2])\n",
    "df['Propulsion.TotalPower'] = df['Propulsion.TotalPower'].apply(tran).astype(float)\n",
    "df['Propulsion.TotalPower'].head(2)"
   ]
  },
  {
   "cell_type": "code",
   "execution_count": null,
   "metadata": {},
   "outputs": [
    {
     "data": {
      "text/html": [
       "<div>\n",
       "<style scoped>\n",
       "    .dataframe tbody tr th:only-of-type {\n",
       "        vertical-align: middle;\n",
       "    }\n",
       "\n",
       "    .dataframe tbody tr th {\n",
       "        vertical-align: top;\n",
       "    }\n",
       "\n",
       "    .dataframe thead th {\n",
       "        text-align: right;\n",
       "    }\n",
       "</style>\n",
       "<table border=\"1\" class=\"dataframe\">\n",
       "  <thead>\n",
       "    <tr style=\"text-align: right;\">\n",
       "      <th></th>\n",
       "      <th>Propulsion.EngineMake</th>\n",
       "      <th>Propulsion.TotalPower</th>\n",
       "      <th>Propulsion.EngineType</th>\n",
       "      <th>Propulsion.FuelType</th>\n",
       "      <th>Propulsion.EngineModel</th>\n",
       "      <th>Propulsion.EngineYear</th>\n",
       "      <th>Propulsion.EngineHours</th>\n",
       "      <th>Propulsion.DriveType</th>\n",
       "      <th>Propulsion.PropellerType</th>\n",
       "      <th>Propulsion.PropellerMaterial</th>\n",
       "      <th>Propulsion.FoldingPropeller</th>\n",
       "      <th>Propulsion.RopeCutter</th>\n",
       "    </tr>\n",
       "  </thead>\n",
       "  <tbody>\n",
       "    <tr>\n",
       "      <th>0</th>\n",
       "      <td>yanmar</td>\n",
       "      <td>57.0</td>\n",
       "      <td>Inboard</td>\n",
       "      <td>Diesel</td>\n",
       "      <td>NaN</td>\n",
       "      <td>NaN</td>\n",
       "      <td>NaN</td>\n",
       "      <td>NaN</td>\n",
       "      <td>NaN</td>\n",
       "      <td>NaN</td>\n",
       "      <td>NaN</td>\n",
       "      <td>NaN</td>\n",
       "    </tr>\n",
       "    <tr>\n",
       "      <th>1</th>\n",
       "      <td>Yanmar</td>\n",
       "      <td>57.0</td>\n",
       "      <td>Inboard</td>\n",
       "      <td>Diesel</td>\n",
       "      <td>4JH57CR</td>\n",
       "      <td>2022.0</td>\n",
       "      <td>2.0</td>\n",
       "      <td>Direct Drive</td>\n",
       "      <td>3 Blade</td>\n",
       "      <td>NaN</td>\n",
       "      <td>NaN</td>\n",
       "      <td>NaN</td>\n",
       "    </tr>\n",
       "    <tr>\n",
       "      <th>2</th>\n",
       "      <td>Yanmar</td>\n",
       "      <td>80.0</td>\n",
       "      <td>Inboard</td>\n",
       "      <td>Diesel</td>\n",
       "      <td>4JH80CR</td>\n",
       "      <td>2022.0</td>\n",
       "      <td>10.0</td>\n",
       "      <td>Sail Drive</td>\n",
       "      <td>3 Blade</td>\n",
       "      <td>NaN</td>\n",
       "      <td>NaN</td>\n",
       "      <td>NaN</td>\n",
       "    </tr>\n",
       "    <tr>\n",
       "      <th>3</th>\n",
       "      <td>Yanmar</td>\n",
       "      <td>150.0</td>\n",
       "      <td>Inboard</td>\n",
       "      <td>Diesel</td>\n",
       "      <td>LA 4LV150CR</td>\n",
       "      <td>2022.0</td>\n",
       "      <td>2.0</td>\n",
       "      <td>Direct Drive</td>\n",
       "      <td>3 Blade</td>\n",
       "      <td>Bronze</td>\n",
       "      <td>NaN</td>\n",
       "      <td>NaN</td>\n",
       "    </tr>\n",
       "    <tr>\n",
       "      <th>4</th>\n",
       "      <td>Volvo</td>\n",
       "      <td>180.0</td>\n",
       "      <td>Inboard</td>\n",
       "      <td>Diesel</td>\n",
       "      <td>D4</td>\n",
       "      <td>2022.0</td>\n",
       "      <td>NaN</td>\n",
       "      <td>Direct Drive</td>\n",
       "      <td>3 Blade</td>\n",
       "      <td>Bronze</td>\n",
       "      <td>✓</td>\n",
       "      <td>NaN</td>\n",
       "    </tr>\n",
       "  </tbody>\n",
       "</table>\n",
       "</div>"
      ],
      "text/plain": [
       "  Propulsion.EngineMake  Propulsion.TotalPower Propulsion.EngineType  \\\n",
       "0                yanmar                   57.0               Inboard   \n",
       "1                Yanmar                   57.0               Inboard   \n",
       "2                Yanmar                   80.0               Inboard   \n",
       "3                Yanmar                  150.0               Inboard   \n",
       "4                 Volvo                  180.0               Inboard   \n",
       "\n",
       "  Propulsion.FuelType Propulsion.EngineModel  Propulsion.EngineYear  \\\n",
       "0              Diesel                    NaN                    NaN   \n",
       "1              Diesel                4JH57CR                 2022.0   \n",
       "2              Diesel                4JH80CR                 2022.0   \n",
       "3              Diesel            LA 4LV150CR                 2022.0   \n",
       "4              Diesel                     D4                 2022.0   \n",
       "\n",
       "   Propulsion.EngineHours Propulsion.DriveType Propulsion.PropellerType  \\\n",
       "0                     NaN                  NaN                      NaN   \n",
       "1                     2.0         Direct Drive                  3 Blade   \n",
       "2                    10.0           Sail Drive                  3 Blade   \n",
       "3                     2.0         Direct Drive                  3 Blade   \n",
       "4                     NaN         Direct Drive                  3 Blade   \n",
       "\n",
       "  Propulsion.PropellerMaterial Propulsion.FoldingPropeller  \\\n",
       "0                          NaN                         NaN   \n",
       "1                          NaN                         NaN   \n",
       "2                          NaN                         NaN   \n",
       "3                       Bronze                         NaN   \n",
       "4                       Bronze                           ✓   \n",
       "\n",
       "  Propulsion.RopeCutter  \n",
       "0                   NaN  \n",
       "1                   NaN  \n",
       "2                   NaN  \n",
       "3                   NaN  \n",
       "4                   NaN  "
      ]
     },
     "execution_count": 48,
     "metadata": {},
     "output_type": "execute_result"
    }
   ],
   "source": [
    "df[propulsion_columns].head()"
   ]
  },
  {
   "cell_type": "code",
   "execution_count": 16,
   "metadata": {},
   "outputs": [
    {
     "data": {
      "text/plain": [
       "0      NaN\n",
       "1      NaN\n",
       "2      NaN\n",
       "3      NaN\n",
       "4      NaN\n",
       "        ..\n",
       "2183   NaN\n",
       "2184   NaN\n",
       "2185   NaN\n",
       "2186   NaN\n",
       "2187   NaN\n",
       "Name: Propulsion.PropellerType, Length: 2188, dtype: float64"
      ]
     },
     "execution_count": 16,
     "metadata": {},
     "output_type": "execute_result"
    }
   ],
   "source": [
    "def tran(x):\n",
    "    if isinstance(x, float):\n",
    "        return np.nan\n",
    "    if x.endswith(' blades'):\n",
    "        return x[:-7]\n",
    "    if 'folding' in x:\n",
    "        return np.nan\n",
    "    return np.nan\n",
    "col = 'Propulsion.PropellerType'\n",
    "df[col].head()\n",
    "tran('2 blades')\n",
    "df[col].map(tran)"
   ]
  },
  {
   "cell_type": "code",
   "execution_count": null,
   "metadata": {},
   "outputs": [
    {
     "data": {
      "text/plain": [
       "0   NaN\n",
       "1   NaN\n",
       "2   NaN\n",
       "3   NaN\n",
       "4   NaN\n",
       "Name: Propulsion.PropellerType, dtype: float64"
      ]
     },
     "execution_count": 28,
     "metadata": {},
     "output_type": "execute_result"
    }
   ],
   "source": [
    "df[col] = df[col].map(tran)\n",
    "# 定序类型的数据，应当使用中位数填充\n",
    "# df[col] = df[col].fillna(df[col].median(), inplace=True) \n",
    "df[col].head(5)"
   ]
  },
  {
   "cell_type": "code",
   "execution_count": 23,
   "metadata": {},
   "outputs": [
    {
     "data": {
      "text/plain": [
       "Propulsion.EngineMake           2188\n",
       "Propulsion.TotalPower           2188\n",
       "Propulsion.EngineType           2188\n",
       "Propulsion.FuelType             2188\n",
       "Propulsion.EngineModel          2188\n",
       "Propulsion.EngineYear           2188\n",
       "Propulsion.EngineHours          2188\n",
       "Propulsion.DriveType            2188\n",
       "Propulsion.PropellerType        2188\n",
       "Propulsion.PropellerMaterial    2188\n",
       "Propulsion.FoldingPropeller     2188\n",
       "Propulsion.RopeCutter           2188\n",
       "dtype: int64"
      ]
     },
     "execution_count": 23,
     "metadata": {},
     "output_type": "execute_result"
    }
   ],
   "source": [
    "df[propulsion_columns].dtypes\n",
    "df[propulsion_columns].isnull().count()"
   ]
  },
  {
   "cell_type": "code",
   "execution_count": null,
   "metadata": {},
   "outputs": [],
   "source": []
  }
 ],
 "metadata": {
  "kernelspec": {
   "display_name": "ai",
   "language": "python",
   "name": "python3"
  },
  "language_info": {
   "codemirror_mode": {
    "name": "ipython",
    "version": 3
   },
   "file_extension": ".py",
   "mimetype": "text/x-python",
   "name": "python",
   "nbconvert_exporter": "python",
   "pygments_lexer": "ipython3",
   "version": "3.10.9"
  },
  "orig_nbformat": 4
 },
 "nbformat": 4,
 "nbformat_minor": 2
}
