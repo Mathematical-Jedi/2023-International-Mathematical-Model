{
 "cells": [
  {
   "cell_type": "code",
   "execution_count": 1,
   "metadata": {},
   "outputs": [],
   "source": [
    "import pandas as pd\n",
    "import numpy as np\n",
    "import seaborn as sns\n",
    "from matplotlib import pyplot as plt\n",
    "from scipy.stats import ks_2samp\n",
    "from scipy.stats import pearsonr\n",
    "import plotly.figure_factory as ff\n",
    "# from plotnine import *\n",
    "# from pyecharts.charts import Map\n",
    "# from pyecharts import options\n",
    "%matplotlib inline\n"
   ]
  },
  {
   "cell_type": "code",
   "execution_count": 2,
   "metadata": {},
   "outputs": [],
   "source": [
    "# plt.style.use('fivethirtyeight')\n",
    "plt.style.use('ggplot')"
   ]
  },
  {
   "cell_type": "code",
   "execution_count": 3,
   "metadata": {},
   "outputs": [],
   "source": [
    "# df = pd.read_excel('../../data/爬取的数据.xlsx', sheet_name='非二手帆船')\n",
    "df = pd.read_excel('../../data/爬取的数据_copy.xlsx', sheet_name='非二手帆船')\n",
    "# df.head(1)"
   ]
  },
  {
   "cell_type": "code",
   "execution_count": 4,
   "metadata": {},
   "outputs": [
    {
     "name": "stdout",
     "output_type": "stream",
     "text": [
      "<class 'pandas.core.frame.DataFrame'>\n",
      "RangeIndex: 2183 entries, 0 to 2182\n",
      "Columns: 121 entries, Basics.Year to Features.AdditionalEquipment.BeachingLegs\n",
      "dtypes: float64(26), int64(1), object(94)\n",
      "memory usage: 2.0+ MB\n"
     ]
    }
   ],
   "source": [
    "df.info() # 有113个 object需要处理。  一共2188个条目。"
   ]
  },
  {
   "cell_type": "code",
   "execution_count": 5,
   "metadata": {},
   "outputs": [
    {
     "data": {
      "text/html": [
       "<div>\n",
       "<style scoped>\n",
       "    .dataframe tbody tr th:only-of-type {\n",
       "        vertical-align: middle;\n",
       "    }\n",
       "\n",
       "    .dataframe tbody tr th {\n",
       "        vertical-align: top;\n",
       "    }\n",
       "\n",
       "    .dataframe thead th {\n",
       "        text-align: right;\n",
       "    }\n",
       "</style>\n",
       "<table border=\"1\" class=\"dataframe\">\n",
       "  <thead>\n",
       "    <tr style=\"text-align: right;\">\n",
       "      <th></th>\n",
       "      <th>Price</th>\n",
       "    </tr>\n",
       "  </thead>\n",
       "  <tbody>\n",
       "    <tr>\n",
       "      <th>count</th>\n",
       "      <td>1.159000e+03</td>\n",
       "    </tr>\n",
       "    <tr>\n",
       "      <th>mean</th>\n",
       "      <td>7.111538e+05</td>\n",
       "    </tr>\n",
       "    <tr>\n",
       "      <th>std</th>\n",
       "      <td>1.509767e+06</td>\n",
       "    </tr>\n",
       "    <tr>\n",
       "      <th>min</th>\n",
       "      <td>2.144000e+03</td>\n",
       "    </tr>\n",
       "    <tr>\n",
       "      <th>25%</th>\n",
       "      <td>1.412770e+05</td>\n",
       "    </tr>\n",
       "    <tr>\n",
       "      <th>50%</th>\n",
       "      <td>3.642360e+05</td>\n",
       "    </tr>\n",
       "    <tr>\n",
       "      <th>75%</th>\n",
       "      <td>6.882155e+05</td>\n",
       "    </tr>\n",
       "    <tr>\n",
       "      <th>max</th>\n",
       "      <td>2.450000e+07</td>\n",
       "    </tr>\n",
       "  </tbody>\n",
       "</table>\n",
       "</div>"
      ],
      "text/plain": [
       "              Price\n",
       "count  1.159000e+03\n",
       "mean   7.111538e+05\n",
       "std    1.509767e+06\n",
       "min    2.144000e+03\n",
       "25%    1.412770e+05\n",
       "50%    3.642360e+05\n",
       "75%    6.882155e+05\n",
       "max    2.450000e+07"
      ]
     },
     "execution_count": 5,
     "metadata": {},
     "output_type": "execute_result"
    }
   ],
   "source": [
    "df.columns # 太多了，分开处理 124\n",
    "basics_columns = list(filter(lambda x:x.startswith('Basics'), df.columns))\n",
    "propulsion_columns = list(filter(lambda x:x.startswith('Propulsion'), df.columns))\n",
    "specification_columns = list(filter(lambda x:x.startswith('Specification'), df.columns))\n",
    "feature_columns = list(filter(lambda x:x.startswith('Feature'), df.columns))\n",
    "\n",
    "list(map(len, (basics_columns, propulsion_columns, specification_columns, feature_columns)))\n",
    "price_column = ['Price']\n",
    "df[price_column].describe()"
   ]
  },
  {
   "attachments": {},
   "cell_type": "markdown",
   "metadata": {},
   "source": [
    "## 针对 Basics进行处理"
   ]
  },
  {
   "cell_type": "code",
   "execution_count": 6,
   "metadata": {},
   "outputs": [],
   "source": [
    "appropriate_types = {'定类':str, '定序':int, '定距':float, '定比':float}\n",
    "appropriate_operation = {'定类':'mode', '定序':'median', '定距':'mean', '定比':'mean'}"
   ]
  },
  {
   "cell_type": "code",
   "execution_count": 7,
   "metadata": {},
   "outputs": [
    {
     "data": {
      "text/plain": [
       "(['Basics.Year',\n",
       "  'Basics.Make',\n",
       "  'Basics.Model',\n",
       "  'Basics.Class',\n",
       "  'Basics.Length (ft)',\n",
       "  'Basics.FuelType',\n",
       "  'Basics.HullMaterial',\n",
       "  'Basics.OfferedBy',\n",
       "  'Basics.HullShape',\n",
       "  'Basics.HullWarranty (years)'],\n",
       " [float, str, str, str, float, str, str, str, str, float])"
      ]
     },
     "execution_count": 7,
     "metadata": {},
     "output_type": "execute_result"
    }
   ],
   "source": [
    "should_be = ['定距', '定类', '定类', '定类', '定比', '定类', '定类', '定类', '定类', '定比']\n",
    "should_be = list(map(lambda x: appropriate_types[x], should_be))\n",
    "basics_columns, should_be"
   ]
  },
  {
   "cell_type": "code",
   "execution_count": 8,
   "metadata": {},
   "outputs": [],
   "source": [
    "# def len_tran(x):\n",
    "#     assert x.endswith('ft')\n",
    "#     return float(x[:-2])\n",
    "# df['Basics.Length (ft)'] = df['Basics.Length'].map(len_tran)"
   ]
  },
  {
   "cell_type": "code",
   "execution_count": 9,
   "metadata": {},
   "outputs": [
    {
     "data": {
      "text/html": [
       "<div>\n",
       "<style scoped>\n",
       "    .dataframe tbody tr th:only-of-type {\n",
       "        vertical-align: middle;\n",
       "    }\n",
       "\n",
       "    .dataframe tbody tr th {\n",
       "        vertical-align: top;\n",
       "    }\n",
       "\n",
       "    .dataframe thead th {\n",
       "        text-align: right;\n",
       "    }\n",
       "</style>\n",
       "<table border=\"1\" class=\"dataframe\">\n",
       "  <thead>\n",
       "    <tr style=\"text-align: right;\">\n",
       "      <th></th>\n",
       "      <th>Basics.Length (ft)</th>\n",
       "      <th>Basics.HullWarranty (years)</th>\n",
       "    </tr>\n",
       "  </thead>\n",
       "  <tbody>\n",
       "    <tr>\n",
       "      <th>2178</th>\n",
       "      <td>55.12</td>\n",
       "      <td>NaN</td>\n",
       "    </tr>\n",
       "    <tr>\n",
       "      <th>2179</th>\n",
       "      <td>42.65</td>\n",
       "      <td>1 year</td>\n",
       "    </tr>\n",
       "    <tr>\n",
       "      <th>2180</th>\n",
       "      <td>85.00</td>\n",
       "      <td>NaN</td>\n",
       "    </tr>\n",
       "    <tr>\n",
       "      <th>2181</th>\n",
       "      <td>39.99</td>\n",
       "      <td>NaN</td>\n",
       "    </tr>\n",
       "    <tr>\n",
       "      <th>2182</th>\n",
       "      <td>40.03</td>\n",
       "      <td>NaN</td>\n",
       "    </tr>\n",
       "  </tbody>\n",
       "</table>\n",
       "</div>"
      ],
      "text/plain": [
       "      Basics.Length (ft) Basics.HullWarranty (years)\n",
       "2178               55.12                         NaN\n",
       "2179               42.65                      1 year\n",
       "2180               85.00                         NaN\n",
       "2181               39.99                         NaN\n",
       "2182               40.03                         NaN"
      ]
     },
     "execution_count": 9,
     "metadata": {},
     "output_type": "execute_result"
    }
   ],
   "source": [
    "df[['Basics.Length (ft)', 'Basics.HullWarranty (years)']].tail()"
   ]
  },
  {
   "cell_type": "code",
   "execution_count": 10,
   "metadata": {},
   "outputs": [
    {
     "data": {
      "text/plain": [
       "'1'"
      ]
     },
     "execution_count": 10,
     "metadata": {},
     "output_type": "execute_result"
    }
   ],
   "source": [
    "'1'.split(' ')[0]\n",
    "'1 year'.split(' ')[0]\n",
    "'1 years'.split(' ')[0]"
   ]
  },
  {
   "cell_type": "code",
   "execution_count": 8,
   "metadata": {},
   "outputs": [],
   "source": [
    "def war_tran(x):\n",
    "    x = str(x)\n",
    "    if x=='nan':\n",
    "        # return x\n",
    "        return 0 # 用0填充保险值。\n",
    "    num = x.split(' ')[0]\n",
    "    return float(num)\n",
    "df['Basics.HullWarranty (years)'] = df['Basics.HullWarranty (years)'].map(war_tran)\n",
    "# df['Basics.HullWarranty (years)'].fillna(0, inplace=True)"
   ]
  },
  {
   "cell_type": "code",
   "execution_count": 9,
   "metadata": {},
   "outputs": [
    {
     "data": {
      "text/plain": [
       "Basics.Model     Basics.FuelType  Basics.HullShape\n",
       "460              Diesel           Monohull            13\n",
       "Sun Odyssey 410  Diesel           Monohull            12\n",
       "385              Diesel           Monohull             9\n",
       "CATSPACE         Diesel           Monohull             9\n",
       "Oceanis 34.1     Diesel           Catamaran            8\n",
       "                                                      ..\n",
       "6 Metre          Diesel           Monohull             1\n",
       "57               Diesel           Catamaran            1\n",
       "560              Diesel           Monohull             1\n",
       "56 Exclusive     Diesel           Monohull             1\n",
       "x4.0             Diesel           Catamaran            1\n",
       "Length: 414, dtype: int64"
      ]
     },
     "execution_count": 9,
     "metadata": {},
     "output_type": "execute_result"
    }
   ],
   "source": [
    "df[['Basics.Model', 'Basics.FuelType', 'Basics.HullShape']].value_counts()"
   ]
  },
  {
   "cell_type": "code",
   "execution_count": 10,
   "metadata": {},
   "outputs": [],
   "source": [
    "# df[df['Basics.Model'].isnull()]\n",
    "# df['Basics.Model'] = df['Basics.Model'].dropna()\n",
    "df = df.dropna(subset=['Basics.Model']) # dropna是一个整体操作"
   ]
  },
  {
   "cell_type": "code",
   "execution_count": 11,
   "metadata": {},
   "outputs": [],
   "source": [
    "df['Make-Model'] = df['Basics.Make'] + '-' + df['Basics.Model']\n",
    "# group = df.groupby(['Basics.Make', 'Basics.Model'])\n",
    "\n",
    "grouper = 'Make-Model'\n",
    "group = df.groupby(grouper)\n"
   ]
  },
  {
   "cell_type": "code",
   "execution_count": 12,
   "metadata": {},
   "outputs": [],
   "source": [
    "datalen = []\n",
    "for k, v in group:\n",
    "    # print(k)\n",
    "    # print(len(v))\n",
    "    datalen.append(len(v))\n",
    "    # print(v['Basics.HullShape'].value_counts())\n",
    "    # print()\n",
    "# plt.hist(datalen, bins=30)"
   ]
  },
  {
   "cell_type": "code",
   "execution_count": 13,
   "metadata": {},
   "outputs": [
    {
     "data": {
      "image/png": "[encoded data removed]",
      "text/plain": [
       "<Figure size 640x480 with 1 Axes>"
      ]
     },
     "metadata": {},
     "output_type": "display_data"
    }
   ],
   "source": [
    "pd.Series(datalen).astype(str).value_counts().plot.pie()\n",
    "\n",
    "plt.savefig('make-model.png')"
   ]
  },
  {
   "cell_type": "code",
   "execution_count": 14,
   "metadata": {},
   "outputs": [
    {
     "data": {
      "text/html": [
       "<div>\n",
       "<style scoped>\n",
       "    .dataframe tbody tr th:only-of-type {\n",
       "        vertical-align: middle;\n",
       "    }\n",
       "\n",
       "    .dataframe tbody tr th {\n",
       "        vertical-align: top;\n",
       "    }\n",
       "\n",
       "    .dataframe thead th {\n",
       "        text-align: right;\n",
       "    }\n",
       "</style>\n",
       "<table border=\"1\" class=\"dataframe\">\n",
       "  <thead>\n",
       "    <tr style=\"text-align: right;\">\n",
       "      <th></th>\n",
       "      <th>Basics.FuelType</th>\n",
       "      <th>Basics.HullShape</th>\n",
       "    </tr>\n",
       "  </thead>\n",
       "  <tbody>\n",
       "    <tr>\n",
       "      <th>0</th>\n",
       "      <td>Diesel</td>\n",
       "      <td>Monohull</td>\n",
       "    </tr>\n",
       "  </tbody>\n",
       "</table>\n",
       "</div>"
      ],
      "text/plain": [
       "  Basics.FuelType Basics.HullShape\n",
       "0          Diesel         Monohull"
      ]
     },
     "execution_count": 14,
     "metadata": {},
     "output_type": "execute_result"
    }
   ],
   "source": [
    "cols = ['Basics.FuelType', 'Basics.HullShape'] # 要填充的列\n",
    "# group_mode = group[cols].agg(lambda x:{x.name: x.mode()} if not  x.isna().sum()==len(x) else None) # 用众数填充\n",
    "group_mode = group[cols].agg(lambda x:x.mode().sample(frac=1).to_numpy()[0] if not  x.isna().sum()==len(x) else None) # 用众数填充\n",
    "# group_mode = group[cols].mode()\n",
    "group_mode\n",
    "full_mode = df[cols].mode() # 用全局众数填充\n",
    "full_mode\n"
   ]
  },
  {
   "cell_type": "code",
   "execution_count": 15,
   "metadata": {},
   "outputs": [
    {
     "data": {
      "text/plain": [
       "'Diesel'"
      ]
     },
     "execution_count": 15,
     "metadata": {},
     "output_type": "execute_result"
    }
   ],
   "source": [
    "# a = group_mode.to_numpy()\n",
    "# d = {k:v for }\n",
    "group_mode.loc['A-Yachts-A-33', 'Basics.FuelType']"
   ]
  },
  {
   "cell_type": "code",
   "execution_count": 16,
   "metadata": {},
   "outputs": [],
   "source": [
    "def fill_each_row(x, col):\n",
    "    # print(x[0] if pd.isna(x[0]) else None)\n",
    "    return group_mode.loc[x[0], col] if pd.isna(x[1]) else x[1]\n",
    "    \n",
    "for col in ['Basics.FuelType', 'Basics.HullShape']:\n",
    "    df[col] = df[['Make-Model', col]].apply(lambda x:fill_each_row(x, col), axis=1)\n",
    "    df[col] = df[col].fillna(df[col].mode()[0])"
   ]
  },
  {
   "cell_type": "code",
   "execution_count": 20,
   "metadata": {},
   "outputs": [],
   "source": [
    "# for k, v in group:\n",
    "#     if len(v)>=5:\n",
    "#         # 使用组内操作\n",
    "#         for col in cols:\n",
    "#             # df[col] = df[col].fillna(df[col].mode())\n",
    "#             v[col].fillna(v[col].mode(), inplace=True)\n",
    "#     else:\n",
    "#         # 使用整个列表的填充\n",
    "#         for col in cols:\n",
    "#             # df[col] = df[col].fillna(df[col].mode())\n",
    "#             v[col].fillna(df[col].mode(), inplace=True)\n",
    "# # if df[col].isnull().sum()==len(v):\n",
    "            # #     raise\n",
    "            # # df[col] = df[col].fillna(v[col].mode())\n",
    "            # v[col].fillna(v[col].mode(), inplace=True)\n",
    "            # 想把v内缺失的值填充为组内的众数，但是为什么没能修改原来的df呢？\n",
    "            # v[col] = v[col].fillna(v[col].mode())"
   ]
  },
  {
   "cell_type": "code",
   "execution_count": 17,
   "metadata": {},
   "outputs": [
    {
     "data": {
      "text/html": [
       "<div>\n",
       "<style scoped>\n",
       "    .dataframe tbody tr th:only-of-type {\n",
       "        vertical-align: middle;\n",
       "    }\n",
       "\n",
       "    .dataframe tbody tr th {\n",
       "        vertical-align: top;\n",
       "    }\n",
       "\n",
       "    .dataframe thead th {\n",
       "        text-align: right;\n",
       "    }\n",
       "</style>\n",
       "<table border=\"1\" class=\"dataframe\">\n",
       "  <thead>\n",
       "    <tr style=\"text-align: right;\">\n",
       "      <th></th>\n",
       "      <th>Basics.Model</th>\n",
       "      <th>Basics.FuelType</th>\n",
       "      <th>Basics.HullShape</th>\n",
       "    </tr>\n",
       "  </thead>\n",
       "  <tbody>\n",
       "    <tr>\n",
       "      <th>count</th>\n",
       "      <td>2183</td>\n",
       "      <td>2183</td>\n",
       "      <td>2183</td>\n",
       "    </tr>\n",
       "    <tr>\n",
       "      <th>unique</th>\n",
       "      <td>906</td>\n",
       "      <td>5</td>\n",
       "      <td>9</td>\n",
       "    </tr>\n",
       "    <tr>\n",
       "      <th>top</th>\n",
       "      <td>Oceanis 40.1</td>\n",
       "      <td>Diesel</td>\n",
       "      <td>Monohull</td>\n",
       "    </tr>\n",
       "    <tr>\n",
       "      <th>freq</th>\n",
       "      <td>28</td>\n",
       "      <td>1962</td>\n",
       "      <td>1664</td>\n",
       "    </tr>\n",
       "  </tbody>\n",
       "</table>\n",
       "</div>"
      ],
      "text/plain": [
       "        Basics.Model Basics.FuelType Basics.HullShape\n",
       "count           2183            2183             2183\n",
       "unique           906               5                9\n",
       "top     Oceanis 40.1          Diesel         Monohull\n",
       "freq              28            1962             1664"
      ]
     },
     "execution_count": 17,
     "metadata": {},
     "output_type": "execute_result"
    }
   ],
   "source": [
    "# df[['Basics.Model', 'Basics.FuelType', 'Basics.HullShape']].tail()\n",
    "df[['Basics.Model', 'Basics.FuelType', 'Basics.HullShape']].describe()"
   ]
  },
  {
   "cell_type": "code",
   "execution_count": 18,
   "metadata": {},
   "outputs": [
    {
     "data": {
      "text/plain": [
       "Basics.Year                    0\n",
       "Basics.Make                    0\n",
       "Basics.Model                   0\n",
       "Basics.Class                   0\n",
       "Basics.Length (ft)             0\n",
       "Basics.FuelType                0\n",
       "Basics.HullMaterial            0\n",
       "Basics.OfferedBy               0\n",
       "Basics.HullShape               0\n",
       "Basics.HullWarranty (years)    0\n",
       "dtype: int64"
      ]
     },
     "execution_count": 18,
     "metadata": {},
     "output_type": "execute_result"
    }
   ],
   "source": [
    "df[basics_columns].isnull().sum()"
   ]
  },
  {
   "cell_type": "code",
   "execution_count": 19,
   "metadata": {},
   "outputs": [],
   "source": [
    "for col, typ in zip(basics_columns, should_be):\n",
    "    df[col] = df[col].astype(typ)"
   ]
  },
  {
   "cell_type": "code",
   "execution_count": 20,
   "metadata": {},
   "outputs": [
    {
     "data": {
      "text/plain": [
       "Basics.Year                    float64\n",
       "Basics.Make                     object\n",
       "Basics.Model                    object\n",
       "Basics.Class                    object\n",
       "Basics.Length (ft)             float64\n",
       "Basics.FuelType                 object\n",
       "Basics.HullMaterial             object\n",
       "Basics.OfferedBy                object\n",
       "Basics.HullShape                object\n",
       "Basics.HullWarranty (years)    float64\n",
       "dtype: object"
      ]
     },
     "execution_count": 20,
     "metadata": {},
     "output_type": "execute_result"
    }
   ],
   "source": [
    "df[basics_columns].dtypes"
   ]
  },
  {
   "cell_type": "code",
   "execution_count": 22,
   "metadata": {},
   "outputs": [
    {
     "name": "stdout",
     "output_type": "stream",
     "text": [
      "      Basics.Year            Basics.Make    Basics.Model    Basics.Class  \\\n",
      "0          2000.0                  Adams              40           Sloop   \n",
      "1          1987.0                Admiral              40   Racer/Cruiser   \n",
      "2          2022.0              Aeroyacht              85   Racer/Cruiser   \n",
      "3          2000.0           African Cats    GreenCat 445   Racer/Cruiser   \n",
      "4          2023.0               Alliaura      Feeling 55   Racer/Cruiser   \n",
      "...           ...                    ...             ...             ...   \n",
      "2178       2008.0               X-Yachts           Xp 50  Centre Cockpit   \n",
      "2179       2015.0               X-Yachts           Xp 50       Catamaran   \n",
      "2180       2024.0               X-Yachts            xp44      Multi-Hull   \n",
      "2181       2023.0               X-Yachts            XP50         Cruiser   \n",
      "2182       1991.0  Yachting Developments  LUCA BRENTA 74       Catamaran   \n",
      "\n",
      "      Basics.Length (ft) Basics.FuelType Basics.HullMaterial  \\\n",
      "0                  74.15          Diesel          Fiberglass   \n",
      "1                  37.00          Diesel          Fiberglass   \n",
      "2                  43.42          Diesel          Fiberglass   \n",
      "3                  42.00          Diesel          Fiberglass   \n",
      "4                  44.00          Diesel          Fiberglass   \n",
      "...                  ...             ...                 ...   \n",
      "2178               55.12          Diesel          Fiberglass   \n",
      "2179               42.65        Electric           Composite   \n",
      "2180               85.00          Diesel           Composite   \n",
      "2181               39.99          Diesel               Other   \n",
      "2182               40.03          Diesel               Steel   \n",
      "\n",
      "                                       Basics.OfferedBy Propulsion.EngineMake  \\\n",
      "0                Arne Schmidt Yachts International GmbH                Yanmar   \n",
      "1                               Fraser Yacht Sales Ltd.                 Volvo   \n",
      "2                               Rodgers Yacht Sales LLC                Yanmar   \n",
      "3                                  Forbes Horton Yachts                Yanmar   \n",
      "4                                  Forbes Horton Yachts                   NaN   \n",
      "...                                                 ...                   ...   \n",
      "2178  Sunbird International Yacht Sales - Sunbird Ma...                YANMAR   \n",
      "2179                                  African Cats B.V.          Green-Motion   \n",
      "2180                                     Aeroyacht Ltd.                   NaN   \n",
      "2181                              Boatshed South Africa          Yanmar 3YM30   \n",
      "2182                                The Yacht Sales Co.                Yanmar   \n",
      "\n",
      "      Propulsion.TotalPower (hp)  ... Features.InsideEquipment.Seakeeper  \\\n",
      "0                         230.00  ...                                NaN   \n",
      "1                          30.00  ...                                NaN   \n",
      "2                          45.00  ...                                NaN   \n",
      "3                          43.00  ...                                NaN   \n",
      "4                            NaN  ...                                NaN   \n",
      "...                          ...  ...                                ...   \n",
      "2178                       75.00  ...                                NaN   \n",
      "2179                       13.41  ...                                NaN   \n",
      "2180                         NaN  ...                                NaN   \n",
      "2181                         NaN  ...                                NaN   \n",
      "2182                       54.00  ...                                NaN   \n",
      "\n",
      "     Features.InsideEquipment.AirCompressor  \\\n",
      "0                                       NaN   \n",
      "1                                       NaN   \n",
      "2                                       NaN   \n",
      "3                                       NaN   \n",
      "4                                       NaN   \n",
      "...                                     ...   \n",
      "2178                                    NaN   \n",
      "2179                                    NaN   \n",
      "2180                                    NaN   \n",
      "2181                                    NaN   \n",
      "2182                                    NaN   \n",
      "\n",
      "      Features.InsideEquipment.ChemicalHead  \\\n",
      "0                                       NaN   \n",
      "1                                       NaN   \n",
      "2                                       NaN   \n",
      "3                                       NaN   \n",
      "4                                       NaN   \n",
      "...                                     ...   \n",
      "2178                                    NaN   \n",
      "2179                                    NaN   \n",
      "2180                                    NaN   \n",
      "2181                                    NaN   \n",
      "2182                                    NaN   \n",
      "\n",
      "      Specifications.Miscellaneous.LiferaftCapacity  \\\n",
      "0                                               NaN   \n",
      "1                                               NaN   \n",
      "2                                               NaN   \n",
      "3                                               NaN   \n",
      "4                                               NaN   \n",
      "...                                             ...   \n",
      "2178                                            NaN   \n",
      "2179                                            6.0   \n",
      "2180                                            NaN   \n",
      "2181                                            NaN   \n",
      "2182                                            NaN   \n",
      "\n",
      "      Features.Rigging.HydraulicWinch  Propulsion.RopeCutter  \\\n",
      "0                                 NaN                    NaN   \n",
      "1                                 NaN                    NaN   \n",
      "2                                 NaN                    NaN   \n",
      "3                                 NaN                    NaN   \n",
      "4                                 NaN                    NaN   \n",
      "...                               ...                    ...   \n",
      "2178                              NaN                    NaN   \n",
      "2179                              NaN                    NaN   \n",
      "2180                              NaN                    NaN   \n",
      "2181                              NaN                    NaN   \n",
      "2182                              NaN                    NaN   \n",
      "\n",
      "      Specifications.Miscellaneous.DeadriseAtTransom (deg)  \\\n",
      "0                                                   NaN      \n",
      "1                                                   NaN      \n",
      "2                                                   NaN      \n",
      "3                                                   NaN      \n",
      "4                                                   NaN      \n",
      "...                                                 ...      \n",
      "2178                                                NaN      \n",
      "2179                                                NaN      \n",
      "2180                                                NaN      \n",
      "2181                                                NaN      \n",
      "2182                                                NaN      \n",
      "\n",
      "     Features.AdditionalEquipment.LaunchingTrailer  \\\n",
      "0                                              NaN   \n",
      "1                                              NaN   \n",
      "2                                              NaN   \n",
      "3                                              NaN   \n",
      "4                                              NaN   \n",
      "...                                            ...   \n",
      "2178                                           NaN   \n",
      "2179                                           NaN   \n",
      "2180                                           NaN   \n",
      "2181                                           NaN   \n",
      "2182                                           NaN   \n",
      "\n",
      "      Features.AdditionalEquipment.BeachingLegs  \\\n",
      "0                                           NaN   \n",
      "1                                           NaN   \n",
      "2                                           NaN   \n",
      "3                                           NaN   \n",
      "4                                           NaN   \n",
      "...                                         ...   \n",
      "2178                                        NaN   \n",
      "2179                                          ✓   \n",
      "2180                                        NaN   \n",
      "2181                                        NaN   \n",
      "2182                                        NaN   \n",
      "\n",
      "                                Make-Model  \n",
      "0                                 Adams-40  \n",
      "1                               Admiral-40  \n",
      "2                             Aeroyacht-85  \n",
      "3                African Cats-GreenCat 445  \n",
      "4                      Alliaura-Feeling 55  \n",
      "...                                    ...  \n",
      "2178                        X-Yachts-Xp 50  \n",
      "2179                        X-Yachts-Xp 50  \n",
      "2180                         X-Yachts-xp44  \n",
      "2181                         X-Yachts-XP50  \n",
      "2182  Yachting Developments-LUCA BRENTA 74  \n",
      "\n",
      "[2183 rows x 122 columns]\n"
     ]
    }
   ],
   "source": [
    "print(df)"
   ]
  },
  {
   "attachments": {},
   "cell_type": "markdown",
   "metadata": {},
   "source": [
    "## 针对propulsion进行处理"
   ]
  },
  {
   "cell_type": "code",
   "execution_count": 23,
   "metadata": {},
   "outputs": [
    {
     "data": {
      "text/plain": [
       "(['Propulsion.EngineMake',\n",
       "  'Propulsion.TotalPower (hp)',\n",
       "  'Propulsion.EngineType',\n",
       "  'Propulsion.FuelType',\n",
       "  'Propulsion.EngineModel',\n",
       "  'Propulsion.EngineYear',\n",
       "  'Propulsion.EngineHours',\n",
       "  'Propulsion.DriveType',\n",
       "  'Propulsion.PropellerType',\n",
       "  'Propulsion.PropellerMaterial',\n",
       "  'Propulsion.FoldingPropeller',\n",
       "  'Propulsion.RopeCutter'],\n",
       " [str, float, str, str, str, float, float, str, int, str, int, int])"
      ]
     },
     "execution_count": 23,
     "metadata": {},
     "output_type": "execute_result"
    }
   ],
   "source": [
    "should_be = np.array(['定类', '定比', '定类', '定类', '定类', '定距', '定比', '定类', '定序', '定类', '定序', '定序'])\n",
    "should_be_type = list(map(lambda x: appropriate_types[x], should_be))\n",
    "assert len(propulsion_columns) == len(should_be_type)\n",
    "propulsion_columns, should_be_type"
   ]
  },
  {
   "cell_type": "code",
   "execution_count": 24,
   "metadata": {},
   "outputs": [
    {
     "data": {
      "text/plain": [
       "['Propulsion.EngineMake',\n",
       " 'Propulsion.EngineType',\n",
       " 'Propulsion.FuelType',\n",
       " 'Propulsion.EngineModel',\n",
       " 'Propulsion.DriveType',\n",
       " 'Propulsion.PropellerType',\n",
       " 'Propulsion.PropellerMaterial',\n",
       " 'Propulsion.FoldingPropeller',\n",
       " 'Propulsion.RopeCutter']"
      ]
     },
     "execution_count": 24,
     "metadata": {},
     "output_type": "execute_result"
    }
   ],
   "source": [
    "should_be_dict = dict(zip(propulsion_columns, should_be))\n",
    "prop_discrete_cols = list(filter(lambda x: should_be_dict[x]=='定类' or should_be_dict[x]=='定序', propulsion_columns))\n",
    "prop_discrete_cols"
   ]
  },
  {
   "cell_type": "code",
   "execution_count": 25,
   "metadata": {},
   "outputs": [
    {
     "data": {
      "text/plain": [
       "Propulsion.EngineMake            object\n",
       "Propulsion.TotalPower (hp)      float64\n",
       "Propulsion.EngineType            object\n",
       "Propulsion.FuelType              object\n",
       "Propulsion.EngineModel           object\n",
       "Propulsion.EngineYear           float64\n",
       "Propulsion.EngineHours          float64\n",
       "Propulsion.DriveType             object\n",
       "Propulsion.PropellerType         object\n",
       "Propulsion.PropellerMaterial     object\n",
       "Propulsion.FoldingPropeller      object\n",
       "Propulsion.RopeCutter            object\n",
       "dtype: object"
      ]
     },
     "execution_count": 25,
     "metadata": {},
     "output_type": "execute_result"
    }
   ],
   "source": [
    "df[propulsion_columns].dtypes"
   ]
  },
  {
   "cell_type": "code",
   "execution_count": 26,
   "metadata": {},
   "outputs": [],
   "source": [
    "col = 'Propulsion.PropellerType'\n",
    "df[col].unique()\n",
    "\n",
    "def tran(x):\n",
    "    x = str(x)\n",
    "    if x=='nan' or x=='folding':\n",
    "        return np.nan\n",
    "    return float(x.split(' ')[0])\n",
    "df[col] = df[col].map(tran)"
   ]
  },
  {
   "cell_type": "code",
   "execution_count": 27,
   "metadata": {},
   "outputs": [],
   "source": [
    "cols = ['Propulsion.FoldingPropeller', 'Propulsion.RopeCutter']\n",
    "df[cols].describe()\n",
    "# df[cols[0]].unique()\n",
    "# df[cols[1]].unique()\n",
    "\n",
    "def tran(x):\n",
    "    x = str(x)\n",
    "    if x=='nan':\n",
    "        return False\n",
    "    return True\n",
    "for col in cols:\n",
    "    df[col] = df[col].map(tran)"
   ]
  },
  {
   "cell_type": "code",
   "execution_count": 28,
   "metadata": {},
   "outputs": [],
   "source": [
    "# # df[propulsion_columns].describe()\n",
    "# # df[prop_discrete_cols].value_counts()\n",
    "# df[prop_discrete_cols]\n",
    "# df['Propulsion.PropellerMaterial'].value_counts()\n",
    "# # df['Propulsion.PropellerMaterial'].isna()   \n",
    "# df['Propulsion.PropellerMaterial'].head(20)\n",
    "# df['Propulsion.PropellerMaterial'].mode()\n",
    "# df['Propulsion.PropellerMaterial'].fillna(df['Propulsion.PropellerMaterial'].mode()[0], inplace=True)"
   ]
  },
  {
   "cell_type": "code",
   "execution_count": 34,
   "metadata": {},
   "outputs": [
    {
     "data": {
      "text/plain": [
       "(Propulsion.EngineMake           0\n",
       " Propulsion.TotalPower (hp)      0\n",
       " Propulsion.EngineType           0\n",
       " Propulsion.FuelType             0\n",
       " Propulsion.EngineModel          0\n",
       " Propulsion.EngineYear           0\n",
       " Propulsion.EngineHours          0\n",
       " Propulsion.DriveType            0\n",
       " Propulsion.PropellerType        0\n",
       " Propulsion.PropellerMaterial    0\n",
       " Propulsion.FoldingPropeller     0\n",
       " Propulsion.RopeCutter           0\n",
       " dtype: int64,\n",
       " ['Propulsion.EngineMake',\n",
       "  'Propulsion.EngineType',\n",
       "  'Propulsion.FuelType',\n",
       "  'Propulsion.EngineModel',\n",
       "  'Propulsion.DriveType',\n",
       "  'Propulsion.PropellerType',\n",
       "  'Propulsion.PropellerMaterial',\n",
       "  'Propulsion.FoldingPropeller',\n",
       "  'Propulsion.RopeCutter'])"
      ]
     },
     "execution_count": 34,
     "metadata": {},
     "output_type": "execute_result"
    }
   ],
   "source": [
    "df[propulsion_columns].isna().sum(), prop_discrete_cols\n"
   ]
  },
  {
   "cell_type": "code",
   "execution_count": 32,
   "metadata": {},
   "outputs": [],
   "source": [
    "def full_and_group_mode(col):\n",
    "    group_mode = group[col].agg(lambda x:x.mode().sample(frac=1).to_numpy()[0] if not  x.isna().sum()==len(x) else None) # 用众数填充\n",
    "    # group_mode = group[cols].mode()\n",
    "    full_mode = df[col].mode().sample(frac=1).to_numpy()[0] # 用全局众数填充； 随机选取众数中的一个\n",
    "    \n",
    "    return group_mode, full_mode\n",
    "# full_and_group_mode('Propulsion.EngineMake')[1]    \n",
    "def full_and_group_median(col):\n",
    "    # 求解 col 这一列的组中位数和全局中位数\n",
    "    group_median = group[col].agg(lambda x:x.median()if not  x.isna().sum()==len(x) else None) \n",
    "    full_median = df[col].median() \n",
    "    return group_median, full_median\n",
    "\n",
    "def full_and_group_mean(col):\n",
    "    # 求解 col 这一列的组均值和全局均值\n",
    "    group_mean = group[col].agg(lambda x:x.mean()if not  x.isna().sum()==len(x) else None) \n",
    "    full_mean = df[col].mean() \n",
    "    return group_mean, full_mean\n",
    "    \n",
    "op_dict = {'mode':full_and_group_mode, 'median':full_and_group_median, 'mean':full_and_group_mean}"
   ]
  },
  {
   "cell_type": "code",
   "execution_count": 33,
   "metadata": {},
   "outputs": [
    {
     "name": "stdout",
     "output_type": "stream",
     "text": [
      "正在使用mode填充Propulsion.EngineMake\n",
      "Yanmar\n",
      "正在使用mean填充Propulsion.TotalPower (hp)\n",
      "65.96502094281418\n",
      "正在使用mode填充Propulsion.EngineType\n",
      "Inboard\n",
      "正在使用mode填充Propulsion.FuelType\n",
      "Diesel\n",
      "正在使用mode填充Propulsion.EngineModel\n",
      "4JH57\n",
      "正在使用mean填充Propulsion.EngineYear\n",
      "2016.2783340907959\n",
      "正在使用mean填充Propulsion.EngineHours\n",
      "1177.3771335315398\n",
      "正在使用mode填充Propulsion.DriveType\n",
      "Sail Drive\n",
      "正在使用median填充Propulsion.PropellerType\n",
      "3.0\n",
      "正在使用mode填充Propulsion.PropellerMaterial\n",
      "Bronze\n",
      "正在使用median填充Propulsion.FoldingPropeller\n",
      "0.0\n",
      "正在使用median填充Propulsion.RopeCutter\n",
      "0.0\n"
     ]
    }
   ],
   "source": [
    "for col in propulsion_columns:\n",
    "    sh = should_be_dict[col]\n",
    "    op = appropriate_operation[sh]\n",
    "    print(f\"正在使用{op}填充{col}\")\n",
    "    op = op_dict[op]\n",
    "    group_stat, full_stat = op(col)\n",
    "\n",
    "\n",
    "    def fill_each_row(x):\n",
    "        # print(x[0] if pd.isna(x[0]) else None)\n",
    "        return group_stat.loc[x[0]] if pd.isna(x[1]) else x[1]\n",
    "        \n",
    "    df[col] = df[['Make-Model', col]].apply(lambda x:fill_each_row(x), axis=1)\n",
    "    print(full_stat)\n",
    "    df[col].fillna(full_stat, inplace=True)"
   ]
  },
  {
   "cell_type": "code",
   "execution_count": null,
   "metadata": {},
   "outputs": [],
   "source": []
  },
  {
   "attachments": {},
   "cell_type": "markdown",
   "metadata": {},
   "source": [
    "## 针对 Specification 进行处理"
   ]
  },
  {
   "cell_type": "code",
   "execution_count": 35,
   "metadata": {},
   "outputs": [
    {
     "data": {
      "text/plain": [
       "(['Specifications.Dimensions.LengthOverall (ft)',\n",
       "  'Specifications.Dimensions.Beam (ft)',\n",
       "  'Specifications.Accommodations.DoubleBerths',\n",
       "  'Specifications.Accommodations.Cabins',\n",
       "  'Specifications.Accommodations.Heads',\n",
       "  'Specifications.Speed&Distance.CruisingSpeed (kn)',\n",
       "  'Specifications.Speed&Distance.MaxSpeed (kn)',\n",
       "  'Specifications.Dimensions.LengthOnDeck (ft)',\n",
       "  'Specifications.Dimensions.MaxDra (ft)',\n",
       "  'Specifications.Dimensions.CabinHeadroom (ft)',\n",
       "  'Specifications.Dimensions.LengthAtWaterline (ft)',\n",
       "  'Specifications.Miscellaneous.Windlass',\n",
       "  'Specifications.Dimensions.MaxBridgeClearance (ft)',\n",
       "  'Specifications.Weights.DryWeight (Lb)',\n",
       "  'Specifications.Accommodations.SingleBerths',\n",
       "  'Specifications.Accommodations.TwinBerths',\n",
       "  'Specifications.Miscellaneous.ElectricalCircuit (V)',\n",
       "  'Specifications.Miscellaneous.SeatingCapacity',\n",
       "  'Specifications.Speed&Distance.Range (nm)',\n",
       "  'Specifications.Dimensions.Freeboard (ft)',\n",
       "  'Specifications.Miscellaneous.LiferaftCapacity',\n",
       "  'Specifications.Miscellaneous.DeadriseAtTransom (deg)'],\n",
       " [float,\n",
       "  float,\n",
       "  float,\n",
       "  float,\n",
       "  float,\n",
       "  float,\n",
       "  float,\n",
       "  float,\n",
       "  float,\n",
       "  float,\n",
       "  float,\n",
       "  str,\n",
       "  float,\n",
       "  float,\n",
       "  float,\n",
       "  float,\n",
       "  float,\n",
       "  float,\n",
       "  float,\n",
       "  float,\n",
       "  float,\n",
       "  float])"
      ]
     },
     "execution_count": 35,
     "metadata": {},
     "output_type": "execute_result"
    }
   ],
   "source": [
    "should_be = np.array(['定比','定比',\n",
    "                      '定距','定距',\n",
    "                      '定距','定比',\n",
    "                      '定比','定比',\n",
    "                      '定比','定比',\n",
    "                      '定比','定类',\n",
    "                      '定比','定比',\n",
    "                      '定距','定距',\n",
    "                      '定比','定距',\n",
    "                      '定比','定比',\n",
    "                      '定距','定比'])\n",
    "should_be_type = list(map(lambda x: appropriate_types[x], should_be))\n",
    "assert len(specification_columns) == len(should_be_type)\n",
    "specification_columns, should_be_type\n"
   ]
  },
  {
   "cell_type": "code",
   "execution_count": 36,
   "metadata": {},
   "outputs": [
    {
     "data": {
      "text/plain": [
       "['Specifications.Miscellaneous.Windlass']"
      ]
     },
     "execution_count": 36,
     "metadata": {},
     "output_type": "execute_result"
    }
   ],
   "source": [
    "should_be_dict = dict(zip(specification_columns, should_be))\n",
    "spec_discrete_cols = list(filter(lambda x: should_be_dict[x]=='定类' or should_be_dict[x]=='定序', specification_columns))\n",
    "spec_discrete_cols"
   ]
  },
  {
   "cell_type": "code",
   "execution_count": 37,
   "metadata": {},
   "outputs": [],
   "source": [
    "# df[spec_discrete_cols[0]].unique()\n",
    "# df[specification_columns].describe()\n",
    "# print(df[spec_discrete_cols].to_numpy())\n",
    "# df[spec_discrete_cols].to_csv('spec_discrete_cols_temp.csv', index=False)"
   ]
  },
  {
   "cell_type": "code",
   "execution_count": 38,
   "metadata": {},
   "outputs": [
    {
     "name": "stdout",
     "output_type": "stream",
     "text": [
      "正在使用mean填充Specifications.Dimensions.LengthOverall (ft)\n",
      "74.04206229353457\n",
      "正在使用mean填充Specifications.Dimensions.Beam (ft)\n",
      "21.431084618980893\n",
      "正在使用mean填充Specifications.Accommodations.DoubleBerths\n",
      "2.7967359050445104\n",
      "正在使用mean填充Specifications.Accommodations.Cabins\n",
      "2.961864406779661\n",
      "正在使用mean填充Specifications.Accommodations.Heads\n",
      "2.176534492123846\n",
      "正在使用mean填充Specifications.Speed&Distance.CruisingSpeed (kn)\n",
      "7.865502392344499\n",
      "正在使用mean填充Specifications.Speed&Distance.MaxSpeed (kn)\n",
      "10.300872093023257\n",
      "正在使用mean填充Specifications.Dimensions.LengthOnDeck (ft)\n",
      "43.392058823529446\n",
      "正在使用mean填充Specifications.Dimensions.MaxDra (ft)\n",
      "8.956594153636974\n",
      "正在使用mean填充Specifications.Dimensions.CabinHeadroom (ft)\n",
      "9.348779342722995\n",
      "正在使用mean填充Specifications.Dimensions.LengthAtWaterline (ft)\n",
      "39.67258029978575\n",
      "正在使用mode填充Specifications.Miscellaneous.Windlass\n",
      "Electric Windlass\n",
      "正在使用mean填充Specifications.Dimensions.MaxBridgeClearance (ft)\n",
      "63.21807909604506\n",
      "正在使用mean填充Specifications.Weights.DryWeight (Lb)\n",
      "23578.5175\n",
      "正在使用mean填充Specifications.Accommodations.SingleBerths\n",
      "2.8725212464589234\n",
      "正在使用mean填充Specifications.Accommodations.TwinBerths\n",
      "2.0396039603960396\n",
      "正在使用mean填充Specifications.Miscellaneous.ElectricalCircuit (V)\n",
      "83.00632911392405\n",
      "正在使用mean填充Specifications.Miscellaneous.SeatingCapacity\n",
      "8.62295081967213\n",
      "正在使用mean填充Specifications.Speed&Distance.Range (nm)\n",
      "1947.4\n",
      "正在使用mean填充Specifications.Dimensions.Freeboard (ft)\n",
      "9.614166666666668\n",
      "正在使用mean填充Specifications.Miscellaneous.LiferaftCapacity\n",
      "7.8125\n",
      "正在使用mean填充Specifications.Miscellaneous.DeadriseAtTransom (deg)\n",
      "22.0\n"
     ]
    }
   ],
   "source": [
    "for col in specification_columns:\n",
    "    sh = should_be_dict[col]\n",
    "    op = appropriate_operation[sh]\n",
    "    print(f\"正在使用{op}填充{col}\")\n",
    "    op = op_dict[op]\n",
    "    group_stat, full_stat = op(col)\n",
    "\n",
    "\n",
    "    def fill_each_row(x):\n",
    "        # print(x[0] if pd.isna(x[0]) else None)\n",
    "        return group_stat.loc[x[0]] if pd.isna(x[1]) else x[1]\n",
    "        \n",
    "    df[col] = df[['Make-Model', col]].apply(lambda x:fill_each_row(x), axis=1)\n",
    "    print(full_stat)\n",
    "    df[col].fillna(full_stat, inplace=True)"
   ]
  },
  {
   "cell_type": "code",
   "execution_count": 39,
   "metadata": {},
   "outputs": [
    {
     "data": {
      "text/plain": [
       "Specifications.Dimensions.LengthOverall (ft)            0\n",
       "Specifications.Dimensions.Beam (ft)                     0\n",
       "Specifications.Accommodations.DoubleBerths              0\n",
       "Specifications.Accommodations.Cabins                    0\n",
       "Specifications.Accommodations.Heads                     0\n",
       "Specifications.Speed&Distance.CruisingSpeed (kn)        0\n",
       "Specifications.Speed&Distance.MaxSpeed (kn)             0\n",
       "Specifications.Dimensions.LengthOnDeck (ft)             0\n",
       "Specifications.Dimensions.MaxDra (ft)                   0\n",
       "Specifications.Dimensions.CabinHeadroom (ft)            0\n",
       "Specifications.Dimensions.LengthAtWaterline (ft)        0\n",
       "Specifications.Miscellaneous.Windlass                   0\n",
       "Specifications.Dimensions.MaxBridgeClearance (ft)       0\n",
       "Specifications.Weights.DryWeight (Lb)                   0\n",
       "Specifications.Accommodations.SingleBerths              0\n",
       "Specifications.Accommodations.TwinBerths                0\n",
       "Specifications.Miscellaneous.ElectricalCircuit (V)      0\n",
       "Specifications.Miscellaneous.SeatingCapacity            0\n",
       "Specifications.Speed&Distance.Range (nm)                0\n",
       "Specifications.Dimensions.Freeboard (ft)                0\n",
       "Specifications.Miscellaneous.LiferaftCapacity           0\n",
       "Specifications.Miscellaneous.DeadriseAtTransom (deg)    0\n",
       "dtype: int64"
      ]
     },
     "execution_count": 39,
     "metadata": {},
     "output_type": "execute_result"
    }
   ],
   "source": [
    "df[specification_columns].isna().sum()"
   ]
  },
  {
   "attachments": {},
   "cell_type": "markdown",
   "metadata": {},
   "source": [
    "## 针对Feature进行处理"
   ]
  },
  {
   "cell_type": "code",
   "execution_count": 40,
   "metadata": {},
   "outputs": [
    {
     "data": {
      "text/plain": [
       "['Features.ElectricalEquipment.ShorePowerInlet',\n",
       " 'Features.Electronics.Depthsounder',\n",
       " 'Features.Electronics.Radar',\n",
       " 'Features.Electronics.Plotter',\n",
       " 'Features.Electronics.Compas',\n",
       " 'Features.Electronics.Gps',\n",
       " 'Features.InsideEquipment.ElectricBilgePump',\n",
       " 'Features.InsideEquipment.Oven',\n",
       " 'Features.InsideEquipment.MarineHead',\n",
       " 'Features.InsideEquipment.Heating',\n",
       " 'Features.InsideEquipment.HotWater',\n",
       " 'Features.InsideEquipment.Refrigerator',\n",
       " 'Features.InsideEquipment.BatteryCharger',\n",
       " 'Features.OutsideEquipment.TeakCockpit',\n",
       " 'Features.OutsideEquipment.RadarReflector',\n",
       " 'Features.OutsideEquipment.Tender',\n",
       " 'Features.OutsideEquipment.CockpitCushions',\n",
       " 'Features.Rigging.SteeringWheel',\n",
       " 'Features.Sails.StormJib',\n",
       " 'Features.Sails.BattenedMainsail',\n",
       " 'Features.Sails.FurlingGenoa',\n",
       " 'Features.Sails.Trisail',\n",
       " 'Features.Electronics.Log-speedometer',\n",
       " 'Features.Electronics.WindSpeedAndDirection',\n",
       " 'Features.Electronics.Autopilot',\n",
       " 'Features.Electronics.Radio',\n",
       " 'Features.Electronics.CockpitSpeakers',\n",
       " 'Features.Electronics.Vhf',\n",
       " 'Features.InsideEquipment.BowThruster',\n",
       " 'Features.InsideEquipment.ManualBilgePump',\n",
       " 'Features.InsideEquipment.MicrowaveOven',\n",
       " 'Features.InsideEquipment.AirConditioning',\n",
       " 'Features.InsideEquipment.ElectricHead',\n",
       " 'Features.OutsideEquipment.CockpitShower',\n",
       " 'Features.OutsideEquipment.CockpitTable',\n",
       " 'Features.OutsideEquipment.SwimmingLadder',\n",
       " 'Features.Sails.FurlingMainsail',\n",
       " 'Features.Sails.AsymmetricSpinnaker',\n",
       " 'Features.Electronics.Repeater(s)',\n",
       " 'Features.ElectricalEquipment.Generator',\n",
       " 'Features.ElectricalEquipment.Inverter',\n",
       " 'Features.Electronics.NavigationCenter',\n",
       " 'Features.InsideEquipment.DeepFreezer',\n",
       " 'Features.OutsideEquipment.OutboardEngineBrackets',\n",
       " 'Features.OutsideEquipment.Davit(s)',\n",
       " 'Features.Sails.FullyBattenedMainsail',\n",
       " 'Features.Electronics.CdPlayer',\n",
       " 'Features.Rigging.ElectricWinch',\n",
       " 'Features.Electronics.TvSet',\n",
       " 'Features.Electronics.DvdPlayer',\n",
       " 'Features.InsideEquipment.FreshWaterMaker',\n",
       " 'Features.Rigging.SpinnakerPole',\n",
       " 'Features.OutsideEquipment.TeakSidedecks',\n",
       " 'Features.AdditionalEquipment.RoadTrailer',\n",
       " 'Features.Sails.Spinnaker',\n",
       " 'Features.Electronics.RadarDetector',\n",
       " 'Features.Electronics.Computer',\n",
       " 'Features.Electronics.Vcr',\n",
       " 'Features.Sails.GennakerCruisingSpinnaker',\n",
       " 'Features.InsideEquipment.SeaWaterPump',\n",
       " 'Features.OutsideEquipment.SolarPanel',\n",
       " 'Features.OutsideEquipment.Liferaft',\n",
       " 'Features.Rigging.Tiller',\n",
       " 'Features.Sails.Genoa',\n",
       " 'Features.InsideEquipment.SternThruster',\n",
       " 'Features.InsideEquipment.Dishwasher',\n",
       " 'Features.InsideEquipment.WashingMachine',\n",
       " 'Features.OutsideEquipment.Gangway',\n",
       " 'Features.OutsideEquipment.HydraulicGangway',\n",
       " 'Features.OutsideEquipment.WindGenerator',\n",
       " 'Features.InsideEquipment.Seakeeper',\n",
       " 'Features.InsideEquipment.AirCompressor',\n",
       " 'Features.InsideEquipment.ChemicalHead',\n",
       " 'Features.Rigging.HydraulicWinch',\n",
       " 'Features.AdditionalEquipment.LaunchingTrailer',\n",
       " 'Features.AdditionalEquipment.BeachingLegs']"
      ]
     },
     "execution_count": 40,
     "metadata": {},
     "output_type": "execute_result"
    }
   ],
   "source": [
    "# should_be = np.array(['定比','定比',\n",
    "                    #   '定距','定距',\n",
    "                    #   '定距','定比',\n",
    "                    #   '定比','定比',\n",
    "                    #   '定比','定比',\n",
    "                    #   '定比','定类',\n",
    "                    #   '定比','定比',\n",
    "                    #   '定距','定距',\n",
    "                    #   '定比','定距',\n",
    "                    #   '定比','定比',\n",
    "                    #   '定距','定比'])\n",
    "# should_be_type = list(map(lambda x: appropriate_types[x], should_be))\n",
    "# assert len(specification_columns) == len(should_be_type)\n",
    "# feature_columns, should_be_type\n",
    "feature_columns\n"
   ]
  },
  {
   "cell_type": "code",
   "execution_count": 41,
   "metadata": {},
   "outputs": [],
   "source": [
    "df[feature_columns].dtypes\n",
    "df[feature_columns].to_excel('feature_cols_temp.xlsx', index=False)\n",
    "# print(df[feature_columns].describe())\n",
    "# df[feature_columns].describe().to_csv('feature_cols_temp.csv')"
   ]
  },
  {
   "cell_type": "code",
   "execution_count": 42,
   "metadata": {},
   "outputs": [],
   "source": [
    "def tran(x):\n",
    "    if pd.isna(x):\n",
    "        return False\n",
    "    return True\n",
    "df[feature_columns] = df[feature_columns].applymap(tran)"
   ]
  },
  {
   "cell_type": "code",
   "execution_count": 43,
   "metadata": {},
   "outputs": [
    {
     "data": {
      "text/plain": [
       "False"
      ]
     },
     "execution_count": 43,
     "metadata": {},
     "output_type": "execute_result"
    }
   ],
   "source": [
    "pd.isna(df[feature_columns].iloc[2, 0])"
   ]
  },
  {
   "cell_type": "code",
   "execution_count": 46,
   "metadata": {},
   "outputs": [
    {
     "data": {
      "text/plain": [
       "True"
      ]
     },
     "execution_count": 46,
     "metadata": {},
     "output_type": "execute_result"
    }
   ],
   "source": [
    "# pd.isna(df.loc[2, 1])\n",
    "pd.isna(None)\n",
    "pd.isna(np.nan)"
   ]
  },
  {
   "cell_type": "code",
   "execution_count": 47,
   "metadata": {},
   "outputs": [
    {
     "data": {
      "text/plain": [
       "False"
      ]
     },
     "execution_count": 47,
     "metadata": {},
     "output_type": "execute_result"
    }
   ],
   "source": [
    "df[feature_columns].isna().sum().any()"
   ]
  },
  {
   "cell_type": "code",
   "execution_count": 48,
   "metadata": {},
   "outputs": [
    {
     "data": {
      "text/plain": [
       "Price    1024\n",
       "dtype: int64"
      ]
     },
     "execution_count": 48,
     "metadata": {},
     "output_type": "execute_result"
    }
   ],
   "source": [
    "# df.isna().sum().any()\n",
    "s = df.isna().sum()\n",
    "s[s>0]"
   ]
  },
  {
   "cell_type": "code",
   "execution_count": 49,
   "metadata": {},
   "outputs": [],
   "source": [
    "df['Price'].to_excel('price_temp.xlsx', index=False)\n",
    "# .to_csv('price_temp.csv', index=False)"
   ]
  },
  {
   "cell_type": "code",
   "execution_count": 50,
   "metadata": {},
   "outputs": [],
   "source": [
    "df.dropna().to_excel(\"../../data/爬取的数据_cleaned_Price缺失较多-无地区信息.xlsx\", index=False)"
   ]
  }
 ],
 "metadata": {
  "kernelspec": {
   "display_name": "ai",
   "language": "python",
   "name": "python3"
  },
  "language_info": {
   "codemirror_mode": {
    "name": "ipython",
    "version": 3
   },
   "file_extension": ".py",
   "mimetype": "text/x-python",
   "name": "python",
   "nbconvert_exporter": "python",
   "pygments_lexer": "ipython3",
   "version": "3.9.13"
  },
  "orig_nbformat": 4
 },
 "nbformat": 4,
 "nbformat_minor": 2
}
