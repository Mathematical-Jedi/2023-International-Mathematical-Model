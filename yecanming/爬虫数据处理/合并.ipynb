{
 "cells": [
  {
   "attachments": {},
   "cell_type": "markdown",
   "metadata": {},
   "source": [
    "## 探索分析\n",
    "要想两个数据表格合并，需要一点策略，我们需要做些探索分析"
   ]
  },
  {
   "cell_type": "code",
   "execution_count": 2,
   "metadata": {},
   "outputs": [],
   "source": [
    "import pandas as pd\n",
    "import numpy as np\n",
    "import seaborn as sns\n",
    "from matplotlib import pyplot as plt\n",
    "from scipy.stats import ks_2samp\n",
    "from scipy.stats import pearsonr\n",
    "import plotly.figure_factory as ff\n",
    "from pyecharts.charts import Map\n",
    "from pyecharts import options"
   ]
  },
  {
   "cell_type": "code",
   "execution_count": 3,
   "metadata": {},
   "outputs": [
    {
     "data": {
      "text/html": [
       "<div>\n",
       "<style scoped>\n",
       "    .dataframe tbody tr th:only-of-type {\n",
       "        vertical-align: middle;\n",
       "    }\n",
       "\n",
       "    .dataframe tbody tr th {\n",
       "        vertical-align: top;\n",
       "    }\n",
       "\n",
       "    .dataframe thead th {\n",
       "        text-align: right;\n",
       "    }\n",
       "</style>\n",
       "<table border=\"1\" class=\"dataframe\">\n",
       "  <thead>\n",
       "    <tr style=\"text-align: right;\">\n",
       "      <th></th>\n",
       "      <th>Unnamed: 0</th>\n",
       "      <th>Make</th>\n",
       "      <th>Variant</th>\n",
       "      <th>Length (ft)</th>\n",
       "      <th>Geographic Region</th>\n",
       "      <th>Country/Region/State</th>\n",
       "      <th>Listing Price (USD)</th>\n",
       "      <th>Year</th>\n",
       "      <th>Hull Num</th>\n",
       "    </tr>\n",
       "  </thead>\n",
       "  <tbody>\n",
       "    <tr>\n",
       "      <th>0</th>\n",
       "      <td>0</td>\n",
       "      <td>Alubat</td>\n",
       "      <td>Ovni 395</td>\n",
       "      <td>41.0</td>\n",
       "      <td>Europe</td>\n",
       "      <td>France</td>\n",
       "      <td>267233</td>\n",
       "      <td>2005</td>\n",
       "      <td>Monohulled Sailboats</td>\n",
       "    </tr>\n",
       "    <tr>\n",
       "      <th>1</th>\n",
       "      <td>1</td>\n",
       "      <td>Bavaria</td>\n",
       "      <td>38 Cruiser</td>\n",
       "      <td>38.0</td>\n",
       "      <td>Europe</td>\n",
       "      <td>Croatia</td>\n",
       "      <td>75178</td>\n",
       "      <td>2005</td>\n",
       "      <td>Monohulled Sailboats</td>\n",
       "    </tr>\n",
       "    <tr>\n",
       "      <th>2</th>\n",
       "      <td>2</td>\n",
       "      <td>Bavaria</td>\n",
       "      <td>38 Cruiser</td>\n",
       "      <td>38.0</td>\n",
       "      <td>Europe</td>\n",
       "      <td>Croatia</td>\n",
       "      <td>66825</td>\n",
       "      <td>2005</td>\n",
       "      <td>Monohulled Sailboats</td>\n",
       "    </tr>\n",
       "    <tr>\n",
       "      <th>3</th>\n",
       "      <td>3</td>\n",
       "      <td>Bavaria</td>\n",
       "      <td>38 Cruiser</td>\n",
       "      <td>38.0</td>\n",
       "      <td>Europe</td>\n",
       "      <td>Croatia</td>\n",
       "      <td>54661</td>\n",
       "      <td>2005</td>\n",
       "      <td>Monohulled Sailboats</td>\n",
       "    </tr>\n",
       "    <tr>\n",
       "      <th>4</th>\n",
       "      <td>4</td>\n",
       "      <td>Bavaria</td>\n",
       "      <td>38 Cruiser</td>\n",
       "      <td>38.0</td>\n",
       "      <td>Europe</td>\n",
       "      <td>Croatia</td>\n",
       "      <td>53447</td>\n",
       "      <td>2005</td>\n",
       "      <td>Monohulled Sailboats</td>\n",
       "    </tr>\n",
       "  </tbody>\n",
       "</table>\n",
       "</div>"
      ],
      "text/plain": [
       "   Unnamed: 0     Make     Variant  Length (ft) Geographic Region  \\\n",
       "0           0   Alubat    Ovni 395         41.0            Europe   \n",
       "1           1  Bavaria  38 Cruiser         38.0            Europe   \n",
       "2           2  Bavaria  38 Cruiser         38.0            Europe   \n",
       "3           3  Bavaria  38 Cruiser         38.0            Europe   \n",
       "4           4  Bavaria  38 Cruiser         38.0            Europe   \n",
       "\n",
       "  Country/Region/State  Listing Price (USD)  Year              Hull Num  \n",
       "0               France               267233  2005  Monohulled Sailboats  \n",
       "1              Croatia                75178  2005  Monohulled Sailboats  \n",
       "2              Croatia                66825  2005  Monohulled Sailboats  \n",
       "3              Croatia                54661  2005  Monohulled Sailboats  \n",
       "4              Croatia                53447  2005  Monohulled Sailboats  "
      ]
     },
     "execution_count": 3,
     "metadata": {},
     "output_type": "execute_result"
    }
   ],
   "source": [
    "df_pa = pd.read_excel('../../data/爬取的数据.xlsx', sheet_name='非二手帆船')\n",
    "df_mcm = pd.read_excel('../../data/2023_MCM_Problem_Y_Boats_cleaned.xlsx')\n",
    "df_mcm.head()"
   ]
  },
  {
   "cell_type": "code",
   "execution_count": 20,
   "metadata": {},
   "outputs": [],
   "source": [
    "df_pa['Make-Variant'] = df_pa['Basics.Make'].astype(str) + '-' + df_pa['Basics.Model'].astype(str)\n",
    "df_mcm['Make-Variant'] = df_mcm['Make'].astype(str) + '-' + df_mcm['Variant'].astype(str)"
   ]
  },
  {
   "cell_type": "code",
   "execution_count": 21,
   "metadata": {},
   "outputs": [],
   "source": [
    "pa_list= df_pa['Make-Variant'].unique()\n",
    "mcm_list = df_mcm['Make-Variant'].unique()"
   ]
  },
  {
   "cell_type": "code",
   "execution_count": 22,
   "metadata": {},
   "outputs": [
    {
     "data": {
      "text/plain": [
       "(1094, 440)"
      ]
     },
     "execution_count": 22,
     "metadata": {},
     "output_type": "execute_result"
    }
   ],
   "source": [
    "len(pa_list), len(mcm_list)"
   ]
  },
  {
   "cell_type": "code",
   "execution_count": null,
   "metadata": {},
   "outputs": [],
   "source": []
  },
  {
   "cell_type": "code",
   "execution_count": 30,
   "metadata": {},
   "outputs": [
    {
     "data": {
      "text/plain": [
       "54"
      ]
     },
     "execution_count": 30,
     "metadata": {},
     "output_type": "execute_result"
    }
   ],
   "source": [
    "import Levenshtein\n",
    "def roughly_in(m, li):\n",
    "    distances = np.array(list(map(lambda i:Levenshtein.distance(m, i), li)))\n",
    "    smallest= np.min(distances)\n",
    "    index  = np.argmin(distances)\n",
    "    if smallest==0:\n",
    "        return True\n",
    "    # if smallest<2:\n",
    "    #     print(f\"勉强认为一样：‘{m}’ 和 ‘{li[index]}’\")\n",
    "    #     return True\n",
    "    return False\n",
    "    \n",
    "# [m in pa_list for m in mcm_list].count(True) #54\n",
    "[roughly_in(m, pa_list) for m in mcm_list].count(True)"
   ]
  }
 ],
 "metadata": {
  "kernelspec": {
   "display_name": "ai",
   "language": "python",
   "name": "python3"
  },
  "language_info": {
   "codemirror_mode": {
    "name": "ipython",
    "version": 3
   },
   "file_extension": ".py",
   "mimetype": "text/x-python",
   "name": "python",
   "nbconvert_exporter": "python",
   "pygments_lexer": "ipython3",
   "version": "3.10.9"
  },
  "orig_nbformat": 4
 },
 "nbformat": 4,
 "nbformat_minor": 2
}
