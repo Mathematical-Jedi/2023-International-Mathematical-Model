{
 "cells": [
  {
   "cell_type": "code",
   "execution_count": 1,
   "metadata": {},
   "outputs": [],
   "source": [
    "import requests\n",
    "import pandas as pd\n",
    "from bs4 import BeautifulSoup\n",
    "\n",
    "import stable_get_html\n",
    "from concurrent.futures import ThreadPoolExecutor, as_completed\n",
    "from tqdm import tqdm\n",
    "# 设置请求头部信息，模拟浏览器请求\n",
    "headers = {\n",
    "    'User-Agent': 'Mozilla/5.0 (Windows NT 10.0; Win64; x64) AppleWebKit/537.36 (KHTML, like Gecko) Chrome/58.0.3029.110 Safari/537.36'}\n",
    "# base_url = 'https://www.yachtworld.com'\n",
    "# requests.get(base_url, \n",
    "#     headers=headers)"
   ]
  },
  {
   "cell_type": "code",
   "execution_count": 2,
   "metadata": {},
   "outputs": [],
   "source": [
    "def kv_attributes(basic, name='Basic'):\n",
    "    titles = [f'{name}.{\"\".join(map(lambda x:x.capitalize(),t.text.strip().split()))}' for t in basic.select('td.datatable-title')]\n",
    "    values = [t.text.strip() for t in basic.select('td.datatable-value')]\n",
    "    return {k:v for k,v in zip(titles, values)}\n",
    "def specification_attributes(specification, name='Specification'):\n",
    "    sub_categories = specification.select('div.datatable-category')\n",
    "    titles = []\n",
    "    values = []\n",
    "    for category in sub_categories:\n",
    "        cate_name = category.find(attrs='sub-title').text\n",
    "        cate_name = ''.join(map(lambda x:x.capitalize(), cate_name.split()))\n",
    "        titles += [f'{name}.{cate_name}.{\"\".join(map(lambda x:x.capitalize(),t.text.strip().split()))}' for t in category.select('td.datatable-title')]\n",
    "        values += [t.text.strip() for t in category.select('td.datatable-value')]\n",
    "    return {k:v for k,v in zip(titles, values)}\n",
    "def get_price(soup):\n",
    "\n",
    "    price = soup.select_one('#BoatDetails > div.content.nav-slide.with-sticky-contact.home-block > div.boat-details > div.body > div > div.summary > div > span.payment-total')\n",
    "\n",
    "    # price.text.strip().split('$')[1]\n",
    "    x = float(\"\".join(list(filter(str.isdigit,price.text.split('US$')[1]))))\n",
    "    return x"
   ]
  },
  {
   "cell_type": "code",
   "execution_count": 3,
   "metadata": {},
   "outputs": [],
   "source": [
    "# sn = requests.Session()"
   ]
  },
  {
   "cell_type": "code",
   "execution_count": 4,
   "metadata": {},
   "outputs": [],
   "source": [
    "import warnings\n",
    "def get_yacht_data(url):\n",
    "    \"\"\"输入url返回一个字典\n",
    "\n",
    "    Args:\n",
    "        url (str): _description_\n",
    "\n",
    "    Returns:\n",
    "        dict: _description_\n",
    "    \"\"\"\n",
    "    # res = requests.get(url, headers=headers)\n",
    "    # res = sn.get(url, headers=headers)\n",
    "    res = stable_get_html.get_html(url)\n",
    "    return get_yacht_data_req_res(res)\n",
    "def get_yacht_data_req_res(req_res):\n",
    "    soup = BeautifulSoup(req_res.text, 'html.parser')\n",
    "    detail = soup.select_one('#BoatDetails > div.content.nav-slide.with-sticky-contact.home-block > div.boat-details > div.body > div.boat-details-content > div.details')\n",
    "    assert detail is not None\n",
    "    items = detail.select('div.header')\n",
    "    assert len(items)>0\n",
    "    result = {}\n",
    "    for i, item in enumerate(items):\n",
    "            if item.text.lower()=='BASICS'.lower() or item.text.lower()=='PROPULSION'.lower():\n",
    "                result.update(kv_attributes(items[i].next_sibling, name=item.text.lower().capitalize()))\n",
    "            elif item.text.lower()=='SPECIFICATIONS'.lower() or item.text.lower()=='FEATURES'.lower():\n",
    "                result.update(specification_attributes(items[i].next_sibling, name=item.text.lower().capitalize()))\n",
    "    try:\n",
    "        result['Price'] = get_price(soup)\n",
    "    except Exception as e:\n",
    "        # warnings.warn(f\"no price for {url}\")\n",
    "        pass\n",
    "    return result\n"
   ]
  },
  {
   "cell_type": "code",
   "execution_count": 5,
   "metadata": {},
   "outputs": [
    {
     "data": {
      "text/html": [
       "<div>\n",
       "<style scoped>\n",
       "    .dataframe tbody tr th:only-of-type {\n",
       "        vertical-align: middle;\n",
       "    }\n",
       "\n",
       "    .dataframe tbody tr th {\n",
       "        vertical-align: top;\n",
       "    }\n",
       "\n",
       "    .dataframe thead th {\n",
       "        text-align: right;\n",
       "    }\n",
       "</style>\n",
       "<table border=\"1\" class=\"dataframe\">\n",
       "  <thead>\n",
       "    <tr style=\"text-align: right;\">\n",
       "      <th></th>\n",
       "      <th>Link</th>\n",
       "      <th>Price</th>\n",
       "      <th>Basics.Location</th>\n",
       "      <th>New</th>\n",
       "    </tr>\n",
       "  </thead>\n",
       "  <tbody>\n",
       "    <tr>\n",
       "      <th>0</th>\n",
       "      <td>https://www.yachtworld.com/yacht/2023-jeanneau...</td>\n",
       "      <td>329795.0</td>\n",
       "      <td>Seattle, Washington, United States</td>\n",
       "      <td>True</td>\n",
       "    </tr>\n",
       "    <tr>\n",
       "      <th>1</th>\n",
       "      <td>https://www.yachtworld.com/yacht/2023-dufour-3...</td>\n",
       "      <td>364999.0</td>\n",
       "      <td>Racine, Wisconsin, United States</td>\n",
       "      <td>True</td>\n",
       "    </tr>\n",
       "    <tr>\n",
       "      <th>2</th>\n",
       "      <td>https://www.yachtworld.com/yacht/2023-bavaria-...</td>\n",
       "      <td>432319.0</td>\n",
       "      <td>San Diego, California, United States</td>\n",
       "      <td>True</td>\n",
       "    </tr>\n",
       "    <tr>\n",
       "      <th>3</th>\n",
       "      <td>https://www.yachtworld.com/yacht/1984-union-po...</td>\n",
       "      <td>31000.0</td>\n",
       "      <td>Emeryville, California, United States</td>\n",
       "      <td>True</td>\n",
       "    </tr>\n",
       "    <tr>\n",
       "      <th>4</th>\n",
       "      <td>https://www.yachtworld.com/yacht/2023-dufour-4...</td>\n",
       "      <td>850000.0</td>\n",
       "      <td>Racine, Wisconsin, United States</td>\n",
       "      <td>True</td>\n",
       "    </tr>\n",
       "    <tr>\n",
       "      <th>5</th>\n",
       "      <td>https://www.yachtworld.com/yacht/2023-jeanneau...</td>\n",
       "      <td>519685.0</td>\n",
       "      <td>San Diego, California, United States</td>\n",
       "      <td>True</td>\n",
       "    </tr>\n",
       "  </tbody>\n",
       "</table>\n",
       "</div>"
      ],
      "text/plain": [
       "                                                Link     Price  \\\n",
       "0  https://www.yachtworld.com/yacht/2023-jeanneau...  329795.0   \n",
       "1  https://www.yachtworld.com/yacht/2023-dufour-3...  364999.0   \n",
       "2  https://www.yachtworld.com/yacht/2023-bavaria-...  432319.0   \n",
       "3  https://www.yachtworld.com/yacht/1984-union-po...   31000.0   \n",
       "4  https://www.yachtworld.com/yacht/2023-dufour-4...  850000.0   \n",
       "5  https://www.yachtworld.com/yacht/2023-jeanneau...  519685.0   \n",
       "\n",
       "                         Basics.Location   New  \n",
       "0     Seattle, Washington, United States  True  \n",
       "1       Racine, Wisconsin, United States  True  \n",
       "2   San Diego, California, United States  True  \n",
       "3  Emeryville, California, United States  True  \n",
       "4       Racine, Wisconsin, United States  True  \n",
       "5   San Diego, California, United States  True  "
      ]
     },
     "execution_count": 5,
     "metadata": {},
     "output_type": "execute_result"
    }
   ],
   "source": [
    "links_table = pd.read_csv('all_links.csv', index_col=0)\n",
    "links_table.head(6)"
   ]
  },
  {
   "cell_type": "code",
   "execution_count": 6,
   "metadata": {},
   "outputs": [
    {
     "data": {
      "text/plain": [
       "['https://www.yachtworld.com/yacht/2023-jeanneau-380-8171644/',\n",
       " 'https://www.yachtworld.com/yacht/2023-dufour-37-8587334/',\n",
       " 'https://www.yachtworld.com/yacht/2023-bavaria-c42-8710488/',\n",
       " 'https://www.yachtworld.com/yacht/1984-union-polaris-8602417/',\n",
       " 'https://www.yachtworld.com/yacht/2023-dufour-470-8577883/']"
      ]
     },
     "execution_count": 6,
     "metadata": {},
     "output_type": "execute_result"
    }
   ],
   "source": [
    "# links_table.loc[4:6, 'Link']\n",
    "links = links_table['Link'].to_list()\n",
    "links[:5]"
   ]
  },
  {
   "cell_type": "code",
   "execution_count": 7,
   "metadata": {},
   "outputs": [],
   "source": [
    "from concurrent.futures import ThreadPoolExecutor, as_completed\n",
    "import time\n",
    "import numpy as np\n",
    "from tqdm import tqdm\n",
    "yacht_data_list = list(range(len(links)))\n",
    "error_list = {}\n",
    "def set_data(i):\n",
    "    # print(i)\n",
    "    try:\n",
    "        yacht_data_list[i] = get_yacht_data(links[i])\n",
    "    except Exception as e:\n",
    "        time.sleep(60)\n",
    "        try:\n",
    "            yacht_data_list[i] = get_yacht_data(links[i])\n",
    "        except:\n",
    "            error_list[i]=e\n",
    "            warnings.warn(f\"error for {i}: {e}\")\n",
    "        else:\n",
    "            error_list.pop(i, None)\n",
    "    else:\n",
    "        error_list.pop(i, None)"
   ]
  },
  {
   "cell_type": "code",
   "execution_count": 8,
   "metadata": {},
   "outputs": [
    {
     "name": "stderr",
     "output_type": "stream",
     "text": [
      "100%|██████████| 64/64 [00:25<00:00,  2.52it/s]\n"
     ]
    }
   ],
   "source": [
    "with ThreadPoolExecutor(max_workers=32) as t:\n",
    "    # tasks = [t.submit(set_data, i) for i in range(len(links))]\n",
    "    tasks = [t.submit(set_data, i) for i in np.random.choice(len(links), 64, replace=False)]\n",
    "    # tasks = [t.submit(set_data, i) for i in range(64)]\n",
    "    for future in tqdm(as_completed(tasks), total=len(tasks)):\n",
    "        pass    "
   ]
  },
  {
   "cell_type": "code",
   "execution_count": 9,
   "metadata": {},
   "outputs": [
    {
     "data": {
      "text/plain": [
       "({}, 0)"
      ]
     },
     "execution_count": 9,
     "metadata": {},
     "output_type": "execute_result"
    }
   ],
   "source": [
    "error_list, len(error_list)"
   ]
  },
  {
   "cell_type": "code",
   "execution_count": 12,
   "metadata": {},
   "outputs": [],
   "source": [
    "links_table=links_table.rename(columns={'Price':'Price-1'})"
   ]
  },
  {
   "cell_type": "code",
   "execution_count": 13,
   "metadata": {},
   "outputs": [
    {
     "data": {
      "text/html": [
       "<div>\n",
       "<style scoped>\n",
       "    .dataframe tbody tr th:only-of-type {\n",
       "        vertical-align: middle;\n",
       "    }\n",
       "\n",
       "    .dataframe tbody tr th {\n",
       "        vertical-align: top;\n",
       "    }\n",
       "\n",
       "    .dataframe thead th {\n",
       "        text-align: right;\n",
       "    }\n",
       "</style>\n",
       "<table border=\"1\" class=\"dataframe\">\n",
       "  <thead>\n",
       "    <tr style=\"text-align: right;\">\n",
       "      <th></th>\n",
       "      <th>Link</th>\n",
       "      <th>Price-1</th>\n",
       "      <th>Basics.Location</th>\n",
       "      <th>New</th>\n",
       "    </tr>\n",
       "  </thead>\n",
       "  <tbody>\n",
       "    <tr>\n",
       "      <th>0</th>\n",
       "      <td>https://www.yachtworld.com/yacht/2023-jeanneau...</td>\n",
       "      <td>329795.0</td>\n",
       "      <td>Seattle, Washington, United States</td>\n",
       "      <td>True</td>\n",
       "    </tr>\n",
       "    <tr>\n",
       "      <th>1</th>\n",
       "      <td>https://www.yachtworld.com/yacht/2023-dufour-3...</td>\n",
       "      <td>364999.0</td>\n",
       "      <td>Racine, Wisconsin, United States</td>\n",
       "      <td>True</td>\n",
       "    </tr>\n",
       "    <tr>\n",
       "      <th>2</th>\n",
       "      <td>https://www.yachtworld.com/yacht/2023-bavaria-...</td>\n",
       "      <td>432319.0</td>\n",
       "      <td>San Diego, California, United States</td>\n",
       "      <td>True</td>\n",
       "    </tr>\n",
       "    <tr>\n",
       "      <th>3</th>\n",
       "      <td>https://www.yachtworld.com/yacht/1984-union-po...</td>\n",
       "      <td>31000.0</td>\n",
       "      <td>Emeryville, California, United States</td>\n",
       "      <td>True</td>\n",
       "    </tr>\n",
       "    <tr>\n",
       "      <th>4</th>\n",
       "      <td>https://www.yachtworld.com/yacht/2023-dufour-4...</td>\n",
       "      <td>850000.0</td>\n",
       "      <td>Racine, Wisconsin, United States</td>\n",
       "      <td>True</td>\n",
       "    </tr>\n",
       "  </tbody>\n",
       "</table>\n",
       "</div>"
      ],
      "text/plain": [
       "                                                Link   Price-1  \\\n",
       "0  https://www.yachtworld.com/yacht/2023-jeanneau...  329795.0   \n",
       "1  https://www.yachtworld.com/yacht/2023-dufour-3...  364999.0   \n",
       "2  https://www.yachtworld.com/yacht/2023-bavaria-...  432319.0   \n",
       "3  https://www.yachtworld.com/yacht/1984-union-po...   31000.0   \n",
       "4  https://www.yachtworld.com/yacht/2023-dufour-4...  850000.0   \n",
       "\n",
       "                         Basics.Location   New  \n",
       "0     Seattle, Washington, United States  True  \n",
       "1       Racine, Wisconsin, United States  True  \n",
       "2   San Diego, California, United States  True  \n",
       "3  Emeryville, California, United States  True  \n",
       "4       Racine, Wisconsin, United States  True  "
      ]
     },
     "execution_count": 13,
     "metadata": {},
     "output_type": "execute_result"
    }
   ],
   "source": [
    "links_table.head()"
   ]
  }
 ],
 "metadata": {
  "kernelspec": {
   "display_name": "ai",
   "language": "python",
   "name": "python3"
  },
  "language_info": {
   "codemirror_mode": {
    "name": "ipython",
    "version": 3
   },
   "file_extension": ".py",
   "mimetype": "text/x-python",
   "name": "python",
   "nbconvert_exporter": "python",
   "pygments_lexer": "ipython3",
   "version": "3.11.0"
  },
  "orig_nbformat": 4
 },
 "nbformat": 4,
 "nbformat_minor": 2
}
