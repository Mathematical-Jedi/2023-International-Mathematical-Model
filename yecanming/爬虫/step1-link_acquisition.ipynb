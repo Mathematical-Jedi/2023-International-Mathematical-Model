{
 "cells": [
  {
   "cell_type": "code",
   "execution_count": 3,
   "metadata": {},
   "outputs": [
    {
     "data": {
      "text/plain": [
       "<Response [200]>"
      ]
     },
     "execution_count": 3,
     "metadata": {},
     "output_type": "execute_result"
    }
   ],
   "source": [
    "import stable_get_html\n",
    "stable_get_html.get_html('https://baidu.com')"
   ]
  },
  {
   "cell_type": "code",
   "execution_count": 4,
   "metadata": {},
   "outputs": [],
   "source": [
    "import requests\n",
    "headers = {'User-Agent': \"Mozilla/5.0 (Windows NT 10.0; Win64; x64) AppleWebKit/537.36 (KHTML, like Gecko) Chrome/111.0.0.0 Safari/537.36 Edg/111.0.1661.62\",\n",
    "}"
   ]
  },
  {
   "cell_type": "code",
   "execution_count": 5,
   "metadata": {},
   "outputs": [],
   "source": [
    "params = {\n",
    "    \"apikey\":\"827d6e453fef4ce390afe017b5a7db4b\",\n",
    "    'uom':'ft',\n",
    "    'locale':'en_US',\n",
    "    \"currency\":\"USD\",\n",
    "    \"condition\":\"used\",\n",
    "    # \"condition\":\"new\",\n",
    "    \"multiFacetedBoatTypeClass\":'[\"sail\"]',\n",
    "    'sort':'price-asc',\n",
    "    'variant':'0',\n",
    "    'isMultiSearch':'true',\n",
    "    'fields':'mappedURL,tags,date.created,date.indexed,make,model,condition,boat.boatType,boat.class,year,boat.specifications.dimensions.lengths.nominal,price.type.amount,price.discount,owner.logos,owner.id,owner.name,media.0,id,aliases.imt,aliases.yachtworld,mediaCount,status,isCurrentModel,isOemModel,location.city,location.normalizedCity,location.countrySubDivisionCode,location.isoSubDivisionCode,location.countryCode,location.postalCode,boat.attributes,boat.cpybLogo,salesRep.certs',\n",
    "    'page':'1',\n",
    "}\n",
    "res = requests.get('https://api-gateway.boats.com/api-yachtworld/search', params=params, headers=headers)\n",
    "#    ?apikey=827d6e453fef4ce390afe017b5a7db4b&multiFacetedBoatTypeClass=[\"sail\"]&uom=ft&locale=en_US&currency=USD&sort=price-desc&page=1&variant=0&seoContentType=type&videoType=type&isMultiSearch=true&fields=mappedURL,tags,date.created,date.indexed,make,model,condition,boat.boatType,boat.class,year,boat.specifications.dimensions.lengths.nominal,price.type.amount,price.discount,owner.logos,owner.id,owner.name,media.0,id,aliases.imt,aliases.yachtworld,mediaCount,status,isCurrentModel,isOemModel,location.city,location.normalizedCity,location.countrySubDivisionCode,location.isoSubDivisionCode,location.countryCode,location.postalCode,boat.attributes,boat.cpybLogo,salesRep.certs', headers=headers)\n",
    "result = res.json()"
   ]
  },
  {
   "cell_type": "code",
   "execution_count": 6,
   "metadata": {},
   "outputs": [
    {
     "data": {
      "text/plain": [
       "{'mappedURL': 'https://www.yachtworld.com/yacht/1988-test-monitoring-boat-keep-active-5815243/',\n",
       " 'tags': ['exchangesite.adb',\n",
       "  'exchangesite.adobe.saint',\n",
       "  'exchangesite.boats',\n",
       "  'exchangesite.boot24',\n",
       "  'exchangesite.botenbank',\n",
       "  'exchangesite.botentekoop',\n",
       "  'exchangesite.btol',\n",
       "  'exchangesite.pls',\n",
       "  'exchangesite.yw',\n",
       "  'portal.boats',\n",
       "  'portal.boattrader',\n",
       "  'portal.yachtworld',\n",
       "  'portal.adb',\n",
       "  'portal.botentekoop',\n",
       "  'portal.botenbank',\n",
       "  'portal.boot24'],\n",
       " 'date': {'created': '2016-05-20T22:51:30Z',\n",
       "  'indexed': '2023-03-21T14:20:33.508Z'},\n",
       " 'make': 'Test',\n",
       " 'model': 'MONITORING BOAT KEEP ACTIVE',\n",
       " 'condition': 'used',\n",
       " 'boat': {'boatType': 'sail',\n",
       "  'class': 'sail-day',\n",
       "  'specifications': {'dimensions': {'lengths': {'nominal': {'ft': 14.92,\n",
       "      'm': 4.55}}}}},\n",
       " 'year': 1988,\n",
       " 'price': {'type': {'amount': {'AUD': 184.06,\n",
       "    'CAD': 166.93,\n",
       "    'CHF': 113.63,\n",
       "    'CZK': 2676.05,\n",
       "    'DKK': 850.51,\n",
       "    'EUR': 114.15,\n",
       "    'GBP': 100.25,\n",
       "    'HUF': 43235.7,\n",
       "    'INR': 10206.6,\n",
       "    'NOK': 1287.16,\n",
       "    'NZD': 197.71,\n",
       "    'PLN': 533.95,\n",
       "    'RUB': 9687.5,\n",
       "    'SEK': 1288.27,\n",
       "    'THB': 4264.25,\n",
       "    'USD': 124}}},\n",
       " 'owner': {'logos': {'default': '',\n",
       "   'BTOLEnhanced': '',\n",
       "   'YWEnhanced': '',\n",
       "   'ADBEnhanced': '',\n",
       "   'BS24Enhanced': '',\n",
       "   'BS24UKEnhanced': '',\n",
       "   'BoatsandoutboardsEnhanced': '',\n",
       "   'BotentekoopEnhanced': '',\n",
       "   'BotenEnhanced': '',\n",
       "   'BotenbankEnhanced': '',\n",
       "   'Boot24Enhanced': '',\n",
       "   'CDBEnhanced': ''},\n",
       "  'id': 18486,\n",
       "  'name': 'Monitoring Test Brokerage'},\n",
       " 'media': [{'date': {'created': '2016-05-20T22:51:30Z',\n",
       "    'modified': '2016-05-20T22:51:30Z'},\n",
       "   'sortOrder': 0,\n",
       "   'title': 'Manufacturer Provided Image',\n",
       "   'mediaType': 'image',\n",
       "   'externalUrl': 'http://ll.boats.com/photos/ovation/15563_102_ex1.jpg',\n",
       "   'status': 'PROCESSED',\n",
       "   'languageCode': 'en',\n",
       "   'autoCreate': False,\n",
       "   'autoDescription': None,\n",
       "   'height': 309,\n",
       "   'width': 606,\n",
       "   'format': 0,\n",
       "   'url': '/1/14/36/101436_0_070320091703_0.jpg',\n",
       "   'original': {'height': 309,\n",
       "    'width': 606,\n",
       "    'url': '/1/14/36/101436_0_070320091703_0.jpg'}}],\n",
       " 'id': 5815243,\n",
       " 'aliases': {'imt': 5815243, 'yachtworld': '3062507'},\n",
       " 'mediaCount': {'image': 1},\n",
       " 'status': 'active',\n",
       " 'isCurrentModel': False,\n",
       " 'isOemModel': False,\n",
       " 'location': {'city': 'Brooklyn',\n",
       "  'normalizedCity': 'Brooklyn',\n",
       "  'countrySubDivisionCode': 'NY',\n",
       "  'isoSubDivisionCode': 'US-NY',\n",
       "  'countryCode': 'US',\n",
       "  'postalCode': '11201'},\n",
       " 'salesRep': {'certs': []}}"
      ]
     },
     "execution_count": 6,
     "metadata": {},
     "output_type": "execute_result"
    }
   ],
   "source": [
    "result.keys()\n",
    "search_result = result['search']\n",
    "search_result.keys()\n",
    "count = search_result['count']\n",
    "first_page = search_result['currentPage']\n",
    "last_page = search_result['lastPage']\n",
    "search_result['records'][0]\n"
   ]
  },
  {
   "cell_type": "code",
   "execution_count": 23,
   "metadata": {},
   "outputs": [
    {
     "name": "stderr",
     "output_type": "stream",
     "text": [
      "100%|██████████| 666/666 [43:07<00:00,  3.89s/it] \n"
     ]
    }
   ],
   "source": [
    "from concurrent.futures import ThreadPoolExecutor, as_completed\n",
    "from tqdm import tqdm, trange\n",
    "\n",
    "records = [dict() for _ in range(count)] \n",
    "\n",
    "def process_page(current_page):\n",
    "    my_params = params.copy()\n",
    "    my_params['page'] = str(current_page)\n",
    "    # res = requests.get('https://api-gateway.boats.com/api-yachtworld/search', params=my_params, headers=headers)\n",
    "    res = stable_get_html.get_html('https://api-gateway.boats.com/api-yachtworld/search', params=my_params)\n",
    "    result = res.json()\n",
    "    search_result = result['search']\n",
    "    assert search_result['currentPage']==current_page\n",
    "    assert search_result['currentPageSize']==15 or current_page==last_page\n",
    "    index = 15*(current_page-1)\n",
    "    records[index:index+search_result['currentPageSize']] = search_result['records']\n",
    "    \n",
    "    \n",
    "with ThreadPoolExecutor(max_workers=64) as t:\n",
    "    tasks = [t.submit(process_page, current_page) for current_page in range(first_page, last_page+1)]\n",
    "    for future in tqdm(as_completed(tasks), total=len(tasks)):\n",
    "        pass"
   ]
  },
  {
   "cell_type": "code",
   "execution_count": 24,
   "metadata": {},
   "outputs": [
    {
     "data": {
      "text/plain": [
       "False"
      ]
     },
     "execution_count": 24,
     "metadata": {},
     "output_type": "execute_result"
    }
   ],
   "source": [
    "len(records), count\n",
    "all(map(lambda x: x!={}, records))"
   ]
  },
  {
   "cell_type": "code",
   "execution_count": 18,
   "metadata": {},
   "outputs": [
    {
     "data": {
      "text/plain": [
       "{'url': 'https://www.yachtworld.com/yacht/1988-test-monitoring-boat-keep-active-5815243/',\n",
       " 'new': False,\n",
       " 'price': 124,\n",
       " 'location': {'city': 'Brooklyn',\n",
       "  'normalizedCity': 'Brooklyn',\n",
       "  'countrySubDivisionCode': 'NY',\n",
       "  'isoSubDivisionCode': 'US-NY',\n",
       "  'countryCode': 'US',\n",
       "  'postalCode': '11201'}}"
      ]
     },
     "execution_count": 18,
     "metadata": {},
     "output_type": "execute_result"
    }
   ],
   "source": [
    "def trans(record):\n",
    "    result = {}\n",
    "    try:\n",
    "        result['url'] = record['mappedURL']\n",
    "        result['new'] = (record['condition']=='new')\n",
    "        if record.get('price') is not None:\n",
    "            result['price'] = record['price']['type']['amount']['USD']\n",
    "        if record.get('location') is not None:\n",
    "            result['location'] = record['location']\n",
    "    except Exception as e:\n",
    "        print(record)\n",
    "        # print(e)\n",
    "        raise e\n",
    "    return result\n",
    "trans(search_result['records'][0])"
   ]
  },
  {
   "cell_type": "code",
   "execution_count": 20,
   "metadata": {},
   "outputs": [
    {
     "data": {
      "text/plain": [
       "[{},\n",
       " {},\n",
       " {},\n",
       " {},\n",
       " {},\n",
       " {},\n",
       " {},\n",
       " {},\n",
       " {},\n",
       " {},\n",
       " {},\n",
       " {},\n",
       " {},\n",
       " {},\n",
       " {},\n",
       " {},\n",
       " {},\n",
       " {},\n",
       " {},\n",
       " {},\n",
       " {},\n",
       " {},\n",
       " {},\n",
       " {},\n",
       " {},\n",
       " {},\n",
       " {},\n",
       " {},\n",
       " {},\n",
       " {}]"
      ]
     },
     "execution_count": 20,
     "metadata": {},
     "output_type": "execute_result"
    }
   ],
   "source": [
    "records[0:30]"
   ]
  },
  {
   "cell_type": "code",
   "execution_count": 19,
   "metadata": {},
   "outputs": [
    {
     "name": "stdout",
     "output_type": "stream",
     "text": [
      "{}\n"
     ]
    },
    {
     "ename": "KeyError",
     "evalue": "'mappedURL'",
     "output_type": "error",
     "traceback": [
      "\u001b[1;31m---------------------------------------------------------------------------\u001b[0m",
      "\u001b[1;31mKeyError\u001b[0m                                  Traceback (most recent call last)",
      "Cell \u001b[1;32mIn[19], line 1\u001b[0m\n\u001b[1;32m----> 1\u001b[0m results \u001b[39m=\u001b[39m \u001b[39mlist\u001b[39;49m(\u001b[39mmap\u001b[39;49m(trans, records))\n\u001b[0;32m      2\u001b[0m results\n",
      "Cell \u001b[1;32mIn[18], line 13\u001b[0m, in \u001b[0;36mtrans\u001b[1;34m(record)\u001b[0m\n\u001b[0;32m     11\u001b[0m     \u001b[39mprint\u001b[39m(record)\n\u001b[0;32m     12\u001b[0m     \u001b[39m# print(e)\u001b[39;00m\n\u001b[1;32m---> 13\u001b[0m     \u001b[39mraise\u001b[39;00m e\n\u001b[0;32m     14\u001b[0m \u001b[39mreturn\u001b[39;00m result\n",
      "Cell \u001b[1;32mIn[18], line 4\u001b[0m, in \u001b[0;36mtrans\u001b[1;34m(record)\u001b[0m\n\u001b[0;32m      2\u001b[0m result \u001b[39m=\u001b[39m {}\n\u001b[0;32m      3\u001b[0m \u001b[39mtry\u001b[39;00m:\n\u001b[1;32m----> 4\u001b[0m     result[\u001b[39m'\u001b[39m\u001b[39murl\u001b[39m\u001b[39m'\u001b[39m] \u001b[39m=\u001b[39m record[\u001b[39m'\u001b[39;49m\u001b[39mmappedURL\u001b[39;49m\u001b[39m'\u001b[39;49m]\n\u001b[0;32m      5\u001b[0m     result[\u001b[39m'\u001b[39m\u001b[39mnew\u001b[39m\u001b[39m'\u001b[39m] \u001b[39m=\u001b[39m (record[\u001b[39m'\u001b[39m\u001b[39mcondition\u001b[39m\u001b[39m'\u001b[39m]\u001b[39m==\u001b[39m\u001b[39m'\u001b[39m\u001b[39mnew\u001b[39m\u001b[39m'\u001b[39m)\n\u001b[0;32m      6\u001b[0m     \u001b[39mif\u001b[39;00m record\u001b[39m.\u001b[39mget(\u001b[39m'\u001b[39m\u001b[39mprice\u001b[39m\u001b[39m'\u001b[39m) \u001b[39mis\u001b[39;00m \u001b[39mnot\u001b[39;00m \u001b[39mNone\u001b[39;00m:\n",
      "\u001b[1;31mKeyError\u001b[0m: 'mappedURL'"
     ]
    }
   ],
   "source": [
    "results = list(map(trans, records))\n",
    "results"
   ]
  },
  {
   "cell_type": "code",
   "execution_count": null,
   "metadata": {},
   "outputs": [],
   "source": [
    "new_boats_base_link = \"https://www.yachtworld.com/boats-for-sale/condition-new/type-sail/sort-price:asc/\"\n",
    "old_boats_base_link = \"https://www.yachtworld.com/boats-for-sale/condition-used/type-sail/sort-price:asc/\""
   ]
  }
 ],
 "metadata": {
  "kernelspec": {
   "display_name": "base",
   "language": "python",
   "name": "python3"
  },
  "language_info": {
   "codemirror_mode": {
    "name": "ipython",
    "version": 3
   },
   "file_extension": ".py",
   "mimetype": "text/x-python",
   "name": "python",
   "nbconvert_exporter": "python",
   "pygments_lexer": "ipython3",
   "version": "3.9.13"
  },
  "orig_nbformat": 4
 },
 "nbformat": 4,
 "nbformat_minor": 2
}
