{
 "cells": [
  {
   "cell_type": "code",
   "execution_count": 66,
   "metadata": {},
   "outputs": [
    {
     "data": {
      "text/plain": [
       "<Response [200]>"
      ]
     },
     "execution_count": 66,
     "metadata": {},
     "output_type": "execute_result"
    }
   ],
   "source": [
    "import requests\n",
    "import pandas as pd\n",
    "from bs4 import BeautifulSoup\n",
    "\n",
    "# 设置请求头部信息，模拟浏览器请求\n",
    "headers = {\n",
    "    'User-Agent': 'Mozilla/5.0 (Windows NT 10.0; Win64; x64) AppleWebKit/537.36 (KHTML, like Gecko) Chrome/58.0.3029.110 Safari/537.36'}\n",
    "# 设置YachtWorld网站上的搜索条件\n",
    "search_params = {\n",
    "    'class': 'sail',\n",
    "    # 'price': 'USD100000-500000',\n",
    "    # 'length': '40-50ft'\n",
    "}\n",
    "base_url = 'https://www.yachtworld.com'\n",
    "\n",
    "requests.get(base_url, \n",
    "    headers=headers)"
   ]
  },
  {
   "attachments": {},
   "cell_type": "markdown",
   "metadata": {},
   "source": [
    "## 并发获得所有页上的船的url，形成一个url列表"
   ]
  },
  {
   "cell_type": "code",
   "execution_count": 67,
   "metadata": {},
   "outputs": [
    {
     "name": "stderr",
     "output_type": "stream",
     "text": [
      "100%|██████████| 147/147 [00:37<00:00,  3.97it/s]\n"
     ]
    }
   ],
   "source": [
    "# 使用 Concurrent.futures 模块中的 ThreadPoolExecutor 类来实现异步请求\n",
    "from concurrent.futures import ThreadPoolExecutor, as_completed\n",
    "from tqdm import tqdm\n",
    "# pages = 1\n",
    "pages = 147\n",
    "req_list = list(range(pages))\n",
    "# sn = requests.Session()\n",
    "def transform(i):\n",
    "    # temp = sn.get(f'https://www.yachtworld.com/boats-for-sale/condition-new/type-sail/?page={i+1}', headers=headers).text\n",
    "    temp = requests.get(f'https://www.yachtworld.com/boats-for-sale/condition-new/type-sail/?page={i+1}', headers=headers).text\n",
    "    # temp = requests.get(f'https://www.yachtworld.com/boats-for-sale/condition-used/type-sail/sort-recommended:desc/?page={i+1}', headers=headers).text\n",
    "    req_list[i] = BeautifulSoup(temp, 'html.parser')\n",
    "with ThreadPoolExecutor(max_workers=64) as t:\n",
    "    tasks = [t.submit(transform, i) for i in range(pages)]\n",
    "    for future in tqdm(as_completed(tasks), total=len(tasks)):\n",
    "        pass"
   ]
  },
  {
   "cell_type": "code",
   "execution_count": 58,
   "metadata": {},
   "outputs": [
    {
     "data": {
      "text/plain": [
       "True"
      ]
     },
     "execution_count": 58,
     "metadata": {},
     "output_type": "execute_result"
    }
   ],
   "source": [
    "soups = req_list\n",
    "all(map(lambda x: isinstance(x, BeautifulSoup), soups))"
   ]
  },
  {
   "cell_type": "code",
   "execution_count": 63,
   "metadata": {},
   "outputs": [],
   "source": [
    "from typing import List\n",
    "\n",
    "def get_urls_from_search_page(soup:List[BeautifulSoup]):\n",
    "    a = soup.select('#root > div.search > div.flex.flex-row > div.search-right-col > div.pagination-and-results-container.search-display > div.listings-container')\n",
    "    a = a[0]\n",
    "    links = [link.get('href') for link  in a.find_all(name='a')]\n",
    "    return links\n",
    "\n",
    "links = sum(map(get_urls_from_search_page, soups), [])"
   ]
  },
  {
   "cell_type": "code",
   "execution_count": 64,
   "metadata": {},
   "outputs": [
    {
     "data": {
      "text/plain": [
       "2188"
      ]
     },
     "execution_count": 64,
     "metadata": {},
     "output_type": "execute_result"
    }
   ],
   "source": [
    "all(map(lambda x: x.startswith('https://'), links)) # 合法性\n",
    "len(links) # 数量\n",
    "# unique的数量\n",
    "len(set(links))\n"
   ]
  },
  {
   "cell_type": "code",
   "execution_count": 61,
   "metadata": {},
   "outputs": [],
   "source": [
    "with open('links.txt', 'w') as f:\n",
    "    f.write('\\n'.join(links))"
   ]
  },
  {
   "attachments": {},
   "cell_type": "markdown",
   "metadata": {},
   "source": [
    "## 探索性分析每一个具体url的页面结构"
   ]
  },
  {
   "cell_type": "code",
   "execution_count": 8,
   "metadata": {},
   "outputs": [
    {
     "data": {
      "text/plain": [
       "{'a': 1, 'b': 2}"
      ]
     },
     "execution_count": 8,
     "metadata": {},
     "output_type": "execute_result"
    }
   ],
   "source": [
    "a = {'a':1}\n",
    "a.update({'b':2})\n",
    "a"
   ]
  },
  {
   "cell_type": "code",
   "execution_count": 9,
   "metadata": {},
   "outputs": [
    {
     "data": {
      "text/plain": [
       "'2023 Jeanneau Sun Odyssey 490 Cruiser for sale - YachtWorld✕YachtWorld AppMake your dream come true todayOpenBoatsPower BoatsSailboatsSell Your BoatPersonal Boat ShopperResearchServicesYacht BrokersBoat DealersSurveyorsYacht LoansInsuranceBoat TransportDirectoryToggle NavigationUnited States (English) ▼ Danmark - Dansk Deutschland - Deutsch Australia - English United Kingdom - English España - Español Suomi - suomi France - Français Italia - Italiano Nederland - Nederlands Norge - Norsk Sverige - SvenskaLogin  CloseMarine Servicenter - Seattle2442 Westlake Ave North, Seattle, 98109, United StatesView phone numberCloseContact the Seller* Please correct highlighted errors.NamePhone (optional)EmailMessageI recently viewed your listing on YachtWorld and I am interested in more details. Thank you.NameContact BrokerHome⁄/Boats for sale⁄/Sail⁄/Cruiser⁄/Jeanneau⁄/2023 Jeanneau Sun Odyssey 4902023 Jeanneau Sun Odyssey 490US$654,896Seattle, Washington1/57Image coming soonImage coming soonImage coming soonImage coming soonImage coming soonImage coming soonImage coming soonImage coming soonImage coming soonImage coming soonImage coming soonImage coming soonImage coming soonImage coming soonImage coming soonImage coming soonImage coming soonImage coming soonImage coming soonImage coming soonImage coming soonImage coming soonImage coming soonImage coming soonImage coming soonImage coming soonImage coming soonImage coming soonImage coming soonImage coming soonImage coming soonImage coming soonImage coming soonImage coming soonImage coming soonImage coming soonImage coming soonImage coming soonImage coming soonImage coming soonImage coming soonImage coming soonImage coming soonImage coming soonImage coming soonImage coming soonImage coming soonImage coming soonImage coming soonImage coming soonImage coming soonImage coming soonImage coming soonImage coming soonImage coming soonImage coming soonImage coming soon1 of 57ContactLive Video TourMore from this BrokerShareView 57 PhotosMarine Servicenter - Seattle2442 Westlake Ave North, Seattle, 98109, United StatesView phone numberCloseContact the Seller* Please correct highlighted errors.NamePhone (optional)EmailMessageI recently viewed your listing on YachtWorld and I am interested in more details. Thank you.NameContact Broker2023 Jeanneau Sun Odyssey 49049ftUS$654,896 Seattle, WashingtonLocal Delivery AvailableBasicsYear2023MakeJeanneauModelSun Odyssey 490ClassCruiserLength49ftFuel TypeDieselHull MaterialFiberglassHull ShapeMonohullHull Warranty7 yearsOffered ByMarine Servicenter - SeattleDescription2023 Jeanneau Sun Odyssey 490ALL-NEW!\\xa0 Full Chine \"Scow Bow\" hull, sails with bow \"up\" into the wind.\\xa0 Skips and hops across wave & swell, displaces water outward, very dry and comfortable ride!\\nSAVE $42,089\\xa0!! on 2023 Jeanneau 490 #77424 ONLY!\\xa0 Arrived - Seattle\\n\\xa0This\\xa0new model has\\xa0revolutionized cruising: she is the first of the next generation (8th generation) Sun Odyssey\\'s and features inclined \"walk around\" Side Decks for ease of movement from twin helms directly forward to the bow!\\xa0 Full Length Chine Hull with NEW \"Skow Bow\" design.\\xa0 Sailing performance\\xa0and movement onboard\\xa0redefined!\\xa0\\nWith this next generation hull form evolution, Jeanneau has created a sailboat with tremendous buoyancy forward yet sleek and fast thru the water.\\xa0 When sailing the new 490 the bow stays \"up\" into the wind and rises slightly as she floats and skips thru waves and seas - unlike anything in the market today!\\xa0\\nThe new Sun Odyssey 490 benefits from an entirely new, innovative layout for greater ease of movement and livability.\\xa0 Central galley with all storage low in the boat for reduced CG and better sailing.\\xa0 True rectangular berths in all 3 cabins with ample headroom throughout.\\xa0 Master suite forward with a \"modern boutique style hotel\" layout - separate shower compartment in center, vanity sink outboard to starboard, head and vanity in separate compartment to port.\\nAll-New Alpi \"Grey Oak\" wood finish with bright white accents and lots of natural light with large rectangular hull ports, big windows, and lots of deck hatches.\\xa0 A must see for sure!\\nSeaworthy and welcoming, cozy and sporty, masculine and feminine, the Sun Odyssey 490 is as attractive on the interior as on the exterior.\\xa0\\nCall or email today to discuss this new model in more detail or to reserve her for your sailing enjoyment!Show MoreOther DetailsDescription\\nGrey Cedar Interior - 3 Cabins / 2 Head Version\\nLight Oak laminate floorboards\\nUpholstery = Ambiance Riviera - Dark Blue Fabric\\nEngine Upgrade: Yanmar 80HP CR Sail Drive : Model 4JH80CR in lieu of Std 57 HP SD\\nUpgrade to Harken Electric Cabintop winch in lieu of Std.\\nUpgrade to Harken Electric Primary Winches (2) in lieu of Std.\\nElectric Drive for Aft Platform\\nRetractable Bow Thruster\\nNo White Fabric on Salon Bulkheads\\nAmbiance Lighting Lampshade\\nDiesel Forced Air Heating System\\nStool in Salon - Ocean Blue Fabric (Bench Seat - sits 2 w storage inside)\\nDeluxe Salon Table - Telescoping Legs & Folding Leaves\\nQuiet Flush Fresh Water Electric Head Fwd in lieu of Std\\nQuiet Flush Fresh Water Electric Head aft in lieu of Std\\nInverter - 2000W 12v/ 110V\\nWood Cockpit Sole\\nElectronics\\n1 RAYMARINE I70s MULTIFUNCTION DISPLAY\\n1 DEPTH-SPEED SENSOR\\n1 MASTHEAD WIND SENSOR\\n1 RAYMARINE RAY60 VHF\\n1 RAYMARINE VHF COCKPIT REMOTE\\n1 AIS 650 RAYMARINE TRANSCEIVER\\n1 RAYMARINE P70s AUTOPILOT PLUS ACU400 CORE UNIT AND GYROCOMPAS\\n1 AUTOPILOT WIRELESS REMOTE CONTROL (SMART CONTROLLER)\\n2 GPS RAYMARINE ES97 MULTIFUNCTION TOUCHSCREEN DISPLAYS WITH WIFI\\n1 RAYMARINE QUANTUM RADAR\\nNAVIONICS PLUS CHART SOFTWARE - US\\nDownwind Package\\nSpinnaker Hardware, Rigging for Asymetric Spinnaker or Code 0 (sails not included)\\nAdditional Coachroof Winch, Extra Winch Handle, Windex 15\\nEntertainment Package\\nRA70N Fusion Player (Radio/ USB/ Bluetooh), Bose Speakers in Salon\\nSubwoofer in Salon, Cockpit Speakers (2)\\nAdditional Information\\nJeanneau Construction, FRP Substrate Bonded, Ocean A Rated\\nShore power, 110v outlet/ room plus 25AH charger - 350AH 12v\\n2 Long ports salon, 2 medum ports fwd cabin, 1 medium port each aft cabin (6 total)\\nSTD High Aspect Classic Mast w/ Bainbridge HSX Mainsail\\nFacnor Genoa Furling System w/ Bainbridge HSX Dacron Headsail\\nElectric Windlass (BBB, 3/8), Leather on 2 Steering Wheels\\n2 Holding tanks w/ gravity feed drain (22 US Gal each)\\nHot and Cold Cockpit Shower, 110V hot water heater\\n12v. Integrated Refrigeration Box w/Top Load\\nStd Deep Performance Keel (7\\'4\"), Deep feather tipped Elliptical Rudder\\nAdditional Factory Options\\nGRP Bowsprit, 2nd Windlass Control w Chain Counter, Window Eybrows,Navicolor Battery Monitor System, Halyard Bag, Lifeline Gates, Wine Storage under Floor\\nLED Cockpit Courtesy Lights, Indirect LED Lighting in Cabin, Shades and Screens\\nSignature Clock and Baromoeter at Chart Table, Soundproof Lining in Closets\\nUpgrade AGM Batteries plus 2 Additional Batteries - Total 550A House plus Engine\\nDisclaimerThe Company offers the details of this vessel in good faith but cannot guarantee or warrant the accuracy of this information nor warrant the condition of the vessel. A buyer should instruct his agents, or his surveyors, to investigate such details as the buyer desires validated. This vessel is offered subject to prior sale, price change, or withdrawal without notice.PropulsionEngine MakeYanmarEngine Model4JH80CREngine Year2022Total Power80hpEngine Hours10Engine TypeInboardDrive TypeSail DriveFuel TypeDieselPropeller Type3 BladeSpecificationsSpeed & DistanceCruising Speed8.5knMax Speed9.5knDimensionsLength Overall48.5ftMax Draft7.33ftBeam14.67ftLength at Waterline43.42ftMiscellaneousWindlassElectric WindlassTanksFresh Water Tank168 gal (Plastic)Fuel Tank63 gal (Plastic)Holding Tank2 x 36 gal (Plastic)AccommodationsDouble Berths4Cabins3Heads2Request InformationCallMore yachts from Marine Servicenter - Seattle2010 Jeanneau Sun Odyssey 50DSUS$349,500Seattle, WashingtonMarine Servicenter - Seattle2023 Jeanneau 380US$329,795Seattle, WashingtonMarine Servicenter - Seattle2018 Jeanneau 58US$798,500Seattle, WashingtonMarine Servicenter - Seattle2023 Jeanneau Sun Odyssey 410US$429,875Seattle, WashingtonMarine Servicenter - SeattleMore from this Broker Visit WebsiteServicesContact UsHelpAbout UsMedia KitMembershipCookiesDo Not Sell My Personal InformationYachtWorld, 1221 Brickell Avenue, Miami, Florida 33131, USAcopyright © 2023 Boats Group All Rights Reserved.terms of use privacy cookiesAdChoices\\n\\n\\n\\n\\n\\n\\n\\n'"
      ]
     },
     "execution_count": 9,
     "metadata": {},
     "output_type": "execute_result"
    }
   ],
   "source": [
    "link = links[0]\n",
    "res = requests.get(link, headers=headers)\n",
    "soup = BeautifulSoup(res.text, 'html.parser')\n",
    "soup.text"
   ]
  },
  {
   "cell_type": "code",
   "execution_count": 10,
   "metadata": {},
   "outputs": [
    {
     "data": {
      "text/plain": [
       "'https://www.yachtworld.com/yacht/2023-jeanneau-sun-odyssey-490-8592752/'"
      ]
     },
     "execution_count": 10,
     "metadata": {},
     "output_type": "execute_result"
    }
   ],
   "source": [
    "link"
   ]
  },
  {
   "cell_type": "code",
   "execution_count": 43,
   "metadata": {},
   "outputs": [
    {
     "data": {
      "text/plain": [
       "{'Basic.Year': '2023',\n",
       " 'Basic.Make': 'Beneteau',\n",
       " 'Basic.Model': 'Oceanis Yacht 60',\n",
       " 'Basic.Class': 'Cruiser',\n",
       " 'Basic.Length': '60ft',\n",
       " 'Basic.FuelType': 'Gas',\n",
       " 'Basic.HullMaterial': 'Fiberglass',\n",
       " 'Basic.OfferedBy': 'Cape Yachts at South Wharf - South Dartmouth, MA'}"
      ]
     },
     "execution_count": 43,
     "metadata": {},
     "output_type": "execute_result"
    }
   ],
   "source": [
    "def basic_attributes(soup):\n",
    "    basic = soup.select('#BoatDetails > div.content.nav-slide.with-sticky-contact.home-block > div.boat-details > div.body > div.boat-details-content > div.details > div:nth-child(1) > div.collapsible.no-pad')\n",
    "    assert len(basic)==1\n",
    "    basic = basic[0]\n",
    "    titles = [f'Basic.{\"\".join(map(lambda x:x.capitalize(),t.text.strip().split()))}' for t in basic.select('td.datatable-title')]\n",
    "    values = [t.text.strip() for t in basic.select('td.datatable-value')]\n",
    "    return {k:v for k,v in zip(titles, values)}\n",
    "basic_attributes(soup)"
   ]
  },
  {
   "cell_type": "code",
   "execution_count": 47,
   "metadata": {},
   "outputs": [
    {
     "data": {
      "text/plain": [
       "{}"
      ]
     },
     "execution_count": 47,
     "metadata": {},
     "output_type": "execute_result"
    }
   ],
   "source": [
    "def propulsion_attributes(soup):\n",
    "    title = soup.select_one(\"#BoatDetails > div.content.nav-slide.with-sticky-contact.home-block > div.boat-details > div.body > div.boat-details-content > div.details > div:nth-child(4) > div.header > h4 > a\").text\n",
    "    if title.lower()!='propulsion':\n",
    "        return {}\n",
    "    propulsion = soup.select('#BoatDetails > div.content.nav-slide.with-sticky-contact.home-block > div.boat-details > div.body > div.boat-details-content > div.details > div:nth-child(4) > div.collapsible.no-pad')\n",
    "    # propulsion = soup.select('#BoatDetails > div.content.nav-slide.with-sticky-contact.home-block > div.boat-details > div.body > div.boat-details-content > div.details')\n",
    "    assert len(propulsion)==1\n",
    "    propulsion = propulsion[0]\n",
    "    titles = [f'Propulsion.{\"\".join(map(lambda x:x.capitalize(),t.text.strip().split()))}' for t in propulsion.select('td.datatable-title')]\n",
    "    values = [t.text.strip() for t in propulsion.select('td.datatable-value')]\n",
    "    return {k:v for k,v in zip(titles, values)}\n",
    "propulsion_attributes(soup)"
   ]
  },
  {
   "cell_type": "code",
   "execution_count": 36,
   "metadata": {},
   "outputs": [
    {
     "data": {
      "text/plain": [
       "1"
      ]
     },
     "execution_count": 36,
     "metadata": {},
     "output_type": "execute_result"
    }
   ],
   "source": [
    "# specification = soup.select('#BoatDetails > div.content.nav-slide.with-sticky-contact.home-block > div.boat-details > div.body > div.boat-details-content > div.details > div:nth-child(5) > div.collapsible.no-pad > div')\n",
    "specification = soup.select('#BoatDetails > div.content.nav-slide.with-sticky-contact.home-block > div.boat-details > div.body > div.boat-details-content > div.details')\n",
    "len(specification)"
   ]
  },
  {
   "cell_type": "code",
   "execution_count": 37,
   "metadata": {},
   "outputs": [
    {
     "data": {
      "text/plain": [
       "(['Dimensions.LengthOverall',\n",
       "  'Dimensions.MaxDraft',\n",
       "  'Dimensions.Beam',\n",
       "  'Dimensions.LengthatWaterline'],\n",
       " ['48.5ft', '7.33ft', '14.67ft', '43.42ft'])"
      ]
     },
     "execution_count": 37,
     "metadata": {},
     "output_type": "execute_result"
    }
   ],
   "source": [
    "# assert len(specification)==1\n",
    "specification = specification[0]\n",
    "sub_categories = specification.select('div.datatable-category')\n",
    "category = sub_categories[1]\n",
    "\n",
    "cate_name = category.find(attrs='sub-title').text\n",
    "titles = [f'{cate_name}.{\"\".join(t.text.strip().split())}' for t in category.select('td.datatable-title')]\n",
    "values = [t.text.strip() for t in category.select('td.datatable-value')]\n",
    "titles, values"
   ]
  },
  {
   "cell_type": "code",
   "execution_count": 14,
   "metadata": {},
   "outputs": [
    {
     "data": {
      "text/plain": [
       "<div class=\"datatable-category\"><h3 class=\"sub-title\">Dimensions</h3><table class=\"datatable-section\"><tbody class=\"datatable-section\"><tr class=\"datatable-item\"><td class=\"datatable-title\">Length Overall</td><td class=\"datatable-value\">48.5ft</td></tr><tr class=\"datatable-item\"><td class=\"datatable-title\">Max Draft</td><td class=\"datatable-value\">7.33ft</td></tr><tr class=\"datatable-item\"><td class=\"datatable-title\">Beam</td><td class=\"datatable-value\">14.67ft</td></tr><tr class=\"datatable-item\"><td class=\"datatable-title\">Length at Waterline</td><td class=\"datatable-value\">43.42ft</td></tr></tbody></table></div>"
      ]
     },
     "execution_count": 14,
     "metadata": {},
     "output_type": "execute_result"
    }
   ],
   "source": [
    "category"
   ]
  },
  {
   "cell_type": "code",
   "execution_count": 15,
   "metadata": {},
   "outputs": [
    {
     "data": {
      "text/plain": [
       "'Sdf'"
      ]
     },
     "execution_count": 15,
     "metadata": {},
     "output_type": "execute_result"
    }
   ],
   "source": [
    "' sdf  '.strip().capitalize()"
   ]
  },
  {
   "cell_type": "code",
   "execution_count": 48,
   "metadata": {},
   "outputs": [
    {
     "data": {
      "text/plain": [
       "{'Specification.Dimensions.LengthOverall': '62.17ft',\n",
       " 'Specification.Dimensions.Beam': '17.42ft',\n",
       " 'Specification.Tanks.FreshWaterTank': '1 x 211 gal ()',\n",
       " 'Specification.Tanks.FuelTank': '1 x 132 gal ()',\n",
       " 'Specification.Tanks.HoldingTank': '',\n",
       " 'Specification.Accommodations.DoubleBerths': '3',\n",
       " 'Specification.Accommodations.Cabins': '3',\n",
       " 'Specification.Accommodations.Heads': '3'}"
      ]
     },
     "execution_count": 48,
     "metadata": {},
     "output_type": "execute_result"
    }
   ],
   "source": [
    "def specification_attributes(soup):\n",
    "    title = soup.select_one(\"#BoatDetails > div.content.nav-slide.with-sticky-contact.home-block > div.boat-details > div.body > div.boat-details-content > div.details > div:nth-child(4) > div.header > h4 > a\").text\n",
    "    if title.lower()!='propulsion':\n",
    "        specification = soup.select('#BoatDetails > div.content.nav-slide.with-sticky-contact.home-block > div.boat-details > div.body > div.boat-details-content > div.details > div:nth-child(4) > div.collapsible.no-pad > div')\n",
    "    else:\n",
    "        specification = soup.select('#BoatDetails > div.content.nav-slide.with-sticky-contact.home-block > div.boat-details > div.body > div.boat-details-content > div.details > div:nth-child(5) > div.collapsible.no-pad > div')\n",
    "    assert len(specification)==1\n",
    "    specification = specification[0]\n",
    "    sub_categories = specification.select('div.datatable-category')\n",
    "    titles = []\n",
    "    values = []\n",
    "    for category in sub_categories:\n",
    "        cate_name = category.find(attrs='sub-title').text\n",
    "        cate_name = ''.join(map(lambda x:x.capitalize(), cate_name.split()))\n",
    "        titles += [f'Specification.{cate_name}.{\"\".join(map(lambda x:x.capitalize(),t.text.strip().split()))}' for t in category.select('td.datatable-title')]\n",
    "        values += [t.text.strip() for t in category.select('td.datatable-value')]\n",
    "    return {k:v for k,v in zip(titles, values)}\n",
    "specification_attributes(soup)"
   ]
  },
  {
   "cell_type": "code",
   "execution_count": 49,
   "metadata": {},
   "outputs": [
    {
     "ename": "ValueError",
     "evalue": "could not convert string to float: ''",
     "output_type": "error",
     "traceback": [
      "\u001b[0;31m---------------------------------------------------------------------------\u001b[0m",
      "\u001b[0;31mValueError\u001b[0m                                Traceback (most recent call last)",
      "Cell \u001b[0;32mIn[49], line 4\u001b[0m\n\u001b[1;32m      1\u001b[0m price \u001b[39m=\u001b[39m soup\u001b[39m.\u001b[39mselect_one(\u001b[39m'\u001b[39m\u001b[39m#BoatDetails > div.content.nav-slide.with-sticky-contact.home-block > div.boat-details > div.body > div > div.summary > div > span.payment-total\u001b[39m\u001b[39m'\u001b[39m)\n\u001b[1;32m      3\u001b[0m \u001b[39m# price.text.strip().split('$')[1]\u001b[39;00m\n\u001b[0;32m----> 4\u001b[0m x \u001b[39m=\u001b[39m \u001b[39mfloat\u001b[39;49m(\u001b[39m\"\u001b[39;49m\u001b[39m\"\u001b[39;49m\u001b[39m.\u001b[39;49mjoin(\u001b[39mlist\u001b[39;49m(\u001b[39mfilter\u001b[39;49m(\u001b[39mstr\u001b[39;49m\u001b[39m.\u001b[39;49misdigit,price\u001b[39m.\u001b[39;49mtext))))\n\u001b[1;32m      5\u001b[0m x\n",
      "\u001b[0;31mValueError\u001b[0m: could not convert string to float: ''"
     ]
    }
   ],
   "source": [
    "price = soup.select_one('#BoatDetails > div.content.nav-slide.with-sticky-contact.home-block > div.boat-details > div.body > div > div.summary > div > span.payment-total')\n",
    "\n",
    "# price.text.strip().split('$')[1]\n",
    "x = float(\"\".join(list(filter(str.isdigit,price.text))))\n",
    "x"
   ]
  },
  {
   "cell_type": "code",
   "execution_count": 50,
   "metadata": {},
   "outputs": [],
   "source": [
    "sn = requests.Session()"
   ]
  },
  {
   "cell_type": "code",
   "execution_count": 51,
   "metadata": {},
   "outputs": [
    {
     "data": {
      "text/plain": [
       "{'Basic.Year': '2023',\n",
       " 'Basic.Make': 'Beneteau',\n",
       " 'Basic.Model': 'Oceanis Yacht 60',\n",
       " 'Basic.Class': 'Cruiser',\n",
       " 'Basic.Length': '60ft',\n",
       " 'Basic.FuelType': 'Gas',\n",
       " 'Basic.HullMaterial': 'Fiberglass',\n",
       " 'Basic.OfferedBy': 'Cape Yachts at South Wharf - South Dartmouth, MA',\n",
       " 'Specification.Dimensions.LengthOverall': '62.17ft',\n",
       " 'Specification.Dimensions.Beam': '17.42ft',\n",
       " 'Specification.Tanks.FreshWaterTank': '1 x 211 gal ()',\n",
       " 'Specification.Tanks.FuelTank': '1 x 132 gal ()',\n",
       " 'Specification.Tanks.HoldingTank': '',\n",
       " 'Specification.Accommodations.DoubleBerths': '3',\n",
       " 'Specification.Accommodations.Cabins': '3',\n",
       " 'Specification.Accommodations.Heads': '3'}"
      ]
     },
     "execution_count": 51,
     "metadata": {},
     "output_type": "execute_result"
    }
   ],
   "source": [
    "# 爬取所有帆船的year属性和价格数据，并将它们存储到CSV文件中\n",
    "def get_yacht_data(url):\n",
    "    # res = requests.get(url, headers=headers)\n",
    "    res = sn.get(url, headers=headers)\n",
    "    soup = BeautifulSoup(res.text, 'html.parser')\n",
    "    result = {}\n",
    "    result.update(basic_attributes(soup))\n",
    "    result.update(propulsion_attributes(soup))\n",
    "    result.update(specification_attributes(soup))\n",
    "    try:\n",
    "        price = soup.select_one('#BoatDetails > div.content.nav-slide.with-sticky-contact.home-block > div.boat-details > div.body > div > div.summary > div > span.payment-total')\n",
    "        result['Price'] = float(\"\".join(list(filter(str.isdigit,price.text))))\n",
    "    except Exception as e:\n",
    "        pass\n",
    "    return result\n",
    "    \n",
    "get_yacht_data(link)"
   ]
  },
  {
   "cell_type": "code",
   "execution_count": 52,
   "metadata": {},
   "outputs": [
    {
     "name": "stderr",
     "output_type": "stream",
     "text": [
      "  2%|▏         | 1/64 [00:01<01:32,  1.47s/it]"
     ]
    },
    {
     "name": "stdout",
     "output_type": "stream",
     "text": [
      "'NoneType' object has no attribute 'text'\n"
     ]
    },
    {
     "name": "stderr",
     "output_type": "stream",
     "text": [
      "  3%|▎         | 2/64 [00:02<01:28,  1.43s/it]"
     ]
    },
    {
     "name": "stdout",
     "output_type": "stream",
     "text": [
      "'NoneType' object has no attribute 'text'\n"
     ]
    },
    {
     "name": "stderr",
     "output_type": "stream",
     "text": [
      "  6%|▋         | 4/64 [00:10<02:50,  2.84s/it]"
     ]
    },
    {
     "name": "stdout",
     "output_type": "stream",
     "text": [
      "'NoneType' object has no attribute 'text'\n",
      "'NoneType' object has no attribute 'text'\n",
      "'NoneType' object has no attribute 'text'\n",
      "'NoneType' object has no attribute 'text'\n"
     ]
    },
    {
     "name": "stderr",
     "output_type": "stream",
     "text": [
      "  9%|▉         | 6/64 [00:14<01:52,  1.94s/it]"
     ]
    },
    {
     "name": "stdout",
     "output_type": "stream",
     "text": [
      "'NoneType' object has no attribute 'text'\n",
      "'NoneType' object has no attribute 'text'\n",
      "'NoneType' object has no attribute 'text'\n",
      "'NoneType' object has no attribute 'text'\n",
      "'NoneType' object has no attribute 'text'\n",
      "'NoneType' object has no attribute 'text'\n",
      "'NoneType' object has no attribute 'text'\n",
      "'NoneType' object has no attribute 'text'\n"
     ]
    },
    {
     "name": "stderr",
     "output_type": "stream",
     "text": [
      " 11%|█         | 7/64 [00:14<01:38,  1.73s/it]"
     ]
    },
    {
     "name": "stdout",
     "output_type": "stream",
     "text": [
      "'NoneType' object has no attribute 'text'\n",
      "'NoneType' object has no attribute 'text'\n"
     ]
    },
    {
     "name": "stderr",
     "output_type": "stream",
     "text": [
      " 38%|███▊      | 24/64 [00:16<00:10,  3.82it/s]"
     ]
    },
    {
     "name": "stdout",
     "output_type": "stream",
     "text": [
      "'NoneType' object has no attribute 'text'\n",
      "'NoneType' object has no attribute 'text'\n",
      "'NoneType' object has no attribute 'text'\n",
      "'NoneType' object has no attribute 'text'\n",
      "'NoneType' object has no attribute 'text'\n",
      "'NoneType' object has no attribute 'text'\n"
     ]
    },
    {
     "name": "stderr",
     "output_type": "stream",
     "text": [
      " 39%|███▉      | 25/64 [00:17<00:10,  3.63it/s]"
     ]
    },
    {
     "name": "stdout",
     "output_type": "stream",
     "text": [
      "'NoneType' object has no attribute 'text'\n"
     ]
    },
    {
     "name": "stderr",
     "output_type": "stream",
     "text": [
      " 41%|████      | 26/64 [00:18<00:14,  2.67it/s]"
     ]
    },
    {
     "name": "stdout",
     "output_type": "stream",
     "text": [
      "'NoneType' object has no attribute 'text'\n",
      "'NoneType' object has no attribute 'text'\n"
     ]
    },
    {
     "name": "stderr",
     "output_type": "stream",
     "text": [
      " 44%|████▍     | 28/64 [00:19<00:17,  2.11it/s]"
     ]
    },
    {
     "name": "stdout",
     "output_type": "stream",
     "text": [
      "'NoneType' object has no attribute 'text'\n"
     ]
    },
    {
     "name": "stderr",
     "output_type": "stream",
     "text": [
      " 47%|████▋     | 30/64 [00:20<00:16,  2.01it/s]"
     ]
    },
    {
     "name": "stdout",
     "output_type": "stream",
     "text": [
      "'NoneType' object has no attribute 'text'\n",
      "'NoneType' object has no attribute 'text'\n",
      "'NoneType' object has no attribute 'text'\n",
      "'NoneType' object has no attribute 'text'\n",
      "'NoneType' object has no attribute 'text'\n",
      "'NoneType' object has no attribute 'text'\n"
     ]
    },
    {
     "name": "stderr",
     "output_type": "stream",
     "text": [
      " 48%|████▊     | 31/64 [00:23<00:30,  1.07it/s]"
     ]
    },
    {
     "name": "stdout",
     "output_type": "stream",
     "text": [
      "'NoneType' object has no attribute 'text'\n"
     ]
    },
    {
     "name": "stderr",
     "output_type": "stream",
     "text": [
      " 50%|█████     | 32/64 [00:25<00:36,  1.14s/it]"
     ]
    },
    {
     "name": "stdout",
     "output_type": "stream",
     "text": [
      "'NoneType' object has no attribute 'text'\n",
      "'NoneType' object has no attribute 'text'\n"
     ]
    },
    {
     "name": "stderr",
     "output_type": "stream",
     "text": [
      " 53%|█████▎    | 34/64 [00:27<00:34,  1.17s/it]"
     ]
    },
    {
     "name": "stdout",
     "output_type": "stream",
     "text": [
      "'NoneType' object has no attribute 'text'\n",
      "'NoneType' object has no attribute 'text'\n",
      "'NoneType' object has no attribute 'text'\n",
      "'NoneType' object has no attribute 'text'\n",
      "'NoneType' object has no attribute 'text'\n",
      "'NoneType' object has no attribute 'text'\n",
      "'NoneType' object has no attribute 'text'\n",
      "'NoneType' object has no attribute 'text'\n",
      "'NoneType' object has no attribute 'text'\n",
      "'NoneType' object has no attribute 'text'\n"
     ]
    },
    {
     "name": "stderr",
     "output_type": "stream",
     "text": [
      " 59%|█████▉    | 38/64 [00:28<00:12,  2.04it/s]"
     ]
    },
    {
     "name": "stdout",
     "output_type": "stream",
     "text": [
      "'NoneType' object has no attribute 'text'\n"
     ]
    },
    {
     "name": "stderr",
     "output_type": "stream",
     "text": [
      " 88%|████████▊ | 56/64 [00:29<00:00, 11.28it/s]"
     ]
    },
    {
     "name": "stdout",
     "output_type": "stream",
     "text": [
      "'NoneType' object has no attribute 'text'\n"
     ]
    },
    {
     "name": "stderr",
     "output_type": "stream",
     "text": [
      " 94%|█████████▍| 60/64 [00:47<00:07,  1.92s/it]"
     ]
    },
    {
     "name": "stdout",
     "output_type": "stream",
     "text": [
      "'NoneType' object has no attribute 'text'\n"
     ]
    },
    {
     "name": "stderr",
     "output_type": "stream",
     "text": [
      " 95%|█████████▌| 61/64 [00:47<00:05,  1.70s/it]"
     ]
    },
    {
     "name": "stdout",
     "output_type": "stream",
     "text": [
      "'NoneType' object has no attribute 'text'\n"
     ]
    },
    {
     "name": "stderr",
     "output_type": "stream",
     "text": [
      " 97%|█████████▋| 62/64 [00:48<00:03,  1.65s/it]"
     ]
    },
    {
     "name": "stdout",
     "output_type": "stream",
     "text": [
      "'NoneType' object has no attribute 'text'\n"
     ]
    },
    {
     "name": "stderr",
     "output_type": "stream",
     "text": [
      " 98%|█████████▊| 63/64 [00:51<00:01,  1.89s/it]"
     ]
    },
    {
     "name": "stdout",
     "output_type": "stream",
     "text": [
      "'NoneType' object has no attribute 'text'\n"
     ]
    },
    {
     "name": "stderr",
     "output_type": "stream",
     "text": [
      "100%|██████████| 64/64 [01:20<00:00,  1.26s/it]\n"
     ]
    }
   ],
   "source": [
    "import numpy as np\n",
    "\n",
    "\n",
    "yacht_data_list = list(range(len(links)))\n",
    "error_list = {}\n",
    "def set_data(i):\n",
    "    # print(i)\n",
    "    try:\n",
    "        yacht_data_list[i] = get_yacht_data(links[i])\n",
    "    except Exception as e:\n",
    "        error_list[i]=e\n",
    "        print(e)\n",
    "    \n",
    "# with ThreadPoolExecutor(max_workers=64) as t:\n",
    "with ThreadPoolExecutor(max_workers=32) as t:\n",
    "    # tasks = [t.submit(set_data, i) for i in range(len(links))]\n",
    "    tasks = [t.submit(set_data, i) for i in np.random.choice(len(links), 64, replace=False)]\n",
    "    # tasks = [t.submit(set_data, i) for i in range(64)]\n",
    "    for future in tqdm(as_completed(tasks), total=len(tasks)):\n",
    "        pass    "
   ]
  },
  {
   "cell_type": "code",
   "execution_count": 53,
   "metadata": {},
   "outputs": [
    {
     "data": {
      "text/plain": [
       "{212: AttributeError(\"'NoneType' object has no attribute 'text'\"),\n",
       " 885: AttributeError(\"'NoneType' object has no attribute 'text'\"),\n",
       " 1822: AttributeError(\"'NoneType' object has no attribute 'text'\"),\n",
       " 1866: AttributeError(\"'NoneType' object has no attribute 'text'\"),\n",
       " 2081: AttributeError(\"'NoneType' object has no attribute 'text'\"),\n",
       " 1548: AttributeError(\"'NoneType' object has no attribute 'text'\"),\n",
       " 337: AttributeError(\"'NoneType' object has no attribute 'text'\"),\n",
       " 273: AttributeError(\"'NoneType' object has no attribute 'text'\"),\n",
       " 1539: AttributeError(\"'NoneType' object has no attribute 'text'\"),\n",
       " 2078: AttributeError(\"'NoneType' object has no attribute 'text'\"),\n",
       " 87: AttributeError(\"'NoneType' object has no attribute 'text'\"),\n",
       " 1097: AttributeError(\"'NoneType' object has no attribute 'text'\"),\n",
       " 1976: AttributeError(\"'NoneType' object has no attribute 'text'\"),\n",
       " 1798: AttributeError(\"'NoneType' object has no attribute 'text'\"),\n",
       " 1684: AttributeError(\"'NoneType' object has no attribute 'text'\"),\n",
       " 93: AttributeError(\"'NoneType' object has no attribute 'text'\"),\n",
       " 1871: AttributeError(\"'NoneType' object has no attribute 'text'\"),\n",
       " 1355: AttributeError(\"'NoneType' object has no attribute 'text'\"),\n",
       " 1940: AttributeError(\"'NoneType' object has no attribute 'text'\"),\n",
       " 113: AttributeError(\"'NoneType' object has no attribute 'text'\"),\n",
       " 2077: AttributeError(\"'NoneType' object has no attribute 'text'\"),\n",
       " 909: AttributeError(\"'NoneType' object has no attribute 'text'\"),\n",
       " 2048: AttributeError(\"'NoneType' object has no attribute 'text'\"),\n",
       " 611: AttributeError(\"'NoneType' object has no attribute 'text'\"),\n",
       " 389: AttributeError(\"'NoneType' object has no attribute 'text'\"),\n",
       " 595: AttributeError(\"'NoneType' object has no attribute 'text'\"),\n",
       " 258: AttributeError(\"'NoneType' object has no attribute 'text'\"),\n",
       " 230: AttributeError(\"'NoneType' object has no attribute 'text'\"),\n",
       " 1549: AttributeError(\"'NoneType' object has no attribute 'text'\"),\n",
       " 1955: AttributeError(\"'NoneType' object has no attribute 'text'\"),\n",
       " 2173: AttributeError(\"'NoneType' object has no attribute 'text'\"),\n",
       " 1857: AttributeError(\"'NoneType' object has no attribute 'text'\"),\n",
       " 918: AttributeError(\"'NoneType' object has no attribute 'text'\"),\n",
       " 190: AttributeError(\"'NoneType' object has no attribute 'text'\"),\n",
       " 1804: AttributeError(\"'NoneType' object has no attribute 'text'\"),\n",
       " 2014: AttributeError(\"'NoneType' object has no attribute 'text'\"),\n",
       " 1018: AttributeError(\"'NoneType' object has no attribute 'text'\"),\n",
       " 1631: AttributeError(\"'NoneType' object has no attribute 'text'\"),\n",
       " 1568: AttributeError(\"'NoneType' object has no attribute 'text'\"),\n",
       " 613: AttributeError(\"'NoneType' object has no attribute 'text'\"),\n",
       " 456: AttributeError(\"'NoneType' object has no attribute 'text'\"),\n",
       " 477: AttributeError(\"'NoneType' object has no attribute 'text'\"),\n",
       " 435: AttributeError(\"'NoneType' object has no attribute 'text'\"),\n",
       " 1831: AttributeError(\"'NoneType' object has no attribute 'text'\"),\n",
       " 939: AttributeError(\"'NoneType' object has no attribute 'text'\"),\n",
       " 1014: AttributeError(\"'NoneType' object has no attribute 'text'\"),\n",
       " 2021: AttributeError(\"'NoneType' object has no attribute 'text'\"),\n",
       " 1644: AttributeError(\"'NoneType' object has no attribute 'text'\"),\n",
       " 1694: AttributeError(\"'NoneType' object has no attribute 'text'\"),\n",
       " 1255: AttributeError(\"'NoneType' object has no attribute 'text'\"),\n",
       " 1987: AttributeError(\"'NoneType' object has no attribute 'text'\")}"
      ]
     },
     "execution_count": 53,
     "metadata": {},
     "output_type": "execute_result"
    }
   ],
   "source": [
    "error_list\n",
    "# links[31]"
   ]
  },
  {
   "cell_type": "code",
   "execution_count": 54,
   "metadata": {},
   "outputs": [
    {
     "ename": "AttributeError",
     "evalue": "'NoneType' object has no attribute 'text'",
     "output_type": "error",
     "traceback": [
      "\u001b[0;31m---------------------------------------------------------------------------\u001b[0m",
      "\u001b[0;31mAttributeError\u001b[0m                            Traceback (most recent call last)",
      "Cell \u001b[0;32mIn[54], line 4\u001b[0m\n\u001b[1;32m      2\u001b[0m link\u001b[39m=\u001b[39m links[\u001b[39m212\u001b[39m]\n\u001b[1;32m      3\u001b[0m soup \u001b[39m=\u001b[39m BeautifulSoup(sn\u001b[39m.\u001b[39mget(link, headers\u001b[39m=\u001b[39mheaders)\u001b[39m.\u001b[39mtext, \u001b[39m'\u001b[39m\u001b[39mhtml.parser\u001b[39m\u001b[39m'\u001b[39m)\n\u001b[0;32m----> 4\u001b[0m get_yacht_data(link)\n",
      "Cell \u001b[0;32mIn[51], line 8\u001b[0m, in \u001b[0;36mget_yacht_data\u001b[0;34m(url)\u001b[0m\n\u001b[1;32m      6\u001b[0m result \u001b[39m=\u001b[39m {}\n\u001b[1;32m      7\u001b[0m result\u001b[39m.\u001b[39mupdate(basic_attributes(soup))\n\u001b[0;32m----> 8\u001b[0m result\u001b[39m.\u001b[39mupdate(propulsion_attributes(soup))\n\u001b[1;32m      9\u001b[0m result\u001b[39m.\u001b[39mupdate(specification_attributes(soup))\n\u001b[1;32m     10\u001b[0m \u001b[39mtry\u001b[39;00m:\n",
      "Cell \u001b[0;32mIn[47], line 2\u001b[0m, in \u001b[0;36mpropulsion_attributes\u001b[0;34m(soup)\u001b[0m\n\u001b[1;32m      1\u001b[0m \u001b[39mdef\u001b[39;00m \u001b[39mpropulsion_attributes\u001b[39m(soup):\n\u001b[0;32m----> 2\u001b[0m     title \u001b[39m=\u001b[39m soup\u001b[39m.\u001b[39;49mselect_one(\u001b[39m\"\u001b[39;49m\u001b[39m#BoatDetails > div.content.nav-slide.with-sticky-contact.home-block > div.boat-details > div.body > div.boat-details-content > div.details > div:nth-child(4) > div.header > h4 > a\u001b[39;49m\u001b[39m\"\u001b[39;49m)\u001b[39m.\u001b[39;49mtext\n\u001b[1;32m      3\u001b[0m     \u001b[39mif\u001b[39;00m title\u001b[39m.\u001b[39mlower()\u001b[39m!=\u001b[39m\u001b[39m'\u001b[39m\u001b[39mpropulsion\u001b[39m\u001b[39m'\u001b[39m:\n\u001b[1;32m      4\u001b[0m         \u001b[39mreturn\u001b[39;00m {}\n",
      "\u001b[0;31mAttributeError\u001b[0m: 'NoneType' object has no attribute 'text'"
     ]
    }
   ],
   "source": [
    "# link= links[566]\n",
    "link= links[212]\n",
    "soup = BeautifulSoup(sn.get(link, headers=headers).text, 'html.parser')\n",
    "get_yacht_data(link)"
   ]
  },
  {
   "cell_type": "code",
   "execution_count": 55,
   "metadata": {},
   "outputs": [
    {
     "data": {
      "text/plain": [
       "'https://www.yachtworld.com/yacht/1985-catalina-capri-22-8493121/'"
      ]
     },
     "execution_count": 55,
     "metadata": {},
     "output_type": "execute_result"
    }
   ],
   "source": [
    "link"
   ]
  },
  {
   "cell_type": "code",
   "execution_count": 36,
   "metadata": {},
   "outputs": [
    {
     "data": {
      "text/plain": [
       "46"
      ]
     },
     "execution_count": 36,
     "metadata": {},
     "output_type": "execute_result"
    }
   ],
   "source": [
    "len(list(filter(lambda x:not isinstance(x, int), yacht_data_list)))\n"
   ]
  },
  {
   "cell_type": "code",
   "execution_count": null,
   "metadata": {},
   "outputs": [],
   "source": [
    "\n",
    "df = pd.DataFrame(yacht_data_list)\n",
    "df.to_csv('yacht_data.csv', index=False)\n"
   ]
  }
 ],
 "metadata": {
  "kernelspec": {
   "display_name": "base",
   "language": "python",
   "name": "python3"
  },
  "language_info": {
   "codemirror_mode": {
    "name": "ipython",
    "version": 3
   },
   "file_extension": ".py",
   "mimetype": "text/x-python",
   "name": "python",
   "nbconvert_exporter": "python",
   "pygments_lexer": "ipython3",
   "version": "3.10.9"
  },
  "orig_nbformat": 4
 },
 "nbformat": 4,
 "nbformat_minor": 2
}
