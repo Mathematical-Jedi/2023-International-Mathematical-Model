{
 "cells": [
  {
   "cell_type": "code",
   "execution_count": 3,
   "metadata": {},
   "outputs": [
    {
     "data": {
      "text/plain": [
       "<Response [200]>"
      ]
     },
     "execution_count": 3,
     "metadata": {},
     "output_type": "execute_result"
    }
   ],
   "source": [
    "import requests\n",
    "import pandas as pd\n",
    "from bs4 import BeautifulSoup\n",
    "\n",
    "# 设置请求头部信息，模拟浏览器请求\n",
    "headers = {\n",
    "    'User-Agent': 'Mozilla/5.0 (Windows NT 10.0; Win64; x64) AppleWebKit/537.36 (KHTML, like Gecko) Chrome/58.0.3029.110 Safari/537.36'}\n",
    "# 设置YachtWorld网站上的搜索条件\n",
    "search_params = {\n",
    "    'class': 'sail',\n",
    "    # 'price': 'USD100000-500000',\n",
    "    # 'length': '40-50ft'\n",
    "}\n",
    "base_url = 'https://www.yachtworld.com'\n",
    "\n",
    "requests.get(base_url, \n",
    "    headers=headers)"
   ]
  },
  {
   "attachments": {},
   "cell_type": "markdown",
   "metadata": {},
   "source": [
    "## 并发获得所有页上的船的url，形成一个url列表"
   ]
  },
  {
   "cell_type": "code",
   "execution_count": 4,
   "metadata": {},
   "outputs": [
    {
     "name": "stderr",
     "output_type": "stream",
     "text": [
      "100%|██████████| 147/147 [00:19<00:00,  7.58it/s]\n"
     ]
    }
   ],
   "source": [
    "# 使用 Concurrent.futures 模块中的 ThreadPoolExecutor 类来实现异步请求\n",
    "from concurrent.futures import ThreadPoolExecutor, as_completed\n",
    "from tqdm import tqdm\n",
    "# pages = 1\n",
    "pages = 147\n",
    "req_list = list(range(pages))\n",
    "# sn = requests.Session()\n",
    "def transform(i):\n",
    "    # temp = sn.get(f'https://www.yachtworld.com/boats-for-sale/condition-new/type-sail/?page={i+1}', headers=headers).text\n",
    "    temp = requests.get(f'https://www.yachtworld.com/boats-for-sale/condition-new/type-sail/?page={i+1}', headers=headers).text\n",
    "    req_list[i] = BeautifulSoup(temp, 'html.parser')\n",
    "with ThreadPoolExecutor(max_workers=64) as t:\n",
    "    tasks = [t.submit(transform, i) for i in range(pages)]\n",
    "    for future in tqdm(as_completed(tasks), total=len(tasks)):\n",
    "        pass"
   ]
  },
  {
   "cell_type": "code",
   "execution_count": 5,
   "metadata": {},
   "outputs": [
    {
     "data": {
      "text/plain": [
       "True"
      ]
     },
     "execution_count": 5,
     "metadata": {},
     "output_type": "execute_result"
    }
   ],
   "source": [
    "soups = req_list\n",
    "all(map(lambda x: isinstance(x, BeautifulSoup), soups))"
   ]
  },
  {
   "cell_type": "code",
   "execution_count": 6,
   "metadata": {},
   "outputs": [],
   "source": [
    "from typing import List\n",
    "\n",
    "def get_urls_from_search_page(soup:List[BeautifulSoup]):\n",
    "    a = soup.select('#root > div.search > div.flex.flex-row > div.search-right-col > div.pagination-and-results-container.search-display > div.listings-container')\n",
    "    a = a[0]\n",
    "    links = [link.get('href') for link  in a.find_all(name='a')]\n",
    "    return links\n",
    "\n",
    "links = sum(map(get_urls_from_search_page, soups), [])"
   ]
  },
  {
   "cell_type": "code",
   "execution_count": 7,
   "metadata": {},
   "outputs": [
    {
     "data": {
      "text/plain": [
       "2194"
      ]
     },
     "execution_count": 7,
     "metadata": {},
     "output_type": "execute_result"
    }
   ],
   "source": [
    "all(map(lambda x: x.startswith('https://'), links)) # 合法性\n",
    "len(links) # 数量\n",
    "# unique的数量\n",
    "len(set(links))\n"
   ]
  },
  {
   "attachments": {},
   "cell_type": "markdown",
   "metadata": {},
   "source": [
    "## 探索性分析每一个具体url的页面结构"
   ]
  },
  {
   "cell_type": "code",
   "execution_count": 8,
   "metadata": {},
   "outputs": [
    {
     "data": {
      "text/plain": [
       "{'a': 1, 'b': 2}"
      ]
     },
     "execution_count": 8,
     "metadata": {},
     "output_type": "execute_result"
    }
   ],
   "source": [
    "a = {'a':1}\n",
    "a.update({'b':2})\n",
    "a"
   ]
  },
  {
   "cell_type": "code",
   "execution_count": 9,
   "metadata": {},
   "outputs": [
    {
     "data": {
      "text/plain": [
       "'2023 Jeanneau Sun Odyssey 490 Cruiser for sale - YachtWorld✕YachtWorld AppMake your dream come true todayOpenBoatsPower BoatsSailboatsSell Your BoatPersonal Boat ShopperResearchServicesYacht BrokersBoat DealersSurveyorsYacht LoansInsuranceBoat TransportDirectoryToggle NavigationUnited States (English) ▼ Danmark - Dansk Deutschland - Deutsch Australia - English United Kingdom - English España - Español Suomi - suomi France - Français Italia - Italiano Nederland - Nederlands Norge - Norsk Sverige - SvenskaLogin  CloseMarine Servicenter - Seattle2442 Westlake Ave North, Seattle, 98109, United StatesView phone numberCloseContact the Seller* Please correct highlighted errors.NamePhone (optional)EmailMessageI recently viewed your listing on YachtWorld and I am interested in more details. Thank you.NameContact BrokerHome⁄/Boats for sale⁄/Sail⁄/Cruiser⁄/Jeanneau⁄/2023 Jeanneau Sun Odyssey 4902023 Jeanneau Sun Odyssey 490US$654,896Seattle, Washington1/57Image coming soonImage coming soonImage coming soonImage coming soonImage coming soonImage coming soonImage coming soonImage coming soonImage coming soonImage coming soonImage coming soonImage coming soonImage coming soonImage coming soonImage coming soonImage coming soonImage coming soonImage coming soonImage coming soonImage coming soonImage coming soonImage coming soonImage coming soonImage coming soonImage coming soonImage coming soonImage coming soonImage coming soonImage coming soonImage coming soonImage coming soonImage coming soonImage coming soonImage coming soonImage coming soonImage coming soonImage coming soonImage coming soonImage coming soonImage coming soonImage coming soonImage coming soonImage coming soonImage coming soonImage coming soonImage coming soonImage coming soonImage coming soonImage coming soonImage coming soonImage coming soonImage coming soonImage coming soonImage coming soonImage coming soonImage coming soonImage coming soon1 of 57ContactLive Video TourMore from this BrokerShareView 57 PhotosMarine Servicenter - Seattle2442 Westlake Ave North, Seattle, 98109, United StatesView phone numberCloseContact the Seller* Please correct highlighted errors.NamePhone (optional)EmailMessageI recently viewed your listing on YachtWorld and I am interested in more details. Thank you.NameContact Broker2023 Jeanneau Sun Odyssey 49049ftUS$654,896 Seattle, WashingtonLocal Delivery AvailableBasicsYear2023MakeJeanneauModelSun Odyssey 490ClassCruiserLength49ftFuel TypeDieselHull MaterialFiberglassHull ShapeMonohullHull Warranty7 yearsOffered ByMarine Servicenter - SeattleDescription2023 Jeanneau Sun Odyssey 490ALL-NEW!\\xa0 Full Chine \"Scow Bow\" hull, sails with bow \"up\" into the wind.\\xa0 Skips and hops across wave & swell, displaces water outward, very dry and comfortable ride!\\nSAVE $42,089\\xa0!! on 2023 Jeanneau 490 #77424 ONLY!\\xa0 Arrived - Seattle\\n\\xa0This\\xa0new model has\\xa0revolutionized cruising: she is the first of the next generation (8th generation) Sun Odyssey\\'s and features inclined \"walk around\" Side Decks for ease of movement from twin helms directly forward to the bow!\\xa0 Full Length Chine Hull with NEW \"Skow Bow\" design.\\xa0 Sailing performance\\xa0and movement onboard\\xa0redefined!\\xa0\\nWith this next generation hull form evolution, Jeanneau has created a sailboat with tremendous buoyancy forward yet sleek and fast thru the water.\\xa0 When sailing the new 490 the bow stays \"up\" into the wind and rises slightly as she floats and skips thru waves and seas - unlike anything in the market today!\\xa0\\nThe new Sun Odyssey 490 benefits from an entirely new, innovative layout for greater ease of movement and livability.\\xa0 Central galley with all storage low in the boat for reduced CG and better sailing.\\xa0 True rectangular berths in all 3 cabins with ample headroom throughout.\\xa0 Master suite forward with a \"modern boutique style hotel\" layout - separate shower compartment in center, vanity sink outboard to starboard, head and vanity in separate compartment to port.\\nAll-New Alpi \"Grey Oak\" wood finish with bright white accents and lots of natural light with large rectangular hull ports, big windows, and lots of deck hatches.\\xa0 A must see for sure!\\nSeaworthy and welcoming, cozy and sporty, masculine and feminine, the Sun Odyssey 490 is as attractive on the interior as on the exterior.\\xa0\\nCall or email today to discuss this new model in more detail or to reserve her for your sailing enjoyment!Show MoreOther DetailsDescription\\nGrey Cedar Interior - 3 Cabins / 2 Head Version\\nLight Oak laminate floorboards\\nUpholstery = Ambiance Riviera - Dark Blue Fabric\\nEngine Upgrade: Yanmar 80HP CR Sail Drive : Model 4JH80CR in lieu of Std 57 HP SD\\nUpgrade to Harken Electric Cabintop winch in lieu of Std.\\nUpgrade to Harken Electric Primary Winches (2) in lieu of Std.\\nElectric Drive for Aft Platform\\nRetractable Bow Thruster\\nNo White Fabric on Salon Bulkheads\\nAmbiance Lighting Lampshade\\nDiesel Forced Air Heating System\\nStool in Salon - Ocean Blue Fabric (Bench Seat - sits 2 w storage inside)\\nDeluxe Salon Table - Telescoping Legs & Folding Leaves\\nQuiet Flush Fresh Water Electric Head Fwd in lieu of Std\\nQuiet Flush Fresh Water Electric Head aft in lieu of Std\\nInverter - 2000W 12v/ 110V\\nWood Cockpit Sole\\nElectronics\\n1 RAYMARINE I70s MULTIFUNCTION DISPLAY\\n1 DEPTH-SPEED SENSOR\\n1 MASTHEAD WIND SENSOR\\n1 RAYMARINE RAY60 VHF\\n1 RAYMARINE VHF COCKPIT REMOTE\\n1 AIS 650 RAYMARINE TRANSCEIVER\\n1 RAYMARINE P70s AUTOPILOT PLUS ACU400 CORE UNIT AND GYROCOMPAS\\n1 AUTOPILOT WIRELESS REMOTE CONTROL (SMART CONTROLLER)\\n2 GPS RAYMARINE ES97 MULTIFUNCTION TOUCHSCREEN DISPLAYS WITH WIFI\\n1 RAYMARINE QUANTUM RADAR\\nNAVIONICS PLUS CHART SOFTWARE - US\\nDownwind Package\\nSpinnaker Hardware, Rigging for Asymetric Spinnaker or Code 0 (sails not included)\\nAdditional Coachroof Winch, Extra Winch Handle, Windex 15\\nEntertainment Package\\nRA70N Fusion Player (Radio/ USB/ Bluetooh), Bose Speakers in Salon\\nSubwoofer in Salon, Cockpit Speakers (2)\\nAdditional Information\\nJeanneau Construction, FRP Substrate Bonded, Ocean A Rated\\nShore power, 110v outlet/ room plus 25AH charger - 350AH 12v\\n2 Long ports salon, 2 medum ports fwd cabin, 1 medium port each aft cabin (6 total)\\nSTD High Aspect Classic Mast w/ Bainbridge HSX Mainsail\\nFacnor Genoa Furling System w/ Bainbridge HSX Dacron Headsail\\nElectric Windlass (BBB, 3/8), Leather on 2 Steering Wheels\\n2 Holding tanks w/ gravity feed drain (22 US Gal each)\\nHot and Cold Cockpit Shower, 110V hot water heater\\n12v. Integrated Refrigeration Box w/Top Load\\nStd Deep Performance Keel (7\\'4\"), Deep feather tipped Elliptical Rudder\\nAdditional Factory Options\\nGRP Bowsprit, 2nd Windlass Control w Chain Counter, Window Eybrows,Navicolor Battery Monitor System, Halyard Bag, Lifeline Gates, Wine Storage under Floor\\nLED Cockpit Courtesy Lights, Indirect LED Lighting in Cabin, Shades and Screens\\nSignature Clock and Baromoeter at Chart Table, Soundproof Lining in Closets\\nUpgrade AGM Batteries plus 2 Additional Batteries - Total 550A House plus Engine\\nDisclaimerThe Company offers the details of this vessel in good faith but cannot guarantee or warrant the accuracy of this information nor warrant the condition of the vessel. A buyer should instruct his agents, or his surveyors, to investigate such details as the buyer desires validated. This vessel is offered subject to prior sale, price change, or withdrawal without notice.PropulsionEngine MakeYanmarEngine Model4JH80CREngine Year2022Total Power80hpEngine Hours10Engine TypeInboardDrive TypeSail DriveFuel TypeDieselPropeller Type3 BladeSpecificationsSpeed & DistanceCruising Speed8.5knMax Speed9.5knDimensionsLength Overall48.5ftMax Draft7.33ftBeam14.67ftLength at Waterline43.42ftMiscellaneousWindlassElectric WindlassTanksFresh Water Tank168 gal (Plastic)Fuel Tank63 gal (Plastic)Holding Tank2 x 36 gal (Plastic)AccommodationsDouble Berths4Cabins3Heads2Request InformationCallMore yachts from Marine Servicenter - Seattle2010 Jeanneau Sun Odyssey 50DSUS$349,500Seattle, WashingtonMarine Servicenter - Seattle2023 Jeanneau 380US$329,795Seattle, WashingtonMarine Servicenter - Seattle2018 Jeanneau 58US$798,500Seattle, WashingtonMarine Servicenter - Seattle2023 Jeanneau Sun Odyssey 410US$429,875Seattle, WashingtonMarine Servicenter - SeattleMore from this Broker Visit WebsiteServicesContact UsHelpAbout UsMedia KitMembershipCookiesDo Not Sell My Personal InformationYachtWorld, 1221 Brickell Avenue, Miami, Florida 33131, USAcopyright © 2023 Boats Group All Rights Reserved.terms of use privacy cookiesAdChoices\\n\\n\\n\\n\\n\\n\\n\\n'"
      ]
     },
     "execution_count": 9,
     "metadata": {},
     "output_type": "execute_result"
    }
   ],
   "source": [
    "link = links[0]\n",
    "res = requests.get(link, headers=headers)\n",
    "soup = BeautifulSoup(res.text, 'html.parser')\n",
    "soup.text"
   ]
  },
  {
   "cell_type": "code",
   "execution_count": 10,
   "metadata": {},
   "outputs": [
    {
     "data": {
      "text/plain": [
       "'https://www.yachtworld.com/yacht/2023-jeanneau-sun-odyssey-490-8592752/'"
      ]
     },
     "execution_count": 10,
     "metadata": {},
     "output_type": "execute_result"
    }
   ],
   "source": [
    "link"
   ]
  },
  {
   "cell_type": "code",
   "execution_count": 11,
   "metadata": {},
   "outputs": [
    {
     "data": {
      "text/plain": [
       "{'Basic.Year': '2023',\n",
       " 'Basic.Make': 'Jeanneau',\n",
       " 'Basic.Model': 'Sun Odyssey 490',\n",
       " 'Basic.Class': 'Cruiser',\n",
       " 'Basic.Length': '49ft',\n",
       " 'Basic.FuelType': 'Diesel',\n",
       " 'Basic.HullMaterial': 'Fiberglass',\n",
       " 'Basic.HullShape': 'Monohull',\n",
       " 'Basic.HullWarranty': '7 years',\n",
       " 'Basic.OfferedBy': 'Marine Servicenter - Seattle'}"
      ]
     },
     "execution_count": 11,
     "metadata": {},
     "output_type": "execute_result"
    }
   ],
   "source": [
    "def basic_attributes(soup):\n",
    "    basic = soup.select('#BoatDetails > div.content.nav-slide.with-sticky-contact.home-block > div.boat-details > div.body > div.boat-details-content > div.details > div:nth-child(1) > div.collapsible.no-pad')\n",
    "    assert len(basic)==1\n",
    "    basic = basic[0]\n",
    "    titles = [f'Basic.{\"\".join(map(lambda x:x.capitalize(),t.text.strip().split()))}' for t in basic.select('td.datatable-title')]\n",
    "    values = [t.text.strip() for t in basic.select('td.datatable-value')]\n",
    "    return {k:v for k,v in zip(titles, values)}\n",
    "basic_attributes(soup)"
   ]
  },
  {
   "cell_type": "code",
   "execution_count": 12,
   "metadata": {},
   "outputs": [
    {
     "data": {
      "text/plain": [
       "{'Propulsion.EngineMake': 'Yanmar',\n",
       " 'Propulsion.EngineModel': '4JH80CR',\n",
       " 'Propulsion.EngineYear': '2022',\n",
       " 'Propulsion.TotalPower': '80hp',\n",
       " 'Propulsion.EngineHours': '10',\n",
       " 'Propulsion.EngineType': 'Inboard',\n",
       " 'Propulsion.DriveType': 'Sail Drive',\n",
       " 'Propulsion.FuelType': 'Diesel',\n",
       " 'Propulsion.PropellerType': '3 Blade'}"
      ]
     },
     "execution_count": 12,
     "metadata": {},
     "output_type": "execute_result"
    }
   ],
   "source": [
    "def propulsion_attributes(soup):\n",
    "    propulsion = soup.select('#BoatDetails > div.content.nav-slide.with-sticky-contact.home-block > div.boat-details > div.body > div.boat-details-content > div.details > div:nth-child(4) > div.collapsible.no-pad')\n",
    "    assert len(propulsion)==1\n",
    "    propulsion = propulsion[0]\n",
    "    titles = [f'Propulsion.{\"\".join(map(lambda x:x.capitalize(),t.text.strip().split()))}' for t in propulsion.select('td.datatable-title')]\n",
    "    values = [t.text.strip() for t in propulsion.select('td.datatable-value')]\n",
    "    return {k:v for k,v in zip(titles, values)}\n",
    "propulsion_attributes(soup)"
   ]
  },
  {
   "cell_type": "code",
   "execution_count": 13,
   "metadata": {},
   "outputs": [
    {
     "data": {
      "text/plain": [
       "(['Dimensions.LengthOverall',\n",
       "  'Dimensions.MaxDraft',\n",
       "  'Dimensions.Beam',\n",
       "  'Dimensions.LengthatWaterline'],\n",
       " ['48.5ft', '7.33ft', '14.67ft', '43.42ft'])"
      ]
     },
     "execution_count": 13,
     "metadata": {},
     "output_type": "execute_result"
    }
   ],
   "source": [
    "specification = soup.select('#BoatDetails > div.content.nav-slide.with-sticky-contact.home-block > div.boat-details > div.body > div.boat-details-content > div.details > div:nth-child(5) > div.collapsible.no-pad > div')\n",
    "assert len(specification)==1\n",
    "specification = specification[0]\n",
    "sub_categories = specification.select('div.datatable-category')\n",
    "category = sub_categories[1]\n",
    "\n",
    "cate_name = category.find(attrs='sub-title').text\n",
    "titles = [f'{cate_name}.{\"\".join(t.text.strip().split())}' for t in category.select('td.datatable-title')]\n",
    "values = [t.text.strip() for t in category.select('td.datatable-value')]\n",
    "titles, values\n"
   ]
  },
  {
   "cell_type": "code",
   "execution_count": 14,
   "metadata": {},
   "outputs": [
    {
     "data": {
      "text/plain": [
       "<div class=\"datatable-category\"><h3 class=\"sub-title\">Dimensions</h3><table class=\"datatable-section\"><tbody class=\"datatable-section\"><tr class=\"datatable-item\"><td class=\"datatable-title\">Length Overall</td><td class=\"datatable-value\">48.5ft</td></tr><tr class=\"datatable-item\"><td class=\"datatable-title\">Max Draft</td><td class=\"datatable-value\">7.33ft</td></tr><tr class=\"datatable-item\"><td class=\"datatable-title\">Beam</td><td class=\"datatable-value\">14.67ft</td></tr><tr class=\"datatable-item\"><td class=\"datatable-title\">Length at Waterline</td><td class=\"datatable-value\">43.42ft</td></tr></tbody></table></div>"
      ]
     },
     "execution_count": 14,
     "metadata": {},
     "output_type": "execute_result"
    }
   ],
   "source": [
    "category"
   ]
  },
  {
   "cell_type": "code",
   "execution_count": 15,
   "metadata": {},
   "outputs": [
    {
     "data": {
      "text/plain": [
       "'Sdf'"
      ]
     },
     "execution_count": 15,
     "metadata": {},
     "output_type": "execute_result"
    }
   ],
   "source": [
    "' sdf  '.strip().capitalize()"
   ]
  },
  {
   "cell_type": "code",
   "execution_count": 16,
   "metadata": {},
   "outputs": [
    {
     "data": {
      "text/plain": [
       "{'Specification.Speed&Distance.CruisingSpeed': '8.5kn',\n",
       " 'Specification.Speed&Distance.MaxSpeed': '9.5kn',\n",
       " 'Specification.Dimensions.LengthOverall': '48.5ft',\n",
       " 'Specification.Dimensions.MaxDraft': '7.33ft',\n",
       " 'Specification.Dimensions.Beam': '14.67ft',\n",
       " 'Specification.Dimensions.LengthAtWaterline': '43.42ft',\n",
       " 'Specification.Miscellaneous.Windlass': 'Electric Windlass',\n",
       " 'Specification.Tanks.FreshWaterTank': '168 gal (Plastic)',\n",
       " 'Specification.Tanks.FuelTank': '63 gal (Plastic)',\n",
       " 'Specification.Tanks.HoldingTank': '2 x 36 gal (Plastic)',\n",
       " 'Specification.Accommodations.DoubleBerths': '4',\n",
       " 'Specification.Accommodations.Cabins': '3',\n",
       " 'Specification.Accommodations.Heads': '2'}"
      ]
     },
     "execution_count": 16,
     "metadata": {},
     "output_type": "execute_result"
    }
   ],
   "source": [
    "def specification_attributes(soup):\n",
    "    specification = soup.select('#BoatDetails > div.content.nav-slide.with-sticky-contact.home-block > div.boat-details > div.body > div.boat-details-content > div.details > div:nth-child(5) > div.collapsible.no-pad > div')\n",
    "    assert len(specification)==1\n",
    "    specification = specification[0]\n",
    "    sub_categories = specification.select('div.datatable-category')\n",
    "    titles = []\n",
    "    values = []\n",
    "    for category in sub_categories:\n",
    "        cate_name = category.find(attrs='sub-title').text\n",
    "        cate_name = ''.join(map(lambda x:x.capitalize(), cate_name.split()))\n",
    "        titles += [f'Specification.{cate_name}.{\"\".join(map(lambda x:x.capitalize(),t.text.strip().split()))}' for t in category.select('td.datatable-title')]\n",
    "        values += [t.text.strip() for t in category.select('td.datatable-value')]\n",
    "    return {k:v for k,v in zip(titles, values)}\n",
    "specification_attributes(soup)"
   ]
  },
  {
   "cell_type": "code",
   "execution_count": 17,
   "metadata": {},
   "outputs": [
    {
     "data": {
      "text/plain": [
       "654896.0"
      ]
     },
     "execution_count": 17,
     "metadata": {},
     "output_type": "execute_result"
    }
   ],
   "source": [
    "price = soup.select_one('#BoatDetails > div.content.nav-slide.with-sticky-contact.home-block > div.boat-details > div.body > div > div.summary > div > span.payment-total')\n",
    "\n",
    "# price.text.strip().split('$')[1]\n",
    "x = float(\"\".join(list(filter(str.isdigit,price.text))))\n",
    "x"
   ]
  },
  {
   "cell_type": "code",
   "execution_count": 18,
   "metadata": {},
   "outputs": [],
   "source": [
    "sn = requests.Session()"
   ]
  },
  {
   "cell_type": "code",
   "execution_count": 22,
   "metadata": {},
   "outputs": [
    {
     "data": {
      "text/plain": [
       "{'Basic.Year': '2023',\n",
       " 'Basic.Make': 'Jeanneau',\n",
       " 'Basic.Model': 'Sun Odyssey 490',\n",
       " 'Basic.Class': 'Cruiser',\n",
       " 'Basic.Length': '49ft',\n",
       " 'Basic.FuelType': 'Diesel',\n",
       " 'Basic.HullMaterial': 'Fiberglass',\n",
       " 'Basic.HullShape': 'Monohull',\n",
       " 'Basic.HullWarranty': '7 years',\n",
       " 'Basic.OfferedBy': 'Marine Servicenter - Seattle',\n",
       " 'Propulsion.EngineMake': 'Yanmar',\n",
       " 'Propulsion.EngineModel': '4JH80CR',\n",
       " 'Propulsion.EngineYear': '2022',\n",
       " 'Propulsion.TotalPower': '80hp',\n",
       " 'Propulsion.EngineHours': '10',\n",
       " 'Propulsion.EngineType': 'Inboard',\n",
       " 'Propulsion.DriveType': 'Sail Drive',\n",
       " 'Propulsion.FuelType': 'Diesel',\n",
       " 'Propulsion.PropellerType': '3 Blade',\n",
       " 'Specification.Speed&Distance.CruisingSpeed': '8.5kn',\n",
       " 'Specification.Speed&Distance.MaxSpeed': '9.5kn',\n",
       " 'Specification.Dimensions.LengthOverall': '48.5ft',\n",
       " 'Specification.Dimensions.MaxDraft': '7.33ft',\n",
       " 'Specification.Dimensions.Beam': '14.67ft',\n",
       " 'Specification.Dimensions.LengthAtWaterline': '43.42ft',\n",
       " 'Specification.Miscellaneous.Windlass': 'Electric Windlass',\n",
       " 'Specification.Tanks.FreshWaterTank': '168 gal (Plastic)',\n",
       " 'Specification.Tanks.FuelTank': '63 gal (Plastic)',\n",
       " 'Specification.Tanks.HoldingTank': '2 x 36 gal (Plastic)',\n",
       " 'Specification.Accommodations.DoubleBerths': '4',\n",
       " 'Specification.Accommodations.Cabins': '3',\n",
       " 'Specification.Accommodations.Heads': '2',\n",
       " 'Price': 654896.0}"
      ]
     },
     "execution_count": 22,
     "metadata": {},
     "output_type": "execute_result"
    }
   ],
   "source": [
    "# 爬取所有帆船的year属性和价格数据，并将它们存储到CSV文件中\n",
    "def get_yacht_data(url):\n",
    "    # res = requests.get(url, headers=headers)\n",
    "    res = sn.get(url, headers=headers)\n",
    "    soup = BeautifulSoup(res.text, 'html.parser')\n",
    "    result = {}\n",
    "    result.update(basic_attributes(soup))\n",
    "    result.update(propulsion_attributes(soup))\n",
    "    result.update(specification_attributes(soup))\n",
    "    try:\n",
    "        price = soup.select_one('#BoatDetails > div.content.nav-slide.with-sticky-contact.home-block > div.boat-details > div.body > div > div.summary > div > span.payment-total')\n",
    "        result['Price'] = float(\"\".join(list(filter(str.isdigit,price.text))))\n",
    "    except Exception as e:\n",
    "        pass\n",
    "    return result\n",
    "    \n",
    "get_yacht_data(link)"
   ]
  },
  {
   "cell_type": "code",
   "execution_count": 20,
   "metadata": {},
   "outputs": [
    {
     "name": "stderr",
     "output_type": "stream",
     "text": [
      "100%|██████████| 64/64 [01:11<00:00,  1.12s/it]\n"
     ]
    }
   ],
   "source": [
    "import numpy as np\n",
    "\n",
    "\n",
    "yacht_data_list = list(range(len(links)))\n",
    "error_list = {}\n",
    "def set_data(i):\n",
    "    # print(i)\n",
    "    try:\n",
    "        yacht_data_list[i] = get_yacht_data(links[i])\n",
    "    except Exception as e:\n",
    "        error_list[i]=e\n",
    "        print(e)\n",
    "    \n",
    "# with ThreadPoolExecutor(max_workers=64) as t:\n",
    "with ThreadPoolExecutor(max_workers=32) as t:\n",
    "    # tasks = [t.submit(set_data, i) for i in range(len(links))]\n",
    "    tasks = [t.submit(set_data, i) for i in np.random.choice(len(links), 64, replace=False)]\n",
    "    # tasks = [t.submit(set_data, i) for i in range(64)]\n",
    "    for future in tqdm(as_completed(tasks), total=len(tasks)):\n",
    "        pass    "
   ]
  },
  {
   "cell_type": "code",
   "execution_count": 21,
   "metadata": {},
   "outputs": [
    {
     "data": {
      "text/plain": [
       "{566: AssertionError(), 674: AssertionError(), 109: AssertionError()}"
      ]
     },
     "execution_count": 21,
     "metadata": {},
     "output_type": "execute_result"
    }
   ],
   "source": [
    "error_list\n",
    "# links[31]"
   ]
  },
  {
   "cell_type": "code",
   "execution_count": 26,
   "metadata": {},
   "outputs": [
    {
     "ename": "AssertionError",
     "evalue": "",
     "output_type": "error",
     "traceback": [
      "\u001b[0;31m---------------------------------------------------------------------------\u001b[0m",
      "\u001b[0;31mAssertionError\u001b[0m                            Traceback (most recent call last)",
      "Cell \u001b[0;32mIn[26], line 2\u001b[0m\n\u001b[1;32m      1\u001b[0m link\u001b[39m=\u001b[39m links[\u001b[39m566\u001b[39m]\n\u001b[0;32m----> 2\u001b[0m get_yacht_data(link)\n",
      "Cell \u001b[0;32mIn[22], line 9\u001b[0m, in \u001b[0;36mget_yacht_data\u001b[0;34m(url)\u001b[0m\n\u001b[1;32m      7\u001b[0m result\u001b[39m.\u001b[39mupdate(basic_attributes(soup))\n\u001b[1;32m      8\u001b[0m result\u001b[39m.\u001b[39mupdate(propulsion_attributes(soup))\n\u001b[0;32m----> 9\u001b[0m result\u001b[39m.\u001b[39mupdate(specification_attributes(soup))\n\u001b[1;32m     10\u001b[0m \u001b[39mtry\u001b[39;00m:\n\u001b[1;32m     11\u001b[0m     price \u001b[39m=\u001b[39m soup\u001b[39m.\u001b[39mselect_one(\u001b[39m'\u001b[39m\u001b[39m#BoatDetails > div.content.nav-slide.with-sticky-contact.home-block > div.boat-details > div.body > div > div.summary > div > span.payment-total\u001b[39m\u001b[39m'\u001b[39m)\n",
      "Cell \u001b[0;32mIn[16], line 3\u001b[0m, in \u001b[0;36mspecification_attributes\u001b[0;34m(soup)\u001b[0m\n\u001b[1;32m      1\u001b[0m \u001b[39mdef\u001b[39;00m \u001b[39mspecification_attributes\u001b[39m(soup):\n\u001b[1;32m      2\u001b[0m     specification \u001b[39m=\u001b[39m soup\u001b[39m.\u001b[39mselect(\u001b[39m'\u001b[39m\u001b[39m#BoatDetails > div.content.nav-slide.with-sticky-contact.home-block > div.boat-details > div.body > div.boat-details-content > div.details > div:nth-child(5) > div.collapsible.no-pad > div\u001b[39m\u001b[39m'\u001b[39m)\n\u001b[0;32m----> 3\u001b[0m     \u001b[39massert\u001b[39;00m \u001b[39mlen\u001b[39m(specification)\u001b[39m==\u001b[39m\u001b[39m1\u001b[39m\n\u001b[1;32m      4\u001b[0m     specification \u001b[39m=\u001b[39m specification[\u001b[39m0\u001b[39m]\n\u001b[1;32m      5\u001b[0m     sub_categories \u001b[39m=\u001b[39m specification\u001b[39m.\u001b[39mselect(\u001b[39m'\u001b[39m\u001b[39mdiv.datatable-category\u001b[39m\u001b[39m'\u001b[39m)\n",
      "\u001b[0;31mAssertionError\u001b[0m: "
     ]
    }
   ],
   "source": [
    "link= links[566]\n",
    "get_yacht_data(link)"
   ]
  },
  {
   "cell_type": "code",
   "execution_count": 36,
   "metadata": {},
   "outputs": [
    {
     "data": {
      "text/plain": [
       "46"
      ]
     },
     "execution_count": 36,
     "metadata": {},
     "output_type": "execute_result"
    }
   ],
   "source": [
    "len(list(filter(lambda x:not isinstance(x, int), yacht_data_list)))\n"
   ]
  },
  {
   "cell_type": "code",
   "execution_count": null,
   "metadata": {},
   "outputs": [],
   "source": [
    "\n",
    "df = pd.DataFrame(yacht_data_list)\n",
    "df.to_csv('yacht_data.csv', index=False)\n"
   ]
  }
 ],
 "metadata": {
  "kernelspec": {
   "display_name": "base",
   "language": "python",
   "name": "python3"
  },
  "language_info": {
   "codemirror_mode": {
    "name": "ipython",
    "version": 3
   },
   "file_extension": ".py",
   "mimetype": "text/x-python",
   "name": "python",
   "nbconvert_exporter": "python",
   "pygments_lexer": "ipython3",
   "version": "3.10.9"
  },
  "orig_nbformat": 4
 },
 "nbformat": 4,
 "nbformat_minor": 2
}
