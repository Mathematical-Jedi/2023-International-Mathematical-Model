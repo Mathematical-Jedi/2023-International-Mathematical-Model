{
 "cells": [
  {
   "cell_type": "code",
   "execution_count": 4,
   "metadata": {},
   "outputs": [],
   "source": [
    "import requests\n",
    "import pandas as pd\n",
    "from bs4 import BeautifulSoup\n",
    "\n",
    "# 设置请求头部信息，模拟浏览器请求\n",
    "headers = {\n",
    "    'User-Agent': 'Mozilla/5.0 (Windows NT 10.0; Win64; x64) AppleWebKit/537.36 (KHTML, like Gecko) Chrome/58.0.3029.110 Safari/537.36'}\n",
    "# 设置YachtWorld网站上的搜索条件\n",
    "search_params = {\n",
    "    'class': 'sail',\n",
    "    # 'price': 'USD100000-500000',\n",
    "    # 'length': '40-50ft'\n",
    "}\n",
    "# base_url = 'https://www.yachtworld.com'\n",
    "\n",
    "# requests.get(base_url, \n",
    "#     headers=headers)"
   ]
  },
  {
   "cell_type": "code",
   "execution_count": 5,
   "metadata": {},
   "outputs": [
    {
     "name": "stderr",
     "output_type": "stream",
     "text": [
      "100%|██████████| 353/353 [00:29<00:00, 12.12it/s]\n"
     ]
    }
   ],
   "source": [
    "# 使用 Concurrent.futures 模块中的 ThreadPoolExecutor 类来实现异步请求\n",
    "import stable_get_html\n",
    "from concurrent.futures import ThreadPoolExecutor, as_completed\n",
    "from tqdm import tqdm\n",
    "# pages = 1\n",
    "pages = 353\n",
    "# pages = 147\n",
    "req_list1 = list(range(pages))\n",
    "# sn = requests.Session()\n",
    "def transform(i):\n",
    "    # temp = requests.get(f'https://www.yachtworld.com/boats-for-sale/condition-used/type-sail/?page={i+1}', headers=headers).text\n",
    "    # temp = stable_get_html.get_html(f'https://www.yachtworld.com/boats-for-sale/condition-used/type-sail/?page={i+1}').text\n",
    "    temp = stable_get_html.get_html(f'https://www.yachtworld.com/boats-for-sale/condition-used/type-sail/region-europe/?page={i+1}').text\n",
    "    # temp = stable_get_html.get_html(f'https://www.yachtworld.com/boats-for-sale/condition-new/type-sail/?page={i+1}').text\n",
    "    req_list1[i] = BeautifulSoup(temp, 'html.parser')\n",
    "with ThreadPoolExecutor(max_workers=64) as t:\n",
    "    tasks = [t.submit(transform, i) for i in range(pages)]\n",
    "    for future in tqdm(as_completed(tasks), total=len(tasks)):\n",
    "        pass"
   ]
  },
  {
   "cell_type": "code",
   "execution_count": 6,
   "metadata": {},
   "outputs": [
    {
     "data": {
      "text/plain": [
       "True"
      ]
     },
     "execution_count": 6,
     "metadata": {},
     "output_type": "execute_result"
    }
   ],
   "source": [
    "soups = req_list1\n",
    "all(map(lambda x: isinstance(x, BeautifulSoup), soups))"
   ]
  },
  {
   "cell_type": "code",
   "execution_count": 7,
   "metadata": {},
   "outputs": [
    {
     "name": "stderr",
     "output_type": "stream",
     "text": [
      "100%|██████████| 334/334 [00:28<00:00, 11.83it/s]\n"
     ]
    }
   ],
   "source": [
    "pages = 334\n",
    "req_list2 = list(range(pages))\n",
    "# sn = requests.Session()\n",
    "def transform(i):\n",
    "    temp = stable_get_html.get_html(f'https://www.yachtworld.com/boats-for-sale/condition-used/type-sail/region-northamerica/region-asia/region-oceania/region-africa/region-southamerica/?page={i+1}').text\n",
    "    req_list2[i] = BeautifulSoup(temp, 'html.parser')\n",
    "with ThreadPoolExecutor(max_workers=64) as t:\n",
    "    tasks = [t.submit(transform, i) for i in range(pages)]\n",
    "    for future in tqdm(as_completed(tasks), total=len(tasks)):\n",
    "        pass"
   ]
  },
  {
   "cell_type": "code",
   "execution_count": 8,
   "metadata": {},
   "outputs": [
    {
     "data": {
      "text/plain": [
       "True"
      ]
     },
     "execution_count": 8,
     "metadata": {},
     "output_type": "execute_result"
    }
   ],
   "source": [
    "soups = req_list1+req_list2\n",
    "all(map(lambda x: isinstance(x, BeautifulSoup), soups))"
   ]
  },
  {
   "cell_type": "code",
   "execution_count": 9,
   "metadata": {},
   "outputs": [
    {
     "data": {
      "text/plain": [
       "10287"
      ]
     },
     "execution_count": 9,
     "metadata": {},
     "output_type": "execute_result"
    }
   ],
   "source": [
    "from typing import List\n",
    "i = 0\n",
    "def get_urls_from_search_page(soup:BeautifulSoup):\n",
    "    global i\n",
    "    i=i+1\n",
    "    try:\n",
    "        a_s = soup.select(\"#root > div.search > div.flex.flex-row > div.search-right-col > div.pagination-and-results-container.search-display > div.listings-container > a\")\n",
    "    except Exception as e:\n",
    "        print(i)\n",
    "        raise e\n",
    "    return a_s\n",
    "a_s = sum(map(get_urls_from_search_page, soups), [])\n",
    "len(a_s)"
   ]
  },
  {
   "cell_type": "code",
   "execution_count": 10,
   "metadata": {},
   "outputs": [],
   "source": [
    "links = list(map(lambda x:x['href'] , a_s))"
   ]
  },
  {
   "cell_type": "code",
   "execution_count": 13,
   "metadata": {},
   "outputs": [
    {
     "data": {
      "text/plain": [
       "9987"
      ]
     },
     "execution_count": 13,
     "metadata": {},
     "output_type": "execute_result"
    }
   ],
   "source": [
    "all(map(lambda x: x.startswith('https://'), links)) # 合法性\n",
    "# [i for i in range(len(links)) if x.startswith('https://')]\n",
    "len(links) # 数量\n",
    "# unique的数量\n",
    "len(set(links))\n"
   ]
  },
  {
   "cell_type": "code",
   "execution_count": 16,
   "metadata": {},
   "outputs": [
    {
     "data": {
      "text/plain": [
       "True"
      ]
     },
     "execution_count": 16,
     "metadata": {},
     "output_type": "execute_result"
    }
   ],
   "source": [
    "def a2loaction(a):\n",
    "    location = a.select_one(' div.listing-card-location')\n",
    "    return location.text\n",
    "    \n",
    "locations = list(map(a2loaction, a_s))\n",
    "all(locations)"
   ]
  },
  {
   "cell_type": "code",
   "execution_count": 17,
   "metadata": {},
   "outputs": [
    {
     "data": {
      "text/plain": [
       "[4892.0, 11765.0, 1902933.0, 260078.0, 49477.0]"
      ]
     },
     "execution_count": 17,
     "metadata": {},
     "output_type": "execute_result"
    }
   ],
   "source": [
    "def a2price(a):\n",
    "    price = a.select_one(' div.price').text\n",
    "    try:\n",
    "        return float(\"\".join(list(filter(str.isdigit, price))))\n",
    "    except Exception as e:\n",
    "        if price=='Call for Price': return None\n",
    "        print(price)\n",
    "        raise e\n",
    "        \n",
    "prices = list(map(a2price, a_s))\n",
    "all(prices)\n",
    "prices[:5]"
   ]
  },
  {
   "cell_type": "code",
   "execution_count": 18,
   "metadata": {},
   "outputs": [],
   "source": [
    "df = pd.DataFrame({'Link':links, 'Price':prices, 'Basics.Location':locations})\n",
    "df['New'] = False"
   ]
  },
  {
   "cell_type": "code",
   "execution_count": 19,
   "metadata": {},
   "outputs": [
    {
     "data": {
      "text/plain": [
       "Link                 0\n",
       "Price              136\n",
       "Basics.Location      0\n",
       "New                  0\n",
       "dtype: int64"
      ]
     },
     "execution_count": 19,
     "metadata": {},
     "output_type": "execute_result"
    }
   ],
   "source": [
    "df.head()\n",
    "df.isna().sum()"
   ]
  },
  {
   "cell_type": "code",
   "execution_count": 20,
   "metadata": {},
   "outputs": [],
   "source": [
    "df.to_csv('used_links.csv')"
   ]
  },
  {
   "cell_type": "code",
   "execution_count": 21,
   "metadata": {},
   "outputs": [
    {
     "name": "stderr",
     "output_type": "stream",
     "text": [
      "100%|██████████| 147/147 [00:32<00:00,  4.57it/s]\n"
     ]
    }
   ],
   "source": [
    "# 使用 Concurrent.futures 模块中的 ThreadPoolExecutor 类来实现异步请求\n",
    "import stable_get_html\n",
    "from concurrent.futures import ThreadPoolExecutor, as_completed\n",
    "from tqdm import tqdm\n",
    "# pages = 1\n",
    "# pages = 666\n",
    "pages = 147\n",
    "req_list = list(range(pages))\n",
    "# sn = requests.Session()\n",
    "def transform(i):\n",
    "    # temp = requests.get(f'https://www.yachtworld.com/boats-for-sale/condition-used/type-sail/?page={i+1}', headers=headers).text\n",
    "    # temp = stable_get_html.get_html(f'https://www.yachtworld.com/boats-for-sale/condition-used/type-sail/?page={i+1}').text\n",
    "    temp = stable_get_html.get_html(f'https://www.yachtworld.com/boats-for-sale/condition-new/type-sail/?page={i+1}').text\n",
    "    req_list[i] = BeautifulSoup(temp, 'html.parser')\n",
    "with ThreadPoolExecutor(max_workers=64) as t:\n",
    "    tasks = [t.submit(transform, i) for i in range(pages)]\n",
    "    for future in tqdm(as_completed(tasks), total=len(tasks)):\n",
    "        pass\n"
   ]
  },
  {
   "cell_type": "code",
   "execution_count": 23,
   "metadata": {},
   "outputs": [
    {
     "name": "stdout",
     "output_type": "stream",
     "text": [
      "<a data-reporting-click-listing-type=\"standard listing\" data-reporting-click-product-id=\"8395584\" data-reporting-page=\"64\" data-reporting-rank=\"953\" href=\"https://www.yachtworld.com/yacht/2023-lagoon-42-8395584/\" name=\"&amp;lpos=P1S1&amp;lid=SR_Detail_Photo\" property=\"itemListElement\" typeof=\"ListItem\"><meta content=\"https://www.yachtworld.com/yacht/2023-lagoon-42-8395584/\" property=\"url\"/><meta content=\"8\" property=\"position\"/><div class=\"row listing-card regular\" id=\"8395584\"><div class=\"listing-card-image-container\"><meta content=\"//images.yachtworld.com/resize/1/88/67/6808867_20180815040902966_1_LARGE.jpg?w=243&amp;h=155&amp;t=1657724328\" property=\"image\"/><span class=\"listing-card-image\" style=\"display:inline-block;width:243px;height:155px\"></span></div><div class=\"listing-card-information\"><h2 class=\"listing-card-title blue-star-title\" property=\"name\">Lagoon 42</h2><div class=\"listing-card-length-year\">42 ft<!-- --> / <!-- -->2023</div><div class=\"listing-card-location\"></div><p class=\"make-blue-star\">Lagoon</p><span class=\"blue-star\">Manufacturer Listing</span><div class=\"brand-logo-container\" style=\"background-image:url('https://images.boatsgroup.com/images/1/upload/lagoon+logo.png')\"></div><div class=\"listing-card-media blue-star-icons\"></div></div></div></a>\n",
      "<a data-reporting-click-listing-type=\"standard listing\" data-reporting-click-product-id=\"8766984\" data-reporting-page=\"64\" data-reporting-rank=\"957\" href=\"https://www.yachtworld.com/yacht/2023-arcona-415-8766984/\" name=\"&amp;lpos=P1S1&amp;lid=SR_Detail_Photo\" property=\"itemListElement\" typeof=\"ListItem\"><meta content=\"https://www.yachtworld.com/yacht/2023-arcona-415-8766984/\" property=\"url\"/><meta content=\"12\" property=\"position\"/><div class=\"row listing-card regular\" id=\"8766984\"><div class=\"listing-card-image-container\"><meta content=\"//images.yachtworld.com/resize/1/69/84/8766984_20230323222346194_1_LARGE.jpg?w=243&amp;h=155&amp;t=1679635444\" property=\"image\"/><span class=\"listing-card-image\" style=\"display:inline-block;width:243px;height:155px\"></span></div><div class=\"listing-card-information\"><h2 class=\"listing-card-title blue-star-title\" property=\"name\">Arcona 415</h2><div class=\"listing-card-length-year\">42 ft<!-- --> / <!-- -->2023</div><div class=\"listing-card-location\"></div><p class=\"make-blue-star\">Arcona</p><span class=\"blue-star\">Manufacturer Listing</span><div class=\"brand-logo-container\" style=\"background-image:url('https://images.boatsgroup.com/images/1/upload/1arcona.PNG')\"></div><div class=\"listing-card-media blue-star-icons\"><div class=\"tooltip\" style=\"position:relative\"><i aria-label=\"Video\" class=\"listing-card-image-video icon-film\"></i></div></div></div></div></a>\n",
      "<a data-reporting-click-listing-type=\"standard listing\" data-reporting-click-product-id=\"8766955\" data-reporting-page=\"65\" data-reporting-rank=\"961\" href=\"https://www.yachtworld.com/yacht/2023-bavaria-cruiser-46-style-8766955/\" name=\"&amp;lpos=P1S1&amp;lid=SR_Detail_Photo\" property=\"itemListElement\" typeof=\"ListItem\"><meta content=\"https://www.yachtworld.com/yacht/2023-bavaria-cruiser-46-style-8766955/\" property=\"url\"/><meta content=\"1\" property=\"position\"/><div class=\"row listing-card regular\" id=\"8766955\"><div class=\"listing-card-image-container\"><meta content=\"//images.yachtworld.com/resize/1/62/24/7636224_20201223054029547_1_LARGE.jpg?w=243&amp;h=155&amp;t=1679630880\" property=\"image\"/><img alt=\"Bavaria Cruiser 46 Style\" class=\"listing-card-image\" height=\"155\" src=\"//images.yachtworld.com/resize/1/62/24/7636224_20201223054029547_1_LARGE.jpg?w=243&amp;h=155&amp;t=1679630880\" width=\"243\"/></div><div class=\"listing-card-information\"><h2 class=\"listing-card-title blue-star-title\" property=\"name\">Bavaria Cruiser 46 Style</h2><div class=\"listing-card-length-year\">46 ft<!-- --> / <!-- -->2023</div><div class=\"listing-card-location\"></div><p class=\"make-blue-star\">Bavaria</p><span class=\"blue-star\">Manufacturer Listing</span><div class=\"brand-logo-container\" style=\"background-image:url('https://images.boatsgroup.com/images/1/upload/2015_BAVARIA+YACHTS_Logo_portrait_L_v2_t+%281%29.png')\"></div><div class=\"listing-card-media blue-star-icons\"></div></div></div></a>\n",
      "<a data-reporting-click-listing-type=\"standard listing\" data-reporting-click-product-id=\"8766917\" data-reporting-page=\"65\" data-reporting-rank=\"969\" href=\"https://www.yachtworld.com/yacht/2023-bavaria-c50-8766917/\" name=\"&amp;lpos=P1S1&amp;lid=SR_Detail_Photo\" property=\"itemListElement\" typeof=\"ListItem\"><meta content=\"https://www.yachtworld.com/yacht/2023-bavaria-c50-8766917/\" property=\"url\"/><meta content=\"9\" property=\"position\"/><div class=\"row listing-card regular\" id=\"8766917\"><div class=\"listing-card-image-container\"><meta content=\"//images.yachtworld.com/resize/1/82/82/6848282_20190725032702163_1_LARGE.jpg?w=243&amp;h=155&amp;t=1679622426\" property=\"image\"/><span class=\"listing-card-image\" style=\"display:inline-block;width:243px;height:155px\"></span></div><div class=\"listing-card-information\"><h2 class=\"listing-card-title blue-star-title\" property=\"name\">Bavaria C50</h2><div class=\"listing-card-length-year\">51 ft<!-- --> / <!-- -->2023</div><div class=\"listing-card-location\"></div><p class=\"make-blue-star\">Bavaria</p><span class=\"blue-star\">Manufacturer Listing</span><div class=\"brand-logo-container\" style=\"background-image:url('https://images.boatsgroup.com/images/1/upload/2015_BAVARIA+YACHTS_Logo_portrait_L_v2_t+%281%29.png')\"></div><div class=\"listing-card-media blue-star-icons\"><div class=\"tooltip\" style=\"position:relative\"><i aria-label=\"Video\" class=\"listing-card-image-video icon-film\"></i></div></div></div></div></a>\n",
      "<a data-reporting-click-listing-type=\"standard listing\" data-reporting-click-product-id=\"8408466\" data-reporting-page=\"66\" data-reporting-rank=\"977\" href=\"https://www.yachtworld.com/yacht/2023-lagoon-51-8408466/\" name=\"&amp;lpos=P1S1&amp;lid=SR_Detail_Photo\" property=\"itemListElement\" typeof=\"ListItem\"><meta content=\"https://www.yachtworld.com/yacht/2023-lagoon-51-8408466/\" property=\"url\"/><meta content=\"2\" property=\"position\"/><div class=\"row listing-card regular\" id=\"8408466\"><div class=\"listing-card-image-container\"><meta content=\"//images.yachtworld.com/resize/1/84/66/8408466_20220721213843226_1_LARGE.jpg?w=243&amp;h=155&amp;t=1658464809\" property=\"image\"/><img alt=\"Lagoon 51\" class=\"listing-card-image\" height=\"155\" src=\"//images.yachtworld.com/resize/1/84/66/8408466_20220721213843226_1_LARGE.jpg?w=243&amp;h=155&amp;t=1658464809\" width=\"243\"/></div><div class=\"listing-card-information\"><h2 class=\"listing-card-title blue-star-title\" property=\"name\">Lagoon 51</h2><div class=\"listing-card-length-year\">50 ft<!-- --> / <!-- -->2023</div><div class=\"listing-card-location\"></div><p class=\"make-blue-star\">Lagoon</p><span class=\"blue-star\">Manufacturer Listing</span><div class=\"brand-logo-container\" style=\"background-image:url('https://images.boatsgroup.com/images/1/upload/lagoon+logo.png')\"></div><div class=\"listing-card-media blue-star-icons\"></div></div></div></a>\n",
      "<a data-reporting-click-listing-type=\"standard listing\" data-reporting-click-product-id=\"8766981\" data-reporting-page=\"67\" data-reporting-rank=\"991\" href=\"https://www.yachtworld.com/yacht/2023-arcona-385-8766981/\" name=\"&amp;lpos=P1S1&amp;lid=SR_Detail_Photo\" property=\"itemListElement\" typeof=\"ListItem\"><meta content=\"https://www.yachtworld.com/yacht/2023-arcona-385-8766981/\" property=\"url\"/><meta content=\"1\" property=\"position\"/><div class=\"row listing-card regular\" id=\"8766981\"><div class=\"listing-card-image-container\"><meta content=\"//images.yachtworld.com/resize/1/92/7/7589207_20200915021250733_1_LARGE.jpg?w=243&amp;h=155&amp;t=1679634937\" property=\"image\"/><img alt=\"Arcona 385\" class=\"listing-card-image\" height=\"155\" src=\"//images.yachtworld.com/resize/1/92/7/7589207_20200915021250733_1_LARGE.jpg?w=243&amp;h=155&amp;t=1679634937\" width=\"243\"/></div><div class=\"listing-card-information\"><h2 class=\"listing-card-title blue-star-title\" property=\"name\">Arcona 385</h2><div class=\"listing-card-length-year\">37 ft<!-- --> / <!-- -->2023</div><div class=\"listing-card-location\"></div><p class=\"make-blue-star\">Arcona</p><span class=\"blue-star\">Manufacturer Listing</span><div class=\"brand-logo-container\" style=\"background-image:url('https://images.boatsgroup.com/images/1/upload/1arcona.PNG')\"></div><div class=\"listing-card-media blue-star-icons\"></div></div></div></a>\n",
      "<a data-reporting-click-listing-type=\"standard listing\" data-reporting-click-product-id=\"8395589\" data-reporting-page=\"67\" data-reporting-rank=\"996\" href=\"https://www.yachtworld.com/yacht/2023-lagoon-seventy-7-8395589/\" name=\"&amp;lpos=P1S1&amp;lid=SR_Detail_Photo\" property=\"itemListElement\" typeof=\"ListItem\"><meta content=\"https://www.yachtworld.com/yacht/2023-lagoon-seventy-7-8395589/\" property=\"url\"/><meta content=\"6\" property=\"position\"/><div class=\"row listing-card regular\" id=\"8395589\"><div class=\"listing-card-image-container\"><meta content=\"//images.yachtworld.com/resize/1/88/75/6808875_20180815024008046_1_LARGE.jpg?w=243&amp;h=155&amp;t=1657724334\" property=\"image\"/><span class=\"listing-card-image\" style=\"display:inline-block;width:243px;height:155px\"></span></div><div class=\"listing-card-information\"><h2 class=\"listing-card-title blue-star-title\" property=\"name\">Lagoon SEVENTY 7</h2><div class=\"listing-card-length-year\">76 ft<!-- --> / <!-- -->2023</div><div class=\"listing-card-location\"></div><p class=\"make-blue-star\">Lagoon</p><span class=\"blue-star\">Manufacturer Listing</span><div class=\"brand-logo-container\" style=\"background-image:url('https://images.boatsgroup.com/images/1/upload/lagoon+logo.png')\"></div><div class=\"listing-card-media blue-star-icons\"></div></div></div></a>\n",
      "<a data-reporting-click-listing-type=\"standard listing\" data-reporting-click-product-id=\"8766913\" data-reporting-page=\"67\" data-reporting-rank=\"998\" href=\"https://www.yachtworld.com/yacht/2023-bavaria-c38-8766913/\" name=\"&amp;lpos=P1S1&amp;lid=SR_Detail_Photo\" property=\"itemListElement\" typeof=\"ListItem\"><meta content=\"https://www.yachtworld.com/yacht/2023-bavaria-c38-8766913/\" property=\"url\"/><meta content=\"8\" property=\"position\"/><div class=\"row listing-card regular\" id=\"8766913\"><div class=\"listing-card-image-container\"><meta content=\"//images.yachtworld.com/resize/1/65/69/7916569_20230323184120569_1_LARGE.jpg?w=243&amp;h=155&amp;t=1679622123\" property=\"image\"/><span class=\"listing-card-image\" style=\"display:inline-block;width:243px;height:155px\"></span></div><div class=\"listing-card-information\"><h2 class=\"listing-card-title blue-star-title\" property=\"name\">Bavaria C38</h2><div class=\"listing-card-length-year\">37 ft<!-- --> / <!-- -->2023</div><div class=\"listing-card-location\"></div><p class=\"make-blue-star\">Bavaria</p><span class=\"blue-star\">Manufacturer Listing</span><div class=\"brand-logo-container\" style=\"background-image:url('https://images.boatsgroup.com/images/1/upload/2015_BAVARIA+YACHTS_Logo_portrait_L_v2_t+%281%29.png')\"></div><div class=\"listing-card-media blue-star-icons\"><div class=\"tooltip\" style=\"position:relative\"><i aria-label=\"Video\" class=\"listing-card-image-video icon-film\"></i></div></div></div></div></a>\n",
      "<a data-reporting-click-listing-type=\"standard listing\" data-reporting-click-product-id=\"8766982\" data-reporting-page=\"67\" data-reporting-rank=\"1000\" href=\"https://www.yachtworld.com/yacht/2023-arcona-435-mk-ii-8766982/\" name=\"&amp;lpos=P1S1&amp;lid=SR_Detail_Photo\" property=\"itemListElement\" typeof=\"ListItem\"><meta content=\"https://www.yachtworld.com/yacht/2023-arcona-435-mk-ii-8766982/\" property=\"url\"/><meta content=\"10\" property=\"position\"/><div class=\"row listing-card regular\" id=\"8766982\"><div class=\"listing-card-image-container\"><meta content=\"//images.yachtworld.com/resize/1/87/50/7298750_20191203033900018_1_LARGE.jpg?w=243&amp;h=155&amp;t=1679634995\" property=\"image\"/><span class=\"listing-card-image\" style=\"display:inline-block;width:243px;height:155px\"></span></div><div class=\"listing-card-information\"><h2 class=\"listing-card-title blue-star-title\" property=\"name\">Arcona 435 MK II</h2><div class=\"listing-card-length-year\">43 ft<!-- --> / <!-- -->2023</div><div class=\"listing-card-location\"></div><p class=\"make-blue-star\">Arcona</p><span class=\"blue-star\">Manufacturer Listing</span><div class=\"brand-logo-container\" style=\"background-image:url('https://images.boatsgroup.com/images/1/upload/1arcona.PNG')\"></div><div class=\"listing-card-media blue-star-icons\"></div></div></div></a>\n",
      "<a data-reporting-click-listing-type=\"standard listing\" data-reporting-click-product-id=\"8766978\" data-reporting-page=\"68\" data-reporting-rank=\"1014\" href=\"https://www.yachtworld.com/yacht/2023-arcona-50-8766978/\" name=\"&amp;lpos=P1S1&amp;lid=SR_Detail_Photo\" property=\"itemListElement\" typeof=\"ListItem\"><meta content=\"https://www.yachtworld.com/yacht/2023-arcona-50-8766978/\" property=\"url\"/><meta content=\"9\" property=\"position\"/><div class=\"row listing-card regular\" id=\"8766978\"><div class=\"listing-card-image-container\"><meta content=\"//images.yachtworld.com/resize/1/68/88/8366888_20220622115250885_1_LARGE.jpg?w=243&amp;h=155&amp;t=1679634786\" property=\"image\"/><span class=\"listing-card-image\" style=\"display:inline-block;width:243px;height:155px\"></span></div><div class=\"listing-card-information\"><h2 class=\"listing-card-title blue-star-title\" property=\"name\">Arcona 50</h2><div class=\"listing-card-length-year\">52 ft<!-- --> / <!-- -->2023</div><div class=\"listing-card-location\"></div><p class=\"make-blue-star\">Arcona</p><span class=\"blue-star\">Manufacturer Listing</span><div class=\"brand-logo-container\" style=\"background-image:url('https://images.boatsgroup.com/images/1/upload/1arcona.PNG')\"></div><div class=\"listing-card-media blue-star-icons\"></div></div></div></a>\n",
      "<a data-reporting-click-listing-type=\"standard listing\" data-reporting-click-product-id=\"8766980\" data-reporting-page=\"69\" data-reporting-rank=\"1025\" href=\"https://www.yachtworld.com/yacht/2023-arcona-345-8766980/\" name=\"&amp;lpos=P1S1&amp;lid=SR_Detail_Photo\" property=\"itemListElement\" typeof=\"ListItem\"><meta content=\"https://www.yachtworld.com/yacht/2023-arcona-345-8766980/\" property=\"url\"/><meta content=\"5\" property=\"position\"/><div class=\"row listing-card regular\" id=\"8766980\"><div class=\"listing-card-image-container\"><meta content=\"//images.yachtworld.com/resize/1/92/6/7589206_20200915022620444_1_LARGE.jpg?w=243&amp;h=155&amp;t=1679634899\" property=\"image\"/><span class=\"listing-card-image\" style=\"display:inline-block;width:243px;height:155px\"></span></div><div class=\"listing-card-information\"><h2 class=\"listing-card-title blue-star-title\" property=\"name\">Arcona 345</h2><div class=\"listing-card-length-year\">34 ft<!-- --> / <!-- -->2023</div><div class=\"listing-card-location\"></div><p class=\"make-blue-star\">Arcona</p><span class=\"blue-star\">Manufacturer Listing</span><div class=\"brand-logo-container\" style=\"background-image:url('https://images.boatsgroup.com/images/1/upload/1arcona.PNG')\"></div><div class=\"listing-card-media blue-star-icons\"></div></div></div></a>\n",
      "<a data-reporting-click-listing-type=\"standard listing\" data-reporting-click-product-id=\"8766952\" data-reporting-page=\"70\" data-reporting-rank=\"1043\" href=\"https://www.yachtworld.com/yacht/2023-bavaria-cruiser-34-8766952/\" name=\"&amp;lpos=P1S1&amp;lid=SR_Detail_Photo\" property=\"itemListElement\" typeof=\"ListItem\"><meta content=\"https://www.yachtworld.com/yacht/2023-bavaria-cruiser-34-8766952/\" property=\"url\"/><meta content=\"8\" property=\"position\"/><div class=\"row listing-card regular\" id=\"8766952\"><div class=\"listing-card-image-container\"><meta content=\"//images.yachtworld.com/resize/1/62/19/7636219_20201223054947439_1_LARGE.jpg?w=243&amp;h=155&amp;t=1679630553\" property=\"image\"/><span class=\"listing-card-image\" style=\"display:inline-block;width:243px;height:155px\"></span></div><div class=\"listing-card-information\"><h2 class=\"listing-card-title blue-star-title\" property=\"name\">Bavaria Cruiser 34</h2><div class=\"listing-card-length-year\">34 ft<!-- --> / <!-- -->2023</div><div class=\"listing-card-location\"></div><p class=\"make-blue-star\">Bavaria</p><span class=\"blue-star\">Manufacturer Listing</span><div class=\"brand-logo-container\" style=\"background-image:url('https://images.boatsgroup.com/images/1/upload/2015_BAVARIA+YACHTS_Logo_portrait_L_v2_t+%281%29.png')\"></div><div class=\"listing-card-media blue-star-icons\"><div class=\"tooltip\" style=\"position:relative\"><i aria-label=\"Video\" class=\"listing-card-image-video icon-film\"></i></div></div></div></div></a>\n",
      "<a data-reporting-click-listing-type=\"standard listing\" data-reporting-click-product-id=\"8766979\" data-reporting-page=\"71\" data-reporting-rank=\"1051\" href=\"https://www.yachtworld.com/yacht/2023-arcona-465-carbon-8766979/\" name=\"&amp;lpos=P1S1&amp;lid=SR_Detail_Photo\" property=\"itemListElement\" typeof=\"ListItem\"><meta content=\"https://www.yachtworld.com/yacht/2023-arcona-465-carbon-8766979/\" property=\"url\"/><meta content=\"1\" property=\"position\"/><div class=\"row listing-card regular\" id=\"8766979\"><div class=\"listing-card-image-container\"><meta content=\"//images.yachtworld.com/resize/1/87/49/7298749_20191203033228498_1_LARGE.jpg?w=243&amp;h=155&amp;t=1679634847\" property=\"image\"/><img alt=\"Arcona 465 Carbon\" class=\"listing-card-image\" height=\"155\" src=\"//images.yachtworld.com/resize/1/87/49/7298749_20191203033228498_1_LARGE.jpg?w=243&amp;h=155&amp;t=1679634847\" width=\"243\"/></div><div class=\"listing-card-information\"><h2 class=\"listing-card-title blue-star-title\" property=\"name\">Arcona 465 Carbon</h2><div class=\"listing-card-length-year\">46 ft<!-- --> / <!-- -->2023</div><div class=\"listing-card-location\"></div><p class=\"make-blue-star\">Arcona</p><span class=\"blue-star\">Manufacturer Listing</span><div class=\"brand-logo-container\" style=\"background-image:url('https://images.boatsgroup.com/images/1/upload/1arcona.PNG')\"></div><div class=\"listing-card-media blue-star-icons\"></div></div></div></a>\n",
      "<a data-reporting-click-listing-type=\"standard listing\" data-reporting-click-product-id=\"8766954\" data-reporting-page=\"72\" data-reporting-rank=\"1067\" href=\"https://www.yachtworld.com/yacht/2023-bavaria-cruiser-46-8766954/\" name=\"&amp;lpos=P1S1&amp;lid=SR_Detail_Photo\" property=\"itemListElement\" typeof=\"ListItem\"><meta content=\"https://www.yachtworld.com/yacht/2023-bavaria-cruiser-46-8766954/\" property=\"url\"/><meta content=\"2\" property=\"position\"/><div class=\"row listing-card regular\" id=\"8766954\"><div class=\"listing-card-image-container\"><meta content=\"//images.yachtworld.com/resize/1/82/92/6848292_20191127054655628_1_LARGE.jpg?w=243&amp;h=155&amp;t=1679630761\" property=\"image\"/><img alt=\"Bavaria Cruiser 46\" class=\"listing-card-image\" height=\"155\" src=\"//images.yachtworld.com/resize/1/82/92/6848292_20191127054655628_1_LARGE.jpg?w=243&amp;h=155&amp;t=1679630761\" width=\"243\"/></div><div class=\"listing-card-information\"><h2 class=\"listing-card-title blue-star-title\" property=\"name\">Bavaria Cruiser 46</h2><div class=\"listing-card-length-year\">46 ft<!-- --> / <!-- -->2023</div><div class=\"listing-card-location\"></div><p class=\"make-blue-star\">Bavaria</p><span class=\"blue-star\">Manufacturer Listing</span><div class=\"brand-logo-container\" style=\"background-image:url('https://images.boatsgroup.com/images/1/upload/2015_BAVARIA+YACHTS_Logo_portrait_L_v2_t+%281%29.png')\"></div><div class=\"listing-card-media blue-star-icons\"><div class=\"tooltip\" style=\"position:relative\"><i aria-label=\"Video\" class=\"listing-card-image-video icon-film\"></i></div></div></div></div></a>\n",
      "<a data-reporting-click-listing-type=\"standard listing\" data-reporting-click-product-id=\"8766956\" data-reporting-page=\"72\" data-reporting-rank=\"1078\" href=\"https://www.yachtworld.com/yacht/2023-bavaria-vision-42-8766956/\" name=\"&amp;lpos=P1S1&amp;lid=SR_Detail_Photo\" property=\"itemListElement\" typeof=\"ListItem\"><meta content=\"https://www.yachtworld.com/yacht/2023-bavaria-vision-42-8766956/\" property=\"url\"/><meta content=\"13\" property=\"position\"/><div class=\"row listing-card regular\" id=\"8766956\"><div class=\"listing-card-image-container\"><meta content=\"//images.yachtworld.com/resize/1/90/32/7639032_20201223072502494_1_LARGE.jpg?w=243&amp;h=155&amp;t=1679630961\" property=\"image\"/><span class=\"listing-card-image\" style=\"display:inline-block;width:243px;height:155px\"></span></div><div class=\"listing-card-information\"><h2 class=\"listing-card-title blue-star-title\" property=\"name\">Bavaria Vision 42</h2><div class=\"listing-card-length-year\">42 ft<!-- --> / <!-- -->2023</div><div class=\"listing-card-location\"></div><p class=\"make-blue-star\">Bavaria</p><span class=\"blue-star\">Manufacturer Listing</span><div class=\"brand-logo-container\" style=\"background-image:url('https://images.boatsgroup.com/images/1/upload/2015_BAVARIA+YACHTS_Logo_portrait_L_v2_t+%281%29.png')\"></div><div class=\"listing-card-media blue-star-icons\"><div class=\"tooltip\" style=\"position:relative\"><i aria-label=\"Video\" class=\"listing-card-image-video icon-film\"></i></div></div></div></div></a>\n",
      "<a data-reporting-click-listing-type=\"standard listing\" data-reporting-click-product-id=\"8766953\" data-reporting-page=\"73\" data-reporting-rank=\"1081\" href=\"https://www.yachtworld.com/yacht/2023-bavaria-cruiser-37-8766953/\" name=\"&amp;lpos=P1S1&amp;lid=SR_Detail_Photo\" property=\"itemListElement\" typeof=\"ListItem\"><meta content=\"https://www.yachtworld.com/yacht/2023-bavaria-cruiser-37-8766953/\" property=\"url\"/><meta content=\"1\" property=\"position\"/><div class=\"row listing-card regular\" id=\"8766953\"><div class=\"listing-card-image-container\"><meta content=\"//images.yachtworld.com/resize/1/62/20/7636220_20201223051158441_1_LARGE.jpg?w=243&amp;h=155&amp;t=1679630623\" property=\"image\"/><img alt=\"Bavaria Cruiser 37\" class=\"listing-card-image\" height=\"155\" src=\"//images.yachtworld.com/resize/1/62/20/7636220_20201223051158441_1_LARGE.jpg?w=243&amp;h=155&amp;t=1679630623\" width=\"243\"/></div><div class=\"listing-card-information\"><h2 class=\"listing-card-title blue-star-title\" property=\"name\">Bavaria Cruiser 37</h2><div class=\"listing-card-length-year\">37 ft<!-- --> / <!-- -->2023</div><div class=\"listing-card-location\"></div><p class=\"make-blue-star\">Bavaria</p><span class=\"blue-star\">Manufacturer Listing</span><div class=\"brand-logo-container\" style=\"background-image:url('https://images.boatsgroup.com/images/1/upload/2015_BAVARIA+YACHTS_Logo_portrait_L_v2_t+%281%29.png')\"></div><div class=\"listing-card-media blue-star-icons\"><div class=\"tooltip\" style=\"position:relative\"><i aria-label=\"Video\" class=\"listing-card-image-video icon-film\"></i></div></div></div></div></a>\n",
      "<a data-reporting-click-listing-type=\"standard listing\" data-reporting-click-product-id=\"8766916\" data-reporting-page=\"73\" data-reporting-rank=\"1082\" href=\"https://www.yachtworld.com/yacht/2023-bavaria-c45-8766916/\" name=\"&amp;lpos=P1S1&amp;lid=SR_Detail_Photo\" property=\"itemListElement\" typeof=\"ListItem\"><meta content=\"https://www.yachtworld.com/yacht/2023-bavaria-c45-8766916/\" property=\"url\"/><meta content=\"2\" property=\"position\"/><div class=\"row listing-card regular\" id=\"8766916\"><div class=\"listing-card-image-container\"><meta content=\"//images.yachtworld.com/resize/1/69/16/8766916_20230323184455760_1_LARGE.jpg?w=243&amp;h=155&amp;t=1679622303\" property=\"image\"/><img alt=\"Bavaria C45\" class=\"listing-card-image\" height=\"155\" src=\"//images.yachtworld.com/resize/1/69/16/8766916_20230323184455760_1_LARGE.jpg?w=243&amp;h=155&amp;t=1679622303\" width=\"243\"/></div><div class=\"listing-card-information\"><h2 class=\"listing-card-title blue-star-title\" property=\"name\">Bavaria C45</h2><div class=\"listing-card-length-year\">46 ft<!-- --> / <!-- -->2023</div><div class=\"listing-card-location\"></div><p class=\"make-blue-star\">Bavaria</p><span class=\"blue-star\">Manufacturer Listing</span><div class=\"brand-logo-container\" style=\"background-image:url('https://images.boatsgroup.com/images/1/upload/2015_BAVARIA+YACHTS_Logo_portrait_L_v2_t+%281%29.png')\"></div><div class=\"listing-card-media blue-star-icons\"><div class=\"tooltip\" style=\"position:relative\"><i aria-label=\"Video\" class=\"listing-card-image-video icon-film\"></i></div></div></div></div></a>\n",
      "<a data-reporting-click-listing-type=\"standard listing\" data-reporting-click-product-id=\"8766915\" data-reporting-page=\"73\" data-reporting-rank=\"1085\" href=\"https://www.yachtworld.com/yacht/2023-bavaria-c42-8766915/\" name=\"&amp;lpos=P1S1&amp;lid=SR_Detail_Photo\" property=\"itemListElement\" typeof=\"ListItem\"><meta content=\"https://www.yachtworld.com/yacht/2023-bavaria-c42-8766915/\" property=\"url\"/><meta content=\"5\" property=\"position\"/><div class=\"row listing-card regular\" id=\"8766915\"><div class=\"listing-card-image-container\"><meta content=\"//images.yachtworld.com/resize/1/69/15/8766915_20230323184312339_1_LARGE.jpg?w=243&amp;h=155&amp;t=1679622201\" property=\"image\"/><span class=\"listing-card-image\" style=\"display:inline-block;width:243px;height:155px\"></span></div><div class=\"listing-card-information\"><h2 class=\"listing-card-title blue-star-title\" property=\"name\">Bavaria C42</h2><div class=\"listing-card-length-year\">41 ft<!-- --> / <!-- -->2023</div><div class=\"listing-card-location\"></div><p class=\"make-blue-star\">Bavaria</p><span class=\"blue-star\">Manufacturer Listing</span><div class=\"brand-logo-container\" style=\"background-image:url('https://images.boatsgroup.com/images/1/upload/2015_BAVARIA+YACHTS_Logo_portrait_L_v2_t+%281%29.png')\"></div><div class=\"listing-card-media blue-star-icons\"><div class=\"tooltip\" style=\"position:relative\"><i aria-label=\"Video\" class=\"listing-card-image-video icon-film\"></i></div></div></div></div></a>\n",
      "<a data-reporting-click-listing-type=\"standard listing\" data-reporting-click-product-id=\"8395583\" data-reporting-page=\"73\" data-reporting-rank=\"1087\" href=\"https://www.yachtworld.com/yacht/2023-lagoon-40-8395583/\" name=\"&amp;lpos=P1S1&amp;lid=SR_Detail_Photo\" property=\"itemListElement\" typeof=\"ListItem\"><meta content=\"https://www.yachtworld.com/yacht/2023-lagoon-40-8395583/\" property=\"url\"/><meta content=\"7\" property=\"position\"/><div class=\"row listing-card regular\" id=\"8395583\"><div class=\"listing-card-image-container\"><meta content=\"//images.yachtworld.com/resize/1/88/66/6808866_20180815033826262_1_LARGE.jpg?w=243&amp;h=155&amp;t=1657724327\" property=\"image\"/><span class=\"listing-card-image\" style=\"display:inline-block;width:243px;height:155px\"></span></div><div class=\"listing-card-information\"><h2 class=\"listing-card-title blue-star-title\" property=\"name\">Lagoon 40</h2><div class=\"listing-card-length-year\">39 ft<!-- --> / <!-- -->2023</div><div class=\"listing-card-location\"></div><p class=\"make-blue-star\">Lagoon</p><span class=\"blue-star\">Manufacturer Listing</span><div class=\"brand-logo-container\" style=\"background-image:url('https://images.boatsgroup.com/images/1/upload/lagoon+logo.png')\"></div><div class=\"listing-card-media blue-star-icons\"></div></div></div></a>\n",
      "<a data-reporting-click-listing-type=\"standard listing\" data-reporting-click-product-id=\"8766919\" data-reporting-page=\"73\" data-reporting-rank=\"1092\" href=\"https://www.yachtworld.com/yacht/2023-bavaria-c57-8766919/\" name=\"&amp;lpos=P1S1&amp;lid=SR_Detail_Photo\" property=\"itemListElement\" typeof=\"ListItem\"><meta content=\"https://www.yachtworld.com/yacht/2023-bavaria-c57-8766919/\" property=\"url\"/><meta content=\"12\" property=\"position\"/><div class=\"row listing-card regular\" id=\"8766919\"><div class=\"listing-card-image-container\"><meta content=\"//images.yachtworld.com/resize/1/5/10/6530510_20171114044803700_1_LARGE.jpg?w=243&amp;h=155&amp;t=1679622479\" property=\"image\"/><span class=\"listing-card-image\" style=\"display:inline-block;width:243px;height:155px\"></span></div><div class=\"listing-card-information\"><h2 class=\"listing-card-title blue-star-title\" property=\"name\">Bavaria C57</h2><div class=\"listing-card-length-year\">57 ft<!-- --> / <!-- -->2023</div><div class=\"listing-card-location\"></div><p class=\"make-blue-star\">Bavaria</p><span class=\"blue-star\">Manufacturer Listing</span><div class=\"brand-logo-container\" style=\"background-image:url('https://images.boatsgroup.com/images/1/upload/2015_BAVARIA+YACHTS_Logo_portrait_L_v2_t+%281%29.png')\"></div><div class=\"listing-card-media blue-star-icons\"><div class=\"tooltip\" style=\"position:relative\"><i aria-label=\"Video\" class=\"listing-card-image-video icon-film\"></i></div></div></div></div></a>\n",
      "<a data-reporting-click-listing-type=\"standard listing\" data-reporting-click-product-id=\"8140043\" data-reporting-page=\"73\" data-reporting-rank=\"1093\" href=\"https://www.yachtworld.com/yacht/2023-moorings-4200-3-cabin-8140043/\" name=\"&amp;lpos=P1S1&amp;lid=SR_Detail_Photo\" property=\"itemListElement\" typeof=\"ListItem\"><meta content=\"https://www.yachtworld.com/yacht/2023-moorings-4200-3-cabin-8140043/\" property=\"url\"/><meta content=\"13\" property=\"position\"/><div class=\"row listing-card regular\" id=\"8140043\"><div class=\"listing-card-image-container\"><meta content=\"//images.yachtworld.com/resize/1/5/35/7640535_20201029083244423_1_LARGE.jpg?w=243&amp;h=155&amp;t=1638267372\" property=\"image\"/><span class=\"listing-card-image\" style=\"display:inline-block;width:243px;height:155px\"></span></div><div class=\"listing-card-information\"><h2 class=\"listing-card-title blue-star-title\" property=\"name\">Moorings 4200 3 Cabin</h2><div class=\"listing-card-length-year\">42 ft<!-- --> / <!-- -->2023</div><div class=\"listing-card-location\"></div><p class=\"make-blue-star\">Moorings</p><span class=\"blue-star\">Manufacturer Listing</span><div class=\"brand-logo-container\" style=\"background-image:url('https://images.boatsgroup.com/published/images/logo_moorings.gif')\"></div><div class=\"listing-card-media blue-star-icons\"><div class=\"tooltip\" style=\"position:relative\"><i aria-label=\"Video\" class=\"listing-card-image-video icon-film\"></i></div></div></div></div></a>\n",
      "<a data-reporting-click-listing-type=\"standard listing\" data-reporting-click-product-id=\"8463724\" data-reporting-page=\"73\" data-reporting-rank=\"1094\" href=\"https://www.yachtworld.com/yacht/2023-xquisite-yachts-sixty-solar-sail-8463724/\" name=\"&amp;lpos=P1S1&amp;lid=SR_Detail_Photo\" property=\"itemListElement\" typeof=\"ListItem\"><meta content=\"https://www.yachtworld.com/yacht/2023-xquisite-yachts-sixty-solar-sail-8463724/\" property=\"url\"/><meta content=\"14\" property=\"position\"/><div class=\"row listing-card regular\" id=\"8463724\"><div class=\"listing-card-image-container\"><meta content=\"//images.yachtworld.com/resize/1/79/25/7747925_20210528034050237_1_LARGE.jpg?w=243&amp;h=155&amp;t=1661447617\" property=\"image\"/><span class=\"listing-card-image\" style=\"display:inline-block;width:243px;height:155px\"></span></div><div class=\"listing-card-information\"><h2 class=\"listing-card-title blue-star-title\" property=\"name\">Xquisite Yachts Sixty Solar Sail</h2><div class=\"listing-card-length-year\">62 ft<!-- --> / <!-- -->2023</div><div class=\"listing-card-location\"></div><p class=\"make-blue-star\">Xquisite Yachts</p><span class=\"blue-star\">Manufacturer Listing</span><div class=\"brand-logo-container\" style=\"background-image:url('https://images.boatsgroup.com/images/1/upload/XQUISITE+LOGO_2020_Black+%281%29.jpeg')\"></div><div class=\"listing-card-media blue-star-icons\"><div class=\"tooltip\" style=\"position:relative\"><i aria-label=\"Video\" class=\"listing-card-image-video icon-film\"></i></div></div></div></div></a>\n",
      "<a data-reporting-click-listing-type=\"standard listing\" data-reporting-click-product-id=\"7954708\" data-reporting-page=\"73\" data-reporting-rank=\"1095\" href=\"https://www.yachtworld.com/yacht/2022-gunboat-80-7954708/\" name=\"&amp;lpos=P1S1&amp;lid=SR_Detail_Photo\" property=\"itemListElement\" typeof=\"ListItem\"><meta content=\"https://www.yachtworld.com/yacht/2022-gunboat-80-7954708/\" property=\"url\"/><meta content=\"15\" property=\"position\"/><div class=\"row listing-card regular\" id=\"7954708\"><div class=\"listing-card-image-container\"><meta content=\"//images.yachtworld.com/resize/1/47/8/7954708_20210906063348234_1_LARGE.jpg?w=243&amp;h=155&amp;t=1638957532\" property=\"image\"/><span class=\"listing-card-image\" style=\"display:inline-block;width:243px;height:155px\"></span></div><div class=\"listing-card-information\"><h2 class=\"listing-card-title blue-star-title\" property=\"name\">Gunboat 80</h2><div class=\"listing-card-length-year\">78 ft<!-- --> / <!-- -->2022</div><div class=\"listing-card-location\"></div><p class=\"make-blue-star\">Gunboat</p><span class=\"blue-star\">Manufacturer Listing</span><div class=\"brand-logo-container\" style=\"background-image:url('https://images.boatsgroup.com/images/1/upload/1gunboat.PNG')\"></div><div class=\"listing-card-media blue-star-icons\"></div></div></div></a>\n",
      "<a data-reporting-click-listing-type=\"standard listing\" data-reporting-click-product-id=\"7954719\" data-reporting-page=\"74\" data-reporting-rank=\"1096\" href=\"https://www.yachtworld.com/yacht/2022-gunboat-72v-7954719/\" name=\"&amp;lpos=P1S1&amp;lid=SR_Detail_Photo\" property=\"itemListElement\" typeof=\"ListItem\"><meta content=\"https://www.yachtworld.com/yacht/2022-gunboat-72v-7954719/\" property=\"url\"/><meta content=\"1\" property=\"position\"/><div class=\"row listing-card regular\" id=\"7954719\"><div class=\"listing-card-image-container\"><meta content=\"//images.yachtworld.com/resize/1/47/19/7954719_20210906063951515_1_LARGE.jpg?w=243&amp;h=155&amp;t=1630935593\" property=\"image\"/><img alt=\"Gunboat 72V\" class=\"listing-card-image\" height=\"155\" src=\"//images.yachtworld.com/resize/1/47/19/7954719_20210906063951515_1_LARGE.jpg?w=243&amp;h=155&amp;t=1630935593\" width=\"243\"/></div><div class=\"listing-card-information\"><h2 class=\"listing-card-title blue-star-title\" property=\"name\">Gunboat 72V</h2><div class=\"listing-card-length-year\">72 ft<!-- --> / <!-- -->2022</div><div class=\"listing-card-location\"></div><p class=\"make-blue-star\">Gunboat</p><span class=\"blue-star\">Manufacturer Listing</span><div class=\"brand-logo-container\" style=\"background-image:url('https://images.boatsgroup.com/images/1/upload/1gunboat.PNG')\"></div><div class=\"listing-card-media blue-star-icons\"></div></div></div></a>\n",
      "<a data-reporting-click-listing-type=\"standard listing\" data-reporting-click-product-id=\"8395587\" data-reporting-page=\"74\" data-reporting-rank=\"1097\" href=\"https://www.yachtworld.com/yacht/2023-lagoon-sixty-5-8395587/\" name=\"&amp;lpos=P1S1&amp;lid=SR_Detail_Photo\" property=\"itemListElement\" typeof=\"ListItem\"><meta content=\"https://www.yachtworld.com/yacht/2023-lagoon-sixty-5-8395587/\" property=\"url\"/><meta content=\"2\" property=\"position\"/><div class=\"row listing-card regular\" id=\"8395587\"><div class=\"listing-card-image-container\"><meta content=\"//images.yachtworld.com/resize/1/3/72/7540372_20200730234626721_1_LARGE.jpg?w=243&amp;h=155&amp;t=1657724331\" property=\"image\"/><img alt=\"Lagoon SIXTY 5\" class=\"listing-card-image\" height=\"155\" src=\"//images.yachtworld.com/resize/1/3/72/7540372_20200730234626721_1_LARGE.jpg?w=243&amp;h=155&amp;t=1657724331\" width=\"243\"/></div><div class=\"listing-card-information\"><h2 class=\"listing-card-title blue-star-title\" property=\"name\">Lagoon SIXTY 5</h2><div class=\"listing-card-length-year\">68 ft<!-- --> / <!-- -->2023</div><div class=\"listing-card-location\"></div><p class=\"make-blue-star\">Lagoon</p><span class=\"blue-star\">Manufacturer Listing</span><div class=\"brand-logo-container\" style=\"background-image:url('https://images.boatsgroup.com/images/1/upload/lagoon+logo.png')\"></div><div class=\"listing-card-media blue-star-icons\"></div></div></div></a>\n",
      "<a data-reporting-click-listing-type=\"standard listing\" data-reporting-click-product-id=\"8395585\" data-reporting-page=\"74\" data-reporting-rank=\"1098\" href=\"https://www.yachtworld.com/yacht/2023-lagoon-46-8395585/\" name=\"&amp;lpos=P1S1&amp;lid=SR_Detail_Photo\" property=\"itemListElement\" typeof=\"ListItem\"><meta content=\"https://www.yachtworld.com/yacht/2023-lagoon-46-8395585/\" property=\"url\"/><meta content=\"3\" property=\"position\"/><div class=\"row listing-card regular\" id=\"8395585\"><div class=\"listing-card-image-container\"><meta content=\"//images.yachtworld.com/resize/1/3/63/7540363_20200730233227772_1_LARGE.jpg?w=243&amp;h=155&amp;t=1657724330\" property=\"image\"/><img alt=\"Lagoon 46\" class=\"listing-card-image\" height=\"155\" src=\"//images.yachtworld.com/resize/1/3/63/7540363_20200730233227772_1_LARGE.jpg?w=243&amp;h=155&amp;t=1657724330\" width=\"243\"/></div><div class=\"listing-card-information\"><h2 class=\"listing-card-title blue-star-title\" property=\"name\">Lagoon 46</h2><div class=\"listing-card-length-year\">45 ft<!-- --> / <!-- -->2023</div><div class=\"listing-card-location\"></div><p class=\"make-blue-star\">Lagoon</p><span class=\"blue-star\">Manufacturer Listing</span><div class=\"brand-logo-container\" style=\"background-image:url('https://images.boatsgroup.com/images/1/upload/lagoon+logo.png')\"></div><div class=\"listing-card-media blue-star-icons\"></div></div></div></a>\n",
      "<a data-reporting-click-listing-type=\"standard listing\" data-reporting-click-product-id=\"8766971\" data-reporting-page=\"74\" data-reporting-rank=\"1099\" href=\"https://www.yachtworld.com/yacht/2023-bavaria-c46-8766971/\" name=\"&amp;lpos=P1S1&amp;lid=SR_Detail_Photo\" property=\"itemListElement\" typeof=\"ListItem\"><meta content=\"https://www.yachtworld.com/yacht/2023-bavaria-c46-8766971/\" property=\"url\"/><meta content=\"4\" property=\"position\"/><div class=\"row listing-card regular\" id=\"8766971\"><div class=\"listing-card-image-container\"><meta content=\"//images.yachtworld.com/resize/1/69/71/8766971_20230323214829574_1_LARGE.jpg?w=243&amp;h=155&amp;t=1679633367\" property=\"image\"/><img alt=\"Bavaria C46\" class=\"listing-card-image\" height=\"155\" src=\"//images.yachtworld.com/resize/1/69/71/8766971_20230323214829574_1_LARGE.jpg?w=243&amp;h=155&amp;t=1679633367\" width=\"243\"/></div><div class=\"listing-card-information\"><h2 class=\"listing-card-title blue-star-title\" property=\"name\">Bavaria C46</h2><div class=\"listing-card-length-year\">46 ft<!-- --> / <!-- -->2023</div><div class=\"listing-card-location\"></div><p class=\"make-blue-star\">Bavaria</p><span class=\"blue-star\">Manufacturer Listing</span><div class=\"brand-logo-container\" style=\"background-image:url('https://images.boatsgroup.com/images/1/upload/2015_BAVARIA+YACHTS_Logo_portrait_L_v2_t+%281%29.png')\"></div><div class=\"listing-card-media blue-star-icons\"></div></div></div></a>\n",
      "<a data-reporting-click-listing-type=\"standard listing\" data-reporting-click-product-id=\"8395586\" data-reporting-page=\"74\" data-reporting-rank=\"1100\" href=\"https://www.yachtworld.com/yacht/2023-lagoon-55-8395586/\" name=\"&amp;lpos=P1S1&amp;lid=SR_Detail_Photo\" property=\"itemListElement\" typeof=\"ListItem\"><meta content=\"https://www.yachtworld.com/yacht/2023-lagoon-55-8395586/\" property=\"url\"/><meta content=\"5\" property=\"position\"/><div class=\"row listing-card regular\" id=\"8395586\"><div class=\"listing-card-image-container\"><meta content=\"//images.yachtworld.com/resize/1/67/31/7916731_20210614130212253_1_LARGE.jpg?w=243&amp;h=155&amp;t=1657724330\" property=\"image\"/><span class=\"listing-card-image\" style=\"display:inline-block;width:243px;height:155px\"></span></div><div class=\"listing-card-information\"><h2 class=\"listing-card-title blue-star-title\" property=\"name\">Lagoon 55</h2><div class=\"listing-card-length-year\">54 ft<!-- --> / <!-- -->2023</div><div class=\"listing-card-location\"></div><p class=\"make-blue-star\">Lagoon</p><span class=\"blue-star\">Manufacturer Listing</span><div class=\"brand-logo-container\" style=\"background-image:url('https://images.boatsgroup.com/images/1/upload/lagoon+logo.png')\"></div><div class=\"listing-card-media blue-star-icons\"><div class=\"tooltip\" style=\"position:relative\"><i aria-label=\"Video\" class=\"listing-card-image-video icon-film\"></i></div></div></div></div></a>\n",
      "<a data-reporting-click-listing-type=\"standard listing\" data-reporting-click-product-id=\"8140046\" data-reporting-page=\"74\" data-reporting-rank=\"1101\" href=\"https://www.yachtworld.com/yacht/2023-moorings-5000-8140046/\" name=\"&amp;lpos=P1S1&amp;lid=SR_Detail_Photo\" property=\"itemListElement\" typeof=\"ListItem\"><meta content=\"https://www.yachtworld.com/yacht/2023-moorings-5000-8140046/\" property=\"url\"/><meta content=\"6\" property=\"position\"/><div class=\"row listing-card regular\" id=\"8140046\"><div class=\"listing-card-image-container\"><meta content=\"//images.yachtworld.com/resize/1/0/46/8140046_20211130022415651_1_LARGE.jpg?w=243&amp;h=155&amp;t=1638268093\" property=\"image\"/><span class=\"listing-card-image\" style=\"display:inline-block;width:243px;height:155px\"></span></div><div class=\"listing-card-information\"><h2 class=\"listing-card-title blue-star-title\" property=\"name\">Moorings 5000</h2><div class=\"listing-card-length-year\">51 ft<!-- --> / <!-- -->2023</div><div class=\"listing-card-location\"></div><p class=\"make-blue-star\">Moorings</p><span class=\"blue-star\">Manufacturer Listing</span><div class=\"brand-logo-container\" style=\"background-image:url('https://images.boatsgroup.com/published/images/logo_moorings.gif')\"></div><div class=\"listing-card-media blue-star-icons\"><div class=\"tooltip\" style=\"position:relative\"><i aria-label=\"Video\" class=\"listing-card-image-video icon-film\"></i></div></div></div></div></a>\n",
      "<a data-reporting-click-listing-type=\"standard listing\" data-reporting-click-product-id=\"7954715\" data-reporting-page=\"74\" data-reporting-rank=\"1102\" href=\"https://www.yachtworld.com/yacht/2022-gunboat-68-7954715/\" name=\"&amp;lpos=P1S1&amp;lid=SR_Detail_Photo\" property=\"itemListElement\" typeof=\"ListItem\"><meta content=\"https://www.yachtworld.com/yacht/2022-gunboat-68-7954715/\" property=\"url\"/><meta content=\"7\" property=\"position\"/><div class=\"row listing-card regular\" id=\"7954715\"><div class=\"listing-card-image-container\"><meta content=\"//images.yachtworld.com/resize/1/79/14/7647914_20210315072526755_1_LARGE.jpg?w=243&amp;h=155&amp;t=1626463758\" property=\"image\"/><span class=\"listing-card-image\" style=\"display:inline-block;width:243px;height:155px\"></span></div><div class=\"listing-card-information\"><h2 class=\"listing-card-title blue-star-title\" property=\"name\">Gunboat 68</h2><div class=\"listing-card-length-year\">68 ft<!-- --> / <!-- -->2022</div><div class=\"listing-card-location\"></div><p class=\"make-blue-star\">Gunboat</p><span class=\"blue-star\">Manufacturer Listing</span><div class=\"brand-logo-container\" style=\"background-image:url('https://images.boatsgroup.com/images/1/upload/1gunboat.PNG')\"></div><div class=\"listing-card-media blue-star-icons\"><div class=\"tooltip\" style=\"position:relative\"><i aria-label=\"Video\" class=\"listing-card-image-video icon-film\"></i></div></div></div></div></a>\n",
      "<a data-reporting-click-listing-type=\"standard listing\" data-reporting-click-product-id=\"8140045\" data-reporting-page=\"74\" data-reporting-rank=\"1103\" href=\"https://www.yachtworld.com/yacht/2023-moorings-4500-8140045/\" name=\"&amp;lpos=P1S1&amp;lid=SR_Detail_Photo\" property=\"itemListElement\" typeof=\"ListItem\"><meta content=\"https://www.yachtworld.com/yacht/2023-moorings-4500-8140045/\" property=\"url\"/><meta content=\"8\" property=\"position\"/><div class=\"row listing-card regular\" id=\"8140045\"><div class=\"listing-card-image-container\"><meta content=\"//images.yachtworld.com/resize/1/0/45/8140045_20211130023018653_1_LARGE.jpg?w=243&amp;h=155&amp;t=1638268453\" property=\"image\"/><span class=\"listing-card-image\" style=\"display:inline-block;width:243px;height:155px\"></span></div><div class=\"listing-card-information\"><h2 class=\"listing-card-title blue-star-title\" property=\"name\">Moorings 4500</h2><div class=\"listing-card-length-year\">45 ft<!-- --> / <!-- -->2023</div><div class=\"listing-card-location\"></div><p class=\"make-blue-star\">Moorings</p><span class=\"blue-star\">Manufacturer Listing</span><div class=\"brand-logo-container\" style=\"background-image:url('https://images.boatsgroup.com/published/images/logo_moorings.gif')\"></div><div class=\"listing-card-media blue-star-icons\"><div class=\"tooltip\" style=\"position:relative\"><i aria-label=\"Video\" class=\"listing-card-image-video icon-film\"></i></div></div></div></div></a>\n",
      "<a data-reporting-click-listing-type=\"standard listing\" data-reporting-click-product-id=\"8140044\" data-reporting-page=\"74\" data-reporting-rank=\"1104\" href=\"https://www.yachtworld.com/yacht/2023-moorings-4200-4-cabin-8140044/\" name=\"&amp;lpos=P1S1&amp;lid=SR_Detail_Photo\" property=\"itemListElement\" typeof=\"ListItem\"><meta content=\"https://www.yachtworld.com/yacht/2023-moorings-4200-4-cabin-8140044/\" property=\"url\"/><meta content=\"9\" property=\"position\"/><div class=\"row listing-card regular\" id=\"8140044\"><div class=\"listing-card-image-container\"><meta content=\"//images.yachtworld.com/resize/1/5/35/7640535_20201029083244423_1_LARGE.jpg?w=243&amp;h=155&amp;t=1638267374\" property=\"image\"/><span class=\"listing-card-image\" style=\"display:inline-block;width:243px;height:155px\"></span></div><div class=\"listing-card-information\"><h2 class=\"listing-card-title blue-star-title\" property=\"name\">Moorings 4200 4 Cabin</h2><div class=\"listing-card-length-year\">42 ft<!-- --> / <!-- -->2023</div><div class=\"listing-card-location\"></div><p class=\"make-blue-star\">Moorings</p><span class=\"blue-star\">Manufacturer Listing</span><div class=\"brand-logo-container\" style=\"background-image:url('https://images.boatsgroup.com/published/images/logo_moorings.gif')\"></div><div class=\"listing-card-media blue-star-icons\"><div class=\"tooltip\" style=\"position:relative\"><i aria-label=\"Video\" class=\"listing-card-image-video icon-film\"></i></div></div></div></div></a>\n",
      "<a data-reporting-click-listing-type=\"standard listing\" data-reporting-click-product-id=\"8030871\" data-reporting-page=\"74\" data-reporting-rank=\"1105\" href=\"https://www.yachtworld.com/yacht/2022-windelo-54-yachting-8030871/\" name=\"&amp;lpos=P1S1&amp;lid=SR_Detail_Photo\" property=\"itemListElement\" typeof=\"ListItem\"><meta content=\"https://www.yachtworld.com/yacht/2022-windelo-54-yachting-8030871/\" property=\"url\"/><meta content=\"10\" property=\"position\"/><div class=\"row listing-card regular\" id=\"8030871\"><div class=\"listing-card-image-container\"><meta content=\"//images.yachtworld.com/resize/1/8/71/8030871_20220213162516124_1_LARGE.jpg?w=243&amp;h=155&amp;t=1644798352\" property=\"image\"/><span class=\"listing-card-image\" style=\"display:inline-block;width:243px;height:155px\"></span></div><div class=\"listing-card-information\"><h2 class=\"listing-card-title blue-star-title\" property=\"name\">Windelo 54 Yachting</h2><div class=\"listing-card-length-year\">54 ft<!-- --> / <!-- -->2022</div><div class=\"listing-card-location\"></div><p class=\"make-blue-star\">Windelo</p><span class=\"blue-star\">Manufacturer Listing</span><div class=\"brand-logo-container\" style=\"background-image:url('https://images.boatsgroup.com/images/1/upload/1windelologo.PNG')\"></div><div class=\"listing-card-media blue-star-icons\"><div class=\"tooltip\" style=\"position:relative\"><i aria-label=\"Video\" class=\"listing-card-image-video icon-film\"></i></div></div></div></div></a>\n",
      "<a data-reporting-click-listing-type=\"standard listing\" data-reporting-click-product-id=\"8137190\" data-reporting-page=\"74\" data-reporting-rank=\"1106\" href=\"https://www.yachtworld.com/yacht/2023-sunsail-454-8137190/\" name=\"&amp;lpos=P1S1&amp;lid=SR_Detail_Photo\" property=\"itemListElement\" typeof=\"ListItem\"><meta content=\"https://www.yachtworld.com/yacht/2023-sunsail-454-8137190/\" property=\"url\"/><meta content=\"11\" property=\"position\"/><div class=\"row listing-card regular\" id=\"8137190\"><div class=\"listing-card-image-container\"><meta content=\"//images.yachtworld.com/resize/1/89/73/5998973_20161110003303654_1_LARGE.jpg?w=243&amp;h=155&amp;t=1638203763\" property=\"image\"/><span class=\"listing-card-image\" style=\"display:inline-block;width:243px;height:155px\"></span></div><div class=\"listing-card-information\"><h2 class=\"listing-card-title blue-star-title\" property=\"name\">Sunsail 454</h2><div class=\"listing-card-length-year\">45 ft<!-- --> / <!-- -->2023</div><div class=\"listing-card-location\"></div><p class=\"make-blue-star\">Sunsail</p><span class=\"blue-star\">Manufacturer Listing</span><div class=\"brand-logo-container\" style=\"background-image:url('https://images.boatsgroup.com/published/images/logos/logo_sunsail09.gif')\"></div><div class=\"listing-card-media blue-star-icons\"><div class=\"tooltip\" style=\"position:relative\"><i aria-label=\"Video\" class=\"listing-card-image-video icon-film\"></i></div></div></div></div></a>\n",
      "<a data-reporting-click-listing-type=\"standard listing\" data-reporting-click-product-id=\"8408463\" data-reporting-page=\"74\" data-reporting-rank=\"1107\" href=\"https://www.yachtworld.com/yacht/2023-excess-14-8408463/\" name=\"&amp;lpos=P1S1&amp;lid=SR_Detail_Photo\" property=\"itemListElement\" typeof=\"ListItem\"><meta content=\"https://www.yachtworld.com/yacht/2023-excess-14-8408463/\" property=\"url\"/><meta content=\"12\" property=\"position\"/><div class=\"row listing-card regular\" id=\"8408463\"><div class=\"listing-card-image-container\"><meta content=\"//images.yachtworld.com/resize/1/84/63/8408463_20220721211840154_1_LARGE.jpg?w=243&amp;h=155&amp;t=1658463532\" property=\"image\"/><span class=\"listing-card-image\" style=\"display:inline-block;width:243px;height:155px\"></span></div><div class=\"listing-card-information\"><h2 class=\"listing-card-title blue-star-title\" property=\"name\">Excess 14</h2><div class=\"listing-card-length-year\">46 ft<!-- --> / <!-- -->2023</div><div class=\"listing-card-location\"></div><p class=\"make-blue-star\">Excess</p><span class=\"blue-star\">Manufacturer Listing</span><div class=\"brand-logo-container\" style=\"background-image:url('https://images.boatsgroup.com/images/1/upload/excesslogo.png')\"></div><div class=\"listing-card-media blue-star-icons\"><div class=\"tooltip\" style=\"position:relative\"><i aria-label=\"Video\" class=\"listing-card-image-video icon-film\"></i></div></div></div></div></a>\n",
      "<a data-reporting-click-listing-type=\"standard listing\" data-reporting-click-product-id=\"8030858\" data-reporting-page=\"74\" data-reporting-rank=\"1108\" href=\"https://www.yachtworld.com/yacht/2022-windelo-50-yachting-8030858/\" name=\"&amp;lpos=P1S1&amp;lid=SR_Detail_Photo\" property=\"itemListElement\" typeof=\"ListItem\"><meta content=\"https://www.yachtworld.com/yacht/2022-windelo-50-yachting-8030858/\" property=\"url\"/><meta content=\"13\" property=\"position\"/><div class=\"row listing-card regular\" id=\"8030858\"><div class=\"listing-card-image-container\"><meta content=\"//images.yachtworld.com/resize/1/8/58/8030858_20220213161837594_1_LARGE.jpg?w=243&amp;h=155&amp;t=1644797952\" property=\"image\"/><span class=\"listing-card-image\" style=\"display:inline-block;width:243px;height:155px\"></span></div><div class=\"listing-card-information\"><h2 class=\"listing-card-title blue-star-title\" property=\"name\">Windelo 50 Yachting</h2><div class=\"listing-card-length-year\">50 ft<!-- --> / <!-- -->2022</div><div class=\"listing-card-location\"></div><p class=\"make-blue-star\">Windelo</p><span class=\"blue-star\">Manufacturer Listing</span><div class=\"brand-logo-container\" style=\"background-image:url('https://images.boatsgroup.com/images/1/upload/1windelologo.PNG')\"></div><div class=\"listing-card-media blue-star-icons\"><div class=\"tooltip\" style=\"position:relative\"><i aria-label=\"Video\" class=\"listing-card-image-video icon-film\"></i></div></div></div></div></a>\n",
      "<a data-reporting-click-listing-type=\"standard listing\" data-reporting-click-product-id=\"7939836\" data-reporting-page=\"74\" data-reporting-rank=\"1109\" href=\"https://www.yachtworld.com/yacht/2022-fountaine-pajot-catamaran-elba-45-7939836/\" name=\"&amp;lpos=P1S1&amp;lid=SR_Detail_Photo\" property=\"itemListElement\" typeof=\"ListItem\"><meta content=\"https://www.yachtworld.com/yacht/2022-fountaine-pajot-catamaran-elba-45-7939836/\" property=\"url\"/><meta content=\"14\" property=\"position\"/><div class=\"row listing-card regular\" id=\"7939836\"><div class=\"listing-card-image-container\"><meta content=\"//images.yachtworld.com/resize/1/3/5/6830305_20190124162409681_1_LARGE.jpg?w=243&amp;h=155&amp;t=1625460455\" property=\"image\"/><span class=\"listing-card-image\" style=\"display:inline-block;width:243px;height:155px\"></span></div><div class=\"listing-card-information\"><h2 class=\"listing-card-title blue-star-title\" property=\"name\">Fountaine Pajot Catamaran Elba 45</h2><div class=\"listing-card-length-year\">44 ft<!-- --> / <!-- -->2022</div><div class=\"listing-card-location\"></div><p class=\"make-blue-star\">Fountaine Pajot</p><span class=\"blue-star\">Manufacturer Listing</span><div class=\"brand-logo-container\" style=\"background-image:url('https://images.boatsgroup.com/images/1/upload/fountaine_pajot_logo2.png')\"></div><div class=\"listing-card-media blue-star-icons\"></div></div></div></a>\n",
      "<a data-reporting-click-listing-type=\"standard listing\" data-reporting-click-product-id=\"8538510\" data-reporting-page=\"74\" data-reporting-rank=\"1110\" href=\"https://www.yachtworld.com/yacht/2023-contest-42cs-8538510/\" name=\"&amp;lpos=P1S1&amp;lid=SR_Detail_Photo\" property=\"itemListElement\" typeof=\"ListItem\"><meta content=\"https://www.yachtworld.com/yacht/2023-contest-42cs-8538510/\" property=\"url\"/><meta content=\"15\" property=\"position\"/><div class=\"row listing-card regular\" id=\"8538510\"><div class=\"listing-card-image-container\"><meta content=\"//images.yachtworld.com/resize/1/17/83/5761783_20160401005418906_1_LARGE.jpg?w=243&amp;h=155&amp;t=1665641434\" property=\"image\"/><span class=\"listing-card-image\" style=\"display:inline-block;width:243px;height:155px\"></span></div><div class=\"listing-card-information\"><h2 class=\"listing-card-title blue-star-title\" property=\"name\">Contest 42CS</h2><div class=\"listing-card-length-year\">43 ft<!-- --> / <!-- -->2023</div><div class=\"listing-card-location\"></div><p class=\"make-blue-star\">Contest</p><span class=\"blue-star\">Manufacturer Listing</span><div class=\"brand-logo-container\" style=\"background-image:url('https://images.boatsgroup.com/images/1/upload/contest logo.PNG')\"></div><div class=\"listing-card-media blue-star-icons\"><div class=\"tooltip\" style=\"position:relative\"><i aria-label=\"Video\" class=\"listing-card-image-video icon-film\"></i></div></div></div></div></a>\n",
      "<a data-reporting-click-listing-type=\"standard listing\" data-reporting-click-product-id=\"8260088\" data-reporting-page=\"75\" data-reporting-rank=\"1111\" href=\"https://www.yachtworld.com/yacht/2022-cnb-66-8260088/\" name=\"&amp;lpos=P1S1&amp;lid=SR_Detail_Photo\" property=\"itemListElement\" typeof=\"ListItem\"><meta content=\"https://www.yachtworld.com/yacht/2022-cnb-66-8260088/\" property=\"url\"/><meta content=\"1\" property=\"position\"/><div class=\"row listing-card regular\" id=\"8260088\"><div class=\"listing-card-image-container\"><meta content=\"//images.yachtworld.com/resize/1/0/88/8260088_20220324092434827_1_LARGE.jpg?w=243&amp;h=155&amp;t=1648139117\" property=\"image\"/><img alt=\"CNB 66\" class=\"listing-card-image\" height=\"155\" src=\"//images.yachtworld.com/resize/1/0/88/8260088_20220324092434827_1_LARGE.jpg?w=243&amp;h=155&amp;t=1648139117\" width=\"243\"/></div><div class=\"listing-card-information\"><h2 class=\"listing-card-title blue-star-title\" property=\"name\">CNB 66</h2><div class=\"listing-card-length-year\">68 ft<!-- --> / <!-- -->2022</div><div class=\"listing-card-location\"></div><p class=\"make-blue-star\">CNB</p><span class=\"blue-star\">Manufacturer Listing</span><div class=\"brand-logo-container\" style=\"background-image:url('https://images.boatsgroup.com/images/1/upload/cnb.JPG')\"></div><div class=\"listing-card-media blue-star-icons\"></div></div></div></a>\n",
      "<a data-reporting-click-listing-type=\"standard listing\" data-reporting-click-product-id=\"7973890\" data-reporting-page=\"75\" data-reporting-rank=\"1112\" href=\"https://www.yachtworld.com/yacht/2023-leopard-45-7973890/\" name=\"&amp;lpos=P1S1&amp;lid=SR_Detail_Photo\" property=\"itemListElement\" typeof=\"ListItem\"><meta content=\"https://www.yachtworld.com/yacht/2023-leopard-45-7973890/\" property=\"url\"/><meta content=\"2\" property=\"position\"/><div class=\"row listing-card regular\" id=\"7973890\"><div class=\"listing-card-image-container\"><meta content=\"//images.yachtworld.com/resize/1/38/90/7973890_20211129081339446_1_LARGE.jpg?w=243&amp;h=155&amp;t=1638202828\" property=\"image\"/><img alt=\"Leopard 45\" class=\"listing-card-image\" height=\"155\" src=\"//images.yachtworld.com/resize/1/38/90/7973890_20211129081339446_1_LARGE.jpg?w=243&amp;h=155&amp;t=1638202828\" width=\"243\"/></div><div class=\"listing-card-information\"><h2 class=\"listing-card-title blue-star-title\" property=\"name\">Leopard 45</h2><div class=\"listing-card-length-year\">45 ft<!-- --> / <!-- -->2023</div><div class=\"listing-card-location\"></div><p class=\"make-blue-star\">Leopard</p><span class=\"blue-star\">Manufacturer Listing</span><div class=\"brand-logo-container\" style=\"background-image:url('https://images.boatsgroup.com/images/1/upload/Leopard_web_197.png')\"></div><div class=\"listing-card-media blue-star-icons\"><div class=\"tooltip\" style=\"position:relative\"><i aria-label=\"Video\" class=\"listing-card-image-video icon-film\"></i></div></div></div></div></a>\n",
      "<a data-reporting-click-listing-type=\"standard listing\" data-reporting-click-product-id=\"7969574\" data-reporting-page=\"75\" data-reporting-rank=\"1113\" href=\"https://www.yachtworld.com/yacht/2022-seawind-1160-resort-7969574/\" name=\"&amp;lpos=P1S1&amp;lid=SR_Detail_Photo\" property=\"itemListElement\" typeof=\"ListItem\"><meta content=\"https://www.yachtworld.com/yacht/2022-seawind-1160-resort-7969574/\" property=\"url\"/><meta content=\"3\" property=\"position\"/><div class=\"row listing-card regular\" id=\"7969574\"><div class=\"listing-card-image-container\"><meta content=\"//images.yachtworld.com/resize/1/38/93/6603893_20180207041720554_1_LARGE.jpg?w=243&amp;h=155&amp;t=1627585192\" property=\"image\"/><img alt=\"Seawind 1160 Resort\" class=\"listing-card-image\" height=\"155\" src=\"//images.yachtworld.com/resize/1/38/93/6603893_20180207041720554_1_LARGE.jpg?w=243&amp;h=155&amp;t=1627585192\" width=\"243\"/></div><div class=\"listing-card-information\"><h2 class=\"listing-card-title blue-star-title\" property=\"name\">Seawind 1160 Resort</h2><div class=\"listing-card-length-year\">38 ft<!-- --> / <!-- -->2022</div><div class=\"listing-card-location\"></div><p class=\"make-blue-star\">Seawind</p><span class=\"blue-star\">Manufacturer Listing</span><div class=\"brand-logo-container\" style=\"background-image:url('https://images.boatsgroup.com/published/images/logos/logo_seawind.gif')\"></div><div class=\"listing-card-media blue-star-icons\"><div class=\"tooltip\" style=\"position:relative\"><i aria-label=\"Video\" class=\"listing-card-image-video icon-film\"></i></div></div></div></div></a>\n",
      "<a data-reporting-click-listing-type=\"standard listing\" data-reporting-click-product-id=\"8463718\" data-reporting-page=\"75\" data-reporting-rank=\"1114\" href=\"https://www.yachtworld.com/yacht/2023-xquisite-yachts-x5-plus-8463718/\" name=\"&amp;lpos=P1S1&amp;lid=SR_Detail_Photo\" property=\"itemListElement\" typeof=\"ListItem\"><meta content=\"https://www.yachtworld.com/yacht/2023-xquisite-yachts-x5-plus-8463718/\" property=\"url\"/><meta content=\"4\" property=\"position\"/><div class=\"row listing-card regular\" id=\"8463718\"><div class=\"listing-card-image-container\"><meta content=\"//images.yachtworld.com/resize/1/69/81/7606981_20200930012632862_1_LARGE.jpg?w=243&amp;h=155&amp;t=1661447368\" property=\"image\"/><img alt=\"Xquisite Yachts X5 PLUS\" class=\"listing-card-image\" height=\"155\" src=\"//images.yachtworld.com/resize/1/69/81/7606981_20200930012632862_1_LARGE.jpg?w=243&amp;h=155&amp;t=1661447368\" width=\"243\"/></div><div class=\"listing-card-information\"><h2 class=\"listing-card-title blue-star-title\" property=\"name\">Xquisite Yachts X5 PLUS</h2><div class=\"listing-card-length-year\">54 ft<!-- --> / <!-- -->2023</div><div class=\"listing-card-location\"></div><p class=\"make-blue-star\">Xquisite Yachts</p><span class=\"blue-star\">Manufacturer Listing</span><div class=\"brand-logo-container\" style=\"background-image:url('https://images.boatsgroup.com/images/1/upload/XQUISITE+LOGO_2020_Black+%281%29.jpeg')\"></div><div class=\"listing-card-media blue-star-icons\"><div class=\"tooltip\" style=\"position:relative\"><i aria-label=\"Video\" class=\"listing-card-image-video icon-film\"></i></div></div></div></div></a>\n",
      "<a data-reporting-click-listing-type=\"standard listing\" data-reporting-click-product-id=\"8030868\" data-reporting-page=\"75\" data-reporting-rank=\"1115\" href=\"https://www.yachtworld.com/yacht/2022-windelo-54-adventure-8030868/\" name=\"&amp;lpos=P1S1&amp;lid=SR_Detail_Photo\" property=\"itemListElement\" typeof=\"ListItem\"><meta content=\"https://www.yachtworld.com/yacht/2022-windelo-54-adventure-8030868/\" property=\"url\"/><meta content=\"5\" property=\"position\"/><div class=\"row listing-card regular\" id=\"8030868\"><div class=\"listing-card-image-container\"><meta content=\"//images.yachtworld.com/resize/1/8/68/8030868_20220213162023852_1_LARGE.jpg?w=243&amp;h=155&amp;t=1644798060\" property=\"image\"/><span class=\"listing-card-image\" style=\"display:inline-block;width:243px;height:155px\"></span></div><div class=\"listing-card-information\"><h2 class=\"listing-card-title blue-star-title\" property=\"name\">Windelo 54 Adventure</h2><div class=\"listing-card-length-year\">54 ft<!-- --> / <!-- -->2022</div><div class=\"listing-card-location\"></div><p class=\"make-blue-star\">Windelo</p><span class=\"blue-star\">Manufacturer Listing</span><div class=\"brand-logo-container\" style=\"background-image:url('https://images.boatsgroup.com/images/1/upload/1windelologo.PNG')\"></div><div class=\"listing-card-media blue-star-icons\"><div class=\"tooltip\" style=\"position:relative\"><i aria-label=\"Video\" class=\"listing-card-image-video icon-film\"></i></div></div></div></div></a>\n",
      "<a data-reporting-click-listing-type=\"standard listing\" data-reporting-click-product-id=\"7969571\" data-reporting-page=\"75\" data-reporting-rank=\"1116\" href=\"https://www.yachtworld.com/yacht/2022-seawind-1160-deluxe-7969571/\" name=\"&amp;lpos=P1S1&amp;lid=SR_Detail_Photo\" property=\"itemListElement\" typeof=\"ListItem\"><meta content=\"https://www.yachtworld.com/yacht/2022-seawind-1160-deluxe-7969571/\" property=\"url\"/><meta content=\"6\" property=\"position\"/><div class=\"row listing-card regular\" id=\"7969571\"><div class=\"listing-card-image-container\"><meta content=\"//images.yachtworld.com/resize/1/98/98/7439898_20200428070459777_1_LARGE.jpg?w=243&amp;h=155&amp;t=1627585121\" property=\"image\"/><span class=\"listing-card-image\" style=\"display:inline-block;width:243px;height:155px\"></span></div><div class=\"listing-card-information\"><h2 class=\"listing-card-title blue-star-title\" property=\"name\">Seawind 1160 Deluxe</h2><div class=\"listing-card-length-year\">38 ft<!-- --> / <!-- -->2022</div><div class=\"listing-card-location\"></div><p class=\"make-blue-star\">Seawind</p><span class=\"blue-star\">Manufacturer Listing</span><div class=\"brand-logo-container\" style=\"background-image:url('https://images.boatsgroup.com/published/images/logos/logo_seawind.gif')\"></div><div class=\"listing-card-media blue-star-icons\"><div class=\"tooltip\" style=\"position:relative\"><i aria-label=\"Video\" class=\"listing-card-image-video icon-film\"></i></div></div></div></div></a>\n",
      "<a data-reporting-click-listing-type=\"standard listing\" data-reporting-click-product-id=\"8260103\" data-reporting-page=\"75\" data-reporting-rank=\"1117\" href=\"https://www.yachtworld.com/yacht/2022-cnb-76-8260103/\" name=\"&amp;lpos=P1S1&amp;lid=SR_Detail_Photo\" property=\"itemListElement\" typeof=\"ListItem\"><meta content=\"https://www.yachtworld.com/yacht/2022-cnb-76-8260103/\" property=\"url\"/><meta content=\"7\" property=\"position\"/><div class=\"row listing-card regular\" id=\"8260103\"><div class=\"listing-card-image-container\"><meta content=\"//images.yachtworld.com/resize/1/1/3/8260103_20220324092851683_1_LARGE.jpg?w=243&amp;h=155&amp;t=1648139365\" property=\"image\"/><span class=\"listing-card-image\" style=\"display:inline-block;width:243px;height:155px\"></span></div><div class=\"listing-card-information\"><h2 class=\"listing-card-title blue-star-title\" property=\"name\">CNB 76</h2><div class=\"listing-card-length-year\">76 ft<!-- --> / <!-- -->2022</div><div class=\"listing-card-location\"></div><p class=\"make-blue-star\">CNB</p><span class=\"blue-star\">Manufacturer Listing</span><div class=\"brand-logo-container\" style=\"background-image:url('https://images.boatsgroup.com/images/1/upload/cnb.JPG')\"></div><div class=\"listing-card-media blue-star-icons\"></div></div></div></a>\n",
      "<a data-reporting-click-listing-type=\"standard listing\" data-reporting-click-product-id=\"7939835\" data-reporting-page=\"75\" data-reporting-rank=\"1118\" href=\"https://www.yachtworld.com/yacht/2022-fountaine-pajot-catamaran-astrea-42-7939835/\" name=\"&amp;lpos=P1S1&amp;lid=SR_Detail_Photo\" property=\"itemListElement\" typeof=\"ListItem\"><meta content=\"https://www.yachtworld.com/yacht/2022-fountaine-pajot-catamaran-astrea-42-7939835/\" property=\"url\"/><meta content=\"8\" property=\"position\"/><div class=\"row listing-card regular\" id=\"7939835\"><div class=\"listing-card-image-container\"><meta content=\"//images.yachtworld.com/resize/1/81/13/6968113_20190124164535160_1_LARGE.jpg?w=243&amp;h=155&amp;t=1625460286\" property=\"image\"/><span class=\"listing-card-image\" style=\"display:inline-block;width:243px;height:155px\"></span></div><div class=\"listing-card-information\"><h2 class=\"listing-card-title blue-star-title\" property=\"name\">Fountaine Pajot Catamaran Astrea 42</h2><div class=\"listing-card-length-year\">41 ft<!-- --> / <!-- -->2022</div><div class=\"listing-card-location\"></div><p class=\"make-blue-star\">Fountaine Pajot</p><span class=\"blue-star\">Manufacturer Listing</span><div class=\"brand-logo-container\" style=\"background-image:url('https://images.boatsgroup.com/images/1/upload/fountaine_pajot_logo2.png')\"></div><div class=\"listing-card-media blue-star-icons\"><div class=\"tooltip\" style=\"position:relative\"><i aria-label=\"Video\" class=\"listing-card-image-video icon-film\"></i></div></div></div></div></a>\n",
      "<a data-reporting-click-listing-type=\"standard listing\" data-reporting-click-product-id=\"7939834\" data-reporting-page=\"75\" data-reporting-rank=\"1119\" href=\"https://www.yachtworld.com/yacht/2022-fountaine-pajot-isla-40-7939834/\" name=\"&amp;lpos=P1S1&amp;lid=SR_Detail_Photo\" property=\"itemListElement\" typeof=\"ListItem\"><meta content=\"https://www.yachtworld.com/yacht/2022-fountaine-pajot-isla-40-7939834/\" property=\"url\"/><meta content=\"9\" property=\"position\"/><div class=\"row listing-card regular\" id=\"7939834\"><div class=\"listing-card-image-container\"><meta content=\"//images.yachtworld.com/resize/1/63/14/7646314_20201104045443364_1_LARGE.jpg?w=243&amp;h=155&amp;t=1625460130\" property=\"image\"/><span class=\"listing-card-image\" style=\"display:inline-block;width:243px;height:155px\"></span></div><div class=\"listing-card-information\"><h2 class=\"listing-card-title blue-star-title\" property=\"name\">Fountaine Pajot Isla 40</h2><div class=\"listing-card-length-year\">39 ft<!-- --> / <!-- -->2022</div><div class=\"listing-card-location\"></div><p class=\"make-blue-star\">Fountaine Pajot</p><span class=\"blue-star\">Manufacturer Listing</span><div class=\"brand-logo-container\" style=\"background-image:url('https://images.boatsgroup.com/images/1/upload/fountaine_pajot_logo2.png')\"></div><div class=\"listing-card-media blue-star-icons\"></div></div></div></a>\n",
      "<a data-reporting-click-listing-type=\"standard listing\" data-reporting-click-product-id=\"7969529\" data-reporting-page=\"75\" data-reporting-rank=\"1120\" href=\"https://www.yachtworld.com/yacht/2022-seawind-1160-lite-7969529/\" name=\"&amp;lpos=P1S1&amp;lid=SR_Detail_Photo\" property=\"itemListElement\" typeof=\"ListItem\"><meta content=\"https://www.yachtworld.com/yacht/2022-seawind-1160-lite-7969529/\" property=\"url\"/><meta content=\"10\" property=\"position\"/><div class=\"row listing-card regular\" id=\"7969529\"><div class=\"listing-card-image-container\"><meta content=\"//images.yachtworld.com/resize/1/98/98/7439898_20200428070459777_1_LARGE.jpg?w=243&amp;h=155&amp;t=1627583861\" property=\"image\"/><span class=\"listing-card-image\" style=\"display:inline-block;width:243px;height:155px\"></span></div><div class=\"listing-card-information\"><h2 class=\"listing-card-title blue-star-title\" property=\"name\">Seawind 1160 Lite</h2><div class=\"listing-card-length-year\">38 ft<!-- --> / <!-- -->2022</div><div class=\"listing-card-location\"></div><p class=\"make-blue-star\">Seawind</p><span class=\"blue-star\">Manufacturer Listing</span><div class=\"brand-logo-container\" style=\"background-image:url('https://images.boatsgroup.com/published/images/logos/logo_seawind.gif')\"></div><div class=\"listing-card-media blue-star-icons\"><div class=\"tooltip\" style=\"position:relative\"><i aria-label=\"Video\" class=\"listing-card-image-video icon-film\"></i></div></div></div></div></a>\n",
      "<a data-reporting-click-listing-type=\"standard listing\" data-reporting-click-product-id=\"7939829\" data-reporting-page=\"75\" data-reporting-rank=\"1121\" href=\"https://www.yachtworld.com/yacht/2023-oyster-675-7939829/\" name=\"&amp;lpos=P1S1&amp;lid=SR_Detail_Photo\" property=\"itemListElement\" typeof=\"ListItem\"><meta content=\"https://www.yachtworld.com/yacht/2023-oyster-675-7939829/\" property=\"url\"/><meta content=\"11\" property=\"position\"/><div class=\"row listing-card regular\" id=\"7939829\"><div class=\"listing-card-image-container\"><meta content=\"//images.yachtworld.com/resize/1/65/9/7646509_20201112043703868_1_LARGE.jpg?w=243&amp;h=155&amp;t=1625458809\" property=\"image\"/><span class=\"listing-card-image\" style=\"display:inline-block;width:243px;height:155px\"></span></div><div class=\"listing-card-information\"><h2 class=\"listing-card-title blue-star-title\" property=\"name\">Oyster 675</h2><div class=\"listing-card-length-year\">69 ft<!-- --> / <!-- -->2023</div><div class=\"listing-card-location\"></div><p class=\"make-blue-star\">Oyster</p><span class=\"blue-star\">Manufacturer Listing</span><div class=\"brand-logo-container\" style=\"background-image:url('https://images.boatsgroup.com/images/1/upload/oysteroemlogo.png')\"></div><div class=\"listing-card-media blue-star-icons\"><div class=\"tooltip\" style=\"position:relative\"><i aria-label=\"Video\" class=\"listing-card-image-video icon-film\"></i></div></div></div></div></a>\n",
      "<a data-reporting-click-listing-type=\"standard listing\" data-reporting-click-product-id=\"7939828\" data-reporting-page=\"75\" data-reporting-rank=\"1122\" href=\"https://www.yachtworld.com/yacht/2023-oyster-595-7939828/\" name=\"&amp;lpos=P1S1&amp;lid=SR_Detail_Photo\" property=\"itemListElement\" typeof=\"ListItem\"><meta content=\"https://www.yachtworld.com/yacht/2023-oyster-595-7939828/\" property=\"url\"/><meta content=\"12\" property=\"position\"/><div class=\"row listing-card regular\" id=\"7939828\"><div class=\"listing-card-image-container\"><meta content=\"//images.yachtworld.com/resize/1/65/8/7646508_20201112043124130_1_LARGE.jpg?w=243&amp;h=155&amp;t=1625458745\" property=\"image\"/><span class=\"listing-card-image\" style=\"display:inline-block;width:243px;height:155px\"></span></div><div class=\"listing-card-information\"><h2 class=\"listing-card-title blue-star-title\" property=\"name\">Oyster 595</h2><div class=\"listing-card-length-year\">63 ft<!-- --> / <!-- -->2023</div><div class=\"listing-card-location\"></div><p class=\"make-blue-star\">Oyster</p><span class=\"blue-star\">Manufacturer Listing</span><div class=\"brand-logo-container\" style=\"background-image:url('https://images.boatsgroup.com/images/1/upload/oysteroemlogo.png')\"></div><div class=\"listing-card-media blue-star-icons\"></div></div></div></a>\n",
      "<a data-reporting-click-listing-type=\"standard listing\" data-reporting-click-product-id=\"7939827\" data-reporting-page=\"75\" data-reporting-rank=\"1123\" href=\"https://www.yachtworld.com/yacht/2023-oyster-565-7939827/\" name=\"&amp;lpos=P1S1&amp;lid=SR_Detail_Photo\" property=\"itemListElement\" typeof=\"ListItem\"><meta content=\"https://www.yachtworld.com/yacht/2023-oyster-565-7939827/\" property=\"url\"/><meta content=\"13\" property=\"position\"/><div class=\"row listing-card regular\" id=\"7939827\"><div class=\"listing-card-image-container\"><meta content=\"//images.yachtworld.com/resize/1/65/7/7646507_20201112041810849_1_LARGE.jpg?w=243&amp;h=155&amp;t=1625458711\" property=\"image\"/><span class=\"listing-card-image\" style=\"display:inline-block;width:243px;height:155px\"></span></div><div class=\"listing-card-information\"><h2 class=\"listing-card-title blue-star-title\" property=\"name\">Oyster 565</h2><div class=\"listing-card-length-year\">59 ft<!-- --> / <!-- -->2023</div><div class=\"listing-card-location\"></div><p class=\"make-blue-star\">Oyster</p><span class=\"blue-star\">Manufacturer Listing</span><div class=\"brand-logo-container\" style=\"background-image:url('https://images.boatsgroup.com/images/1/upload/oysteroemlogo.png')\"></div><div class=\"listing-card-media blue-star-icons\"></div></div></div></a>\n",
      "<a data-reporting-click-listing-type=\"standard listing\" data-reporting-click-product-id=\"7624493\" data-reporting-page=\"75\" data-reporting-rank=\"1124\" href=\"https://www.yachtworld.com/yacht/2022-corsair-760r-7624493/\" name=\"&amp;lpos=P1S1&amp;lid=SR_Detail_Photo\" property=\"itemListElement\" typeof=\"ListItem\"><meta content=\"https://www.yachtworld.com/yacht/2022-corsair-760r-7624493/\" property=\"url\"/><meta content=\"14\" property=\"position\"/><div class=\"row listing-card regular\" id=\"7624493\"><div class=\"listing-card-image-container\"><meta content=\"//images.yachtworld.com/resize/1/51/21/7435121_20200420234342965_1_LARGE.jpg?w=243&amp;h=155&amp;t=1602689064\" property=\"image\"/><span class=\"listing-card-image\" style=\"display:inline-block;width:243px;height:155px\"></span></div><div class=\"listing-card-information\"><h2 class=\"listing-card-title blue-star-title\" property=\"name\">Corsair 760R</h2><div class=\"listing-card-length-year\">24 ft<!-- --> / <!-- -->2022</div><div class=\"listing-card-location\"></div><p class=\"make-blue-star\">Corsair</p><span class=\"blue-star\">Manufacturer Listing</span><div class=\"brand-logo-container\" style=\"background-image:url('https://images.boatsgroup.com/published/images/logo_corsair.gif')\"></div><div class=\"listing-card-media blue-star-icons\"><div class=\"tooltip\" style=\"position:relative\"><i aria-label=\"Video\" class=\"listing-card-image-video icon-film\"></i></div></div></div></div></a>\n",
      "<a data-reporting-click-listing-type=\"standard listing\" data-reporting-click-product-id=\"7969548\" data-reporting-page=\"75\" data-reporting-rank=\"1125\" href=\"https://www.yachtworld.com/yacht/2022-corsair-970-sport-7969548/\" name=\"&amp;lpos=P1S1&amp;lid=SR_Detail_Photo\" property=\"itemListElement\" typeof=\"ListItem\"><meta content=\"https://www.yachtworld.com/yacht/2022-corsair-970-sport-7969548/\" property=\"url\"/><meta content=\"15\" property=\"position\"/><div class=\"row listing-card regular\" id=\"7969548\"><div class=\"listing-card-image-container\"><meta content=\"//images.yachtworld.com/resize/1/51/30/7435130_20200421000933238_1_LARGE.jpg?w=243&amp;h=155&amp;t=1627584492\" property=\"image\"/><span class=\"listing-card-image\" style=\"display:inline-block;width:243px;height:155px\"></span></div><div class=\"listing-card-information\"><h2 class=\"listing-card-title blue-star-title\" property=\"name\">Corsair 970 Sport</h2><div class=\"listing-card-length-year\">31 ft<!-- --> / <!-- -->2022</div><div class=\"listing-card-location\"></div><p class=\"make-blue-star\">Corsair</p><span class=\"blue-star\">Manufacturer Listing</span><div class=\"brand-logo-container\" style=\"background-image:url('https://images.boatsgroup.com/published/images/logo_corsair.gif')\"></div><div class=\"listing-card-media blue-star-icons\"></div></div></div></a>\n",
      "<a data-reporting-click-listing-type=\"standard listing\" data-reporting-click-product-id=\"7992791\" data-reporting-page=\"76\" data-reporting-rank=\"1126\" href=\"https://www.yachtworld.com/yacht/2022-arcona-410-7992791/\" name=\"&amp;lpos=P1S1&amp;lid=SR_Detail_Photo\" property=\"itemListElement\" typeof=\"ListItem\"><meta content=\"https://www.yachtworld.com/yacht/2022-arcona-410-7992791/\" property=\"url\"/><meta content=\"1\" property=\"position\"/><div class=\"row listing-card regular\" id=\"7992791\"><div class=\"listing-card-image-container\"><meta content=\"//images.yachtworld.com/resize/1/87/48/7298748_20191203034732122_1_LARGE.jpg?w=243&amp;h=155&amp;t=1629311053\" property=\"image\"/><img alt=\"Arcona 410\" class=\"listing-card-image\" height=\"155\" src=\"//images.yachtworld.com/resize/1/87/48/7298748_20191203034732122_1_LARGE.jpg?w=243&amp;h=155&amp;t=1629311053\" width=\"243\"/></div><div class=\"listing-card-information\"><h2 class=\"listing-card-title blue-star-title\" property=\"name\">Arcona 410</h2><div class=\"listing-card-length-year\">40 ft<!-- --> / <!-- -->2022</div><div class=\"listing-card-location\"></div><p class=\"make-blue-star\">Arcona</p><span class=\"blue-star\">Manufacturer Listing</span><div class=\"brand-logo-container\" style=\"background-image:url('https://images.boatsgroup.com/images/1/upload/1arcona.PNG')\"></div><div class=\"listing-card-media blue-star-icons\"></div></div></div></a>\n",
      "<a data-reporting-click-listing-type=\"standard listing\" data-reporting-click-product-id=\"7624491\" data-reporting-page=\"76\" data-reporting-rank=\"1127\" href=\"https://www.yachtworld.com/yacht/2022-corsair-760-sport-7624491/\" name=\"&amp;lpos=P1S1&amp;lid=SR_Detail_Photo\" property=\"itemListElement\" typeof=\"ListItem\"><meta content=\"https://www.yachtworld.com/yacht/2022-corsair-760-sport-7624491/\" property=\"url\"/><meta content=\"2\" property=\"position\"/><div class=\"row listing-card regular\" id=\"7624491\"><div class=\"listing-card-image-container\"><meta content=\"//images.yachtworld.com/resize/1/51/28/7435128_20200421000316741_1_LARGE.jpg?w=243&amp;h=155&amp;t=1602689064\" property=\"image\"/><img alt=\"Corsair 760 Sport\" class=\"listing-card-image\" height=\"155\" src=\"//images.yachtworld.com/resize/1/51/28/7435128_20200421000316741_1_LARGE.jpg?w=243&amp;h=155&amp;t=1602689064\" width=\"243\"/></div><div class=\"listing-card-information\"><h2 class=\"listing-card-title blue-star-title\" property=\"name\">Corsair 760 Sport</h2><div class=\"listing-card-length-year\">24 ft<!-- --> / <!-- -->2022</div><div class=\"listing-card-location\"></div><p class=\"make-blue-star\">Corsair</p><span class=\"blue-star\">Manufacturer Listing</span><div class=\"brand-logo-container\" style=\"background-image:url('https://images.boatsgroup.com/published/images/logo_corsair.gif')\"></div><div class=\"listing-card-media blue-star-icons\"></div></div></div></a>\n",
      "<a data-reporting-click-listing-type=\"standard listing\" data-reporting-click-product-id=\"8538518\" data-reporting-page=\"76\" data-reporting-rank=\"1128\" href=\"https://www.yachtworld.com/yacht/2023-contest-85cs-8538518/\" name=\"&amp;lpos=P1S1&amp;lid=SR_Detail_Photo\" property=\"itemListElement\" typeof=\"ListItem\"><meta content=\"https://www.yachtworld.com/yacht/2023-contest-85cs-8538518/\" property=\"url\"/><meta content=\"3\" property=\"position\"/><div class=\"row listing-card regular\" id=\"8538518\"><div class=\"listing-card-image-container\"><meta content=\"//images.yachtworld.com/resize/1/82/68/7468268_20200603065634271_1_LARGE.jpg?w=243&amp;h=155&amp;t=1665642965\" property=\"image\"/><img alt=\"Contest 85CS\" class=\"listing-card-image\" height=\"155\" src=\"//images.yachtworld.com/resize/1/82/68/7468268_20200603065634271_1_LARGE.jpg?w=243&amp;h=155&amp;t=1665642965\" width=\"243\"/></div><div class=\"listing-card-information\"><h2 class=\"listing-card-title blue-star-title\" property=\"name\">Contest 85CS</h2><div class=\"listing-card-length-year\">85 ft<!-- --> / <!-- -->2023</div><div class=\"listing-card-location\"></div><p class=\"make-blue-star\">Contest</p><span class=\"blue-star\">Manufacturer Listing</span><div class=\"brand-logo-container\" style=\"background-image:url('https://images.boatsgroup.com/images/1/upload/contest logo.PNG')\"></div><div class=\"listing-card-media blue-star-icons\"><div class=\"tooltip\" style=\"position:relative\"><i aria-label=\"Video\" class=\"listing-card-image-video icon-film\"></i></div></div></div></div></a>\n",
      "<a data-reporting-click-listing-type=\"standard listing\" data-reporting-click-product-id=\"8173716\" data-reporting-page=\"76\" data-reporting-rank=\"1129\" href=\"https://www.yachtworld.com/yacht/2024-amel-50-8173716/\" name=\"&amp;lpos=P1S1&amp;lid=SR_Detail_Photo\" property=\"itemListElement\" typeof=\"ListItem\"><meta content=\"https://www.yachtworld.com/yacht/2024-amel-50-8173716/\" property=\"url\"/><meta content=\"4\" property=\"position\"/><div class=\"row listing-card regular\" id=\"8173716\"><div class=\"listing-card-image-container\"><meta content=\"//images.yachtworld.com/resize/1/17/46/7931746_20210629085700988_1_LARGE.jpg?w=243&amp;h=155&amp;t=1641313236\" property=\"image\"/><img alt=\"Amel 50\" class=\"listing-card-image\" height=\"155\" src=\"//images.yachtworld.com/resize/1/17/46/7931746_20210629085700988_1_LARGE.jpg?w=243&amp;h=155&amp;t=1641313236\" width=\"243\"/></div><div class=\"listing-card-information\"><h2 class=\"listing-card-title blue-star-title\" property=\"name\">Amel 50</h2><div class=\"listing-card-length-year\">54 ft<!-- --> / <!-- -->2024</div><div class=\"listing-card-location\"></div><p class=\"make-blue-star\">Amel</p><span class=\"blue-star\">Manufacturer Listing</span><div class=\"brand-logo-container\" style=\"background-image:url('https://images.boatsgroup.com/images/1/upload/amellogo.png')\"></div><div class=\"listing-card-media blue-star-icons\"><div class=\"tooltip\" style=\"position:relative\"><i aria-label=\"Video\" class=\"listing-card-image-video icon-film\"></i></div></div></div></div></a>\n",
      "<a data-reporting-click-listing-type=\"standard listing\" data-reporting-click-product-id=\"7939837\" data-reporting-page=\"76\" data-reporting-rank=\"1130\" href=\"https://www.yachtworld.com/yacht/2022-fountaine-pajot-saona-47-7939837/\" name=\"&amp;lpos=P1S1&amp;lid=SR_Detail_Photo\" property=\"itemListElement\" typeof=\"ListItem\"><meta content=\"https://www.yachtworld.com/yacht/2022-fountaine-pajot-saona-47-7939837/\" property=\"url\"/><meta content=\"5\" property=\"position\"/><div class=\"row listing-card regular\" id=\"7939837\"><div class=\"listing-card-image-container\"><meta content=\"//images.yachtworld.com/resize/1/86/82/6558682_20171213063308523_1_LARGE.jpg?w=243&amp;h=155&amp;t=1625460557\" property=\"image\"/><span class=\"listing-card-image\" style=\"display:inline-block;width:243px;height:155px\"></span></div><div class=\"listing-card-information\"><h2 class=\"listing-card-title blue-star-title\" property=\"name\">Fountaine Pajot Saona 47</h2><div class=\"listing-card-length-year\">46 ft<!-- --> / <!-- -->2022</div><div class=\"listing-card-location\"></div><p class=\"make-blue-star\">Fountaine Pajot</p><span class=\"blue-star\">Manufacturer Listing</span><div class=\"brand-logo-container\" style=\"background-image:url('https://images.boatsgroup.com/images/1/upload/fountaine_pajot_logo2.png')\"></div><div class=\"listing-card-media blue-star-icons\"><div class=\"tooltip\" style=\"position:relative\"><i aria-label=\"Video\" class=\"listing-card-image-video icon-film\"></i></div></div></div></div></a>\n",
      "<a data-reporting-click-listing-type=\"standard listing\" data-reporting-click-product-id=\"7973891\" data-reporting-page=\"76\" data-reporting-rank=\"1131\" href=\"https://www.yachtworld.com/yacht/2023-leopard-50-7973891/\" name=\"&amp;lpos=P1S1&amp;lid=SR_Detail_Photo\" property=\"itemListElement\" typeof=\"ListItem\"><meta content=\"https://www.yachtworld.com/yacht/2023-leopard-50-7973891/\" property=\"url\"/><meta content=\"6\" property=\"position\"/><div class=\"row listing-card regular\" id=\"7973891\"><div class=\"listing-card-image-container\"><meta content=\"//images.yachtworld.com/resize/1/38/91/7973891_20211129082833499_1_LARGE.jpg?w=243&amp;h=155&amp;t=1638203571\" property=\"image\"/><span class=\"listing-card-image\" style=\"display:inline-block;width:243px;height:155px\"></span></div><div class=\"listing-card-information\"><h2 class=\"listing-card-title blue-star-title\" property=\"name\">Leopard 50</h2><div class=\"listing-card-length-year\">51 ft<!-- --> / <!-- -->2023</div><div class=\"listing-card-location\"></div><p class=\"make-blue-star\">Leopard</p><span class=\"blue-star\">Manufacturer Listing</span><div class=\"brand-logo-container\" style=\"background-image:url('https://images.boatsgroup.com/images/1/upload/Leopard_web_197.png')\"></div><div class=\"listing-card-media blue-star-icons\"><div class=\"tooltip\" style=\"position:relative\"><i aria-label=\"Video\" class=\"listing-card-image-video icon-film\"></i></div></div></div></div></a>\n",
      "<a data-reporting-click-listing-type=\"standard listing\" data-reporting-click-product-id=\"7969539\" data-reporting-page=\"76\" data-reporting-rank=\"1132\" href=\"https://www.yachtworld.com/yacht/2022-corsair-880-7969539/\" name=\"&amp;lpos=P1S1&amp;lid=SR_Detail_Photo\" property=\"itemListElement\" typeof=\"ListItem\"><meta content=\"https://www.yachtworld.com/yacht/2022-corsair-880-7969539/\" property=\"url\"/><meta content=\"7\" property=\"position\"/><div class=\"row listing-card regular\" id=\"7969539\"><div class=\"listing-card-image-container\"><meta content=\"//images.yachtworld.com/resize/1/51/27/7435127_20200420235811693_1_LARGE.jpg?w=243&amp;h=155&amp;t=1627584260\" property=\"image\"/><span class=\"listing-card-image\" style=\"display:inline-block;width:243px;height:155px\"></span></div><div class=\"listing-card-information\"><h2 class=\"listing-card-title blue-star-title\" property=\"name\">Corsair 880</h2><div class=\"listing-card-length-year\">29 ft<!-- --> / <!-- -->2022</div><div class=\"listing-card-location\"></div><p class=\"make-blue-star\">Corsair</p><span class=\"blue-star\">Manufacturer Listing</span><div class=\"brand-logo-container\" style=\"background-image:url('https://images.boatsgroup.com/published/images/logo_corsair.gif')\"></div><div class=\"listing-card-media blue-star-icons\"></div></div></div></a>\n",
      "<a data-reporting-click-listing-type=\"standard listing\" data-reporting-click-product-id=\"7969541\" data-reporting-page=\"76\" data-reporting-rank=\"1133\" href=\"https://www.yachtworld.com/yacht/2022-corsair-880-sport-7969541/\" name=\"&amp;lpos=P1S1&amp;lid=SR_Detail_Photo\" property=\"itemListElement\" typeof=\"ListItem\"><meta content=\"https://www.yachtworld.com/yacht/2022-corsair-880-sport-7969541/\" property=\"url\"/><meta content=\"8\" property=\"position\"/><div class=\"row listing-card regular\" id=\"7969541\"><div class=\"listing-card-image-container\"><meta content=\"//images.yachtworld.com/resize/1/51/29/7435129_20200421000628259_1_LARGE.jpg?w=243&amp;h=155&amp;t=1627584323\" property=\"image\"/><span class=\"listing-card-image\" style=\"display:inline-block;width:243px;height:155px\"></span></div><div class=\"listing-card-information\"><h2 class=\"listing-card-title blue-star-title\" property=\"name\">Corsair 880 Sport</h2><div class=\"listing-card-length-year\">29 ft<!-- --> / <!-- -->2022</div><div class=\"listing-card-location\"></div><p class=\"make-blue-star\">Corsair</p><span class=\"blue-star\">Manufacturer Listing</span><div class=\"brand-logo-container\" style=\"background-image:url('https://images.boatsgroup.com/published/images/logo_corsair.gif')\"></div><div class=\"listing-card-media blue-star-icons\"></div></div></div></a>\n",
      "<a data-reporting-click-listing-type=\"standard listing\" data-reporting-click-product-id=\"7939832\" data-reporting-page=\"76\" data-reporting-rank=\"1134\" href=\"https://www.yachtworld.com/yacht/2023-oyster-885-series-ii-7939832/\" name=\"&amp;lpos=P1S1&amp;lid=SR_Detail_Photo\" property=\"itemListElement\" typeof=\"ListItem\"><meta content=\"https://www.yachtworld.com/yacht/2023-oyster-885-series-ii-7939832/\" property=\"url\"/><meta content=\"9\" property=\"position\"/><div class=\"row listing-card regular\" id=\"7939832\"><div class=\"listing-card-image-container\"><meta content=\"//images.yachtworld.com/resize/1/65/11/7646511_20201112045928164_1_LARGE.jpg?w=243&amp;h=155&amp;t=1625458962\" property=\"image\"/><span class=\"listing-card-image\" style=\"display:inline-block;width:243px;height:155px\"></span></div><div class=\"listing-card-information\"><h2 class=\"listing-card-title blue-star-title\" property=\"name\">Oyster 885 Series II</h2><div class=\"listing-card-length-year\">88 ft<!-- --> / <!-- -->2023</div><div class=\"listing-card-location\"></div><p class=\"make-blue-star\">Oyster</p><span class=\"blue-star\">Manufacturer Listing</span><div class=\"brand-logo-container\" style=\"background-image:url('https://images.boatsgroup.com/images/1/upload/oysteroemlogo.png')\"></div><div class=\"listing-card-media blue-star-icons\"></div></div></div></a>\n",
      "<a data-reporting-click-listing-type=\"standard listing\" data-reporting-click-product-id=\"7892014\" data-reporting-page=\"76\" data-reporting-rank=\"1135\" href=\"https://www.yachtworld.com/yacht/2022-najad-570-cc-7892014/\" name=\"&amp;lpos=P1S1&amp;lid=SR_Detail_Photo\" property=\"itemListElement\" typeof=\"ListItem\"><meta content=\"https://www.yachtworld.com/yacht/2022-najad-570-cc-7892014/\" property=\"url\"/><meta content=\"10\" property=\"position\"/><div class=\"row listing-card regular\" id=\"7892014\"><div class=\"listing-card-image-container\"><meta content=\"//images.yachtworld.com/resize/1/20/14/7892014_20210520043608034_1_LARGE.jpg?w=243&amp;h=155&amp;t=1621510815\" property=\"image\"/><span class=\"listing-card-image\" style=\"display:inline-block;width:243px;height:155px\"></span></div><div class=\"listing-card-information\"><h2 class=\"listing-card-title blue-star-title\" property=\"name\">Najad 570 CC</h2><div class=\"listing-card-length-year\">57 ft<!-- --> / <!-- -->2022</div><div class=\"listing-card-location\"></div><p class=\"make-blue-star\">Najad</p><span class=\"blue-star\">Manufacturer Listing</span><div class=\"brand-logo-container\" style=\"background-image:url('https://images.boatsgroup.com/images/1/upload/oemnajadlogo.PNG')\"></div><div class=\"listing-card-media blue-star-icons\"></div></div></div></a>\n",
      "<a data-reporting-click-listing-type=\"standard listing\" data-reporting-click-product-id=\"8173717\" data-reporting-page=\"76\" data-reporting-rank=\"1136\" href=\"https://www.yachtworld.com/yacht/2024-amel-60-8173717/\" name=\"&amp;lpos=P1S1&amp;lid=SR_Detail_Photo\" property=\"itemListElement\" typeof=\"ListItem\"><meta content=\"https://www.yachtworld.com/yacht/2024-amel-60-8173717/\" property=\"url\"/><meta content=\"11\" property=\"position\"/><div class=\"row listing-card regular\" id=\"8173717\"><div class=\"listing-card-image-container\"><meta content=\"//images.yachtworld.com/resize/1/17/47/7931747_20210629085341353_1_LARGE.jpg?w=243&amp;h=155&amp;t=1641313242\" property=\"image\"/><span class=\"listing-card-image\" style=\"display:inline-block;width:243px;height:155px\"></span></div><div class=\"listing-card-information\"><h2 class=\"listing-card-title blue-star-title\" property=\"name\">Amel 60</h2><div class=\"listing-card-length-year\">62 ft<!-- --> / <!-- -->2024</div><div class=\"listing-card-location\"></div><p class=\"make-blue-star\">Amel</p><span class=\"blue-star\">Manufacturer Listing</span><div class=\"brand-logo-container\" style=\"background-image:url('https://images.boatsgroup.com/images/1/upload/amellogo.png')\"></div><div class=\"listing-card-media blue-star-icons\"><div class=\"tooltip\" style=\"position:relative\"><i aria-label=\"Video\" class=\"listing-card-image-video icon-film\"></i></div></div></div></div></a>\n",
      "<a data-reporting-click-listing-type=\"standard listing\" data-reporting-click-product-id=\"7624461\" data-reporting-page=\"76\" data-reporting-rank=\"1137\" href=\"https://www.yachtworld.com/yacht/2022-seawind-1370-7624461/\" name=\"&amp;lpos=P1S1&amp;lid=SR_Detail_Photo\" property=\"itemListElement\" typeof=\"ListItem\"><meta content=\"https://www.yachtworld.com/yacht/2022-seawind-1370-7624461/\" property=\"url\"/><meta content=\"12\" property=\"position\"/><div class=\"row listing-card regular\" id=\"7624461\"><div class=\"listing-card-image-container\"><meta content=\"//images.yachtworld.com/resize/1/44/61/7624461_20201014081708566_1_LARGE.jpg?w=243&amp;h=155&amp;t=1602688808\" property=\"image\"/><span class=\"listing-card-image\" style=\"display:inline-block;width:243px;height:155px\"></span></div><div class=\"listing-card-information\"><h2 class=\"listing-card-title blue-star-title\" property=\"name\">Seawind 1370</h2><div class=\"listing-card-length-year\">45 ft<!-- --> / <!-- -->2022</div><div class=\"listing-card-location\"></div><p class=\"make-blue-star\">Seawind</p><span class=\"blue-star\">Manufacturer Listing</span><div class=\"brand-logo-container\" style=\"background-image:url('https://images.boatsgroup.com/published/images/logos/logo_seawind.gif')\"></div><div class=\"listing-card-media blue-star-icons\"></div></div></div></a>\n",
      "<a data-reporting-click-listing-type=\"standard listing\" data-reporting-click-product-id=\"7969526\" data-reporting-page=\"76\" data-reporting-rank=\"1138\" href=\"https://www.yachtworld.com/yacht/2022-seawind-1190-7969526/\" name=\"&amp;lpos=P1S1&amp;lid=SR_Detail_Photo\" property=\"itemListElement\" typeof=\"ListItem\"><meta content=\"https://www.yachtworld.com/yacht/2022-seawind-1190-7969526/\" property=\"url\"/><meta content=\"13\" property=\"position\"/><div class=\"row listing-card regular\" id=\"7969526\"><div class=\"listing-card-image-container\"><meta content=\"//images.yachtworld.com/resize/1/98/95/7439895_20200429013947529_1_LARGE.jpg?w=243&amp;h=155&amp;t=1627583794\" property=\"image\"/><span class=\"listing-card-image\" style=\"display:inline-block;width:243px;height:155px\"></span></div><div class=\"listing-card-information\"><h2 class=\"listing-card-title blue-star-title\" property=\"name\">Seawind 1190</h2><div class=\"listing-card-length-year\">39 ft<!-- --> / <!-- -->2022</div><div class=\"listing-card-location\"></div><p class=\"make-blue-star\">Seawind</p><span class=\"blue-star\">Manufacturer Listing</span><div class=\"brand-logo-container\" style=\"background-image:url('https://images.boatsgroup.com/published/images/logos/logo_seawind.gif')\"></div><div class=\"listing-card-media blue-star-icons\"></div></div></div></a>\n",
      "<a data-reporting-click-listing-type=\"standard listing\" data-reporting-click-product-id=\"8030862\" data-reporting-page=\"76\" data-reporting-rank=\"1139\" href=\"https://www.yachtworld.com/yacht/2022-windelo-50-sport-8030862/\" name=\"&amp;lpos=P1S1&amp;lid=SR_Detail_Photo\" property=\"itemListElement\" typeof=\"ListItem\"><meta content=\"https://www.yachtworld.com/yacht/2022-windelo-50-sport-8030862/\" property=\"url\"/><meta content=\"14\" property=\"position\"/><div class=\"row listing-card regular\" id=\"8030862\"><div class=\"listing-card-image-container\"><meta content=\"//images.yachtworld.com/resize/1/8/62/8030862_20220213161554752_1_LARGE.jpg?w=243&amp;h=155&amp;t=1644797800\" property=\"image\"/><span class=\"listing-card-image\" style=\"display:inline-block;width:243px;height:155px\"></span></div><div class=\"listing-card-information\"><h2 class=\"listing-card-title blue-star-title\" property=\"name\">Windelo 50 Sport</h2><div class=\"listing-card-length-year\">50 ft<!-- --> / <!-- -->2022</div><div class=\"listing-card-location\"></div><p class=\"make-blue-star\">Windelo</p><span class=\"blue-star\">Manufacturer Listing</span><div class=\"brand-logo-container\" style=\"background-image:url('https://images.boatsgroup.com/images/1/upload/1windelologo.PNG')\"></div><div class=\"listing-card-media blue-star-icons\"><div class=\"tooltip\" style=\"position:relative\"><i aria-label=\"Video\" class=\"listing-card-image-video icon-film\"></i></div></div></div></div></a>\n",
      "<a data-reporting-click-listing-type=\"standard listing\" data-reporting-click-product-id=\"7624500\" data-reporting-page=\"76\" data-reporting-rank=\"1140\" href=\"https://www.yachtworld.com/yacht/2022-corsair-970-7624500/\" name=\"&amp;lpos=P1S1&amp;lid=SR_Detail_Photo\" property=\"itemListElement\" typeof=\"ListItem\"><meta content=\"https://www.yachtworld.com/yacht/2022-corsair-970-7624500/\" property=\"url\"/><meta content=\"15\" property=\"position\"/><div class=\"row listing-card regular\" id=\"7624500\"><div class=\"listing-card-image-container\"><meta content=\"//images.yachtworld.com/resize/1/42/64/5384264_20150915091118641_1_LARGE.jpg?w=243&amp;h=155&amp;t=1602689127\" property=\"image\"/><span class=\"listing-card-image\" style=\"display:inline-block;width:243px;height:155px\"></span></div><div class=\"listing-card-information\"><h2 class=\"listing-card-title blue-star-title\" property=\"name\">Corsair 970</h2><div class=\"listing-card-length-year\">31 ft<!-- --> / <!-- -->2022</div><div class=\"listing-card-location\"></div><p class=\"make-blue-star\">Corsair</p><span class=\"blue-star\">Manufacturer Listing</span><div class=\"brand-logo-container\" style=\"background-image:url('https://images.boatsgroup.com/published/images/logo_corsair.gif')\"></div><div class=\"listing-card-media blue-star-icons\"><div class=\"tooltip\" style=\"position:relative\"><i aria-label=\"Video\" class=\"listing-card-image-video icon-film\"></i></div></div></div></div></a>\n",
      "<a data-reporting-click-listing-type=\"standard listing\" data-reporting-click-product-id=\"8030874\" data-reporting-page=\"77\" data-reporting-rank=\"1141\" href=\"https://www.yachtworld.com/yacht/2022-windelo-54-sport-8030874/\" name=\"&amp;lpos=P1S1&amp;lid=SR_Detail_Photo\" property=\"itemListElement\" typeof=\"ListItem\"><meta content=\"https://www.yachtworld.com/yacht/2022-windelo-54-sport-8030874/\" property=\"url\"/><meta content=\"1\" property=\"position\"/><div class=\"row listing-card regular\" id=\"8030874\"><div class=\"listing-card-image-container\"><meta content=\"//images.yachtworld.com/resize/1/8/74/8030874_20220216015314237_1_LARGE.jpg?w=243&amp;h=155&amp;t=1645005249\" property=\"image\"/><img alt=\"Windelo 54 Sport\" class=\"listing-card-image\" height=\"155\" src=\"//images.yachtworld.com/resize/1/8/74/8030874_20220216015314237_1_LARGE.jpg?w=243&amp;h=155&amp;t=1645005249\" width=\"243\"/></div><div class=\"listing-card-information\"><h2 class=\"listing-card-title blue-star-title\" property=\"name\">Windelo 54 Sport</h2><div class=\"listing-card-length-year\">54 ft<!-- --> / <!-- -->2022</div><div class=\"listing-card-location\"></div><p class=\"make-blue-star\">Windelo</p><span class=\"blue-star\">Manufacturer Listing</span><div class=\"brand-logo-container\" style=\"background-image:url('https://images.boatsgroup.com/images/1/upload/1windelologo.PNG')\"></div><div class=\"listing-card-media blue-star-icons\"><div class=\"tooltip\" style=\"position:relative\"><i aria-label=\"Video\" class=\"listing-card-image-video icon-film\"></i></div></div></div></div></a>\n",
      "<a data-reporting-click-listing-type=\"standard listing\" data-reporting-click-product-id=\"7969565\" data-reporting-page=\"77\" data-reporting-rank=\"1142\" href=\"https://www.yachtworld.com/yacht/2022-seawind-1190-sport-7969565/\" name=\"&amp;lpos=P1S1&amp;lid=SR_Detail_Photo\" property=\"itemListElement\" typeof=\"ListItem\"><meta content=\"https://www.yachtworld.com/yacht/2022-seawind-1190-sport-7969565/\" property=\"url\"/><meta content=\"2\" property=\"position\"/><div class=\"row listing-card regular\" id=\"7969565\"><div class=\"listing-card-image-container\"><meta content=\"//images.yachtworld.com/resize/1/98/95/7439895_20200429013947529_1_LARGE.jpg?w=243&amp;h=155&amp;t=1627584879\" property=\"image\"/><img alt=\"Seawind 1190 Sport\" class=\"listing-card-image\" height=\"155\" src=\"//images.yachtworld.com/resize/1/98/95/7439895_20200429013947529_1_LARGE.jpg?w=243&amp;h=155&amp;t=1627584879\" width=\"243\"/></div><div class=\"listing-card-information\"><h2 class=\"listing-card-title blue-star-title\" property=\"name\">Seawind 1190 Sport</h2><div class=\"listing-card-length-year\">39 ft<!-- --> / <!-- -->2022</div><div class=\"listing-card-location\"></div><p class=\"make-blue-star\">Seawind</p><span class=\"blue-star\">Manufacturer Listing</span><div class=\"brand-logo-container\" style=\"background-image:url('https://images.boatsgroup.com/published/images/logos/logo_seawind.gif')\"></div><div class=\"listing-card-media blue-star-icons\"></div></div></div></a>\n",
      "<a data-reporting-click-listing-type=\"standard listing\" data-reporting-click-product-id=\"7435119\" data-reporting-page=\"77\" data-reporting-rank=\"1143\" href=\"https://www.yachtworld.com/yacht/2022-corsair-760-7435119/\" name=\"&amp;lpos=P1S1&amp;lid=SR_Detail_Photo\" property=\"itemListElement\" typeof=\"ListItem\"><meta content=\"https://www.yachtworld.com/yacht/2022-corsair-760-7435119/\" property=\"url\"/><meta content=\"3\" property=\"position\"/><div class=\"row listing-card regular\" id=\"7435119\"><div class=\"listing-card-image-container\"><meta content=\"//images.yachtworld.com/resize/1/82/72/6038272_20170411091538709_1_LARGE.jpg?w=243&amp;h=155&amp;t=1587451179\" property=\"image\"/><img alt=\"Corsair 760\" class=\"listing-card-image\" height=\"155\" src=\"//images.yachtworld.com/resize/1/82/72/6038272_20170411091538709_1_LARGE.jpg?w=243&amp;h=155&amp;t=1587451179\" width=\"243\"/></div><div class=\"listing-card-information\"><h2 class=\"listing-card-title blue-star-title\" property=\"name\">Corsair 760</h2><div class=\"listing-card-length-year\">24 ft<!-- --> / <!-- -->2022</div><div class=\"listing-card-location\"></div><p class=\"make-blue-star\">Corsair</p><span class=\"blue-star\">Manufacturer Listing</span><div class=\"brand-logo-container\" style=\"background-image:url('https://images.boatsgroup.com/published/images/logo_corsair.gif')\"></div><div class=\"listing-card-media blue-star-icons\"><div class=\"tooltip\" style=\"position:relative\"><i aria-label=\"Video\" class=\"listing-card-image-video icon-film\"></i></div></div></div></div></a>\n",
      "<a data-reporting-click-listing-type=\"standard listing\" data-reporting-click-product-id=\"7624449\" data-reporting-page=\"77\" data-reporting-rank=\"1144\" href=\"https://www.yachtworld.com/yacht/2022-seawind-1600-7624449/\" name=\"&amp;lpos=P1S1&amp;lid=SR_Detail_Photo\" property=\"itemListElement\" typeof=\"ListItem\"><meta content=\"https://www.yachtworld.com/yacht/2022-seawind-1600-7624449/\" property=\"url\"/><meta content=\"4\" property=\"position\"/><div class=\"row listing-card regular\" id=\"7624449\"><div class=\"listing-card-image-container\"><meta content=\"//images.yachtworld.com/resize/1/38/90/6603890_20180206033542636_1_LARGE.jpg?w=243&amp;h=155&amp;t=1602688100\" property=\"image\"/><img alt=\"Seawind 1600\" class=\"listing-card-image\" height=\"155\" src=\"//images.yachtworld.com/resize/1/38/90/6603890_20180206033542636_1_LARGE.jpg?w=243&amp;h=155&amp;t=1602688100\" width=\"243\"/></div><div class=\"listing-card-information\"><h2 class=\"listing-card-title blue-star-title\" property=\"name\">Seawind 1600</h2><div class=\"listing-card-length-year\">53 ft<!-- --> / <!-- -->2022</div><div class=\"listing-card-location\"></div><p class=\"make-blue-star\">Seawind</p><span class=\"blue-star\">Manufacturer Listing</span><div class=\"brand-logo-container\" style=\"background-image:url('https://images.boatsgroup.com/published/images/logos/logo_seawind.gif')\"></div><div class=\"listing-card-media blue-star-icons\"><div class=\"tooltip\" style=\"position:relative\"><i aria-label=\"Video\" class=\"listing-card-image-video icon-film\"></i></div></div></div></div></a>\n",
      "<a data-reporting-click-listing-type=\"standard listing\" data-reporting-click-product-id=\"8538511\" data-reporting-page=\"77\" data-reporting-rank=\"1145\" href=\"https://www.yachtworld.com/yacht/2023-contest-50cs-8538511/\" name=\"&amp;lpos=P1S1&amp;lid=SR_Detail_Photo\" property=\"itemListElement\" typeof=\"ListItem\"><meta content=\"https://www.yachtworld.com/yacht/2023-contest-50cs-8538511/\" property=\"url\"/><meta content=\"5\" property=\"position\"/><div class=\"row listing-card regular\" id=\"8538511\"><div class=\"listing-card-image-container\"><meta content=\"//images.yachtworld.com/resize/1/8/30/6540830_20171128073328318_1_LARGE.jpg?w=243&amp;h=155&amp;t=1665641678\" property=\"image\"/><span class=\"listing-card-image\" style=\"display:inline-block;width:243px;height:155px\"></span></div><div class=\"listing-card-information\"><h2 class=\"listing-card-title blue-star-title\" property=\"name\">Contest 50CS</h2><div class=\"listing-card-length-year\">51 ft<!-- --> / <!-- -->2023</div><div class=\"listing-card-location\"></div><p class=\"make-blue-star\">Contest</p><span class=\"blue-star\">Manufacturer Listing</span><div class=\"brand-logo-container\" style=\"background-image:url('https://images.boatsgroup.com/images/1/upload/contest logo.PNG')\"></div><div class=\"listing-card-media blue-star-icons\"></div></div></div></a>\n",
      "<a data-reporting-click-listing-type=\"standard listing\" data-reporting-click-product-id=\"8538513\" data-reporting-page=\"77\" data-reporting-rank=\"1146\" href=\"https://www.yachtworld.com/yacht/2023-contest-59cs-8538513/\" name=\"&amp;lpos=P1S1&amp;lid=SR_Detail_Photo\" property=\"itemListElement\" typeof=\"ListItem\"><meta content=\"https://www.yachtworld.com/yacht/2023-contest-59cs-8538513/\" property=\"url\"/><meta content=\"6\" property=\"position\"/><div class=\"row listing-card regular\" id=\"8538513\"><div class=\"listing-card-image-container\"><meta content=\"//images.yachtworld.com/resize/1/84/68/7848468_20210411213215460_1_LARGE.jpg?w=243&amp;h=155&amp;t=1665642048\" property=\"image\"/><span class=\"listing-card-image\" style=\"display:inline-block;width:243px;height:155px\"></span></div><div class=\"listing-card-information\"><h2 class=\"listing-card-title blue-star-title\" property=\"name\">Contest 59CS</h2><div class=\"listing-card-length-year\">61 ft<!-- --> / <!-- -->2023</div><div class=\"listing-card-location\"></div><p class=\"make-blue-star\">Contest</p><span class=\"blue-star\">Manufacturer Listing</span><div class=\"brand-logo-container\" style=\"background-image:url('https://images.boatsgroup.com/images/1/upload/contest logo.PNG')\"></div><div class=\"listing-card-media blue-star-icons\"></div></div></div></a>\n",
      "<a data-reporting-click-listing-type=\"standard listing\" data-reporting-click-product-id=\"8395606\" data-reporting-page=\"77\" data-reporting-rank=\"1147\" href=\"https://www.yachtworld.com/yacht/2023-excess-15-8395606/\" name=\"&amp;lpos=P1S1&amp;lid=SR_Detail_Photo\" property=\"itemListElement\" typeof=\"ListItem\"><meta content=\"https://www.yachtworld.com/yacht/2023-excess-15-8395606/\" property=\"url\"/><meta content=\"7\" property=\"position\"/><div class=\"row listing-card regular\" id=\"8395606\"><div class=\"listing-card-image-container\"><meta content=\"//images.yachtworld.com/resize/1/20/6/7362006_20200210054458536_1_LARGE.jpg?w=243&amp;h=155&amp;t=1657724569\" property=\"image\"/><span class=\"listing-card-image\" style=\"display:inline-block;width:243px;height:155px\"></span></div><div class=\"listing-card-information\"><h2 class=\"listing-card-title blue-star-title\" property=\"name\">Excess 15</h2><div class=\"listing-card-length-year\">49 ft<!-- --> / <!-- -->2023</div><div class=\"listing-card-location\"></div><p class=\"make-blue-star\">Excess</p><span class=\"blue-star\">Manufacturer Listing</span><div class=\"brand-logo-container\" style=\"background-image:url('https://images.boatsgroup.com/images/1/upload/excesslogo.png')\"></div><div class=\"listing-card-media blue-star-icons\"><div class=\"tooltip\" style=\"position:relative\"><i aria-label=\"Video\" class=\"listing-card-image-video icon-film\"></i></div></div></div></div></a>\n",
      "<a data-reporting-click-listing-type=\"standard listing\" data-reporting-click-product-id=\"8538515\" data-reporting-page=\"77\" data-reporting-rank=\"1148\" href=\"https://www.yachtworld.com/yacht/2023-contest-67cs-8538515/\" name=\"&amp;lpos=P1S1&amp;lid=SR_Detail_Photo\" property=\"itemListElement\" typeof=\"ListItem\"><meta content=\"https://www.yachtworld.com/yacht/2023-contest-67cs-8538515/\" property=\"url\"/><meta content=\"8\" property=\"position\"/><div class=\"row listing-card regular\" id=\"8538515\"><div class=\"listing-card-image-container\"><meta content=\"//images.yachtworld.com/resize/1/6/12/5780612_20161123072235208_1_LARGE.jpg?w=243&amp;h=155&amp;t=1665642682\" property=\"image\"/><span class=\"listing-card-image\" style=\"display:inline-block;width:243px;height:155px\"></span></div><div class=\"listing-card-information\"><h2 class=\"listing-card-title blue-star-title\" property=\"name\">Contest 67CS</h2><div class=\"listing-card-length-year\">70 ft<!-- --> / <!-- -->2023</div><div class=\"listing-card-location\"></div><p class=\"make-blue-star\">Contest</p><span class=\"blue-star\">Manufacturer Listing</span><div class=\"brand-logo-container\" style=\"background-image:url('https://images.boatsgroup.com/images/1/upload/contest logo.PNG')\"></div><div class=\"listing-card-media blue-star-icons\"><div class=\"tooltip\" style=\"position:relative\"><i aria-label=\"Video\" class=\"listing-card-image-video icon-film\"></i></div></div></div></div></a>\n",
      "<a data-reporting-click-listing-type=\"standard listing\" data-reporting-click-product-id=\"7969534\" data-reporting-page=\"77\" data-reporting-rank=\"1149\" href=\"https://www.yachtworld.com/yacht/2022-corsair-pulse-600-7969534/\" name=\"&amp;lpos=P1S1&amp;lid=SR_Detail_Photo\" property=\"itemListElement\" typeof=\"ListItem\"><meta content=\"https://www.yachtworld.com/yacht/2022-corsair-pulse-600-7969534/\" property=\"url\"/><meta content=\"9\" property=\"position\"/><div class=\"row listing-card regular\" id=\"7969534\"><div class=\"listing-card-image-container\"><meta content=\"//images.yachtworld.com/resize/1/39/29/5383929_20150915030836258_1_LARGE.jpg?w=243&amp;h=155&amp;t=1627584014\" property=\"image\"/><span class=\"listing-card-image\" style=\"display:inline-block;width:243px;height:155px\"></span></div><div class=\"listing-card-information\"><h2 class=\"listing-card-title blue-star-title\" property=\"name\">Corsair Pulse 600</h2><div class=\"listing-card-length-year\">20 ft<!-- --> / <!-- -->2022</div><div class=\"listing-card-location\"></div><p class=\"make-blue-star\">Corsair</p><span class=\"blue-star\">Manufacturer Listing</span><div class=\"brand-logo-container\" style=\"background-image:url('https://images.boatsgroup.com/published/images/logo_corsair.gif')\"></div><div class=\"listing-card-media blue-star-icons\"><div class=\"tooltip\" style=\"position:relative\"><i aria-label=\"Video\" class=\"listing-card-image-video icon-film\"></i></div></div></div></div></a>\n",
      "<a data-reporting-click-listing-type=\"standard listing\" data-reporting-click-product-id=\"7891997\" data-reporting-page=\"77\" data-reporting-rank=\"1150\" href=\"https://www.yachtworld.com/yacht/2022-najad-395-cc-7891997/\" name=\"&amp;lpos=P1S1&amp;lid=SR_Detail_Photo\" property=\"itemListElement\" typeof=\"ListItem\"><meta content=\"https://www.yachtworld.com/yacht/2022-najad-395-cc-7891997/\" property=\"url\"/><meta content=\"10\" property=\"position\"/><div class=\"row listing-card regular\" id=\"7891997\"><div class=\"listing-card-image-container\"><meta content=\"//images.yachtworld.com/resize/1/19/97/7891997_20210520041540108_1_LARGE.jpg?w=243&amp;h=155&amp;t=1621509505\" property=\"image\"/><span class=\"listing-card-image\" style=\"display:inline-block;width:243px;height:155px\"></span></div><div class=\"listing-card-information\"><h2 class=\"listing-card-title blue-star-title\" property=\"name\">Najad 395 CC</h2><div class=\"listing-card-length-year\">39 ft<!-- --> / <!-- -->2022</div><div class=\"listing-card-location\"></div><p class=\"make-blue-star\">Najad</p><span class=\"blue-star\">Manufacturer Listing</span><div class=\"brand-logo-container\" style=\"background-image:url('https://images.boatsgroup.com/images/1/upload/oemnajadlogo.PNG')\"></div><div class=\"listing-card-media blue-star-icons\"></div></div></div></a>\n",
      "<a data-reporting-click-listing-type=\"standard listing\" data-reporting-click-product-id=\"8538512\" data-reporting-page=\"77\" data-reporting-rank=\"1151\" href=\"https://www.yachtworld.com/yacht/2023-contest-55cs-8538512/\" name=\"&amp;lpos=P1S1&amp;lid=SR_Detail_Photo\" property=\"itemListElement\" typeof=\"ListItem\"><meta content=\"https://www.yachtworld.com/yacht/2023-contest-55cs-8538512/\" property=\"url\"/><meta content=\"11\" property=\"position\"/><div class=\"row listing-card regular\" id=\"8538512\"><div class=\"listing-card-image-container\"><meta content=\"//images.yachtworld.com/resize/1/85/12/8538512_20221012231848722_1_LARGE.jpg?w=243&amp;h=155&amp;t=1665641951\" property=\"image\"/><span class=\"listing-card-image\" style=\"display:inline-block;width:243px;height:155px\"></span></div><div class=\"listing-card-information\"><h2 class=\"listing-card-title blue-star-title\" property=\"name\">Contest 55CS</h2><div class=\"listing-card-length-year\">56 ft<!-- --> / <!-- -->2023</div><div class=\"listing-card-location\"></div><p class=\"make-blue-star\">Contest</p><span class=\"blue-star\">Manufacturer Listing</span><div class=\"brand-logo-container\" style=\"background-image:url('https://images.boatsgroup.com/images/1/upload/contest logo.PNG')\"></div><div class=\"listing-card-media blue-star-icons\"><div class=\"tooltip\" style=\"position:relative\"><i aria-label=\"Video\" class=\"listing-card-image-video icon-film\"></i></div></div></div></div></a>\n",
      "<a data-reporting-click-listing-type=\"standard listing\" data-reporting-click-product-id=\"8030854\" data-reporting-page=\"77\" data-reporting-rank=\"1152\" href=\"https://www.yachtworld.com/yacht/2022-windelo-50-adventure-8030854/\" name=\"&amp;lpos=P1S1&amp;lid=SR_Detail_Photo\" property=\"itemListElement\" typeof=\"ListItem\"><meta content=\"https://www.yachtworld.com/yacht/2022-windelo-50-adventure-8030854/\" property=\"url\"/><meta content=\"12\" property=\"position\"/><div class=\"row listing-card regular\" id=\"8030854\"><div class=\"listing-card-image-container\"><meta content=\"//images.yachtworld.com/resize/1/92/67/7589267_20210809035244156_1_LARGE.jpg?w=243&amp;h=155&amp;t=1631556498\" property=\"image\"/><span class=\"listing-card-image\" style=\"display:inline-block;width:243px;height:155px\"></span></div><div class=\"listing-card-information\"><h2 class=\"listing-card-title blue-star-title\" property=\"name\">Windelo 50 Adventure</h2><div class=\"listing-card-length-year\">50 ft<!-- --> / <!-- -->2022</div><div class=\"listing-card-location\"></div><p class=\"make-blue-star\">Windelo</p><span class=\"blue-star\">Manufacturer Listing</span><div class=\"brand-logo-container\" style=\"background-image:url('https://images.boatsgroup.com/images/1/upload/1windelologo.PNG')\"></div><div class=\"listing-card-media blue-star-icons\"><div class=\"tooltip\" style=\"position:relative\"><i aria-label=\"Video\" class=\"listing-card-image-video icon-film\"></i></div></div></div></div></a>\n",
      "<a data-reporting-click-listing-type=\"standard listing\" data-reporting-click-product-id=\"7891989\" data-reporting-page=\"77\" data-reporting-rank=\"1153\" href=\"https://www.yachtworld.com/yacht/2022-najad-395-ac-7891989/\" name=\"&amp;lpos=P1S1&amp;lid=SR_Detail_Photo\" property=\"itemListElement\" typeof=\"ListItem\"><meta content=\"https://www.yachtworld.com/yacht/2022-najad-395-ac-7891989/\" property=\"url\"/><meta content=\"13\" property=\"position\"/><div class=\"row listing-card regular\" id=\"7891989\"><div class=\"listing-card-image-container\"><meta content=\"//images.yachtworld.com/resize/1/19/89/7891989_20210520034804970_1_LARGE.jpg?w=243&amp;h=155&amp;t=1621507940\" property=\"image\"/><span class=\"listing-card-image\" style=\"display:inline-block;width:243px;height:155px\"></span></div><div class=\"listing-card-information\"><h2 class=\"listing-card-title blue-star-title\" property=\"name\">Najad 395 AC</h2><div class=\"listing-card-length-year\">39 ft<!-- --> / <!-- -->2022</div><div class=\"listing-card-location\"></div><p class=\"make-blue-star\">Najad</p><span class=\"blue-star\">Manufacturer Listing</span><div class=\"brand-logo-container\" style=\"background-image:url('https://images.boatsgroup.com/images/1/upload/oemnajadlogo.PNG')\"></div><div class=\"listing-card-media blue-star-icons\"></div></div></div></a>\n",
      "<a data-reporting-click-listing-type=\"standard listing\" data-reporting-click-product-id=\"8515000\" data-reporting-page=\"77\" data-reporting-rank=\"1154\" href=\"https://www.yachtworld.com/yacht/2023-oyster-495-8515000/\" name=\"&amp;lpos=P1S1&amp;lid=SR_Detail_Photo\" property=\"itemListElement\" typeof=\"ListItem\"><meta content=\"https://www.yachtworld.com/yacht/2023-oyster-495-8515000/\" property=\"url\"/><meta content=\"14\" property=\"position\"/><div class=\"row listing-card regular\" id=\"8515000\"><div class=\"listing-card-image-container\"><meta content=\"//images.yachtworld.com/resize/1/98/33/7939833_20210704213001956_1_LARGE.jpg?w=243&amp;h=155&amp;t=1664220370\" property=\"image\"/><span class=\"listing-card-image\" style=\"display:inline-block;width:243px;height:155px\"></span></div><div class=\"listing-card-information\"><h2 class=\"listing-card-title blue-star-title\" property=\"name\">Oyster 495</h2><div class=\"listing-card-length-year\">53 ft<!-- --> / <!-- -->2023</div><div class=\"listing-card-location\"></div><p class=\"make-blue-star\">Oyster</p><span class=\"blue-star\">Manufacturer Listing</span><div class=\"brand-logo-container\" style=\"background-image:url('https://images.boatsgroup.com/images/1/upload/oysteroemlogo.png')\"></div><div class=\"listing-card-media blue-star-icons\"></div></div></div></a>\n",
      "<a data-reporting-click-listing-type=\"standard listing\" data-reporting-click-product-id=\"8137191\" data-reporting-page=\"77\" data-reporting-rank=\"1155\" href=\"https://www.yachtworld.com/yacht/2023-sunsail-424-8137191/\" name=\"&amp;lpos=P1S1&amp;lid=SR_Detail_Photo\" property=\"itemListElement\" typeof=\"ListItem\"><meta content=\"https://www.yachtworld.com/yacht/2023-sunsail-424-8137191/\" property=\"url\"/><meta content=\"15\" property=\"position\"/><div class=\"row listing-card regular\" id=\"8137191\"><div class=\"listing-card-image-container\"><meta content=\"//images.yachtworld.com/resize/1/71/91/8137191_20211129084238266_1_LARGE.jpg?w=243&amp;h=155&amp;t=1638204231\" property=\"image\"/><span class=\"listing-card-image\" style=\"display:inline-block;width:243px;height:155px\"></span></div><div class=\"listing-card-information\"><h2 class=\"listing-card-title blue-star-title\" property=\"name\">Sunsail 424</h2><div class=\"listing-card-length-year\">42 ft<!-- --> / <!-- -->2023</div><div class=\"listing-card-location\"></div><p class=\"make-blue-star\">Sunsail</p><span class=\"blue-star\">Manufacturer Listing</span><div class=\"brand-logo-container\" style=\"background-image:url('https://images.boatsgroup.com/published/images/logos/logo_sunsail09.gif')\"></div><div class=\"listing-card-media blue-star-icons\"><div class=\"tooltip\" style=\"position:relative\"><i aria-label=\"Video\" class=\"listing-card-image-video icon-film\"></i></div></div></div></div></a>\n",
      "<a data-reporting-click-listing-type=\"standard listing\" data-reporting-click-product-id=\"7939841\" data-reporting-page=\"78\" data-reporting-rank=\"1156\" href=\"https://www.yachtworld.com/yacht/2022-fountaine-pajot-catamaran-51-7939841/\" name=\"&amp;lpos=P1S1&amp;lid=SR_Detail_Photo\" property=\"itemListElement\" typeof=\"ListItem\"><meta content=\"https://www.yachtworld.com/yacht/2022-fountaine-pajot-catamaran-51-7939841/\" property=\"url\"/><meta content=\"1\" property=\"position\"/><div class=\"row listing-card regular\" id=\"7939841\"><div class=\"listing-card-image-container\"><meta content=\"//images.yachtworld.com/resize/1/98/41/7939841_20210704220224526_1_LARGE.jpg?w=243&amp;h=155&amp;t=1625461345\" property=\"image\"/><img alt=\"Fountaine Pajot Catamaran 51\" class=\"listing-card-image\" height=\"155\" src=\"//images.yachtworld.com/resize/1/98/41/7939841_20210704220224526_1_LARGE.jpg?w=243&amp;h=155&amp;t=1625461345\" width=\"243\"/></div><div class=\"listing-card-information\"><h2 class=\"listing-card-title blue-star-title\" property=\"name\">Fountaine Pajot Catamaran 51</h2><div class=\"listing-card-length-year\">51 ft<!-- --> / <!-- -->2022</div><div class=\"listing-card-location\"></div><p class=\"make-blue-star\">Fountaine Pajot</p><span class=\"blue-star\">Manufacturer Listing</span><div class=\"brand-logo-container\" style=\"background-image:url('https://images.boatsgroup.com/images/1/upload/fountaine_pajot_logo2.png')\"></div><div class=\"listing-card-media blue-star-icons\"></div></div></div></a>\n",
      "<a data-reporting-click-listing-type=\"standard listing\" data-reporting-click-product-id=\"8538524\" data-reporting-page=\"78\" data-reporting-rank=\"1157\" href=\"https://www.yachtworld.com/yacht/2023-contest-49cs-8538524/\" name=\"&amp;lpos=P1S1&amp;lid=SR_Detail_Photo\" property=\"itemListElement\" typeof=\"ListItem\"><meta content=\"https://www.yachtworld.com/yacht/2023-contest-49cs-8538524/\" property=\"url\"/><meta content=\"2\" property=\"position\"/><div class=\"row listing-card regular\" id=\"8538524\"><div class=\"listing-card-image-container\"><meta content=\"//images.yachtworld.com/resize/1/85/24/8538524_20221012234443448_1_LARGE.jpg?w=243&amp;h=155&amp;t=1665643484\" property=\"image\"/><img alt=\"Contest 49CS\" class=\"listing-card-image\" height=\"155\" src=\"//images.yachtworld.com/resize/1/85/24/8538524_20221012234443448_1_LARGE.jpg?w=243&amp;h=155&amp;t=1665643484\" width=\"243\"/></div><div class=\"listing-card-information\"><h2 class=\"listing-card-title blue-star-title\" property=\"name\">Contest 49CS</h2><div class=\"listing-card-length-year\">50 ft<!-- --> / <!-- -->2023</div><div class=\"listing-card-location\"></div><p class=\"make-blue-star\">Contest</p><span class=\"blue-star\">Manufacturer Listing</span><div class=\"brand-logo-container\" style=\"background-image:url('https://images.boatsgroup.com/images/1/upload/contest logo.PNG')\"></div><div class=\"listing-card-media blue-star-icons\"></div></div></div></a>\n",
      "<a data-reporting-click-listing-type=\"standard listing\" data-reporting-click-product-id=\"7969524\" data-reporting-page=\"78\" data-reporting-rank=\"1158\" href=\"https://www.yachtworld.com/yacht/2022-seawind-1260-7969524/\" name=\"&amp;lpos=P1S1&amp;lid=SR_Detail_Photo\" property=\"itemListElement\" typeof=\"ListItem\"><meta content=\"https://www.yachtworld.com/yacht/2022-seawind-1260-7969524/\" property=\"url\"/><meta content=\"3\" property=\"position\"/><div class=\"row listing-card regular\" id=\"7969524\"><div class=\"listing-card-image-container\"><meta content=\"//images.yachtworld.com/resize/1/98/94/7439894_20200429021232077_1_LARGE.jpg?w=243&amp;h=155&amp;t=1627583738\" property=\"image\"/><img alt=\"Seawind 1260\" class=\"listing-card-image\" height=\"155\" src=\"//images.yachtworld.com/resize/1/98/94/7439894_20200429021232077_1_LARGE.jpg?w=243&amp;h=155&amp;t=1627583738\" width=\"243\"/></div><div class=\"listing-card-information\"><h2 class=\"listing-card-title blue-star-title\" property=\"name\">Seawind 1260</h2><div class=\"listing-card-length-year\">41 ft<!-- --> / <!-- -->2022</div><div class=\"listing-card-location\"></div><p class=\"make-blue-star\">Seawind</p><span class=\"blue-star\">Manufacturer Listing</span><div class=\"brand-logo-container\" style=\"background-image:url('https://images.boatsgroup.com/published/images/logos/logo_seawind.gif')\"></div><div class=\"listing-card-media blue-star-icons\"></div></div></div></a>\n",
      "<a data-reporting-click-listing-type=\"standard listing\" data-reporting-click-product-id=\"7939838\" data-reporting-page=\"78\" data-reporting-rank=\"1159\" href=\"https://www.yachtworld.com/yacht/2022-fountaine-pajot-samana-59-7939838/\" name=\"&amp;lpos=P1S1&amp;lid=SR_Detail_Photo\" property=\"itemListElement\" typeof=\"ListItem\"><meta content=\"https://www.yachtworld.com/yacht/2022-fountaine-pajot-samana-59-7939838/\" property=\"url\"/><meta content=\"4\" property=\"position\"/><div class=\"row listing-card regular\" id=\"7939838\"><div class=\"listing-card-image-container\"><meta content=\"//images.yachtworld.com/resize/1/63/18/7646318_20201104063301843_1_LARGE.jpg?w=243&amp;h=155&amp;t=1625460644\" property=\"image\"/><img alt=\"Fountaine Pajot Samana 59\" class=\"listing-card-image\" height=\"155\" src=\"//images.yachtworld.com/resize/1/63/18/7646318_20201104063301843_1_LARGE.jpg?w=243&amp;h=155&amp;t=1625460644\" width=\"243\"/></div><div class=\"listing-card-information\"><h2 class=\"listing-card-title blue-star-title\" property=\"name\">Fountaine Pajot Samana 59</h2><div class=\"listing-card-length-year\">62 ft<!-- --> / <!-- -->2022</div><div class=\"listing-card-location\"></div><p class=\"make-blue-star\">Fountaine Pajot</p><span class=\"blue-star\">Manufacturer Listing</span><div class=\"brand-logo-container\" style=\"background-image:url('https://images.boatsgroup.com/images/1/upload/fountaine_pajot_logo2.png')\"></div><div class=\"listing-card-media blue-star-icons\"><div class=\"tooltip\" style=\"position:relative\"><i aria-label=\"Video\" class=\"listing-card-image-video icon-film\"></i></div></div></div></div></a>\n",
      "<a data-reporting-click-listing-type=\"standard listing\" data-reporting-click-product-id=\"8260117\" data-reporting-page=\"78\" data-reporting-rank=\"1160\" href=\"https://www.yachtworld.com/yacht/2022-cnb-88-8260117/\" name=\"&amp;lpos=P1S1&amp;lid=SR_Detail_Photo\" property=\"itemListElement\" typeof=\"ListItem\"><meta content=\"https://www.yachtworld.com/yacht/2022-cnb-88-8260117/\" property=\"url\"/><meta content=\"5\" property=\"position\"/><div class=\"row listing-card regular\" id=\"8260117\"><div class=\"listing-card-image-container\"><meta content=\"//images.yachtworld.com/resize/1/1/17/8260117_20220324093452556_1_LARGE.jpg?w=243&amp;h=155&amp;t=1648139718\" property=\"image\"/><span class=\"listing-card-image\" style=\"display:inline-block;width:243px;height:155px\"></span></div><div class=\"listing-card-information\"><h2 class=\"listing-card-title blue-star-title\" property=\"name\">CNB 88</h2><div class=\"listing-card-length-year\">93 ft<!-- --> / <!-- -->2022</div><div class=\"listing-card-location\"></div><p class=\"make-blue-star\">CNB</p><span class=\"blue-star\">Manufacturer Listing</span><div class=\"brand-logo-container\" style=\"background-image:url('https://images.boatsgroup.com/images/1/upload/cnb.JPG')\"></div><div class=\"listing-card-media blue-star-icons\"></div></div></div></a>\n",
      "<a data-reporting-click-listing-type=\"standard listing\" data-reporting-click-product-id=\"7892051\" data-reporting-page=\"78\" data-reporting-rank=\"1161\" href=\"https://www.yachtworld.com/yacht/2022-najad-505-cc-7892051/\" name=\"&amp;lpos=P1S1&amp;lid=SR_Detail_Photo\" property=\"itemListElement\" typeof=\"ListItem\"><meta content=\"https://www.yachtworld.com/yacht/2022-najad-505-cc-7892051/\" property=\"url\"/><meta content=\"6\" property=\"position\"/><div class=\"row listing-card regular\" id=\"7892051\"><div class=\"listing-card-image-container\"><meta content=\"//images.yachtworld.com/resize/1/20/51/7892051_20210520044501077_1_LARGE.jpg?w=243&amp;h=155&amp;t=1621511190\" property=\"image\"/><span class=\"listing-card-image\" style=\"display:inline-block;width:243px;height:155px\"></span></div><div class=\"listing-card-information\"><h2 class=\"listing-card-title blue-star-title\" property=\"name\">Najad 505 CC</h2><div class=\"listing-card-length-year\">50 ft<!-- --> / <!-- -->2022</div><div class=\"listing-card-location\"></div><p class=\"make-blue-star\">Najad</p><span class=\"blue-star\">Manufacturer Listing</span><div class=\"brand-logo-container\" style=\"background-image:url('https://images.boatsgroup.com/images/1/upload/oemnajadlogo.PNG')\"></div><div class=\"listing-card-media blue-star-icons\"></div></div></div></a>\n",
      "<a data-reporting-click-listing-type=\"standard listing\" data-reporting-click-product-id=\"7891999\" data-reporting-page=\"78\" data-reporting-rank=\"1162\" href=\"https://www.yachtworld.com/yacht/2022-najad-450-cc-7891999/\" name=\"&amp;lpos=P1S1&amp;lid=SR_Detail_Photo\" property=\"itemListElement\" typeof=\"ListItem\"><meta content=\"https://www.yachtworld.com/yacht/2022-najad-450-cc-7891999/\" property=\"url\"/><meta content=\"7\" property=\"position\"/><div class=\"row listing-card regular\" id=\"7891999\"><div class=\"listing-card-image-container\"><meta content=\"//images.yachtworld.com/resize/1/19/99/7891999_20210520042307059_1_LARGE.jpg?w=243&amp;h=155&amp;t=1621510070\" property=\"image\"/><span class=\"listing-card-image\" style=\"display:inline-block;width:243px;height:155px\"></span></div><div class=\"listing-card-information\"><h2 class=\"listing-card-title blue-star-title\" property=\"name\">Najad 450 CC</h2><div class=\"listing-card-length-year\">44 ft<!-- --> / <!-- -->2022</div><div class=\"listing-card-location\"></div><p class=\"make-blue-star\">Najad</p><span class=\"blue-star\">Manufacturer Listing</span><div class=\"brand-logo-container\" style=\"background-image:url('https://images.boatsgroup.com/images/1/upload/oemnajadlogo.PNG')\"></div><div class=\"listing-card-media blue-star-icons\"></div></div></div></a>\n",
      "<a data-reporting-click-listing-type=\"standard listing\" data-reporting-click-product-id=\"8395605\" data-reporting-page=\"78\" data-reporting-rank=\"1163\" href=\"https://www.yachtworld.com/yacht/2023-excess-12-8395605/\" name=\"&amp;lpos=P1S1&amp;lid=SR_Detail_Photo\" property=\"itemListElement\" typeof=\"ListItem\"><meta content=\"https://www.yachtworld.com/yacht/2023-excess-12-8395605/\" property=\"url\"/><meta content=\"8\" property=\"position\"/><div class=\"row listing-card regular\" id=\"8395605\"><div class=\"listing-card-image-container\"><meta content=\"//images.yachtworld.com/resize/1/20/4/7362004_20200210053410279_1_LARGE.jpg?w=243&amp;h=155&amp;t=1657724566\" property=\"image\"/><span class=\"listing-card-image\" style=\"display:inline-block;width:243px;height:155px\"></span></div><div class=\"listing-card-information\"><h2 class=\"listing-card-title blue-star-title\" property=\"name\">Excess 12</h2><div class=\"listing-card-length-year\">39 ft<!-- --> / <!-- -->2023</div><div class=\"listing-card-location\"></div><p class=\"make-blue-star\">Excess</p><span class=\"blue-star\">Manufacturer Listing</span><div class=\"brand-logo-container\" style=\"background-image:url('https://images.boatsgroup.com/images/1/upload/excesslogo.png')\"></div><div class=\"listing-card-media blue-star-icons\"><div class=\"tooltip\" style=\"position:relative\"><i aria-label=\"Video\" class=\"listing-card-image-video icon-film\"></i></div></div></div></div></a>\n",
      "<a data-reporting-click-listing-type=\"standard listing\" data-reporting-click-product-id=\"8395604\" data-reporting-page=\"78\" data-reporting-rank=\"1164\" href=\"https://www.yachtworld.com/yacht/2023-excess-11-8395604/\" name=\"&amp;lpos=P1S1&amp;lid=SR_Detail_Photo\" property=\"itemListElement\" typeof=\"ListItem\"><meta content=\"https://www.yachtworld.com/yacht/2023-excess-11-8395604/\" property=\"url\"/><meta content=\"9\" property=\"position\"/><div class=\"row listing-card regular\" id=\"8395604\"><div class=\"listing-card-image-container\"><meta content=\"//images.yachtworld.com/resize/1/19/94/7361994_20200210051621465_1_LARGE.jpg?w=243&amp;h=155&amp;t=1657724564\" property=\"image\"/><span class=\"listing-card-image\" style=\"display:inline-block;width:243px;height:155px\"></span></div><div class=\"listing-card-information\"><h2 class=\"listing-card-title blue-star-title\" property=\"name\">Excess 11</h2><div class=\"listing-card-length-year\">37 ft<!-- --> / <!-- -->2023</div><div class=\"listing-card-location\"></div><p class=\"make-blue-star\">Excess</p><span class=\"blue-star\">Manufacturer Listing</span><div class=\"brand-logo-container\" style=\"background-image:url('https://images.boatsgroup.com/images/1/upload/excesslogo.png')\"></div><div class=\"listing-card-media blue-star-icons\"><div class=\"tooltip\" style=\"position:relative\"><i aria-label=\"Video\" class=\"listing-card-image-video icon-film\"></i></div></div></div></div></a>\n",
      "<a data-reporting-click-listing-type=\"standard listing\" data-reporting-click-product-id=\"8538517\" data-reporting-page=\"78\" data-reporting-rank=\"1165\" href=\"https://www.yachtworld.com/yacht/2023-contest-72cs-8538517/\" name=\"&amp;lpos=P1S1&amp;lid=SR_Detail_Photo\" property=\"itemListElement\" typeof=\"ListItem\"><meta content=\"https://www.yachtworld.com/yacht/2023-contest-72cs-8538517/\" property=\"url\"/><meta content=\"10\" property=\"position\"/><div class=\"row listing-card regular\" id=\"8538517\"><div class=\"listing-card-image-container\"><meta content=\"//images.yachtworld.com/resize/1/40/29/5764029_20160404020147040_1_LARGE.jpg?w=243&amp;h=155&amp;t=1665642904\" property=\"image\"/><span class=\"listing-card-image\" style=\"display:inline-block;width:243px;height:155px\"></span></div><div class=\"listing-card-information\"><h2 class=\"listing-card-title blue-star-title\" property=\"name\">Contest 72CS</h2><div class=\"listing-card-length-year\">72 ft<!-- --> / <!-- -->2023</div><div class=\"listing-card-location\"></div><p class=\"make-blue-star\">Contest</p><span class=\"blue-star\">Manufacturer Listing</span><div class=\"brand-logo-container\" style=\"background-image:url('https://images.boatsgroup.com/images/1/upload/contest logo.PNG')\"></div><div class=\"listing-card-media blue-star-icons\"><div class=\"tooltip\" style=\"position:relative\"><i aria-label=\"Video\" class=\"listing-card-image-video icon-film\"></i></div></div></div></div></a>\n",
      "<a data-reporting-click-listing-type=\"standard listing\" data-reporting-click-product-id=\"7939840\" data-reporting-page=\"78\" data-reporting-rank=\"1166\" href=\"https://www.yachtworld.com/yacht/2022-fountaine-pajot-catamaran-alegria-67-7939840/\" name=\"&amp;lpos=P1S1&amp;lid=SR_Detail_Photo\" property=\"itemListElement\" typeof=\"ListItem\"><meta content=\"https://www.yachtworld.com/yacht/2022-fountaine-pajot-catamaran-alegria-67-7939840/\" property=\"url\"/><meta content=\"11\" property=\"position\"/><div class=\"row listing-card regular\" id=\"7939840\"><div class=\"listing-card-image-container\"><meta content=\"//images.yachtworld.com/resize/1/3/9/6830309_20190124163646196_1_LARGE.jpg?w=243&amp;h=155&amp;t=1625460912\" property=\"image\"/><span class=\"listing-card-image\" style=\"display:inline-block;width:243px;height:155px\"></span></div><div class=\"listing-card-information\"><h2 class=\"listing-card-title blue-star-title\" property=\"name\">Fountaine Pajot Catamaran Alegria 67</h2><div class=\"listing-card-length-year\">67 ft<!-- --> / <!-- -->2022</div><div class=\"listing-card-location\"></div><p class=\"make-blue-star\">Fountaine Pajot</p><span class=\"blue-star\">Manufacturer Listing</span><div class=\"brand-logo-container\" style=\"background-image:url('https://images.boatsgroup.com/images/1/upload/fountaine_pajot_logo2.png')\"></div><div class=\"listing-card-media blue-star-icons\"><div class=\"tooltip\" style=\"position:relative\"><i aria-label=\"Video\" class=\"listing-card-image-video icon-film\"></i></div></div></div></div></a>\n",
      "<a data-reporting-click-listing-type=\"standard listing\" data-reporting-click-product-id=\"7939830\" data-reporting-page=\"78\" data-reporting-rank=\"1167\" href=\"https://www.yachtworld.com/yacht/2023-oyster-745-7939830/\" name=\"&amp;lpos=P1S1&amp;lid=SR_Detail_Photo\" property=\"itemListElement\" typeof=\"ListItem\"><meta content=\"https://www.yachtworld.com/yacht/2023-oyster-745-7939830/\" property=\"url\"/><meta content=\"12\" property=\"position\"/><div class=\"row listing-card regular\" id=\"7939830\"><div class=\"listing-card-image-container\"><meta content=\"//images.yachtworld.com/resize/1/65/10/7646510_20201112044101345_1_LARGE.jpg?w=243&amp;h=155&amp;t=1625458849\" property=\"image\"/><span class=\"listing-card-image\" style=\"display:inline-block;width:243px;height:155px\"></span></div><div class=\"listing-card-information\"><h2 class=\"listing-card-title blue-star-title\" property=\"name\">Oyster 745</h2><div class=\"listing-card-length-year\">75 ft<!-- --> / <!-- -->2023</div><div class=\"listing-card-location\"></div><p class=\"make-blue-star\">Oyster</p><span class=\"blue-star\">Manufacturer Listing</span><div class=\"brand-logo-container\" style=\"background-image:url('https://images.boatsgroup.com/images/1/upload/oysteroemlogo.png')\"></div><div class=\"listing-card-media blue-star-icons\"></div></div></div></a>\n",
      "<a data-reporting-click-listing-type=\"standard listing\" data-reporting-click-product-id=\"8538514\" data-reporting-page=\"78\" data-reporting-rank=\"1168\" href=\"https://www.yachtworld.com/yacht/2023-contest-62cs-8538514/\" name=\"&amp;lpos=P1S1&amp;lid=SR_Detail_Photo\" property=\"itemListElement\" typeof=\"ListItem\"><meta content=\"https://www.yachtworld.com/yacht/2023-contest-62cs-8538514/\" property=\"url\"/><meta content=\"13\" property=\"position\"/><div class=\"row listing-card regular\" id=\"8538514\"><div class=\"listing-card-image-container\"><meta content=\"//images.yachtworld.com/resize/1/40/18/5764018_20160404011034346_1_LARGE.jpg?w=243&amp;h=155&amp;t=1665642142\" property=\"image\"/><span class=\"listing-card-image\" style=\"display:inline-block;width:243px;height:155px\"></span></div><div class=\"listing-card-information\"><h2 class=\"listing-card-title blue-star-title\" property=\"name\">Contest 62CS</h2><div class=\"listing-card-length-year\">64 ft<!-- --> / <!-- -->2023</div><div class=\"listing-card-location\"></div><p class=\"make-blue-star\">Contest</p><span class=\"blue-star\">Manufacturer Listing</span><div class=\"brand-logo-container\" style=\"background-image:url('https://images.boatsgroup.com/images/1/upload/contest logo.PNG')\"></div><div class=\"listing-card-media blue-star-icons\"><div class=\"tooltip\" style=\"position:relative\"><i aria-label=\"Video\" class=\"listing-card-image-video icon-film\"></i></div></div></div></div></a>\n",
      "<a data-reporting-click-listing-type=\"standard listing\" data-reporting-click-product-id=\"7969550\" data-reporting-page=\"78\" data-reporting-rank=\"1169\" href=\"https://www.yachtworld.com/yacht/2022-corsair-970-carbon-7969550/\" name=\"&amp;lpos=P1S1&amp;lid=SR_Detail_Photo\" property=\"itemListElement\" typeof=\"ListItem\"><meta content=\"https://www.yachtworld.com/yacht/2022-corsair-970-carbon-7969550/\" property=\"url\"/><meta content=\"14\" property=\"position\"/><div class=\"row listing-card regular\" id=\"7969550\"><div class=\"listing-card-image-container\"><meta content=\"//images.yachtworld.com/resize/1/51/30/7435130_20200421000933238_1_LARGE.jpg?w=243&amp;h=155&amp;t=1627584533\" property=\"image\"/><span class=\"listing-card-image\" style=\"display:inline-block;width:243px;height:155px\"></span></div><div class=\"listing-card-information\"><h2 class=\"listing-card-title blue-star-title\" property=\"name\">Corsair 970 Carbon</h2><div class=\"listing-card-length-year\">31 ft<!-- --> / <!-- -->2022</div><div class=\"listing-card-location\"></div><p class=\"make-blue-star\">Corsair</p><span class=\"blue-star\">Manufacturer Listing</span><div class=\"brand-logo-container\" style=\"background-image:url('https://images.boatsgroup.com/published/images/logo_corsair.gif')\"></div><div class=\"listing-card-media blue-star-icons\"></div></div></div></a>\n"
     ]
    },
    {
     "data": {
      "text/plain": [
       "[329795.0, 364999.0, 432319.0, 31000.0, 850000.0]"
      ]
     },
     "execution_count": 23,
     "metadata": {},
     "output_type": "execute_result"
    }
   ],
   "source": [
    "soups = req_list\n",
    "all(map(lambda x: isinstance(x, BeautifulSoup), soups))\n",
    "from typing import List\n",
    "i = 0\n",
    "def get_urls_from_search_page(soup:BeautifulSoup):\n",
    "    global i\n",
    "    i=i+1\n",
    "    try:\n",
    "        a_s = soup.select(\"#root > div.search > div.flex.flex-row > div.search-right-col > div.pagination-and-results-container.search-display > div.listings-container > a\")\n",
    "    except Exception as e:\n",
    "        print(i)\n",
    "        raise e\n",
    "    return a_s\n",
    "a_s = sum(map(get_urls_from_search_page, soups), [])\n",
    "len(a_s)\n",
    "links = list(map(lambda x:x['href'] , a_s))\n",
    "\n",
    "def a2loaction(a):\n",
    "    location = a.select_one(' div.listing-card-location')\n",
    "    return location.text\n",
    "    \n",
    "locations = list(map(a2loaction, a_s))\n",
    "all(locations)\n",
    "\n",
    "def a2price(a):\n",
    "    \n",
    "    price = a.select_one(' div.price')\n",
    "    if price is None: \n",
    "        print(a)\n",
    "        return None\n",
    "    price = price.text\n",
    "    try:\n",
    "        \n",
    "        return float(\"\".join(list(filter(str.isdigit, price))))\n",
    "    except Exception as e:\n",
    "        if price=='Call for Price': return None\n",
    "        print(price)\n",
    "        raise e\n",
    "        \n",
    "prices = list(map(a2price, a_s))\n",
    "all(prices)\n",
    "prices[:5]"
   ]
  },
  {
   "cell_type": "code",
   "execution_count": 24,
   "metadata": {},
   "outputs": [
    {
     "data": {
      "text/html": [
       "<div>\n",
       "<style scoped>\n",
       "    .dataframe tbody tr th:only-of-type {\n",
       "        vertical-align: middle;\n",
       "    }\n",
       "\n",
       "    .dataframe tbody tr th {\n",
       "        vertical-align: top;\n",
       "    }\n",
       "\n",
       "    .dataframe thead th {\n",
       "        text-align: right;\n",
       "    }\n",
       "</style>\n",
       "<table border=\"1\" class=\"dataframe\">\n",
       "  <thead>\n",
       "    <tr style=\"text-align: right;\">\n",
       "      <th></th>\n",
       "      <th>Link</th>\n",
       "      <th>Price</th>\n",
       "      <th>Basics.Location</th>\n",
       "      <th>New</th>\n",
       "    </tr>\n",
       "  </thead>\n",
       "  <tbody>\n",
       "    <tr>\n",
       "      <th>0</th>\n",
       "      <td>https://www.yachtworld.com/yacht/2023-jeanneau...</td>\n",
       "      <td>329795.0</td>\n",
       "      <td>Seattle, Washington, United States</td>\n",
       "      <td>True</td>\n",
       "    </tr>\n",
       "    <tr>\n",
       "      <th>1</th>\n",
       "      <td>https://www.yachtworld.com/yacht/2023-dufour-3...</td>\n",
       "      <td>364999.0</td>\n",
       "      <td>Racine, Wisconsin, United States</td>\n",
       "      <td>True</td>\n",
       "    </tr>\n",
       "    <tr>\n",
       "      <th>2</th>\n",
       "      <td>https://www.yachtworld.com/yacht/2023-bavaria-...</td>\n",
       "      <td>432319.0</td>\n",
       "      <td>San Diego, California, United States</td>\n",
       "      <td>True</td>\n",
       "    </tr>\n",
       "    <tr>\n",
       "      <th>3</th>\n",
       "      <td>https://www.yachtworld.com/yacht/1984-union-po...</td>\n",
       "      <td>31000.0</td>\n",
       "      <td>Emeryville, California, United States</td>\n",
       "      <td>True</td>\n",
       "    </tr>\n",
       "    <tr>\n",
       "      <th>4</th>\n",
       "      <td>https://www.yachtworld.com/yacht/2023-dufour-4...</td>\n",
       "      <td>850000.0</td>\n",
       "      <td>Racine, Wisconsin, United States</td>\n",
       "      <td>True</td>\n",
       "    </tr>\n",
       "  </tbody>\n",
       "</table>\n",
       "</div>"
      ],
      "text/plain": [
       "                                                Link     Price  \\\n",
       "0  https://www.yachtworld.com/yacht/2023-jeanneau...  329795.0   \n",
       "1  https://www.yachtworld.com/yacht/2023-dufour-3...  364999.0   \n",
       "2  https://www.yachtworld.com/yacht/2023-bavaria-...  432319.0   \n",
       "3  https://www.yachtworld.com/yacht/1984-union-po...   31000.0   \n",
       "4  https://www.yachtworld.com/yacht/2023-dufour-4...  850000.0   \n",
       "\n",
       "                         Basics.Location   New  \n",
       "0     Seattle, Washington, United States  True  \n",
       "1       Racine, Wisconsin, United States  True  \n",
       "2   San Diego, California, United States  True  \n",
       "3  Emeryville, California, United States  True  \n",
       "4       Racine, Wisconsin, United States  True  "
      ]
     },
     "execution_count": 24,
     "metadata": {},
     "output_type": "execute_result"
    }
   ],
   "source": [
    "df = pd.DataFrame({'Link':links, 'Price':prices, 'Basics.Location':locations})\n",
    "df['New'] = True\n",
    "df.head()"
   ]
  },
  {
   "cell_type": "code",
   "execution_count": 25,
   "metadata": {},
   "outputs": [
    {
     "data": {
      "text/plain": [
       "Link                  0\n",
       "Price              1031\n",
       "Basics.Location       0\n",
       "New                   0\n",
       "dtype: int64"
      ]
     },
     "execution_count": 25,
     "metadata": {},
     "output_type": "execute_result"
    }
   ],
   "source": [
    "df.isna().sum()\n"
   ]
  },
  {
   "cell_type": "code",
   "execution_count": 30,
   "metadata": {},
   "outputs": [
    {
     "data": {
      "text/plain": [
       "2188"
      ]
     },
     "execution_count": 30,
     "metadata": {},
     "output_type": "execute_result"
    }
   ],
   "source": [
    "len(df.Link.unique())"
   ]
  },
  {
   "cell_type": "code",
   "execution_count": 31,
   "metadata": {},
   "outputs": [
    {
     "data": {
      "text/plain": [
       "array([False, False, False, ..., False, False, False])"
      ]
     },
     "execution_count": 31,
     "metadata": {},
     "output_type": "execute_result"
    }
   ],
   "source": [
    "df['Basics.Location'].isna().to_numpy()"
   ]
  },
  {
   "cell_type": "code",
   "execution_count": 32,
   "metadata": {},
   "outputs": [
    {
     "data": {
      "text/plain": [
       "(array([[None],\n",
       "        [None],\n",
       "        [None],\n",
       "        [None],\n",
       "        [None],\n",
       "        [None],\n",
       "        [None],\n",
       "        [None],\n",
       "        [None],\n",
       "        [None]], dtype=object),\n",
       " array([['https://www.yachtworld.com/yacht/2023-moody-aft-cockpit-41-8115025/'],\n",
       "        ['https://www.yachtworld.com/yacht/2023-x--yachts-xp-50-4530040/'],\n",
       "        ['https://www.yachtworld.com/yacht/2023-beneteau-oceanis-40.1-7892889/'],\n",
       "        ['https://www.yachtworld.com/yacht/2023-tartan-455-8654222/'],\n",
       "        ['https://www.yachtworld.com/yacht/2023-bavaria-c46----new-model-8649239/'],\n",
       "        ['https://www.yachtworld.com/yacht/2022-corsair-760-sport-7624491/'],\n",
       "        ['https://www.yachtworld.com/yacht/2023-moody-decksaloon-54-8115027/'],\n",
       "        ['https://www.yachtworld.com/yacht/2023-catalina-275-4442194/'],\n",
       "        ['https://www.yachtworld.com/yacht/2024-grand-soleil-80-custom-7424626/'],\n",
       "        ['https://www.yachtworld.com/yacht/2023-jeanneau-65-8273829/']],\n",
       "       dtype='<U102'))"
      ]
     },
     "execution_count": 32,
     "metadata": {},
     "output_type": "execute_result"
    }
   ],
   "source": [
    "import random, numpy as np\n",
    "# indexes = random.choices(list(range(len(df))), k=10)\n",
    "indexes = random.choices(np.argwhere(df['Price'].isna().to_numpy()), k=10)\n",
    "prices = np.array(prices)\n",
    "links = np.array(links)\n",
    "prices[indexes], links[indexes]"
   ]
  },
  {
   "cell_type": "code",
   "execution_count": 33,
   "metadata": {},
   "outputs": [],
   "source": [
    "df.to_csv('new_links.csv')"
   ]
  },
  {
   "cell_type": "code",
   "execution_count": 34,
   "metadata": {},
   "outputs": [
    {
     "data": {
      "text/plain": [
       "2188"
      ]
     },
     "execution_count": 34,
     "metadata": {},
     "output_type": "execute_result"
    }
   ],
   "source": [
    "len(df)"
   ]
  },
  {
   "cell_type": "code",
   "execution_count": 35,
   "metadata": {},
   "outputs": [
    {
     "data": {
      "text/html": [
       "<div>\n",
       "<style scoped>\n",
       "    .dataframe tbody tr th:only-of-type {\n",
       "        vertical-align: middle;\n",
       "    }\n",
       "\n",
       "    .dataframe tbody tr th {\n",
       "        vertical-align: top;\n",
       "    }\n",
       "\n",
       "    .dataframe thead th {\n",
       "        text-align: right;\n",
       "    }\n",
       "</style>\n",
       "<table border=\"1\" class=\"dataframe\">\n",
       "  <thead>\n",
       "    <tr style=\"text-align: right;\">\n",
       "      <th></th>\n",
       "      <th>Link</th>\n",
       "      <th>Price</th>\n",
       "      <th>Basics.Location</th>\n",
       "      <th>New</th>\n",
       "    </tr>\n",
       "  </thead>\n",
       "  <tbody>\n",
       "    <tr>\n",
       "      <th>0</th>\n",
       "      <td>https://www.yachtworld.com/yacht/1965-folkdanc...</td>\n",
       "      <td>4892.0</td>\n",
       "      <td>Suffolk, United Kingdom</td>\n",
       "      <td>False</td>\n",
       "    </tr>\n",
       "    <tr>\n",
       "      <th>1</th>\n",
       "      <td>https://www.yachtworld.com/yacht/1971-she-31-8...</td>\n",
       "      <td>11765.0</td>\n",
       "      <td>Falmouth UK, United Kingdom</td>\n",
       "      <td>False</td>\n",
       "    </tr>\n",
       "    <tr>\n",
       "      <th>2</th>\n",
       "      <td>https://www.yachtworld.com/yacht/1991-jongert-...</td>\n",
       "      <td>1902933.0</td>\n",
       "      <td>Mallorca, Spain</td>\n",
       "      <td>False</td>\n",
       "    </tr>\n",
       "    <tr>\n",
       "      <th>3</th>\n",
       "      <td>https://www.yachtworld.com/yacht/1972-nautor-s...</td>\n",
       "      <td>260078.0</td>\n",
       "      <td>Lagos, Portugal</td>\n",
       "      <td>False</td>\n",
       "    </tr>\n",
       "    <tr>\n",
       "      <th>4</th>\n",
       "      <td>https://www.yachtworld.com/yacht/1990-beneteau...</td>\n",
       "      <td>49477.0</td>\n",
       "      <td>Brighton Marina Village, East Sussex, United K...</td>\n",
       "      <td>False</td>\n",
       "    </tr>\n",
       "  </tbody>\n",
       "</table>\n",
       "</div>"
      ],
      "text/plain": [
       "                                                Link      Price  \\\n",
       "0  https://www.yachtworld.com/yacht/1965-folkdanc...     4892.0   \n",
       "1  https://www.yachtworld.com/yacht/1971-she-31-8...    11765.0   \n",
       "2  https://www.yachtworld.com/yacht/1991-jongert-...  1902933.0   \n",
       "3  https://www.yachtworld.com/yacht/1972-nautor-s...   260078.0   \n",
       "4  https://www.yachtworld.com/yacht/1990-beneteau...    49477.0   \n",
       "\n",
       "                                     Basics.Location    New  \n",
       "0                            Suffolk, United Kingdom  False  \n",
       "1                        Falmouth UK, United Kingdom  False  \n",
       "2                                    Mallorca, Spain  False  \n",
       "3                                    Lagos, Portugal  False  \n",
       "4  Brighton Marina Village, East Sussex, United K...  False  "
      ]
     },
     "execution_count": 35,
     "metadata": {},
     "output_type": "execute_result"
    }
   ],
   "source": [
    "df_used = pd.read_csv('used_links.csv', index_col=0)\n",
    "df_used.head()"
   ]
  },
  {
   "cell_type": "code",
   "execution_count": 36,
   "metadata": {},
   "outputs": [
    {
     "data": {
      "text/plain": [
       "10287"
      ]
     },
     "execution_count": 36,
     "metadata": {},
     "output_type": "execute_result"
    }
   ],
   "source": [
    "len(df_used)"
   ]
  },
  {
   "cell_type": "code",
   "execution_count": 37,
   "metadata": {},
   "outputs": [
    {
     "data": {
      "text/plain": [
       "(12475, 4)"
      ]
     },
     "execution_count": 37,
     "metadata": {},
     "output_type": "execute_result"
    }
   ],
   "source": [
    "df_all = pd.concat([df, df_used])\n",
    "df_all.shape"
   ]
  },
  {
   "cell_type": "code",
   "execution_count": null,
   "metadata": {},
   "outputs": [],
   "source": [
    "df_all.to_csv('all_links.csv')"
   ]
  }
 ],
 "metadata": {
  "kernelspec": {
   "display_name": "ai",
   "language": "python",
   "name": "python3"
  },
  "language_info": {
   "codemirror_mode": {
    "name": "ipython",
    "version": 3
   },
   "file_extension": ".py",
   "mimetype": "text/x-python",
   "name": "python",
   "nbconvert_exporter": "python",
   "pygments_lexer": "ipython3",
   "version": "3.11.0"
  },
  "orig_nbformat": 4
 },
 "nbformat": 4,
 "nbformat_minor": 2
}
