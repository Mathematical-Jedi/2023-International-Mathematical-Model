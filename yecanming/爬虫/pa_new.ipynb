{
 "cells": [
  {
   "cell_type": "code",
   "execution_count": 1,
   "metadata": {},
   "outputs": [
    {
     "data": {
      "text/plain": [
       "<Response [200]>"
      ]
     },
     "execution_count": 1,
     "metadata": {},
     "output_type": "execute_result"
    }
   ],
   "source": [
    "import requests\n",
    "import pandas as pd\n",
    "from bs4 import BeautifulSoup\n",
    "\n",
    "# 设置请求头部信息，模拟浏览器请求\n",
    "headers = {\n",
    "    'User-Agent': 'Mozilla/5.0 (Windows NT 10.0; Win64; x64) AppleWebKit/537.36 (KHTML, like Gecko) Chrome/58.0.3029.110 Safari/537.36'}\n",
    "# 设置YachtWorld网站上的搜索条件\n",
    "search_params = {\n",
    "    'class': 'sail',\n",
    "    # 'price': 'USD100000-500000',\n",
    "    # 'length': '40-50ft'\n",
    "}\n",
    "base_url = 'https://www.yachtworld.com'\n",
    "\n",
    "requests.get(base_url, \n",
    "    headers=headers)"
   ]
  },
  {
   "cell_type": "code",
   "execution_count": 2,
   "metadata": {},
   "outputs": [],
   "source": [
    "res = requests.get('https://api-gateway.boats.com/api-yachtworld/search?apikey=827d6e453fef4ce390afe017b5a7db4b&multiFacetedBoatTypeClass=[\"sail\"]&uom=ft&locale=en_US&currency=USD&sort=price-desc&page=1&variant=0&seoContentType=type&videoType=type&isMultiSearch=true&fields=mappedURL,tags,date.created,date.indexed,make,model,condition,boat.boatType,boat.class,year,boat.specifications.dimensions.lengths.nominal,price.type.amount,price.discount,owner.logos,owner.id,owner.name,media.0,id,aliases.imt,aliases.yachtworld,mediaCount,status,isCurrentModel,isOemModel,location.city,location.normalizedCity,location.countrySubDivisionCode,location.isoSubDivisionCode,location.countryCode,location.postalCode,boat.attributes,boat.cpybLogo,salesRep.certs', headers=headers)\n",
    "result = res.json()"
   ]
  },
  {
   "cell_type": "code",
   "execution_count": 3,
   "metadata": {},
   "outputs": [],
   "source": [
    "result.keys()\n",
    "result['search'].keys()\n",
    "# result['search']['count']\n",
    "records = result['search']['records']\n",
    "len(records)\n",
    "link = records[0]['mappedURL']"
   ]
  },
  {
   "attachments": {},
   "cell_type": "markdown",
   "metadata": {},
   "source": [
    "## 探索性分析每一个具体url的页面结构"
   ]
  },
  {
   "cell_type": "code",
   "execution_count": 4,
   "metadata": {},
   "outputs": [
    {
     "data": {
      "text/plain": [
       "'HANUMAN Racer Royal Huisman for sale - YachtWorld✕YachtWorld AppMake your dream come true todayOpenBoatsPower BoatsSailboatsSell Your BoatPersonal Boat ShopperResearchServicesYacht BrokersBoat DealersSurveyorsYacht LoansInsuranceBoat TransportDirectoryToggle NavigationUnited States (English) ▼ Danmark - Dansk Deutschland - Deutsch Australia - English United Kingdom - English España - Español Suomi - suomi France - Français Italia - Italiano Nederland - Nederlands Norge - Norsk Sverige - SvenskaLogin  CloseBurgess LondonCunard House, London, SW1Y 4LR, United KingdomView phone numberCloseContact the Seller* Please correct highlighted errors.NamePhone (optional)EmailMessageI recently viewed your listing on YachtWorld and I am interested in more details. Thank you.NameContact BrokerHome⁄/Boats for sale⁄/Sail⁄/Racer⁄/Royal Huisman⁄/2009 Royal Huisman J Class Yacht2009 Royal Huisman J Class YachtUS$14,900,000Newport, Rhode Island1/14Image coming soonImage coming soonImage coming soonImage coming soonImage coming soonImage coming soonImage coming soonImage coming soonImage coming soonImage coming soonImage coming soonImage coming soonImage coming soonImage coming soon1 of 14ContactMore from this BrokerShareView 14 PhotosBurgess LondonCunard House, London, SW1Y 4LR, United KingdomView phone numberCloseContact the Seller* Please correct highlighted errors.NamePhone (optional)EmailMessageI recently viewed your listing on YachtWorld and I am interested in more details. Thank you.NameContact Broker2009 Royal Huisman J Class Yacht HANUMAN138ftUS$14,900,000 tax not paidNewport, Rhode IslandBasicsYear2009MakeRoyal HuismanModelJ Class YachtClassRacerLength138.12ftFuel TypeDieselHull MaterialAluminumOffered ByBurgess LondonDescription2009 Royal Huisman J Class YachtBuilt in The Netherlands by Royal Huisman, HANUMAN is one of the most remarkable and highly revered J-Class sailing yachts. HANUMAN has benefited from a vast level of highly customised refits including a complete overhaul of all her racing and sailing systems in advance of the 2017 World Championships. She is \"the\" J-Class to own and offered for sale with a huge inventory. Her spectacular interior, created by Pieter Beeldsnijder, accommodates up to six guests in 3 en suite cabins, including a full beam owner\\'s cabin.Show MoreContact InformationPlease contact Henry Craven-Smith at +44 (0)7796 278 797Other DetailsDisclaimerThe Company offers the details of this vessel in good faith but cannot guarantee or warrant the accuracy of this information nor warrant the condition of the vessel. A buyer should instruct his agents, or his surveyors, to investigate such details as the buyer desires validated. This vessel is offered subject to prior sale, price change, or withdrawal without notice.FeaturesElectrical EquipmentShore Power Inlet✓Generator✓ElectronicsDepthsounder✓Radar✓Log-Speedometer✓Radar Detector✓Wind Speed and Direction✓Computer✓Repeater(s)✓TV Set✓Navigation Center✓Plotter✓DVD Player✓Autopilot✓Radio✓Compas✓GPS✓Cockpit Speakers✓VHF✓Inside EquipmentDishwasher✓Bow Thruster✓Washing Machine✓Electric Bilge Pump✓Oven✓Manual Bilge Pump✓Marine Head✓Air Conditioning✓Electric Head✓Chemical Head✓Hot Water✓Refrigerator✓Fresh Water Maker✓Deep Freezer✓Sea Water Pump✓Battery Charger✓Outside EquipmentTeak Cockpit✓Teak Sidedecks✓Gangway✓Tender✓Liferaft✓Cockpit Cushions✓Swimming Ladder✓RiggingSteering Wheel✓Electric Winch✓Spinnaker Pole✓Hydraulic Winch✓PropulsionEngine MakeScaniaEngine Model350hp Scania DI 12 59M Total Power347.32hpFuel TypeDieselPropeller Type4 BladeSpecificationsDimensionsLength Overall138.12ftLength on Deck137.8ftMax Draft15.49ftBeam21.65ftLength at Waterline90.81ftTanksFresh Water Tank1 x 766.1 gal ()Fuel Tank1 x 2176.78 gal ()Holding Tank()AccommodationsDouble Berths2Twin Berths1Cabins3Heads6Request InformationCallMore yachts from Burgess London2022 Sunreef SUNREEF 70 Sailing€7,800,000 (US$8,476,648)Las Palmas de Gran Canaria, SpainBurgess London2003 Lurssen Custom€185,000,000 (US$201,048,714)wewelsfleth, Schleswig-HolsteinBurgess London2022 Heesen 60.6mUS$82,000,000Antibes, 04 - Alpes-de-Haute-ProvenceBurgess London2006 ISA Isa 470€10,500,000 (US$11,410,873)Athens, GreeceBurgess LondonMore from this Broker Visit WebsiteServicesContact UsHelpAbout UsMedia KitMembershipCookiesDo Not Sell My Personal InformationYachtWorld, 1221 Brickell Avenue, Miami, Florida 33131, USAcopyright © 2023 Boats Group All Rights Reserved.terms of use privacy cookiesAdChoices\\n\\n\\n\\n\\n\\n\\n\\n'"
      ]
     },
     "execution_count": 4,
     "metadata": {},
     "output_type": "execute_result"
    }
   ],
   "source": [
    "#BoatDetails > div.content.nav-slide.with-sticky-contact.home-block > div.boat-details > div.body > div.boat-details-content > div.details\n",
    "link = 'https://www.yachtworld.com/yacht/2009-royal-huisman-j-class-yacht-6750313/'\n",
    "res = requests.get(link, headers=headers)\n",
    "soup = BeautifulSoup(res.text, 'html.parser')\n",
    "soup.text"
   ]
  },
  {
   "cell_type": "code",
   "execution_count": 5,
   "metadata": {},
   "outputs": [
    {
     "data": {
      "text/plain": [
       "'BasicsYear2009MakeRoyal HuismanModelJ Class YachtClassRacerLength138.12ftFuel TypeDieselHull MaterialAluminumOffered ByBurgess LondonDescription2009 Royal Huisman J Class YachtBuilt in The Netherlands by Royal Huisman, HANUMAN is one of the most remarkable and highly revered J-Class sailing yachts. HANUMAN has benefited from a vast level of highly customised refits including a complete overhaul of all her racing and sailing systems in advance of the 2017 World Championships. She is \"the\" J-Class to own and offered for sale with a huge inventory. Her spectacular interior, created by Pieter Beeldsnijder, accommodates up to six guests in 3 en suite cabins, including a full beam owner\\'s cabin.Show MoreContact InformationPlease contact Henry Craven-Smith at +44 (0)7796 278 797Other DetailsDisclaimerThe Company offers the details of this vessel in good faith but cannot guarantee or warrant the accuracy of this information nor warrant the condition of the vessel. A buyer should instruct his agents, or his surveyors, to investigate such details as the buyer desires validated. This vessel is offered subject to prior sale, price change, or withdrawal without notice.FeaturesElectrical EquipmentShore Power Inlet✓Generator✓ElectronicsDepthsounder✓Radar✓Log-Speedometer✓Radar Detector✓Wind Speed and Direction✓Computer✓Repeater(s)✓TV Set✓Navigation Center✓Plotter✓DVD Player✓Autopilot✓Radio✓Compas✓GPS✓Cockpit Speakers✓VHF✓Inside EquipmentDishwasher✓Bow Thruster✓Washing Machine✓Electric Bilge Pump✓Oven✓Manual Bilge Pump✓Marine Head✓Air Conditioning✓Electric Head✓Chemical Head✓Hot Water✓Refrigerator✓Fresh Water Maker✓Deep Freezer✓Sea Water Pump✓Battery Charger✓Outside EquipmentTeak Cockpit✓Teak Sidedecks✓Gangway✓Tender✓Liferaft✓Cockpit Cushions✓Swimming Ladder✓RiggingSteering Wheel✓Electric Winch✓Spinnaker Pole✓Hydraulic Winch✓PropulsionEngine MakeScaniaEngine Model350hp Scania DI 12 59M Total Power347.32hpFuel TypeDieselPropeller Type4 BladeSpecificationsDimensionsLength Overall138.12ftLength on Deck137.8ftMax Draft15.49ftBeam21.65ftLength at Waterline90.81ftTanksFresh Water Tank1 x 766.1 gal ()Fuel Tank1 x 2176.78 gal ()Holding Tank()AccommodationsDouble Berths2Twin Berths1Cabins3Heads6Request InformationCallMore yachts from Burgess London2022 Sunreef SUNREEF 70 Sailing€7,800,000 (US$8,476,648)Las Palmas de Gran Canaria, SpainBurgess London2003 Lurssen Custom€185,000,000 (US$201,048,714)wewelsfleth, Schleswig-HolsteinBurgess London2022 Heesen 60.6mUS$82,000,000Antibes, 04 - Alpes-de-Haute-ProvenceBurgess London2006 ISA Isa 470€10,500,000 (US$11,410,873)Athens, GreeceBurgess LondonMore from this Broker Visit WebsiteServices'"
      ]
     },
     "execution_count": 5,
     "metadata": {},
     "output_type": "execute_result"
    }
   ],
   "source": [
    "detail = soup.select_one('#BoatDetails > div.content.nav-slide.with-sticky-contact.home-block > div.boat-details > div.body > div.boat-details-content > div.details')\n",
    "detail.text"
   ]
  },
  {
   "cell_type": "code",
   "execution_count": 6,
   "metadata": {},
   "outputs": [
    {
     "data": {
      "text/plain": [
       "6"
      ]
     },
     "execution_count": 6,
     "metadata": {},
     "output_type": "execute_result"
    }
   ],
   "source": [
    "items = detail.select('div.header')\n",
    "len(items)\n",
    "items[0].text\n",
    "items[0].next_sibling\n",
    "for i in range(len(items)):\n",
    "    if items[i].text.lower()=='specifications':\n",
    "        break\n",
    "i\n",
    "# items[i].text"
   ]
  },
  {
   "cell_type": "code",
   "execution_count": 7,
   "metadata": {},
   "outputs": [
    {
     "data": {
      "text/plain": [
       "{'Basic.Year': '2009',\n",
       " 'Basic.Make': 'Royal Huisman',\n",
       " 'Basic.Model': 'J Class Yacht',\n",
       " 'Basic.Class': 'Racer',\n",
       " 'Basic.Length': '138.12ft',\n",
       " 'Basic.FuelType': 'Diesel',\n",
       " 'Basic.HullMaterial': 'Aluminum',\n",
       " 'Basic.OfferedBy': 'Burgess London'}"
      ]
     },
     "execution_count": 7,
     "metadata": {},
     "output_type": "execute_result"
    }
   ],
   "source": [
    "def kv_attributes(basic, name='Basic'):\n",
    "    titles = [f'{name}.{\"\".join(map(lambda x:x.capitalize(),t.text.strip().split()))}' for t in basic.select('td.datatable-title')]\n",
    "    values = [t.text.strip() for t in basic.select('td.datatable-value')]\n",
    "    return {k:v for k,v in zip(titles, values)}\n",
    "kv_attributes(items[0].next_sibling)"
   ]
  },
  {
   "cell_type": "code",
   "execution_count": 8,
   "metadata": {},
   "outputs": [
    {
     "data": {
      "text/plain": [
       "{'Features.ElectricalEquipment.ShorePowerInlet': '✓',\n",
       " 'Features.ElectricalEquipment.Generator': '✓',\n",
       " 'Features.Electronics.Depthsounder': '✓',\n",
       " 'Features.Electronics.Radar': '✓',\n",
       " 'Features.Electronics.Log-speedometer': '✓',\n",
       " 'Features.Electronics.RadarDetector': '✓',\n",
       " 'Features.Electronics.WindSpeedAndDirection': '✓',\n",
       " 'Features.Electronics.Computer': '✓',\n",
       " 'Features.Electronics.Repeater(s)': '✓',\n",
       " 'Features.Electronics.TvSet': '✓',\n",
       " 'Features.Electronics.NavigationCenter': '✓',\n",
       " 'Features.Electronics.Plotter': '✓',\n",
       " 'Features.Electronics.DvdPlayer': '✓',\n",
       " 'Features.Electronics.Autopilot': '✓',\n",
       " 'Features.Electronics.Radio': '✓',\n",
       " 'Features.Electronics.Compas': '✓',\n",
       " 'Features.Electronics.Gps': '✓',\n",
       " 'Features.Electronics.CockpitSpeakers': '✓',\n",
       " 'Features.Electronics.Vhf': '✓',\n",
       " 'Features.InsideEquipment.Dishwasher': '✓',\n",
       " 'Features.InsideEquipment.BowThruster': '✓',\n",
       " 'Features.InsideEquipment.WashingMachine': '✓',\n",
       " 'Features.InsideEquipment.ElectricBilgePump': '✓',\n",
       " 'Features.InsideEquipment.Oven': '✓',\n",
       " 'Features.InsideEquipment.ManualBilgePump': '✓',\n",
       " 'Features.InsideEquipment.MarineHead': '✓',\n",
       " 'Features.InsideEquipment.AirConditioning': '✓',\n",
       " 'Features.InsideEquipment.ElectricHead': '✓',\n",
       " 'Features.InsideEquipment.ChemicalHead': '✓',\n",
       " 'Features.InsideEquipment.HotWater': '✓',\n",
       " 'Features.InsideEquipment.Refrigerator': '✓',\n",
       " 'Features.InsideEquipment.FreshWaterMaker': '✓',\n",
       " 'Features.InsideEquipment.DeepFreezer': '✓',\n",
       " 'Features.InsideEquipment.SeaWaterPump': '✓',\n",
       " 'Features.InsideEquipment.BatteryCharger': '✓',\n",
       " 'Features.OutsideEquipment.TeakCockpit': '✓',\n",
       " 'Features.OutsideEquipment.TeakSidedecks': '✓',\n",
       " 'Features.OutsideEquipment.Gangway': '✓',\n",
       " 'Features.OutsideEquipment.Tender': '✓',\n",
       " 'Features.OutsideEquipment.Liferaft': '✓',\n",
       " 'Features.OutsideEquipment.CockpitCushions': '✓',\n",
       " 'Features.OutsideEquipment.SwimmingLadder': '✓',\n",
       " 'Features.Rigging.SteeringWheel': '✓',\n",
       " 'Features.Rigging.ElectricWinch': '✓',\n",
       " 'Features.Rigging.SpinnakerPole': '✓',\n",
       " 'Features.Rigging.HydraulicWinch': '✓'}"
      ]
     },
     "execution_count": 8,
     "metadata": {},
     "output_type": "execute_result"
    }
   ],
   "source": [
    "def specification_attributes(specification, name='Specification'):\n",
    "    sub_categories = specification.select('div.datatable-category')\n",
    "    titles = []\n",
    "    values = []\n",
    "    for category in sub_categories:\n",
    "        cate_name = category.find(attrs='sub-title').text\n",
    "        cate_name = ''.join(map(lambda x:x.capitalize(), cate_name.split()))\n",
    "        titles += [f'{name}.{cate_name}.{\"\".join(map(lambda x:x.capitalize(),t.text.strip().split()))}' for t in category.select('td.datatable-title')]\n",
    "        values += [t.text.strip() for t in category.select('td.datatable-value')]\n",
    "    return {k:v for k,v in zip(titles, values)}\n",
    "specification_attributes(items[4].next_sibling, 'Features')"
   ]
  },
  {
   "cell_type": "code",
   "execution_count": 9,
   "metadata": {},
   "outputs": [
    {
     "data": {
      "text/plain": [
       "14900000.0"
      ]
     },
     "execution_count": 9,
     "metadata": {},
     "output_type": "execute_result"
    }
   ],
   "source": [
    "def get_price(soup):\n",
    "\n",
    "    price = soup.select_one('#BoatDetails > div.content.nav-slide.with-sticky-contact.home-block > div.boat-details > div.body > div > div.summary > div > span.payment-total')\n",
    "\n",
    "    # price.text.strip().split('$')[1]\n",
    "    x = float(\"\".join(list(filter(str.isdigit,price.text.split('US$')[1]))))\n",
    "    return x\n",
    "get_price(soup)"
   ]
  },
  {
   "cell_type": "code",
   "execution_count": 10,
   "metadata": {},
   "outputs": [],
   "source": [
    "sn = requests.Session()"
   ]
  },
  {
   "cell_type": "code",
   "execution_count": 11,
   "metadata": {},
   "outputs": [
    {
     "data": {
      "text/plain": [
       "{'Basic.Year': '2009',\n",
       " 'Basic.Make': 'Royal Huisman',\n",
       " 'Basic.Model': 'J Class Yacht',\n",
       " 'Basic.Class': 'Racer',\n",
       " 'Basic.Length': '138.12ft',\n",
       " 'Basic.FuelType': 'Diesel',\n",
       " 'Basic.HullMaterial': 'Aluminum',\n",
       " 'Basic.OfferedBy': 'Burgess London',\n",
       " 'name': 'Propulsion',\n",
       " 'Features.ElectricalEquipment.ShorePowerInlet': '✓',\n",
       " 'Features.ElectricalEquipment.Generator': '✓',\n",
       " 'Features.Electronics.Depthsounder': '✓',\n",
       " 'Features.Electronics.Radar': '✓',\n",
       " 'Features.Electronics.Log-speedometer': '✓',\n",
       " 'Features.Electronics.RadarDetector': '✓',\n",
       " 'Features.Electronics.WindSpeedAndDirection': '✓',\n",
       " 'Features.Electronics.Computer': '✓',\n",
       " 'Features.Electronics.Repeater(s)': '✓',\n",
       " 'Features.Electronics.TvSet': '✓',\n",
       " 'Features.Electronics.NavigationCenter': '✓',\n",
       " 'Features.Electronics.Plotter': '✓',\n",
       " 'Features.Electronics.DvdPlayer': '✓',\n",
       " 'Features.Electronics.Autopilot': '✓',\n",
       " 'Features.Electronics.Radio': '✓',\n",
       " 'Features.Electronics.Compas': '✓',\n",
       " 'Features.Electronics.Gps': '✓',\n",
       " 'Features.Electronics.CockpitSpeakers': '✓',\n",
       " 'Features.Electronics.Vhf': '✓',\n",
       " 'Features.InsideEquipment.Dishwasher': '✓',\n",
       " 'Features.InsideEquipment.BowThruster': '✓',\n",
       " 'Features.InsideEquipment.WashingMachine': '✓',\n",
       " 'Features.InsideEquipment.ElectricBilgePump': '✓',\n",
       " 'Features.InsideEquipment.Oven': '✓',\n",
       " 'Features.InsideEquipment.ManualBilgePump': '✓',\n",
       " 'Features.InsideEquipment.MarineHead': '✓',\n",
       " 'Features.InsideEquipment.AirConditioning': '✓',\n",
       " 'Features.InsideEquipment.ElectricHead': '✓',\n",
       " 'Features.InsideEquipment.ChemicalHead': '✓',\n",
       " 'Features.InsideEquipment.HotWater': '✓',\n",
       " 'Features.InsideEquipment.Refrigerator': '✓',\n",
       " 'Features.InsideEquipment.FreshWaterMaker': '✓',\n",
       " 'Features.InsideEquipment.DeepFreezer': '✓',\n",
       " 'Features.InsideEquipment.SeaWaterPump': '✓',\n",
       " 'Features.InsideEquipment.BatteryCharger': '✓',\n",
       " 'Features.OutsideEquipment.TeakCockpit': '✓',\n",
       " 'Features.OutsideEquipment.TeakSidedecks': '✓',\n",
       " 'Features.OutsideEquipment.Gangway': '✓',\n",
       " 'Features.OutsideEquipment.Tender': '✓',\n",
       " 'Features.OutsideEquipment.Liferaft': '✓',\n",
       " 'Features.OutsideEquipment.CockpitCushions': '✓',\n",
       " 'Features.OutsideEquipment.SwimmingLadder': '✓',\n",
       " 'Features.Rigging.SteeringWheel': '✓',\n",
       " 'Features.Rigging.ElectricWinch': '✓',\n",
       " 'Features.Rigging.SpinnakerPole': '✓',\n",
       " 'Features.Rigging.HydraulicWinch': '✓',\n",
       " 'Basic.EngineMake': 'Scania',\n",
       " 'Basic.EngineModel': '350hp Scania DI 12 59M',\n",
       " 'Basic.TotalPower': '347.32hp',\n",
       " 'Basic.PropellerType': '4 Blade',\n",
       " 'Specifications.Dimensions.LengthOverall': '138.12ft',\n",
       " 'Specifications.Dimensions.LengthOnDeck': '137.8ft',\n",
       " 'Specifications.Dimensions.MaxDraft': '15.49ft',\n",
       " 'Specifications.Dimensions.Beam': '21.65ft',\n",
       " 'Specifications.Dimensions.LengthAtWaterline': '90.81ft',\n",
       " 'Specifications.Tanks.FreshWaterTank': '1 x 766.1 gal ()',\n",
       " 'Specifications.Tanks.FuelTank': '1 x 2176.78 gal ()',\n",
       " 'Specifications.Tanks.HoldingTank': '()',\n",
       " 'Specifications.Accommodations.DoubleBerths': '2',\n",
       " 'Specifications.Accommodations.TwinBerths': '1',\n",
       " 'Specifications.Accommodations.Cabins': '3',\n",
       " 'Specifications.Accommodations.Heads': '6',\n",
       " 'Price': 14900000.0}"
      ]
     },
     "execution_count": 11,
     "metadata": {},
     "output_type": "execute_result"
    }
   ],
   "source": [
    "# 爬取所有帆船的year属性和价格数据，并将它们存储到CSV文件中\n",
    "import warnings\n",
    "\n",
    "\n",
    "def get_yacht_data(url):\n",
    "    # res = requests.get(url, headers=headers)\n",
    "    res = sn.get(url, headers=headers)\n",
    "    return get_yacht_data_req_res(res)\n",
    "    \n",
    "def get_yacht_data_req_res(req_res):\n",
    "    soup = BeautifulSoup(req_res.text, 'html.parser')\n",
    "    detail = soup.select_one('#BoatDetails > div.content.nav-slide.with-sticky-contact.home-block > div.boat-details > div.body > div.boat-details-content > div.details')\n",
    "    assert detail is not None\n",
    "    items = detail.select('div.header')\n",
    "    assert len(items)>0\n",
    "    result = {}\n",
    "    for i, item in enumerate(items):\n",
    "            if item.text.lower()=='BASICS'.lower() or item.text.lower()=='PROPULSION'.lower():\n",
    "                result.update(kv_attributes(items[i].next_sibling), name=item.text.lower().capitalize())\n",
    "            elif item.text.lower()=='SPECIFICATIONS'.lower() or item.text.lower()=='FEATURES'.lower():\n",
    "                result.update(specification_attributes(items[i].next_sibling, name=item.text.lower().capitalize()))\n",
    "    try:\n",
    "        result['Price'] = get_price(soup)\n",
    "    except Exception as e:\n",
    "        # warnings.warn(f\"no price for {url}\")\n",
    "        pass\n",
    "    return result\n",
    "    \n",
    "get_yacht_data(link)"
   ]
  },
  {
   "cell_type": "code",
   "execution_count": 12,
   "metadata": {},
   "outputs": [
    {
     "data": {
      "text/plain": [
       "['https://www.yachtworld.com/yacht/2023-beneteau-oceanis-46.1----in-stock-8584625/',\n",
       " 'https://www.yachtworld.com/yacht/2023-jeanneau-sun-odyssey-440-8592771/',\n",
       " 'https://www.yachtworld.com/yacht/2023-jeanneau-sun-odyssey-490-8592752/',\n",
       " 'https://www.yachtworld.com/yacht/2023-jeanneau-60-8184733/',\n",
       " 'https://www.yachtworld.com/yacht/2023-jeanneau-yacht-65-7415679/']"
      ]
     },
     "execution_count": 12,
     "metadata": {},
     "output_type": "execute_result"
    }
   ],
   "source": [
    "with open('links.txt', 'r') as f:\n",
    "    links = f.read().split()\n",
    "links[:5]"
   ]
  },
  {
   "cell_type": "code",
   "execution_count": 13,
   "metadata": {},
   "outputs": [],
   "source": [
    "from concurrent.futures import ThreadPoolExecutor, as_completed\n",
    "import numpy as np\n",
    "from tqdm import tqdm\n",
    "yacht_data_list = list(range(len(links)))\n",
    "error_list = {}\n",
    "def set_data(i):\n",
    "    # print(i)\n",
    "    try:\n",
    "        yacht_data_list[i] = get_yacht_data(links[i])\n",
    "    except Exception as e:\n",
    "        error_list[i]=e\n",
    "        warnings.warn(f\"error for {i}: {e}\")\n",
    "    else:\n",
    "        error_list.pop(i, None)"
   ]
  },
  {
   "cell_type": "code",
   "execution_count": 14,
   "metadata": {},
   "outputs": [
    {
     "name": "stderr",
     "output_type": "stream",
     "text": [
      " 95%|█████████▍| 2078/2188 [01:16<00:03, 30.04it/s]C:\\Users\\YeCanming\\AppData\\Local\\Temp\\ipykernel_37648\\122698592.py:12: UserWarning: error for 2106: \n",
      "  warnings.warn(f\"error for {i}: {e}\")\n",
      " 95%|█████████▌| 2086/2188 [01:16<00:03, 30.27it/s]C:\\Users\\YeCanming\\AppData\\Local\\Temp\\ipykernel_37648\\122698592.py:12: UserWarning: error for 2114: \n",
      "  warnings.warn(f\"error for {i}: {e}\")\n",
      " 96%|█████████▌| 2091/2188 [01:16<00:02, 33.76it/s]C:\\Users\\YeCanming\\AppData\\Local\\Temp\\ipykernel_37648\\122698592.py:12: UserWarning: error for 2115: \n",
      "  warnings.warn(f\"error for {i}: {e}\")\n",
      " 96%|█████████▌| 2096/2188 [01:16<00:02, 37.07it/s]C:\\Users\\YeCanming\\AppData\\Local\\Temp\\ipykernel_37648\\122698592.py:12: UserWarning: error for 2119: \n",
      "  warnings.warn(f\"error for {i}: {e}\")\n",
      " 96%|█████████▌| 2101/2188 [01:16<00:02, 39.22it/s]C:\\Users\\YeCanming\\AppData\\Local\\Temp\\ipykernel_37648\\122698592.py:12: UserWarning: error for 2123: \n",
      "  warnings.warn(f\"error for {i}: {e}\")\n",
      " 96%|█████████▋| 2106/2188 [01:16<00:02, 40.43it/s]C:\\Users\\YeCanming\\AppData\\Local\\Temp\\ipykernel_37648\\122698592.py:12: UserWarning: error for 2129: \n",
      "  warnings.warn(f\"error for {i}: {e}\")\n",
      "C:\\Users\\YeCanming\\AppData\\Local\\Temp\\ipykernel_37648\\122698592.py:12: UserWarning: error for 2133: \n",
      "  warnings.warn(f\"error for {i}: {e}\")\n",
      " 96%|█████████▋| 2111/2188 [01:17<00:02, 35.39it/s]C:\\Users\\YeCanming\\AppData\\Local\\Temp\\ipykernel_37648\\122698592.py:12: UserWarning: error for 2135: \n",
      "  warnings.warn(f\"error for {i}: {e}\")\n",
      " 97%|█████████▋| 2117/2188 [01:17<00:01, 39.77it/s]C:\\Users\\YeCanming\\AppData\\Local\\Temp\\ipykernel_37648\\122698592.py:12: UserWarning: error for 2139: \n",
      "  warnings.warn(f\"error for {i}: {e}\")\n",
      "C:\\Users\\YeCanming\\AppData\\Local\\Temp\\ipykernel_37648\\122698592.py:12: UserWarning: error for 2143: \n",
      "  warnings.warn(f\"error for {i}: {e}\")\n",
      "C:\\Users\\YeCanming\\AppData\\Local\\Temp\\ipykernel_37648\\122698592.py:12: UserWarning: error for 2138: \n",
      "  warnings.warn(f\"error for {i}: {e}\")\n",
      "C:\\Users\\YeCanming\\AppData\\Local\\Temp\\ipykernel_37648\\122698592.py:12: UserWarning: error for 2137: \n",
      "  warnings.warn(f\"error for {i}: {e}\")\n",
      "C:\\Users\\YeCanming\\AppData\\Local\\Temp\\ipykernel_37648\\122698592.py:12: UserWarning: error for 2142: \n",
      "  warnings.warn(f\"error for {i}: {e}\")\n",
      " 97%|█████████▋| 2128/2188 [01:17<00:01, 44.84it/s]C:\\Users\\YeCanming\\AppData\\Local\\Temp\\ipykernel_37648\\122698592.py:12: UserWarning: error for 2147: \n",
      "  warnings.warn(f\"error for {i}: {e}\")\n",
      "C:\\Users\\YeCanming\\AppData\\Local\\Temp\\ipykernel_37648\\122698592.py:12: UserWarning: error for 2149: \n",
      "  warnings.warn(f\"error for {i}: {e}\")\n",
      "C:\\Users\\YeCanming\\AppData\\Local\\Temp\\ipykernel_37648\\122698592.py:12: UserWarning: error for 2148: \n",
      "  warnings.warn(f\"error for {i}: {e}\")\n",
      "C:\\Users\\YeCanming\\AppData\\Local\\Temp\\ipykernel_37648\\122698592.py:12: UserWarning: error for 2150: \n",
      "  warnings.warn(f\"error for {i}: {e}\")\n",
      "C:\\Users\\YeCanming\\AppData\\Local\\Temp\\ipykernel_37648\\122698592.py:12: UserWarning: error for 2155: \n",
      "  warnings.warn(f\"error for {i}: {e}\")\n",
      "C:\\Users\\YeCanming\\AppData\\Local\\Temp\\ipykernel_37648\\122698592.py:12: UserWarning: error for 2152: \n",
      "  warnings.warn(f\"error for {i}: {e}\")\n",
      " 98%|█████████▊| 2138/2188 [01:17<00:00, 54.18it/s]C:\\Users\\YeCanming\\AppData\\Local\\Temp\\ipykernel_37648\\122698592.py:12: UserWarning: error for 2158: \n",
      "  warnings.warn(f\"error for {i}: {e}\")\n",
      "C:\\Users\\YeCanming\\AppData\\Local\\Temp\\ipykernel_37648\\122698592.py:12: UserWarning: error for 2166: \n",
      "  warnings.warn(f\"error for {i}: {e}\")\n",
      " 98%|█████████▊| 2144/2188 [01:17<00:00, 44.66it/s]C:\\Users\\YeCanming\\AppData\\Local\\Temp\\ipykernel_37648\\122698592.py:12: UserWarning: error for 2160: \n",
      "  warnings.warn(f\"error for {i}: {e}\")\n",
      "C:\\Users\\YeCanming\\AppData\\Local\\Temp\\ipykernel_37648\\122698592.py:12: UserWarning: error for 2168: \n",
      "  warnings.warn(f\"error for {i}: {e}\")\n",
      "C:\\Users\\YeCanming\\AppData\\Local\\Temp\\ipykernel_37648\\122698592.py:12: UserWarning: error for 2164: \n",
      "  warnings.warn(f\"error for {i}: {e}\")\n",
      " 98%|█████████▊| 2149/2188 [01:17<00:00, 43.50it/s]C:\\Users\\YeCanming\\AppData\\Local\\Temp\\ipykernel_37648\\122698592.py:12: UserWarning: error for 2170: \n",
      "  warnings.warn(f\"error for {i}: {e}\")\n",
      " 99%|█████████▊| 2156/2188 [01:17<00:00, 49.12it/s]C:\\Users\\YeCanming\\AppData\\Local\\Temp\\ipykernel_37648\\122698592.py:12: UserWarning: error for 2173: \n",
      "  warnings.warn(f\"error for {i}: {e}\")\n",
      "C:\\Users\\YeCanming\\AppData\\Local\\Temp\\ipykernel_37648\\122698592.py:12: UserWarning: error for 2178: \n",
      "  warnings.warn(f\"error for {i}: {e}\")\n",
      "C:\\Users\\YeCanming\\AppData\\Local\\Temp\\ipykernel_37648\\122698592.py:12: UserWarning: error for 2174: \n",
      "  warnings.warn(f\"error for {i}: {e}\")\n",
      "C:\\Users\\YeCanming\\AppData\\Local\\Temp\\ipykernel_37648\\122698592.py:12: UserWarning: error for 2179: \n",
      "  warnings.warn(f\"error for {i}: {e}\")\n",
      " 99%|█████████▉| 2163/2188 [01:18<00:00, 51.23it/s]C:\\Users\\YeCanming\\AppData\\Local\\Temp\\ipykernel_37648\\122698592.py:12: UserWarning: error for 2181: \n",
      "  warnings.warn(f\"error for {i}: {e}\")\n",
      "C:\\Users\\YeCanming\\AppData\\Local\\Temp\\ipykernel_37648\\122698592.py:12: UserWarning: error for 2182: \n",
      "  warnings.warn(f\"error for {i}: {e}\")\n",
      "C:\\Users\\YeCanming\\AppData\\Local\\Temp\\ipykernel_37648\\122698592.py:12: UserWarning: error for 2186: \n",
      "  warnings.warn(f\"error for {i}: {e}\")\n",
      "C:\\Users\\YeCanming\\AppData\\Local\\Temp\\ipykernel_37648\\122698592.py:12: UserWarning: error for 2185: \n",
      "  warnings.warn(f\"error for {i}: {e}\")\n",
      "C:\\Users\\YeCanming\\AppData\\Local\\Temp\\ipykernel_37648\\122698592.py:12: UserWarning: error for 2187: \n",
      "  warnings.warn(f\"error for {i}: {e}\")\n",
      " 99%|█████████▉| 2170/2188 [01:18<00:00, 51.47it/s]C:\\Users\\YeCanming\\AppData\\Local\\Temp\\ipykernel_37648\\122698592.py:12: UserWarning: error for 2151: \n",
      "  warnings.warn(f\"error for {i}: {e}\")\n",
      "C:\\Users\\YeCanming\\AppData\\Local\\Temp\\ipykernel_37648\\122698592.py:12: UserWarning: error for 2167: \n",
      "  warnings.warn(f\"error for {i}: {e}\")\n",
      "100%|██████████| 2188/2188 [01:18<00:00, 27.70it/s]\n"
     ]
    }
   ],
   "source": [
    "# with ThreadPoolExecutor(max_workers=64) as t:\n",
    "with ThreadPoolExecutor(max_workers=32) as t:\n",
    "    tasks = [t.submit(set_data, i) for i in range(len(links))]\n",
    "    # tasks = [t.submit(set_data, i) for i in np.random.choice(len(links), 64, replace=False)]\n",
    "    # tasks = [t.submit(set_data, i) for i in range(64)]\n",
    "    for future in tqdm(as_completed(tasks), total=len(tasks)):\n",
    "        pass    "
   ]
  },
  {
   "cell_type": "code",
   "execution_count": null,
   "metadata": {},
   "outputs": [
    {
     "data": {
      "text/plain": [
       "{}"
      ]
     },
     "execution_count": 32,
     "metadata": {},
     "output_type": "execute_result"
    }
   ],
   "source": [
    "a = {1:2}\n",
    "a.pop(1)\n",
    "a.pop(3, None)\n",
    "a"
   ]
  },
  {
   "cell_type": "code",
   "execution_count": 32,
   "metadata": {},
   "outputs": [
    {
     "data": {
      "text/plain": [
       "{}"
      ]
     },
     "execution_count": 32,
     "metadata": {},
     "output_type": "execute_result"
    }
   ],
   "source": [
    "error_list # , yacht_data_list\n",
    "# error_list, yacht_data_list\n",
    "# links[1890]\n",
    "# len(error_list)"
   ]
  },
  {
   "cell_type": "code",
   "execution_count": 31,
   "metadata": {},
   "outputs": [
    {
     "name": "stderr",
     "output_type": "stream",
     "text": [
      "100%|██████████| 36/36 [00:02<00:00, 12.14it/s]\n"
     ]
    }
   ],
   "source": [
    "with ThreadPoolExecutor(max_workers=32) as t:\n",
    "    tasks = [t.submit(set_data, k) for k in error_list.keys()]\n",
    "    # tasks = [t.submit(set_data, i) for i in np.random.choice(len(links), 64, replace=False)]\n",
    "    # tasks = [t.submit(set_data, i) for i in range(64)]\n",
    "    for future in tqdm(as_completed(tasks), total=len(tasks)):\n",
    "        pass   "
   ]
  },
  {
   "cell_type": "code",
   "execution_count": 33,
   "metadata": {},
   "outputs": [
    {
     "data": {
      "text/plain": [
       "('https://www.yachtworld.com/yacht/2024-bali-4.4-8620140/',)"
      ]
     },
     "execution_count": 33,
     "metadata": {},
     "output_type": "execute_result"
    }
   ],
   "source": [
    "links[2106], \n",
    "# get_yacht_data(links[2106])"
   ]
  },
  {
   "cell_type": "code",
   "execution_count": 34,
   "metadata": {},
   "outputs": [
    {
     "data": {
      "text/plain": [
       "2188"
      ]
     },
     "execution_count": 34,
     "metadata": {},
     "output_type": "execute_result"
    }
   ],
   "source": [
    "data_list = list(filter(lambda x:not isinstance(x, int) and isinstance(x, dict), yacht_data_list))\n",
    "len(data_list)"
   ]
  },
  {
   "cell_type": "code",
   "execution_count": 35,
   "metadata": {},
   "outputs": [
    {
     "data": {
      "text/html": [
       "<div>\n",
       "<style scoped>\n",
       "    .dataframe tbody tr th:only-of-type {\n",
       "        vertical-align: middle;\n",
       "    }\n",
       "\n",
       "    .dataframe tbody tr th {\n",
       "        vertical-align: top;\n",
       "    }\n",
       "\n",
       "    .dataframe thead th {\n",
       "        text-align: right;\n",
       "    }\n",
       "</style>\n",
       "<table border=\"1\" class=\"dataframe\">\n",
       "  <thead>\n",
       "    <tr style=\"text-align: right;\">\n",
       "      <th></th>\n",
       "      <th>Basic.Year</th>\n",
       "      <th>Basic.Make</th>\n",
       "      <th>Basic.Model</th>\n",
       "      <th>Basic.Class</th>\n",
       "      <th>Basic.Length</th>\n",
       "      <th>Basic.FuelType</th>\n",
       "      <th>Basic.HullMaterial</th>\n",
       "      <th>Basic.OfferedBy</th>\n",
       "      <th>name</th>\n",
       "      <th>Basic.EngineMake</th>\n",
       "      <th>...</th>\n",
       "      <th>Features.OutsideEquipment.WindGenerator</th>\n",
       "      <th>Features.InsideEquipment.Seakeeper</th>\n",
       "      <th>Features.InsideEquipment.AirCompressor</th>\n",
       "      <th>Features.InsideEquipment.ChemicalHead</th>\n",
       "      <th>Specifications.Miscellaneous.LiferaftCapacity</th>\n",
       "      <th>Features.Rigging.HydraulicWinch</th>\n",
       "      <th>Basic.RopeCutter</th>\n",
       "      <th>Specifications.Miscellaneous.DeadriseAtTransom</th>\n",
       "      <th>Features.AdditionalEquipment.LaunchingTrailer</th>\n",
       "      <th>Features.AdditionalEquipment.BeachingLegs</th>\n",
       "    </tr>\n",
       "  </thead>\n",
       "  <tbody>\n",
       "    <tr>\n",
       "      <th>0</th>\n",
       "      <td>2023</td>\n",
       "      <td>Beneteau</td>\n",
       "      <td>Oceanis 46.1 - In Stock</td>\n",
       "      <td>Cruiser</td>\n",
       "      <td>46ft</td>\n",
       "      <td>Diesel</td>\n",
       "      <td>Fiberglass</td>\n",
       "      <td>Cape Yachts at South Wharf - South Dartmouth, MA</td>\n",
       "      <td>Propulsion</td>\n",
       "      <td>yanmar</td>\n",
       "      <td>...</td>\n",
       "      <td>NaN</td>\n",
       "      <td>NaN</td>\n",
       "      <td>NaN</td>\n",
       "      <td>NaN</td>\n",
       "      <td>NaN</td>\n",
       "      <td>NaN</td>\n",
       "      <td>NaN</td>\n",
       "      <td>NaN</td>\n",
       "      <td>NaN</td>\n",
       "      <td>NaN</td>\n",
       "    </tr>\n",
       "    <tr>\n",
       "      <th>1</th>\n",
       "      <td>2023</td>\n",
       "      <td>Jeanneau</td>\n",
       "      <td>Sun Odyssey 440</td>\n",
       "      <td>Cruiser</td>\n",
       "      <td>44ft</td>\n",
       "      <td>Diesel</td>\n",
       "      <td>Fiberglass</td>\n",
       "      <td>Marine Servicenter - San Diego</td>\n",
       "      <td>Propulsion</td>\n",
       "      <td>Yanmar</td>\n",
       "      <td>...</td>\n",
       "      <td>NaN</td>\n",
       "      <td>NaN</td>\n",
       "      <td>NaN</td>\n",
       "      <td>NaN</td>\n",
       "      <td>NaN</td>\n",
       "      <td>NaN</td>\n",
       "      <td>NaN</td>\n",
       "      <td>NaN</td>\n",
       "      <td>NaN</td>\n",
       "      <td>NaN</td>\n",
       "    </tr>\n",
       "    <tr>\n",
       "      <th>2</th>\n",
       "      <td>2023</td>\n",
       "      <td>Jeanneau</td>\n",
       "      <td>Sun Odyssey 490</td>\n",
       "      <td>Cruiser</td>\n",
       "      <td>49ft</td>\n",
       "      <td>Diesel</td>\n",
       "      <td>Fiberglass</td>\n",
       "      <td>Marine Servicenter - Seattle</td>\n",
       "      <td>Propulsion</td>\n",
       "      <td>Yanmar</td>\n",
       "      <td>...</td>\n",
       "      <td>NaN</td>\n",
       "      <td>NaN</td>\n",
       "      <td>NaN</td>\n",
       "      <td>NaN</td>\n",
       "      <td>NaN</td>\n",
       "      <td>NaN</td>\n",
       "      <td>NaN</td>\n",
       "      <td>NaN</td>\n",
       "      <td>NaN</td>\n",
       "      <td>NaN</td>\n",
       "    </tr>\n",
       "    <tr>\n",
       "      <th>3</th>\n",
       "      <td>2023</td>\n",
       "      <td>Jeanneau</td>\n",
       "      <td>60</td>\n",
       "      <td>Cruiser</td>\n",
       "      <td>60ft</td>\n",
       "      <td>Diesel</td>\n",
       "      <td>Fiberglass</td>\n",
       "      <td>Marine Servicenter - San Diego</td>\n",
       "      <td>Propulsion</td>\n",
       "      <td>Yanmar</td>\n",
       "      <td>...</td>\n",
       "      <td>NaN</td>\n",
       "      <td>NaN</td>\n",
       "      <td>NaN</td>\n",
       "      <td>NaN</td>\n",
       "      <td>NaN</td>\n",
       "      <td>NaN</td>\n",
       "      <td>NaN</td>\n",
       "      <td>NaN</td>\n",
       "      <td>NaN</td>\n",
       "      <td>NaN</td>\n",
       "    </tr>\n",
       "    <tr>\n",
       "      <th>4</th>\n",
       "      <td>2023</td>\n",
       "      <td>Jeanneau</td>\n",
       "      <td>Yacht 65</td>\n",
       "      <td>Cruiser</td>\n",
       "      <td>65ft</td>\n",
       "      <td>Diesel</td>\n",
       "      <td>Fiberglass</td>\n",
       "      <td>Marine Servicenter - Seattle</td>\n",
       "      <td>Propulsion</td>\n",
       "      <td>Volvo</td>\n",
       "      <td>...</td>\n",
       "      <td>NaN</td>\n",
       "      <td>NaN</td>\n",
       "      <td>NaN</td>\n",
       "      <td>NaN</td>\n",
       "      <td>NaN</td>\n",
       "      <td>NaN</td>\n",
       "      <td>NaN</td>\n",
       "      <td>NaN</td>\n",
       "      <td>NaN</td>\n",
       "      <td>NaN</td>\n",
       "    </tr>\n",
       "  </tbody>\n",
       "</table>\n",
       "<p>5 rows × 124 columns</p>\n",
       "</div>"
      ],
      "text/plain": [
       "  Basic.Year Basic.Make              Basic.Model Basic.Class Basic.Length  \\\n",
       "0       2023   Beneteau  Oceanis 46.1 - In Stock     Cruiser         46ft   \n",
       "1       2023   Jeanneau          Sun Odyssey 440     Cruiser         44ft   \n",
       "2       2023   Jeanneau          Sun Odyssey 490     Cruiser         49ft   \n",
       "3       2023   Jeanneau                       60     Cruiser         60ft   \n",
       "4       2023   Jeanneau                 Yacht 65     Cruiser         65ft   \n",
       "\n",
       "  Basic.FuelType Basic.HullMaterial  \\\n",
       "0         Diesel         Fiberglass   \n",
       "1         Diesel         Fiberglass   \n",
       "2         Diesel         Fiberglass   \n",
       "3         Diesel         Fiberglass   \n",
       "4         Diesel         Fiberglass   \n",
       "\n",
       "                                    Basic.OfferedBy        name  \\\n",
       "0  Cape Yachts at South Wharf - South Dartmouth, MA  Propulsion   \n",
       "1                    Marine Servicenter - San Diego  Propulsion   \n",
       "2                      Marine Servicenter - Seattle  Propulsion   \n",
       "3                    Marine Servicenter - San Diego  Propulsion   \n",
       "4                      Marine Servicenter - Seattle  Propulsion   \n",
       "\n",
       "  Basic.EngineMake  ... Features.OutsideEquipment.WindGenerator  \\\n",
       "0           yanmar  ...                                     NaN   \n",
       "1           Yanmar  ...                                     NaN   \n",
       "2           Yanmar  ...                                     NaN   \n",
       "3           Yanmar  ...                                     NaN   \n",
       "4            Volvo  ...                                     NaN   \n",
       "\n",
       "  Features.InsideEquipment.Seakeeper Features.InsideEquipment.AirCompressor  \\\n",
       "0                                NaN                                    NaN   \n",
       "1                                NaN                                    NaN   \n",
       "2                                NaN                                    NaN   \n",
       "3                                NaN                                    NaN   \n",
       "4                                NaN                                    NaN   \n",
       "\n",
       "  Features.InsideEquipment.ChemicalHead  \\\n",
       "0                                   NaN   \n",
       "1                                   NaN   \n",
       "2                                   NaN   \n",
       "3                                   NaN   \n",
       "4                                   NaN   \n",
       "\n",
       "  Specifications.Miscellaneous.LiferaftCapacity  \\\n",
       "0                                           NaN   \n",
       "1                                           NaN   \n",
       "2                                           NaN   \n",
       "3                                           NaN   \n",
       "4                                           NaN   \n",
       "\n",
       "  Features.Rigging.HydraulicWinch Basic.RopeCutter  \\\n",
       "0                             NaN              NaN   \n",
       "1                             NaN              NaN   \n",
       "2                             NaN              NaN   \n",
       "3                             NaN              NaN   \n",
       "4                             NaN              NaN   \n",
       "\n",
       "  Specifications.Miscellaneous.DeadriseAtTransom  \\\n",
       "0                                            NaN   \n",
       "1                                            NaN   \n",
       "2                                            NaN   \n",
       "3                                            NaN   \n",
       "4                                            NaN   \n",
       "\n",
       "  Features.AdditionalEquipment.LaunchingTrailer  \\\n",
       "0                                           NaN   \n",
       "1                                           NaN   \n",
       "2                                           NaN   \n",
       "3                                           NaN   \n",
       "4                                           NaN   \n",
       "\n",
       "  Features.AdditionalEquipment.BeachingLegs  \n",
       "0                                       NaN  \n",
       "1                                       NaN  \n",
       "2                                       NaN  \n",
       "3                                       NaN  \n",
       "4                                       NaN  \n",
       "\n",
       "[5 rows x 124 columns]"
      ]
     },
     "execution_count": 35,
     "metadata": {},
     "output_type": "execute_result"
    }
   ],
   "source": [
    "df = pd.DataFrame(data_list)\n",
    "df.head()"
   ]
  },
  {
   "cell_type": "code",
   "execution_count": 30,
   "metadata": {},
   "outputs": [],
   "source": [
    "with pd.ExcelWriter('../../data/爬取的数据.xlsx') as writer:\n",
    "    df.to_excel(writer, sheet_name='非二手帆船', index=False)"
   ]
  }
 ],
 "metadata": {
  "kernelspec": {
   "display_name": "base",
   "language": "python",
   "name": "python3"
  },
  "language_info": {
   "codemirror_mode": {
    "name": "ipython",
    "version": 3
   },
   "file_extension": ".py",
   "mimetype": "text/x-python",
   "name": "python",
   "nbconvert_exporter": "python",
   "pygments_lexer": "ipython3",
   "version": "3.9.13"
  },
  "orig_nbformat": 4
 },
 "nbformat": 4,
 "nbformat_minor": 2
}
