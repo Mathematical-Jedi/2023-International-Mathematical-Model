{
 "cells": [
  {
   "cell_type": "code",
   "execution_count": 48,
   "metadata": {},
   "outputs": [],
   "source": [
    "import pandas as pd\n",
    "import numpy as np\n",
    "import seaborn as sns\n",
    "import matplotlib as plt"
   ]
  },
  {
   "attachments": {},
   "cell_type": "markdown",
   "metadata": {},
   "source": [
    "# 导入数据"
   ]
  },
  {
   "cell_type": "code",
   "execution_count": 49,
   "metadata": {},
   "outputs": [
    {
     "data": {
      "text/plain": [
       "['Monohulled Sailboats ', 'Catamarans']"
      ]
     },
     "execution_count": 49,
     "metadata": {},
     "output_type": "execute_result"
    }
   ],
   "source": [
    "data_excel = pd.ExcelFile(\"./data/2023_MCM_Problem_Y_Boats.xlsx\")\n",
    "data_excel.sheet_names"
   ]
  },
  {
   "attachments": {},
   "cell_type": "markdown",
   "metadata": {},
   "source": [
    "合并excel表格的两个sheets并打上'Hull Num'标签。"
   ]
  },
  {
   "cell_type": "code",
   "execution_count": 50,
   "metadata": {},
   "outputs": [
    {
     "data": {
      "text/html": [
       "<div>\n",
       "<style scoped>\n",
       "    .dataframe tbody tr th:only-of-type {\n",
       "        vertical-align: middle;\n",
       "    }\n",
       "\n",
       "    .dataframe tbody tr th {\n",
       "        vertical-align: top;\n",
       "    }\n",
       "\n",
       "    .dataframe thead th {\n",
       "        text-align: right;\n",
       "    }\n",
       "</style>\n",
       "<table border=\"1\" class=\"dataframe\">\n",
       "  <thead>\n",
       "    <tr style=\"text-align: right;\">\n",
       "      <th></th>\n",
       "      <th>Make</th>\n",
       "      <th>Variant</th>\n",
       "      <th>Length (ft)</th>\n",
       "      <th>Geographic Region</th>\n",
       "      <th>Country/Region/State</th>\n",
       "      <th>Listing Price (USD)</th>\n",
       "      <th>Year</th>\n",
       "      <th>Hull Num</th>\n",
       "    </tr>\n",
       "  </thead>\n",
       "  <tbody>\n",
       "    <tr>\n",
       "      <th>0</th>\n",
       "      <td>Alubat</td>\n",
       "      <td>Ovni 395</td>\n",
       "      <td>41.0</td>\n",
       "      <td>Europe</td>\n",
       "      <td>France</td>\n",
       "      <td>267233</td>\n",
       "      <td>2005</td>\n",
       "      <td>Monohulled Sailboats</td>\n",
       "    </tr>\n",
       "    <tr>\n",
       "      <th>1</th>\n",
       "      <td>Bavaria</td>\n",
       "      <td>38 Cruiser</td>\n",
       "      <td>38.0</td>\n",
       "      <td>Europe</td>\n",
       "      <td>Croatia</td>\n",
       "      <td>75178</td>\n",
       "      <td>2005</td>\n",
       "      <td>Monohulled Sailboats</td>\n",
       "    </tr>\n",
       "    <tr>\n",
       "      <th>2</th>\n",
       "      <td>Bavaria</td>\n",
       "      <td>38 Cruiser</td>\n",
       "      <td>38.0</td>\n",
       "      <td>Europe</td>\n",
       "      <td>Croatia</td>\n",
       "      <td>66825</td>\n",
       "      <td>2005</td>\n",
       "      <td>Monohulled Sailboats</td>\n",
       "    </tr>\n",
       "    <tr>\n",
       "      <th>3</th>\n",
       "      <td>Bavaria</td>\n",
       "      <td>38 Cruiser</td>\n",
       "      <td>38.0</td>\n",
       "      <td>Europe</td>\n",
       "      <td>Croatia</td>\n",
       "      <td>54661</td>\n",
       "      <td>2005</td>\n",
       "      <td>Monohulled Sailboats</td>\n",
       "    </tr>\n",
       "    <tr>\n",
       "      <th>4</th>\n",
       "      <td>Bavaria</td>\n",
       "      <td>38 Cruiser</td>\n",
       "      <td>38.0</td>\n",
       "      <td>Europe</td>\n",
       "      <td>Croatia</td>\n",
       "      <td>53447</td>\n",
       "      <td>2005</td>\n",
       "      <td>Monohulled Sailboats</td>\n",
       "    </tr>\n",
       "    <tr>\n",
       "      <th>...</th>\n",
       "      <td>...</td>\n",
       "      <td>...</td>\n",
       "      <td>...</td>\n",
       "      <td>...</td>\n",
       "      <td>...</td>\n",
       "      <td>...</td>\n",
       "      <td>...</td>\n",
       "      <td>...</td>\n",
       "    </tr>\n",
       "    <tr>\n",
       "      <th>1140</th>\n",
       "      <td>Lagoon</td>\n",
       "      <td>50</td>\n",
       "      <td>48.0</td>\n",
       "      <td>Europe</td>\n",
       "      <td>Greece</td>\n",
       "      <td>788937</td>\n",
       "      <td>2019</td>\n",
       "      <td>Catamarans</td>\n",
       "    </tr>\n",
       "    <tr>\n",
       "      <th>1141</th>\n",
       "      <td>Lagoon</td>\n",
       "      <td>50</td>\n",
       "      <td>48.0</td>\n",
       "      <td>Europe</td>\n",
       "      <td>Greece</td>\n",
       "      <td>788937</td>\n",
       "      <td>2019</td>\n",
       "      <td>Catamarans</td>\n",
       "    </tr>\n",
       "    <tr>\n",
       "      <th>1142</th>\n",
       "      <td>Bali</td>\n",
       "      <td>5.4</td>\n",
       "      <td>55.5</td>\n",
       "      <td>Europe</td>\n",
       "      <td>Greece</td>\n",
       "      <td>1246325</td>\n",
       "      <td>2019</td>\n",
       "      <td>Catamarans</td>\n",
       "    </tr>\n",
       "    <tr>\n",
       "      <th>1143</th>\n",
       "      <td>Bali</td>\n",
       "      <td>5.4</td>\n",
       "      <td>55.5</td>\n",
       "      <td>Europe</td>\n",
       "      <td>Italy</td>\n",
       "      <td>811143</td>\n",
       "      <td>2019</td>\n",
       "      <td>Catamarans</td>\n",
       "    </tr>\n",
       "    <tr>\n",
       "      <th>1144</th>\n",
       "      <td>Privilege</td>\n",
       "      <td>Series 5</td>\n",
       "      <td>56.0</td>\n",
       "      <td>USA</td>\n",
       "      <td>Florida</td>\n",
       "      <td>1495000</td>\n",
       "      <td>2019</td>\n",
       "      <td>Catamarans</td>\n",
       "    </tr>\n",
       "  </tbody>\n",
       "</table>\n",
       "<p>3491 rows × 8 columns</p>\n",
       "</div>"
      ],
      "text/plain": [
       "           Make      Variant  Length (ft) Geographic Region  \\\n",
       "0        Alubat     Ovni 395         41.0            Europe   \n",
       "1       Bavaria   38 Cruiser         38.0            Europe   \n",
       "2       Bavaria   38 Cruiser         38.0            Europe   \n",
       "3       Bavaria   38 Cruiser         38.0            Europe   \n",
       "4       Bavaria  38 Cruiser          38.0            Europe   \n",
       "...         ...          ...          ...               ...   \n",
       "1140     Lagoon           50         48.0            Europe   \n",
       "1141     Lagoon           50         48.0            Europe   \n",
       "1142      Bali           5.4         55.5            Europe   \n",
       "1143      Bali           5.4         55.5            Europe   \n",
       "1144  Privilege     Series 5         56.0               USA   \n",
       "\n",
       "     Country/Region/State   Listing Price (USD)   Year              Hull Num  \n",
       "0                   France               267233   2005  Monohulled Sailboats  \n",
       "1                  Croatia                75178   2005  Monohulled Sailboats  \n",
       "2                  Croatia                66825   2005  Monohulled Sailboats  \n",
       "3                  Croatia                54661   2005  Monohulled Sailboats  \n",
       "4                  Croatia                53447   2005  Monohulled Sailboats  \n",
       "...                    ...                  ...    ...                   ...  \n",
       "1140                Greece               788937   2019            Catamarans  \n",
       "1141                Greece               788937   2019            Catamarans  \n",
       "1142                Greece              1246325   2019            Catamarans  \n",
       "1143                 Italy               811143   2019            Catamarans  \n",
       "1144               Florida              1495000   2019            Catamarans  \n",
       "\n",
       "[3491 rows x 8 columns]"
      ]
     },
     "execution_count": 50,
     "metadata": {},
     "output_type": "execute_result"
    }
   ],
   "source": [
    "df_mono = data_excel.parse(sheet_name='Monohulled Sailboats ')\n",
    "df_mono.insert(loc=len(df_mono.columns), column='Hull Num',value='Monohulled Sailboats')\n",
    "df_multi = data_excel.parse(sheet_name= 'Catamarans')\n",
    "df_multi.insert(loc=len(df_multi.columns), column='Hull Num',value='Catamarans')\n",
    "df = pd.concat([df_mono, df_multi])\n",
    "df.rename(columns={'Length \\n(ft)':'Length (ft)'}, inplace=True)\n",
    "df"
   ]
  },
  {
   "attachments": {},
   "cell_type": "markdown",
   "metadata": {},
   "source": [
    "# Data Cleaning"
   ]
  },
  {
   "cell_type": "code",
   "execution_count": 51,
   "metadata": {},
   "outputs": [],
   "source": [
    "df_invalid_row = df[df.isnull().values == True]"
   ]
  },
  {
   "attachments": {},
   "cell_type": "markdown",
   "metadata": {},
   "source": [
    "注意到只在'Country/Region/State'这一列会出现NaN值，没有其他问题，这里选择剔除这几行，可以作为interesting findings看能不能通过机器学习的回归方法猜测这几艘船的'Country/Region/State'。"
   ]
  },
  {
   "cell_type": "code",
   "execution_count": 53,
   "metadata": {},
   "outputs": [],
   "source": [
    "df_cleaned = df.dropna()\n",
    "df_cleaned.to_excel('./data/2023_MCM_Problem_Y_Boats_cleaned.xlsx')"
   ]
  },
  {
   "attachments": {},
   "cell_type": "markdown",
   "metadata": {},
   "source": [
    "# 初步数据可视化和统计分析"
   ]
  },
  {
   "cell_type": "code",
   "execution_count": null,
   "metadata": {},
   "outputs": [],
   "source": []
  }
 ],
 "metadata": {
  "kernelspec": {
   "display_name": "base",
   "language": "python",
   "name": "python3"
  },
  "language_info": {
   "codemirror_mode": {
    "name": "ipython",
    "version": 3
   },
   "file_extension": ".py",
   "mimetype": "text/x-python",
   "name": "python",
   "nbconvert_exporter": "python",
   "pygments_lexer": "ipython3",
   "version": "3.9.13"
  },
  "orig_nbformat": 4
 },
 "nbformat": 4,
 "nbformat_minor": 2
}
